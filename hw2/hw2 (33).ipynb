{
 "cells": [
  {
   "cell_type": "code",
   "execution_count": 1,
   "metadata": {},
   "outputs": [],
   "source": [
    "import numpy as np\n",
    "import matplotlib.pyplot as plt\n",
    "%matplotlib inline\n",
    "import sympy"
   ]
  },
  {
   "cell_type": "markdown",
   "metadata": {},
   "source": [
    "# 연습문제 3.2"
   ]
  },
  {
   "cell_type": "markdown",
   "metadata": {},
   "source": [
    "### Classical Gram-Schmidt Algorithm"
   ]
  },
  {
   "cell_type": "code",
   "execution_count": 2,
   "metadata": {},
   "outputs": [],
   "source": [
    "def clgs(A):\n",
    "    m, n = A.shape\n",
    "    V = A\n",
    "    Q = np.eye(m,n)\n",
    "    R = np.zeros((n,n))\n",
    "    for j in range(0,n):\n",
    "        for i in range(0,j-1):\n",
    "            R[i,j] = np.dot(Q[:,i].T,A[:,j])\n",
    "            V[:,j] = V[:,j] - np.dot(R[i,j],Q[:,i])\n",
    "        R[j,j] = np.linalg.norm(V[:,j])\n",
    "        Q[:,j] = V[:,j]/R[j,j]\n",
    "    return Q, R"
   ]
  },
  {
   "cell_type": "code",
   "execution_count": 3,
   "metadata": {},
   "outputs": [
    {
     "data": {
      "text/plain": [
       "array([[-3.,  2.],\n",
       "       [-1.,  4.],\n",
       "       [ 1., -3.]])"
      ]
     },
     "execution_count": 3,
     "metadata": {},
     "output_type": "execute_result"
    }
   ],
   "source": [
    "mat = np.array([[-3,2],[-1,4],[1,-3]], dtype=float)\n",
    "Q, R = clgs(mat)\n",
    "np.dot(Q,R)"
   ]
  },
  {
   "cell_type": "markdown",
   "metadata": {},
   "source": [
    "### Modified Gram-Schmidt Algorithm"
   ]
  },
  {
   "cell_type": "code",
   "execution_count": 4,
   "metadata": {},
   "outputs": [],
   "source": [
    "def mgs(A):\n",
    "    m, n = A.shape\n",
    "    Q = A\n",
    "    R = np.zeros((n,n))\n",
    "    for i in range(0,n):\n",
    "        R[i,i] = np.linalg.norm(Q[:,i])\n",
    "        Q[:,i] = Q[:,i]/R[i,i]\n",
    "        R[i,i+1:] = np.dot(Q[:,i].T, Q[:,i+1:])\n",
    "        Q[:,i+1:] = Q[:,i+1:] - np.outer(Q[:,i], R[i,i+1:])\n",
    "    #R[n-1,n-1] = np.linalg.norm(Q[:,n-1])\n",
    "    #Q[:,n-1] = Q[:,n-1]/R[n-1,n-1]\n",
    "    return Q,R"
   ]
  },
  {
   "cell_type": "code",
   "execution_count": 5,
   "metadata": {},
   "outputs": [
    {
     "data": {
      "text/plain": [
       "array([[-3.,  2.],\n",
       "       [-1.,  4.],\n",
       "       [ 1., -3.]])"
      ]
     },
     "execution_count": 5,
     "metadata": {},
     "output_type": "execute_result"
    }
   ],
   "source": [
    "mat = np.array([[-3,2],[-1,4],[1,-3]], dtype=float)\n",
    "Q, R = mgs(mat)\n",
    "np.dot(Q,R)"
   ]
  },
  {
   "cell_type": "code",
   "execution_count": 6,
   "metadata": {},
   "outputs": [
    {
     "data": {
      "text/plain": [
       "array([[ 3.31662479, -3.91964748],\n",
       "       [ 0.        ,  3.69274473]])"
      ]
     },
     "execution_count": 6,
     "metadata": {},
     "output_type": "execute_result"
    }
   ],
   "source": [
    "R"
   ]
  },
  {
   "cell_type": "markdown",
   "metadata": {},
   "source": [
    "### Householder QR Decomposition"
   ]
  },
  {
   "cell_type": "code",
   "execution_count": 171,
   "metadata": {},
   "outputs": [],
   "source": [
    "def qrhouse(A):\n",
    "    m, n = A.shape\n",
    "    R = A.copy()\n",
    "    V = np.zeros((m,n))\n",
    "    for k in range(0,n):\n",
    "        x = R[k:,k]\n",
    "        v = x + np.sign(x[0])*np.linalg.norm(x)*np.eye(len(x),1)[:,0]\n",
    "        V[k:,k] = v\n",
    "        R[k:,k:] = R[k:,k:] - 2*np.matmul(np.outer(v,v),R[k:,k:])/(np.dot(v,v))\n",
    "    R = np.triu(R[:n,:])\n",
    "    return V, R\n",
    "\n",
    "def formQ(V):\n",
    "    m, n = V.shape\n",
    "    Q = np.eye(m,n)\n",
    "    for j in range(n-1,-1,-1):\n",
    "        v = V[:,j]\n",
    "        Q = Q - 2 * np.matmul(np.outer(v, v), Q) / np.dot(v, v)\n",
    "    return Q"
   ]
  },
  {
   "cell_type": "code",
   "execution_count": 148,
   "metadata": {},
   "outputs": [],
   "source": [
    "def Qtb(V,b):\n",
    "    m, n = V.shape\n",
    "    for j in range(0,n):\n",
    "        v = V[j:m+1,j]\n",
    "        b[j:m+1] = b[j:m+1]- 2*np.matmul(np.outer(v,v),b[j:m+1])/(np.dot(v,v))\n",
    "    c = b\n",
    "    return c"
   ]
  },
  {
   "cell_type": "code",
   "execution_count": 126,
   "metadata": {},
   "outputs": [],
   "source": [
    "A = np.array([[1,3,1],[2,-5,-2],[2,-4,-3]],dtype=float)\n",
    "V, R = qrhouse(A)\n",
    "Q = formQ(V)"
   ]
  },
  {
   "cell_type": "code",
   "execution_count": 127,
   "metadata": {},
   "outputs": [
    {
     "data": {
      "text/plain": [
       "array([[-0.33333333,  0.93333333,  0.13333333],\n",
       "       [-0.66666667, -0.33333333,  0.66666667],\n",
       "       [-0.66666667, -0.13333333, -0.73333333]])"
      ]
     },
     "execution_count": 127,
     "metadata": {},
     "output_type": "execute_result"
    }
   ],
   "source": [
    "Q"
   ]
  },
  {
   "cell_type": "code",
   "execution_count": 128,
   "metadata": {},
   "outputs": [
    {
     "data": {
      "text/plain": [
       "array([[-3.,  5.,  3.],\n",
       "       [ 0.,  5.,  2.],\n",
       "       [ 0.,  0.,  1.]])"
      ]
     },
     "execution_count": 128,
     "metadata": {},
     "output_type": "execute_result"
    }
   ],
   "source": [
    "R"
   ]
  },
  {
   "cell_type": "code",
   "execution_count": 129,
   "metadata": {},
   "outputs": [
    {
     "data": {
      "text/plain": [
       "array([[ 1.,  3.,  1.],\n",
       "       [ 2., -5., -2.],\n",
       "       [ 2., -4., -3.]])"
      ]
     },
     "execution_count": 129,
     "metadata": {},
     "output_type": "execute_result"
    }
   ],
   "source": [
    "np.dot(Q,R)"
   ]
  },
  {
   "cell_type": "markdown",
   "metadata": {},
   "source": [
    "### (a)"
   ]
  },
  {
   "cell_type": "code",
   "execution_count": 13,
   "metadata": {},
   "outputs": [],
   "source": [
    "[U, X] = np.linalg.qr(np.random.randn(80,80))\n",
    "[V, X] = np.linalg.qr(np.random.randn(80,80))"
   ]
  },
  {
   "cell_type": "code",
   "execution_count": 14,
   "metadata": {},
   "outputs": [],
   "source": [
    "J = range(0,80)\n",
    "J2 = [2**(-x) for x in J]\n",
    "S = np.diag(J2)\n",
    "A = np.dot(U,np.dot(S,V))"
   ]
  },
  {
   "cell_type": "code",
   "execution_count": 15,
   "metadata": {},
   "outputs": [],
   "source": [
    "[Qc, Rc] = clgs(A)\n",
    "[Qm, Rm] = mgs(A)"
   ]
  },
  {
   "cell_type": "code",
   "execution_count": 16,
   "metadata": {},
   "outputs": [
    {
     "data": {
      "text/plain": [
       "<matplotlib.legend.Legend at 0x24dfe942470>"
      ]
     },
     "execution_count": 16,
     "metadata": {},
     "output_type": "execute_result"
    },
    {
     "data": {
      "image/png": "[encoded data removed]",
      "text/plain": [
       "<Figure size 432x288 with 1 Axes>"
      ]
     },
     "metadata": {
      "needs_background": "light"
     },
     "output_type": "display_data"
    }
   ],
   "source": [
    "plt.semilogy(Rc.diagonal(), color='r')\n",
    "plt.semilogy(Rm.diagonal(), color='b')\n",
    "plt.semilogy(S.diagonal(), color='k')\n",
    "plt.legend(('classical','modified'))"
   ]
  },
  {
   "cell_type": "markdown",
   "metadata": {},
   "source": [
    "modified gram schmidt이 더 stable하다."
   ]
  },
  {
   "cell_type": "markdown",
   "metadata": {},
   "source": [
    "### (b)"
   ]
  },
  {
   "cell_type": "code",
   "execution_count": 17,
   "metadata": {},
   "outputs": [
    {
     "name": "stdout",
     "output_type": "stream",
     "text": [
      "2.3411870786352597e-16\n",
      "3.254738863228859e-11\n",
      "low error: 2.3411870786352597e-16\n"
     ]
    }
   ],
   "source": [
    "A = np.array([[.70000, .70711],[.70001, .70711]])\n",
    "[Qm, Rm] = mgs(A)\n",
    "[V, R] = qrhouse(A)\n",
    "Q = formQ(V)\n",
    "a = np.dot(Q.T,Q) - np.eye(2,2)\n",
    "b = np.dot(Qm.T,Qm) - np.eye(2,2)\n",
    "print(np.linalg.norm(a))\n",
    "print(np.linalg.norm(b))\n",
    "e1 = abs(np.linalg.norm(a) - 0)\n",
    "e2 = abs(np.linalg.norm(b) - 0)\n",
    "print('low error:', min(e1,e2))"
   ]
  },
  {
   "cell_type": "markdown",
   "metadata": {},
   "source": [
    "householder이 더 stable하다."
   ]
  },
  {
   "cell_type": "markdown",
   "metadata": {},
   "source": [
    "# 연습문제 3.3"
   ]
  },
  {
   "cell_type": "code",
   "execution_count": 18,
   "metadata": {},
   "outputs": [],
   "source": [
    "def qrgivens(A):\n",
    "    m, n = A.shape\n",
    "    Q = np.eye(m)\n",
    "    R = A\n",
    "    \n",
    "    for j in range(0,n):\n",
    "        for i in range(m-1, j, -1):\n",
    "            G = np.eye(m)\n",
    "            [c,s] = givensrotation(R[i-1,j], R[i,j])\n",
    "            G[i-1, i-1] = c\n",
    "            G[i-1, i] = -s\n",
    "            G[i, i-1] = s\n",
    "            G[i, i] = c\n",
    "            \n",
    "            Q = np.dot(Q, G)\n",
    "            R = np.dot(G.T, R)\n",
    "            \n",
    "    return Q[:, :n], np.triu(R[:n, :])\n",
    "\n",
    "def givensrotation(a, b):\n",
    "    if b == 0:\n",
    "        c = 1\n",
    "        s = 0\n",
    "    else:\n",
    "        if abs(b) > abs(a):\n",
    "            r = a/b\n",
    "            s = 1/np.sqrt(1+r**2)\n",
    "            c = s*r\n",
    "        else:\n",
    "            r = b/a\n",
    "            c = 1/np.sqrt(1+r**2)\n",
    "            s = c*r\n",
    "    return c, s"
   ]
  },
  {
   "cell_type": "code",
   "execution_count": 19,
   "metadata": {},
   "outputs": [],
   "source": [
    "A = np.array([[1,3],[2,-5],[2,-4]], dtype='float')\n",
    "Q, R = qrgivens(np.copy(A))"
   ]
  },
  {
   "cell_type": "code",
   "execution_count": 20,
   "metadata": {},
   "outputs": [
    {
     "data": {
      "text/plain": [
       "array([[ 0.33333333, -0.93333333],\n",
       "       [ 0.66666667,  0.33333333],\n",
       "       [ 0.66666667,  0.13333333]])"
      ]
     },
     "execution_count": 20,
     "metadata": {},
     "output_type": "execute_result"
    }
   ],
   "source": [
    "Q"
   ]
  },
  {
   "cell_type": "code",
   "execution_count": 21,
   "metadata": {},
   "outputs": [
    {
     "data": {
      "text/plain": [
       "array([[ 3., -5.],\n",
       "       [ 0., -5.]])"
      ]
     },
     "execution_count": 21,
     "metadata": {},
     "output_type": "execute_result"
    }
   ],
   "source": [
    "R"
   ]
  },
  {
   "cell_type": "code",
   "execution_count": 22,
   "metadata": {},
   "outputs": [
    {
     "data": {
      "text/plain": [
       "array([[ 1.,  3.],\n",
       "       [ 2., -5.],\n",
       "       [ 2., -4.]])"
      ]
     },
     "execution_count": 22,
     "metadata": {},
     "output_type": "execute_result"
    }
   ],
   "source": [
    "np.dot(Q,R)"
   ]
  },
  {
   "cell_type": "markdown",
   "metadata": {},
   "source": [
    "# 연습문제 4.3"
   ]
  },
  {
   "cell_type": "code",
   "execution_count": 89,
   "metadata": {},
   "outputs": [],
   "source": [
    "def produce(m):\n",
    "    A = (np.random.randn(m,m))/np.sqrt(m)\n",
    "    A = A.astype('f')\n",
    "    return A\n",
    "\n",
    "def produce_tri(m):\n",
    "    A = (np.random.randn(m,m))/np.sqrt(m)\n",
    "    A = A.astype('f')\n",
    "    A = np.triu(A)\n",
    "    return A\n",
    "\n",
    "def plot_eigen(m):\n",
    "    global radius_list\n",
    "    A = produce(m)\n",
    "    evalue, evector = np.linalg.eig(A)\n",
    "    for j in evalue:\n",
    "        plt.scatter(np.real(j),np.imag(j), c='b', s=7)\n",
    "    radius = max(evalue, key=abs)\n",
    "    radius_list.append(radius)\n",
    "    plt.scatter(np.real(radius), np.imag(radius), c='r', s=7)\n",
    "    \n",
    "def plot_eigen2(m):\n",
    "    global radius_list\n",
    "    A = produce_tri(m)\n",
    "    evalue, evector = np.linalg.eig(A)\n",
    "    for j in evalue:\n",
    "        plt.scatter(np.real(j),np.imag(j), c='b', s=7)\n",
    "    radius = max(evalue, key=abs)\n",
    "    radius_list.append(radius)\n",
    "    plt.scatter(np.real(radius), np.imag(radius), c='r', s=7)"
   ]
  },
  {
   "cell_type": "markdown",
   "metadata": {},
   "source": [
    "### (a)"
   ]
  },
  {
   "cell_type": "code",
   "execution_count": 73,
   "metadata": {},
   "outputs": [
    {
     "data": {
      "image/png": "[encoded data removed]",
      "text/plain": [
       "<Figure size 432x288 with 1 Axes>"
      ]
     },
     "metadata": {
      "needs_background": "light"
     },
     "output_type": "display_data"
    }
   ],
   "source": [
    "m = 8\n",
    "radius_list = []\n",
    "\n",
    "for i in range(100):\n",
    "    plot_eigen(m)\n",
    "    \n",
    "plt.show()\n",
    "r1 = radius_list"
   ]
  },
  {
   "cell_type": "code",
   "execution_count": 74,
   "metadata": {},
   "outputs": [
    {
     "data": {
      "image/png": "[encoded data removed]",
      "text/plain": [
       "<Figure size 432x288 with 1 Axes>"
      ]
     },
     "metadata": {
      "needs_background": "light"
     },
     "output_type": "display_data"
    }
   ],
   "source": [
    "m = 16\n",
    "radius_list = []\n",
    "\n",
    "for i in range(100):\n",
    "    plot_eigen(m)\n",
    "\n",
    "plt.show()\n",
    "r2 = radius_list"
   ]
  },
  {
   "cell_type": "code",
   "execution_count": 76,
   "metadata": {},
   "outputs": [
    {
     "data": {
      "image/png": "[encoded data removed]",
      "text/plain": [
       "<Figure size 432x288 with 1 Axes>"
      ]
     },
     "metadata": {
      "needs_background": "light"
     },
     "output_type": "display_data"
    }
   ],
   "source": [
    "m = 32\n",
    "radius_list = []\n",
    "\n",
    "for i in range(100):\n",
    "    plot_eigen(m)\n",
    "    \n",
    "plt.show()\n",
    "r3 = radius_list"
   ]
  },
  {
   "cell_type": "code",
   "execution_count": 77,
   "metadata": {},
   "outputs": [
    {
     "data": {
      "image/png": "[encoded data removed]",
      "text/plain": [
       "<Figure size 432x288 with 1 Axes>"
      ]
     },
     "metadata": {
      "needs_background": "light"
     },
     "output_type": "display_data"
    }
   ],
   "source": [
    "m = 64\n",
    "radius_list = []\n",
    "\n",
    "for i in range(100):\n",
    "    plot_eigen(m)\n",
    "    \n",
    "plt.show()\n",
    "r4 = radius_list"
   ]
  },
  {
   "cell_type": "markdown",
   "metadata": {},
   "source": [
    "m이 커질수록, eigenvalue를 파란색으로 plot해보면 반지름이 1인 원 형태를 띈다.\n",
    "빨간색으로 plot한 spectral radius (=max[eigenvalues]) 역시 1에 가까워지는 것을 확인할 수 있다."
   ]
  },
  {
   "cell_type": "markdown",
   "metadata": {},
   "source": [
    "### (b)"
   ]
  },
  {
   "cell_type": "code",
   "execution_count": 84,
   "metadata": {},
   "outputs": [
    {
     "name": "stdout",
     "output_type": "stream",
     "text": [
      "1.7947676\n",
      "1.797482\n",
      "1.9477137\n",
      "1.8939495\n",
      "1.905005\n",
      "1.9848194\n",
      "1.9691737\n"
     ]
    }
   ],
   "source": [
    "for i in range(0,7):\n",
    "    m = (2**(i+1))*4\n",
    "    A = produce(m)\n",
    "    print(np.linalg.norm(A, ord=2))"
   ]
  },
  {
   "cell_type": "markdown",
   "metadata": {},
   "source": [
    "m이 무한대로 갈수록 2-norm은 점점 2에 가까워짐을 알 수 있다.\n",
    "spectral radius는 1로 가까워지기 때문에, inequality가 equality에 가까워지지는 않는다."
   ]
  },
  {
   "cell_type": "markdown",
   "metadata": {},
   "source": [
    "### (c)"
   ]
  },
  {
   "cell_type": "code",
   "execution_count": 29,
   "metadata": {},
   "outputs": [
    {
     "data": {
      "image/png": "[encoded data removed]",
      "text/plain": [
       "<Figure size 432x288 with 1 Axes>"
      ]
     },
     "metadata": {
      "needs_background": "light"
     },
     "output_type": "display_data"
    }
   ],
   "source": [
    "m = [8, 16, 32, 64, 128]\n",
    "\n",
    "for i in m:\n",
    "    a = []\n",
    "    for j in range(100):\n",
    "        A = produce(i)\n",
    "        a.append(np.linalg.norm(A, ord=-2))\n",
    "    a.sort()\n",
    "    plt.hist(a)\n",
    "plt.show()"
   ]
  },
  {
   "cell_type": "markdown",
   "metadata": {},
   "source": [
    "m이 커짐에 따라 condition number의 크기가 매우 작아집을 확인할 수 있다. (m이 커질수록 파란색 -> 보라색으로 이동한다.)"
   ]
  },
  {
   "cell_type": "markdown",
   "metadata": {},
   "source": [
    "### (d)"
   ]
  },
  {
   "cell_type": "code",
   "execution_count": 90,
   "metadata": {},
   "outputs": [
    {
     "data": {
      "image/png": "[encoded data removed]",
      "text/plain": [
       "<Figure size 432x288 with 1 Axes>"
      ]
     },
     "metadata": {
      "needs_background": "light"
     },
     "output_type": "display_data"
    }
   ],
   "source": [
    "m=8\n",
    "\n",
    "for i in range(100):\n",
    "    plot_eigen2(m)\n",
    "    \n",
    "plt.show()"
   ]
  },
  {
   "cell_type": "code",
   "execution_count": 91,
   "metadata": {},
   "outputs": [
    {
     "data": {
      "image/png": "[encoded data removed]",
      "text/plain": [
       "<Figure size 432x288 with 1 Axes>"
      ]
     },
     "metadata": {
      "needs_background": "light"
     },
     "output_type": "display_data"
    }
   ],
   "source": [
    "m = 16\n",
    "\n",
    "for i in range(100):\n",
    "        plot_eigen2(m)\n",
    "        \n",
    "plt.show()"
   ]
  },
  {
   "cell_type": "code",
   "execution_count": 92,
   "metadata": {},
   "outputs": [
    {
     "data": {
      "image/png": "[encoded data removed]",
      "text/plain": [
       "<Figure size 432x288 with 1 Axes>"
      ]
     },
     "metadata": {
      "needs_background": "light"
     },
     "output_type": "display_data"
    }
   ],
   "source": [
    "m = 32\n",
    "\n",
    "for i in range(100):\n",
    "    plot_eigen2(m)\n",
    "    \n",
    "plt.show()"
   ]
  },
  {
   "cell_type": "code",
   "execution_count": 93,
   "metadata": {},
   "outputs": [
    {
     "data": {
      "image/png": "[encoded data removed]",
      "text/plain": [
       "<Figure size 432x288 with 1 Axes>"
      ]
     },
     "metadata": {
      "needs_background": "light"
     },
     "output_type": "display_data"
    }
   ],
   "source": [
    "m = 64\n",
    "\n",
    "for i in range(100):\n",
    "    plot_eigen2(m)\n",
    "    \n",
    "plt.show()"
   ]
  },
  {
   "cell_type": "code",
   "execution_count": 34,
   "metadata": {},
   "outputs": [
    {
     "name": "stdout",
     "output_type": "stream",
     "text": [
      "1.5253401\n",
      "1.4802349\n",
      "1.4872103\n",
      "1.5609938\n",
      "1.5485833\n",
      "1.6204672\n",
      "1.6405547\n"
     ]
    }
   ],
   "source": [
    "for i in range(0,7):\n",
    "    m = (2**(i+1))*4\n",
    "    A = produce_tri(m)\n",
    "    print(np.linalg.norm(A, ord=2))"
   ]
  },
  {
   "cell_type": "code",
   "execution_count": 35,
   "metadata": {},
   "outputs": [
    {
     "data": {
      "image/png": "[encoded data removed]",
      "text/plain": [
       "<Figure size 432x288 with 1 Axes>"
      ]
     },
     "metadata": {
      "needs_background": "light"
     },
     "output_type": "display_data"
    }
   ],
   "source": [
    "m = [8, 16, 32, 64, 128]\n",
    "\n",
    "for i in m:\n",
    "    a = []\n",
    "    for j in range(100):\n",
    "        A = produce_tri(i)\n",
    "        a.append(np.linalg.norm(A, ord=-2))\n",
    "    a.sort()\n",
    "    plt.hist(a)\n",
    "\n",
    "plt.show()"
   ]
  },
  {
   "cell_type": "markdown",
   "metadata": {},
   "source": [
    "upper triangular matrix A에 대해 (a)~(c)의 코드를 그대로 돌려보았다. A가 삼각행렬일 때 eigengalue를 plot해본 결과 모두 실수임을 확인할 수 있었다. condition number의 크기는 m이 증가함에 따라 매우 빠른 속도로 작아졌다."
   ]
  },
  {
   "cell_type": "markdown",
   "metadata": {},
   "source": [
    "# 연습문제 4.6"
   ]
  },
  {
   "cell_type": "code",
   "execution_count": 284,
   "metadata": {},
   "outputs": [],
   "source": [
    "t = np.linspace(0, 1, 50)\n",
    "b = np.cos(4*t)\n",
    "A = np.vander(t)\n",
    "A = np.fliplr(A)\n",
    "A = A[:, :12]\n",
    "ATA = np.dot(A.T,A)"
   ]
  },
  {
   "cell_type": "code",
   "execution_count": 304,
   "metadata": {},
   "outputs": [],
   "source": [
    "x = np.zeros((12,6))"
   ]
  },
  {
   "cell_type": "code",
   "execution_count": 305,
   "metadata": {},
   "outputs": [],
   "source": [
    "def forward_subs(G,b):\n",
    "    x = []\n",
    "    for i in range(len(b)):\n",
    "        x.append(b[i])\n",
    "        for j in range(i):\n",
    "            x[i] -= (G[i][j]*x[j])\n",
    "        x[i] = x[i]/G[i][i]\n",
    "    return(x)"
   ]
  },
  {
   "cell_type": "code",
   "execution_count": 306,
   "metadata": {},
   "outputs": [],
   "source": [
    "def back_subs(G,b):\n",
    "    n = b.size\n",
    "    x = np.zeros_like(b)\n",
    "    if G[n-1, n-1] == 0:\n",
    "        raise ValueError\n",
    "    x[n-1] = b[n-1]/G[n-1, n-1]\n",
    "    C = np.zeros((n,n))\n",
    "    for i in range(n-2, -1, -1):\n",
    "        b2 = 0\n",
    "        for j in range(i+1, n):\n",
    "            b2 += G[i, j]*x[j]\n",
    "\n",
    "        C[i, i] = b[i] - b2\n",
    "        x[i] = C[i, i]/G[i, i]\n",
    "    return(x)"
   ]
  },
  {
   "cell_type": "markdown",
   "metadata": {},
   "source": [
    "### (a)"
   ]
  },
  {
   "cell_type": "code",
   "execution_count": 307,
   "metadata": {},
   "outputs": [],
   "source": [
    "B = np.dot(A.T,A)\n",
    "L = np.linalg.cholesky(B)"
   ]
  },
  {
   "cell_type": "code",
   "execution_count": 308,
   "metadata": {},
   "outputs": [],
   "source": [
    "w1 = forward_subs(L, np.dot(A.T,b))\n",
    "w1 = np.array(w1)\n",
    "w2 = back_subs(L.T, w1)"
   ]
  },
  {
   "cell_type": "code",
   "execution_count": 309,
   "metadata": {},
   "outputs": [],
   "source": [
    "x[:,0] = w2"
   ]
  },
  {
   "cell_type": "code",
   "execution_count": 310,
   "metadata": {},
   "outputs": [
    {
     "data": {
      "text/plain": [
       "True"
      ]
     },
     "execution_count": 310,
     "metadata": {},
     "output_type": "execute_result"
    }
   ],
   "source": [
    "np.allclose(np.dot(A.T,b), np.dot(ATA,x[:,0]))"
   ]
  },
  {
   "cell_type": "code",
   "execution_count": 311,
   "metadata": {},
   "outputs": [
    {
     "data": {
      "text/plain": [
       "array([ 9.99999990e-01,  3.00483764e-06, -8.00011122e+00,  1.60935260e-03,\n",
       "        1.06545953e+01,  5.33952877e-02, -5.83825972e+00,  2.75733374e-01,\n",
       "        1.27790755e+00,  3.12606357e-01, -5.02306058e-01,  1.11183155e-01])"
      ]
     },
     "execution_count": 311,
     "metadata": {},
     "output_type": "execute_result"
    }
   ],
   "source": [
    "x[:,0]"
   ]
  },
  {
   "cell_type": "markdown",
   "metadata": {},
   "source": [
    "### (b)"
   ]
  },
  {
   "cell_type": "code",
   "execution_count": 312,
   "metadata": {},
   "outputs": [
    {
     "data": {
      "text/plain": [
       "True"
      ]
     },
     "execution_count": 312,
     "metadata": {},
     "output_type": "execute_result"
    }
   ],
   "source": [
    "Q, R = mgs(A.copy())\n",
    "x[:, 1] = np.linalg.solve(R, np.dot(Q.T,b))\n",
    "\n",
    "np.allclose(np.dot(A.T,b), np.dot(ATA, x[:,1]))"
   ]
  },
  {
   "cell_type": "code",
   "execution_count": 313,
   "metadata": {},
   "outputs": [
    {
     "data": {
      "text/plain": [
       "array([ 1.00000000e+00, -7.80741851e-07, -7.99996781e+00, -5.16377008e-04,\n",
       "        1.06709431e+01, -2.06445282e-02, -5.62772565e+00, -1.10758970e-01,\n",
       "        1.73549472e+00, -2.48104577e-02, -3.61374792e-01,  8.57179143e-02])"
      ]
     },
     "execution_count": 313,
     "metadata": {},
     "output_type": "execute_result"
    }
   ],
   "source": [
    "x[:,1]"
   ]
  },
  {
   "cell_type": "markdown",
   "metadata": {},
   "source": [
    "### (c)"
   ]
  },
  {
   "cell_type": "code",
   "execution_count": 314,
   "metadata": {},
   "outputs": [],
   "source": [
    "V, R = qrhouse(np.copy(A))\n",
    "Q = formQ(V)\n",
    "xc = np.linalg.solve(R, np.matmul(Q.T, b))"
   ]
  },
  {
   "cell_type": "code",
   "execution_count": 315,
   "metadata": {},
   "outputs": [],
   "source": [
    "x[:, 2] = xc"
   ]
  },
  {
   "cell_type": "code",
   "execution_count": 316,
   "metadata": {},
   "outputs": [
    {
     "data": {
      "text/plain": [
       "array([ 1.00000000e+00, -4.22743354e-07, -7.99998124e+00, -3.18763360e-04,\n",
       "        1.06694308e+01, -1.38202917e-02, -5.64707562e+00, -7.53160412e-02,\n",
       "        1.69360698e+00,  6.03209511e-03, -3.74241698e-01,  8.80405751e-02])"
      ]
     },
     "execution_count": 316,
     "metadata": {},
     "output_type": "execute_result"
    }
   ],
   "source": [
    "x[:,2]"
   ]
  },
  {
   "cell_type": "code",
   "execution_count": 317,
   "metadata": {},
   "outputs": [
    {
     "data": {
      "text/plain": [
       "True"
      ]
     },
     "execution_count": 317,
     "metadata": {},
     "output_type": "execute_result"
    }
   ],
   "source": [
    "np.allclose(np.dot(A.T,b), np.dot(ATA, x[:,2]))"
   ]
  },
  {
   "cell_type": "markdown",
   "metadata": {},
   "source": [
    "### (d)"
   ]
  },
  {
   "cell_type": "code",
   "execution_count": 318,
   "metadata": {},
   "outputs": [
    {
     "data": {
      "text/plain": [
       "True"
      ]
     },
     "execution_count": 318,
     "metadata": {},
     "output_type": "execute_result"
    }
   ],
   "source": [
    "Q, R = np.linalg.qr(A)\n",
    "x[:,3] = np.linalg.solve(R, np.dot(Q.T,b))\n",
    "\n",
    "np.allclose(np.dot(A.T,b), np.dot(ATA, x[:,3]))"
   ]
  },
  {
   "cell_type": "code",
   "execution_count": 319,
   "metadata": {},
   "outputs": [
    {
     "data": {
      "text/plain": [
       "array([ 1.00000000e+00, -4.22742762e-07, -7.99998124e+00, -3.18763193e-04,\n",
       "        1.06694308e+01, -1.38202872e-02, -5.64707563e+00, -7.53160213e-02,\n",
       "        1.69360696e+00,  6.03211095e-03, -3.74241704e-01,  8.80405762e-02])"
      ]
     },
     "execution_count": 319,
     "metadata": {},
     "output_type": "execute_result"
    }
   ],
   "source": [
    "x[:,3]"
   ]
  },
  {
   "cell_type": "markdown",
   "metadata": {},
   "source": [
    "### (e)"
   ]
  },
  {
   "cell_type": "code",
   "execution_count": 320,
   "metadata": {},
   "outputs": [
    {
     "data": {
      "text/plain": [
       "True"
      ]
     },
     "execution_count": 320,
     "metadata": {},
     "output_type": "execute_result"
    }
   ],
   "source": [
    "Q, R = np.linalg.qr(A)\n",
    "y = np.dot(Q.T,b)\n",
    "x4 = np.linalg.solve(R, y)\n",
    "x[:,4] = x4\n",
    "\n",
    "np.allclose(np.dot(A.T,b), np.dot(ATA, x[:,4]))"
   ]
  },
  {
   "cell_type": "code",
   "execution_count": 321,
   "metadata": {},
   "outputs": [
    {
     "data": {
      "text/plain": [
       "array([ 1.00000000e+00, -4.22742762e-07, -7.99998124e+00, -3.18763193e-04,\n",
       "        1.06694308e+01, -1.38202872e-02, -5.64707563e+00, -7.53160213e-02,\n",
       "        1.69360696e+00,  6.03211095e-03, -3.74241704e-01,  8.80405762e-02])"
      ]
     },
     "execution_count": 321,
     "metadata": {},
     "output_type": "execute_result"
    }
   ],
   "source": [
    "x[:,4]"
   ]
  },
  {
   "cell_type": "markdown",
   "metadata": {},
   "source": [
    "### (f)"
   ]
  },
  {
   "cell_type": "code",
   "execution_count": 335,
   "metadata": {},
   "outputs": [
    {
     "data": {
      "text/plain": [
       "True"
      ]
     },
     "execution_count": 335,
     "metadata": {},
     "output_type": "execute_result"
    }
   ],
   "source": [
    "U, S, V = np.linalg.svd(A)\n",
    "c = np.dot(U[:,:n].T,b)\n",
    "Smat = np.diag(S)\n",
    "\n",
    "for i in range(0,12):\n",
    "    c[i] = c[i]/Smat[i,i]\n",
    "    \n",
    "x[:,5] = np.dot(V.T,c)\n",
    "np.allclose(np.dot(A.T,b), np.dot(ATA, x[:,5]))"
   ]
  },
  {
   "cell_type": "code",
   "execution_count": 336,
   "metadata": {},
   "outputs": [
    {
     "data": {
      "text/plain": [
       "array([ 1.00000000e+00, -4.22742789e-07, -7.99998124e+00, -3.18763202e-04,\n",
       "        1.06694308e+01, -1.38202874e-02, -5.64707563e+00, -7.53160221e-02,\n",
       "        1.69360696e+00,  6.03211047e-03, -3.74241704e-01,  8.80405762e-02])"
      ]
     },
     "execution_count": 336,
     "metadata": {},
     "output_type": "execute_result"
    }
   ],
   "source": [
    "x[:,5]"
   ]
  },
  {
   "cell_type": "markdown",
   "metadata": {},
   "source": [
    "### (g)"
   ]
  },
  {
   "cell_type": "code",
   "execution_count": 337,
   "metadata": {},
   "outputs": [
    {
     "data": {
      "text/latex": [
       "$\\displaystyle \\left[\\begin{matrix}0.999999989666636 & 1.00000000221909 & 1.0000000009966 & 1.0000000009966 & 1.0000000009966 & 1.0000000009966\\\\3.00483764442733 \\cdot 10^{-6} & -7.80741851430976 \\cdot 10^{-7} & -4.22743353584761 \\cdot 10^{-7} & -4.22742762308245 \\cdot 10^{-7} & -4.22742762308245 \\cdot 10^{-7} & -4.22742788638153 \\cdot 10^{-7}\\\\-8.00011122039215 & -7.99996781331556 & -7.99998123567563 & -7.99998123569015 & -7.99998123569015 & -7.99998123568934\\\\0.00160935259772651 & -0.000516377008261277 & -0.000318763360448724 & -0.000318763192593396 & -0.000318763192593396 & -0.000318763201606597\\\\10.6545953156615 & 10.6709431163868 & 10.6694307967821 & 10.6694307956841 & 10.6694307956841 & 10.6694307957393\\\\0.0533952877407528 & -0.0206445282131062 & -0.0138202916581374 & -0.0138202872244521 & -0.0138202872244521 & -0.0138202874288601\\\\-5.83825971887829 & -5.62772565108366 & -5.64707561761765 & -5.64707562918993 & -5.64707562918993 & -5.64707562870593\\\\0.275733373967491 & -0.11075896950362 & -0.0753160412280552 & -0.0753160213391962 & -0.0753160213391962 & -0.0753160220877539\\\\1.27790754988482 & 1.73549471647714 & 1.69360698264034 & 1.69360696027707 & 1.69360696027707 & 1.69360696103023\\\\0.312606356929148 & -0.0248104577181399 & 0.00603209511378278 & 0.00603211094696233 & 0.00603211094696233 & 0.00603211047180524\\\\-0.502306057956853 & -0.361374792143308 & -0.374241697900829 & -0.374241704305704 & -0.374241704305704 & -0.374241704134952\\\\0.111183154663749 & 0.0857179142551222 & 0.0880405750894637 & 0.0880405762182548 & 0.0880405762182548 & 0.0880405761915747\\end{matrix}\\right]$"
      ],
      "text/plain": [
       "Matrix([\n",
       "[  0.999999989666636,      1.00000000221909,       1.0000000009966,       1.0000000009966,       1.0000000009966,       1.0000000009966],\n",
       "[3.00483764442733e-6,  -7.80741851430976e-7,  -4.22743353584761e-7,  -4.22742762308245e-7,  -4.22742762308245e-7,  -4.22742788638153e-7],\n",
       "[  -8.00011122039215,     -7.99996781331556,     -7.99998123567563,     -7.99998123569015,     -7.99998123569015,     -7.99998123568934],\n",
       "[0.00160935259772651, -0.000516377008261277, -0.000318763360448724, -0.000318763192593396, -0.000318763192593396, -0.000318763201606597],\n",
       "[   10.6545953156615,      10.6709431163868,      10.6694307967821,      10.6694307956841,      10.6694307956841,      10.6694307957393],\n",
       "[ 0.0533952877407528,   -0.0206445282131062,   -0.0138202916581374,   -0.0138202872244521,   -0.0138202872244521,   -0.0138202874288601],\n",
       "[  -5.83825971887829,     -5.62772565108366,     -5.64707561761765,     -5.64707562918993,     -5.64707562918993,     -5.64707562870593],\n",
       "[  0.275733373967491,     -0.11075896950362,   -0.0753160412280552,   -0.0753160213391962,   -0.0753160213391962,   -0.0753160220877539],\n",
       "[   1.27790754988482,      1.73549471647714,      1.69360698264034,      1.69360696027707,      1.69360696027707,      1.69360696103023],\n",
       "[  0.312606356929148,   -0.0248104577181399,   0.00603209511378278,   0.00603211094696233,   0.00603211094696233,   0.00603211047180524],\n",
       "[ -0.502306057956853,    -0.361374792143308,    -0.374241697900829,    -0.374241704305704,    -0.374241704305704,    -0.374241704134952],\n",
       "[  0.111183154663749,    0.0857179142551222,    0.0880405750894637,    0.0880405762182548,    0.0880405762182548,    0.0880405761915747]])"
      ]
     },
     "execution_count": 337,
     "metadata": {},
     "output_type": "execute_result"
    }
   ],
   "source": [
    "sympy.Matrix(x)"
   ]
  },
  {
   "cell_type": "markdown",
   "metadata": {},
   "source": [
    "모든 x해에 대해 np.allclose()를 통해 정규방정식을 만족함은 확인하였다. 그러나 파이썬 내장함수와 비교하여 약간씩의 오차는 존재했는데, qrhouse 함수와 normal equation을 통해 구한 값의 오차가 다른 경우에 비해 꽤 컸다."
   ]
  }
 ],
 "metadata": {
  "kernelspec": {
   "display_name": "Python 3",
   "language": "python",
   "name": "python3"
  },
  "language_info": {
   "codemirror_mode": {
    "name": "ipython",
    "version": 3
   },
   "file_extension": ".py",
   "mimetype": "text/x-python",
   "name": "python",
   "nbconvert_exporter": "python",
   "pygments_lexer": "ipython3",
   "version": "3.6.9"
  }
 },
 "nbformat": 4,
 "nbformat_minor": 2
}
