{
 "cells": [
  {
   "cell_type": "code",
   "execution_count": 1,
   "metadata": {},
   "outputs": [],
   "source": [
    "import numpy as np\n",
    "import matplotlib.pyplot as plt\n",
    "import math\n",
    "%matplotlib inline"
   ]
  },
  {
   "cell_type": "code",
   "execution_count": 298,
   "metadata": {},
   "outputs": [],
   "source": [
    "#3.2\n",
    "\n",
    "def clgs(A):\n",
    "    A = np.array(A, dtype = float)\n",
    "    m, n = A.shape\n",
    "    V = A\n",
    "    Q = np.eye(m, n)\n",
    "    R = np.zeros((n,n))\n",
    "    \n",
    "    for j in range(n):\n",
    "        for i in range(j-1):\n",
    "            R[i, j] = np.dot(np.transpose(Q[:, i]), A[:, j])\n",
    "            V[:, j] = V[:, j] - np.dot(R[i,j], Q[:,i])\n",
    "            \n",
    "        R[j, j] = np.linalg.norm(V[:, j])\n",
    "        Q[:, j] = V[:, j]/R[j, j]\n",
    "   \n",
    "    return Q, R"
   ]
  },
  {
   "cell_type": "code",
   "execution_count": 299,
   "metadata": {},
   "outputs": [],
   "source": [
    "def mgs(A):\n",
    "\n",
    "    A = np.array(A, dtype = float)\n",
    "    m, n = A.shape\n",
    "    V = A\n",
    "    R = np.zeros((n, n))\n",
    "    \n",
    "    for i in range(n):\n",
    "        R[i, i] = np.linalg.norm(V[:, i])\n",
    "        V[:, i] = V[:, i]/R[i,i]\n",
    "        if i < n :\n",
    "            for j in range(i+1, n):\n",
    "                R[i, j] = np.dot(np.transpose(V[:, i]), V[:, j])\n",
    "                V[:, j] = V[:, j] - np.dot(R[i, j], V[:, i])\n",
    "    \n",
    "    Q = V            \n",
    " \n",
    "    return Q, R"
   ]
  },
  {
   "cell_type": "code",
   "execution_count": 433,
   "metadata": {},
   "outputs": [],
   "source": [
    "def qrhouse(A):\n",
    "    \n",
    "    A = np.array(A, dtype = float)\n",
    "    m, n = A.shape\n",
    "    R = A\n",
    "    V = np.zeros((m,n))\n",
    "    \n",
    "    for k in range(min(m-1, n)):\n",
    "        x = R[k:, k]\n",
    "        v = x + np.transpose(np.sign(x[0]) * np.linalg.norm(x) * np.eye(len(x), 1))\n",
    "        V[k:, k] = v\n",
    "        v_T = np.transpose(v)\n",
    "        R[k:, k:] = R[k:, k:] -np.dot(2*v_T, np.dot(v, R[k:, k:]))/ np.dot(v, v_T)\n",
    "        \n",
    "    R = np.triu(R[:n, :n])\n",
    "    \n",
    "    return V, R\n",
    "    \n",
    "        \n",
    "def formQ(V):\n",
    "    V = np.mat(V)\n",
    "    (m, n) = V.shape\n",
    "    Q = np.mat(np.eye(m, n))\n",
    "    for j in range (min(m-2, n-1), -1, -1):\n",
    "        v = V[:, j]\n",
    "        Q = Q-(2*v).dot(((v.T).dot(Q))/((v.T).dot(v)))\n",
    "\n",
    "    Q = np.array(Q)\n",
    "    \n",
    "    return Q\n"
   ]
  },
  {
   "cell_type": "code",
   "execution_count": 434,
   "metadata": {
    "scrolled": true
   },
   "outputs": [
    {
     "name": "stdout",
     "output_type": "stream",
     "text": [
      "[[ 0.49266686  0.06523226 -0.4251407 ]\n",
      " [ 0.54775702  0.18633009  0.25976153]\n",
      " [ 0.07679967  0.36590279  0.79256303]\n",
      " [ 0.5523529   0.64061423 -0.19236604]\n",
      " [ 0.38242607  0.64556519  0.2943102 ]]\n",
      "[[ 0.49266686 -0.48066784 -0.17795345]\n",
      " [ 0.54775702 -0.35834917  0.57774357]\n",
      " [ 0.07679967  0.47543202  0.63432053]\n",
      " [ 0.5523529   0.33905494 -0.48084552]\n",
      " [ 0.38242607  0.54731202 -0.03114461]]\n",
      "[[-0.70710173 -0.70711183]\n",
      " [-0.70711183  0.70710173]]\n"
     ]
    }
   ],
   "source": [
    "#A = [[12, -51, 4], [6, 167, -68], [-4, 24, -41]]\n",
    "A = [[0.8147,0.0975,0.1576],[0.9058,0.2785,0.9706],[0.1270,0.5469,0.9572],[0.9134,0.9575,0.4854],[0.6324,0.9649,0.8003]]\n",
    "print(clgs(A)[0])\n",
    "print(mgs(A)[0])\n",
    "print(formQ(V))"
   ]
  },
  {
   "cell_type": "code",
   "execution_count": 406,
   "metadata": {},
   "outputs": [
    {
     "data": {
      "text/plain": [
       "<matplotlib.legend.Legend at 0x1d4d6c5d6d0>"
      ]
     },
     "execution_count": 406,
     "metadata": {},
     "output_type": "execute_result"
    },
    {
     "data": {
      "image/png": "[encoded data removed]",
      "text/plain": [
       "<Figure size 432x288 with 1 Axes>"
      ]
     },
     "metadata": {
      "needs_background": "light"
     },
     "output_type": "display_data"
    }
   ],
   "source": [
    "#3.2.a\n",
    "\n",
    "U, X= np.linalg.qr(np.random.rand(80, 80))\n",
    "V, X= np.linalg.qr(np.random.rand(80, 80))\n",
    "\n",
    "S = []\n",
    "for i in range(80):\n",
    "    S.append((1/2)**int(i+1))\n",
    "S = np.diag(S)    \n",
    "\n",
    "A= np.dot(np.dot(U,S),V)\n",
    "Qc, Rc = clgs(A)\n",
    "Qm, Rm = mgs(A)\n",
    "\n",
    "plt.semilogy(np.diag(S), label = 'sjj')\n",
    "plt.semilogy(np.diag(Rc), label = 'classic')\n",
    "plt.semilogy(np.diag(Rm),label = 'modified')\n",
    "plt.legend(loc = 'upper right')\n",
    "\n",
    "#modified QR factorization이 classc QR factorization 보다 더 나은 결과를 가져다 준다는 것을 알 수 있다.\n"
   ]
  },
  {
   "cell_type": "code",
   "execution_count": 443,
   "metadata": {},
   "outputs": [
    {
     "name": "stdout",
     "output_type": "stream",
     "text": [
      "5.787252299533512e-16\n",
      "3.254726094493924e-11\n"
     ]
    }
   ],
   "source": [
    "#3.2.b\n",
    "A = [[0.7, 0.70711],[0.70001,0.70711]]\n",
    "\n",
    "Qm, Rm = mgs(A)\n",
    "V, R = qrhouse(A)\n",
    "Q = formQ(V)\n",
    "\n",
    "print(np.linalg.norm(np.dot(np.transpose(Q),Q)- np.eye(2)))\n",
    "print(np.linalg.norm(np.dot(np.transpose(Qm),Qm)- np.eye(2)))\n",
    "\n",
    "#householder QR method가 modified QR method 보다 numerically stable 함을 알 수 있다."
   ]
  },
  {
   "cell_type": "code",
   "execution_count": 302,
   "metadata": {},
   "outputs": [
    {
     "name": "stdout",
     "output_type": "stream",
     "text": [
      "(array([[ 0.49266686, -0.48066784, -0.17795345],\n",
      "       [ 0.54775702, -0.35834917,  0.57774357],\n",
      "       [ 0.07679967,  0.47543202,  0.63432053],\n",
      "       [ 0.5523529 ,  0.33905494, -0.48084552],\n",
      "       [ 0.38242607,  0.54731202, -0.03114461]]), array([[ 1.65365294e+00,  1.14046791e+00,  1.25697758e+00],\n",
      "       [-1.08122717e-17,  9.66094882e-01,  6.34107648e-01],\n",
      "       [-1.76537715e-18,  4.53373502e-17,  8.81556607e-01]]))\n",
      "(array([[-0.49266686, -0.48066784,  0.17795345],\n",
      "       [-0.54775702, -0.35834917, -0.57774357],\n",
      "       [-0.07679967,  0.47543202, -0.63432053],\n",
      "       [-0.5523529 ,  0.33905494,  0.48084552],\n",
      "       [-0.38242607,  0.54731202,  0.03114461]]), array([[-1.65365294, -1.14046791, -1.25697758],\n",
      "       [ 0.        ,  0.96609488,  0.63410765],\n",
      "       [ 0.        ,  0.        , -0.88155661]]))\n"
     ]
    }
   ],
   "source": [
    "#3.3\n",
    "def givens(A):\n",
    "    \n",
    "    A = np.array(A, dtype = float)\n",
    "    \n",
    "    #givens rotation의 \n",
    "    def matrix_entries(a, b):\n",
    "        r = math.hypot(a, b)\n",
    "        c = a/r\n",
    "        s = -b/r\n",
    "\n",
    "        return (c, s)\n",
    "\n",
    "    (m, n) = np.shape(A)\n",
    "\n",
    "    Q = np.identity(m)\n",
    "    R = np.copy(A)\n",
    "\n",
    "    (rows, cols) = np.tril_indices(m, -1, n)\n",
    "    for (row, col) in zip(rows, cols):\n",
    "        if R[row, col] != 0:\n",
    "            (c, s) = matrix_entries(R[col, col], R[row, col])\n",
    "\n",
    "            G = np.identity(m)\n",
    "            G[[col, row], [col, row]] = c\n",
    "            G[row, col] = s\n",
    "            G[col, row] = -s\n",
    "\n",
    "            R = np.dot(G, R)\n",
    "            Q = np.dot(Q, G.T)\n",
    "    Q = Q[:m,:n]\n",
    "    R = R[:n, :n]\n",
    "    return (Q, R)\n",
    "\n",
    "\n",
    "print(givens(A))\n",
    "print(np.linalg.qr(A))\n",
    "\n",
    "# givens rotation과 python의 linalg 모듈에 내장된 QR decomposition에 대한 결과는 같다."
   ]
  },
  {
   "cell_type": "code",
   "execution_count": 27,
   "metadata": {},
   "outputs": [
    {
     "name": "stderr",
     "output_type": "stream",
     "text": [
      "<ipython-input-27-1622bbb80bb9>:9: ComplexWarning: Casting complex values to real discards the imaginary part\n",
      "  eig[m*k:m*(k+1)] = w\n",
      "<ipython-input-27-1622bbb80bb9>:9: ComplexWarning: Casting complex values to real discards the imaginary part\n",
      "  eig[m*k:m*(k+1)] = w\n",
      "<ipython-input-27-1622bbb80bb9>:9: ComplexWarning: Casting complex values to real discards the imaginary part\n",
      "  eig[m*k:m*(k+1)] = w\n",
      "<ipython-input-27-1622bbb80bb9>:9: ComplexWarning: Casting complex values to real discards the imaginary part\n",
      "  eig[m*k:m*(k+1)] = w\n",
      "<ipython-input-27-1622bbb80bb9>:9: ComplexWarning: Casting complex values to real discards the imaginary part\n",
      "  eig[m*k:m*(k+1)] = w\n"
     ]
    },
    {
     "data": {
      "image/png": "[encoded data removed]",
      "text/plain": [
       "<Figure size 432x288 with 1 Axes>"
      ]
     },
     "metadata": {
      "needs_background": "light"
     },
     "output_type": "display_data"
    }
   ],
   "source": [
    "#4.3.a\n",
    "Matrix_size = [8, 16, 32, 64, 128]\n",
    "mat_num = 100\n",
    "\n",
    "for m in Matrix_size:\n",
    "    eig = np.zeros(m * mat_num)\n",
    "    for k in range(mat_num):\n",
    "        A = np.random.randn(m, m) / np.sqrt(m)\n",
    "        w, v = np.linalg.eig(A)\n",
    "        eig[m*k:m*(k+1)] = w\n",
    "    plt.semilogx([m for i in range(m * mat_num)], eig)\n",
    "    "
   ]
  },
  {
   "cell_type": "code",
   "execution_count": 37,
   "metadata": {},
   "outputs": [
    {
     "data": {
      "text/plain": [
       "[(0.2963363482713679+0.05527569771240237j),\n",
       " (0.7534681945998465+0.6945265057160815j),\n",
       " (0.8458254232441971+0.49819481035570246j),\n",
       " (0.851087962483404+0.034160030382324895j),\n",
       " (0.9808976587543012+0j),\n",
       " (1.0024341822043046+0j),\n",
       " (0.9778290728780279+0j),\n",
       " (1.0071234526773374+0j)]"
      ]
     },
     "execution_count": 37,
     "metadata": {},
     "output_type": "execute_result"
    }
   ],
   "source": [
    "#4.3.(a)\n",
    "Matrix_size = [8, 16, 32, 64, 128, 256, 512, 1024]\n",
    "spectral_norm = []\n",
    "\n",
    "for m in Matrix_size:\n",
    "    A = np.random.randn(m, m)/np.sqrt(m)\n",
    "    eigenvalue = np.linalg.eig(A)[0]\n",
    "    spectral_norm.append(np.max(eigenvalue))\n",
    "    \n",
    "spectral_norm\n",
    "\n",
    "\n",
    "# m 이 커질수록 spectral radius는 1로 수렴하는 모양이다."
   ]
  },
  {
   "cell_type": "code",
   "execution_count": 39,
   "metadata": {},
   "outputs": [
    {
     "data": {
      "text/plain": [
       "[2.102307360790773,\n",
       " 2.930850057863633,\n",
       " 3.968903398900929,\n",
       " 5.751243301855958,\n",
       " 8.106435948387597,\n",
       " 11.349288125547119,\n",
       " 16.02921714847089,\n",
       " 22.632291499349407]"
      ]
     },
     "execution_count": 39,
     "metadata": {},
     "output_type": "execute_result"
    }
   ],
   "source": [
    "#4.3.b\n",
    "Matrix_size = [8, 16, 32, 64, 128, 256, 512, 1024]\n",
    "second_norm = []\n",
    "\n",
    "for m in Matrix_size:\n",
    "    A = np.random.randn(m, m)/np.sqrt(m)\n",
    "    eigenvalue = np.linalg.eig(A)[0]\n",
    "    second_norm.append(np.linalg.norm(eigenvalue))\n",
    "    \n",
    "second_norm\n",
    "\n",
    "#m이 커질수록 second norm이 spectral radius보다 확연히 커짐을 알수 있다."
   ]
  },
  {
   "cell_type": "code",
   "execution_count": 41,
   "metadata": {},
   "outputs": [
    {
     "data": {
      "text/plain": [
       "[(-1.1309980344799462-0.11802297353468065j),\n",
       " (-0.8403002263310957+0j),\n",
       " (-0.9947507335169338+0j),\n",
       " (-0.8927585859010159-0.03543810452118192j),\n",
       " (-0.938467665503929+0j),\n",
       " (-0.9755115319901654-0.13201305922032874j),\n",
       " (-0.9628639157062093-0.05141508416217268j),\n",
       " (-0.9896849977227277+0j)]"
      ]
     },
     "execution_count": 41,
     "metadata": {},
     "output_type": "execute_result"
    }
   ],
   "source": [
    "#4.3.c\n",
    "Matrix_size = [8, 16, 32, 64, 128, 256, 512, 1024]\n",
    "min_eigenvalue = []\n",
    "\n",
    "for m in Matrix_size:\n",
    "    A = np.random.randn(m, m)/np.sqrt(m)\n",
    "    eigenvalue = np.linalg.eig(A)[0]\n",
    "    min_eigenvalue.append(np.min(eigenvalue))\n",
    "    \n",
    "min_eigenvalue\n",
    "\n"
   ]
  },
  {
   "cell_type": "code",
   "execution_count": null,
   "metadata": {},
   "outputs": [],
   "source": []
  }
 ],
 "metadata": {
  "kernelspec": {
   "display_name": "Python 3",
   "language": "python",
   "name": "python3"
  },
  "language_info": {
   "codemirror_mode": {
    "name": "ipython",
    "version": 3
   },
   "file_extension": ".py",
   "mimetype": "text/x-python",
   "name": "python",
   "nbconvert_exporter": "python",
   "pygments_lexer": "ipython3",
   "version": "3.8.3"
  }
 },
 "nbformat": 4,
 "nbformat_minor": 4
}
