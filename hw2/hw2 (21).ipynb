{
 "cells": [
  {
   "cell_type": "markdown",
   "metadata": {},
   "source": [
    "### Exercise 3.2"
   ]
  },
  {
   "cell_type": "code",
   "execution_count": 378,
   "metadata": {},
   "outputs": [],
   "source": [
    "import numpy as np"
   ]
  },
  {
   "cell_type": "code",
   "execution_count": 379,
   "metadata": {},
   "outputs": [],
   "source": [
    "A = np.array([[ 1. ,-1. , 4. ],\n",
    "              [ 1. , 4. ,-2. ], \n",
    "              [ 1. , 4. , 2. ],\n",
    "              [ 1. ,-1. , 0. ]])"
   ]
  },
  {
   "cell_type": "markdown",
   "metadata": {},
   "source": [
    "##### clgs"
   ]
  },
  {
   "cell_type": "code",
   "execution_count": 380,
   "metadata": {},
   "outputs": [],
   "source": [
    "def clgs(A): \n",
    "    m = np.shape(A)[0]\n",
    "    n = np.shape(A)[1]\n",
    "    Q = np.zeros([m,n]) #m*n mtx\n",
    "    R = np.zeros([n,n])\n",
    "    V = A.copy() \n",
    "    \n",
    "    for j in range(n):\n",
    "        for i in range(j):\n",
    "            R[i,j] = np.dot(Q[:,i],A[:,j])\n",
    "            V[:,j] -= R[i,j]*Q[:,i]\n",
    "        R[j,j] = np.linalg.norm(V[:,j])\n",
    "        Q[:,j] = V[:,j] / R[j,j]\n",
    "    \n",
    "    return Q,R"
   ]
  },
  {
   "cell_type": "code",
   "execution_count": 381,
   "metadata": {},
   "outputs": [
    {
     "name": "stdout",
     "output_type": "stream",
     "text": [
      "[[ 0.5 -0.5  0.5]\n",
      " [ 0.5  0.5 -0.5]\n",
      " [ 0.5  0.5  0.5]\n",
      " [ 0.5 -0.5 -0.5]]\n",
      "[[ 2.  3.  2.]\n",
      " [ 0.  5. -2.]\n",
      " [ 0.  0.  4.]]\n"
     ]
    }
   ],
   "source": [
    "print(clgs(A.copy())[0])\n",
    "print(clgs(A.copy())[1])"
   ]
  },
  {
   "cell_type": "markdown",
   "metadata": {},
   "source": [
    "##### mgs"
   ]
  },
  {
   "cell_type": "code",
   "execution_count": 382,
   "metadata": {},
   "outputs": [],
   "source": [
    "def mgs(A):\n",
    "    m = np.shape(A)[0]\n",
    "    n = np.shape(A)[1]\n",
    "    Q = A.copy() #m*n mtx    \n",
    "    R = np.zeros([n,n])\n",
    "    for j in range(n-1):\n",
    "        R[j,j] = np.linalg.norm(Q[:,j])\n",
    "        Q[:,j] /= R[j,j]\n",
    "        R[j,j+1:] = np.dot(Q[:,j],Q[:,j+1:])\n",
    "        Q[:,j+1:] -= np.outer(Q[:,j],R[j,j+1:])\n",
    "    R[-1,-1] = np.linalg.norm(Q[:,-1])\n",
    "    Q[:,-1] /= R[-1,-1]\n",
    "\n",
    "    return Q,R"
   ]
  },
  {
   "cell_type": "code",
   "execution_count": 383,
   "metadata": {
    "scrolled": true
   },
   "outputs": [
    {
     "name": "stdout",
     "output_type": "stream",
     "text": [
      "[[ 0.5 -0.5  0.5]\n",
      " [ 0.5  0.5 -0.5]\n",
      " [ 0.5  0.5  0.5]\n",
      " [ 0.5 -0.5 -0.5]]\n",
      "[[ 2.  3.  2.]\n",
      " [ 0.  5. -2.]\n",
      " [ 0.  0.  4.]]\n"
     ]
    }
   ],
   "source": [
    "print(mgs(A.copy())[0])\n",
    "print(mgs(A.copy())[1])"
   ]
  },
  {
   "cell_type": "markdown",
   "metadata": {},
   "source": [
    "##### qrhouse_total (qrhouse, formQ 한번에)"
   ]
  },
  {
   "cell_type": "code",
   "execution_count": 393,
   "metadata": {},
   "outputs": [],
   "source": [
    "def qrhouse_total(A):\n",
    "    m = np.shape(A)[0]\n",
    "    n = np.shape(A)[1]\n",
    "    Q = np.identity(m) #m*m mtx    \n",
    "    R = A.copy() #m*n mtx\n",
    "    \n",
    "    for i in range(n):\n",
    "        x = R[i:,i]\n",
    "        e = np.zeros_like(x) #vector\n",
    "        if R[i,i] >= 0:\n",
    "            e[0] += np.linalg.norm(x) * (+1.0)\n",
    "        else:\n",
    "            e[0] += np.linalg.norm(x) * (-1.0)\n",
    "        v = x + e #not normalized\n",
    "        \n",
    "        Q_i = np.identity(m)\n",
    "        Q_i[i:,i:] -= 2.0 * np.outer(v,v) / np.linalg.norm(v)**2\n",
    "        \n",
    "        R = np.dot(Q_i, R)\n",
    "        Q = np.dot(Q, Q_i.T)\n",
    "    \n",
    "    return Q,R"
   ]
  },
  {
   "cell_type": "code",
   "execution_count": 394,
   "metadata": {},
   "outputs": [
    {
     "name": "stdout",
     "output_type": "stream",
     "text": [
      "[[-0.5  0.5 -0.5 -0.5]\n",
      " [-0.5 -0.5  0.5 -0.5]\n",
      " [-0.5 -0.5 -0.5  0.5]\n",
      " [-0.5  0.5  0.5  0.5]]\n",
      "[[-2.00000000e+00 -3.00000000e+00 -2.00000000e+00]\n",
      " [ 1.85037171e-16 -5.00000000e+00  2.00000000e+00]\n",
      " [-2.40548322e-16 -9.22718692e-16 -4.00000000e+00]\n",
      " [-1.85037171e-16  3.50337043e-16  1.59872116e-16]]\n"
     ]
    }
   ],
   "source": [
    "print(qrhouse_total(A.copy())[0])\n",
    "print(qrhouse_total(A.copy())[1])"
   ]
  },
  {
   "cell_type": "markdown",
   "metadata": {},
   "source": [
    "##### qr_house"
   ]
  },
  {
   "cell_type": "code",
   "execution_count": 395,
   "metadata": {},
   "outputs": [],
   "source": [
    "def qrhouse(A): #output: V,R\n",
    "    m = np.shape(A)[0]\n",
    "    n = np.shape(A)[1]\n",
    "    V = np.zeros([m,n]) #m*n mtx    \n",
    "    R = A.copy() #m*n mtx\n",
    "    \n",
    "    for i in range(n):\n",
    "        x = R[i:,i]\n",
    "        e = np.zeros_like(x) #vector\n",
    "        if R[i,i] >= 0:\n",
    "            e[0] += np.linalg.norm(x) * (+1.0)\n",
    "        else:\n",
    "            e[0] += np.linalg.norm(x) * (-1.0)\n",
    "        v = x + e #not normalized\n",
    "        V[i:,i] = v \n",
    "        R[i:,i:] = R[i:,i:] - np.dot((2.0 * np.outer(v,v) / np.linalg.norm(v)**2),R[i:,i:])\n",
    "\n",
    "    return V,R"
   ]
  },
  {
   "cell_type": "code",
   "execution_count": 396,
   "metadata": {},
   "outputs": [
    {
     "name": "stdout",
     "output_type": "stream",
     "text": [
      "[[ 3.          0.          0.        ]\n",
      " [ 1.          8.33333333  0.        ]\n",
      " [ 1.          3.33333333  6.4       ]\n",
      " [ 1.         -1.66666667 -3.2       ]]\n",
      "[[-2.00000000e+00 -3.00000000e+00 -2.00000000e+00]\n",
      " [-2.22044605e-16 -5.00000000e+00  2.00000000e+00]\n",
      " [-2.22044605e-16  8.88178420e-16 -4.00000000e+00]\n",
      " [-2.22044605e-16 -2.22044605e-16  0.00000000e+00]]\n"
     ]
    }
   ],
   "source": [
    "print(qrhouse(A.copy())[0])\n",
    "print(qrhouse(A.copy())[1])"
   ]
  },
  {
   "cell_type": "markdown",
   "metadata": {},
   "source": [
    "##### formQ"
   ]
  },
  {
   "cell_type": "code",
   "execution_count": 397,
   "metadata": {},
   "outputs": [],
   "source": [
    "def formQ(V):\n",
    "    m = np.shape(V)[0]\n",
    "    n = np.shape(V)[1]\n",
    "    Q = np.identity(m) \n",
    "    \n",
    "    for i in range(n):\n",
    "        v = V[:,i]\n",
    "        Q = np.dot(Q, np.identity(m) - 2.0 * np.outer(v,v) / np.linalg.norm(v)**2 ) #Q = Q1TQ2TQ3T = Q1Q2Q3 \n",
    "    \n",
    "    return Q"
   ]
  },
  {
   "cell_type": "code",
   "execution_count": 398,
   "metadata": {},
   "outputs": [
    {
     "name": "stdout",
     "output_type": "stream",
     "text": [
      "[[-0.5  0.5 -0.5 -0.5]\n",
      " [-0.5 -0.5  0.5 -0.5]\n",
      " [-0.5 -0.5 -0.5  0.5]\n",
      " [-0.5  0.5  0.5  0.5]]\n"
     ]
    }
   ],
   "source": [
    "print(formQ(qrhouse(A.copy())[0]))"
   ]
  },
  {
   "cell_type": "markdown",
   "metadata": {},
   "source": [
    "#### 3.2.a)"
   ]
  },
  {
   "cell_type": "code",
   "execution_count": 399,
   "metadata": {},
   "outputs": [],
   "source": [
    "U,X = np.linalg.qr(np.random.rand(80, 80))\n",
    "V,X = np.linalg.qr(np.random.rand(80, 80)) \n",
    "S = np.zeros([80,80])\n",
    "for j in range(0,80):\n",
    "    S[j,j] = 2.**(-(j+1))\n",
    "A = np.dot(U,np.dot(S,V))\n",
    "\n",
    "Qc, Rc = clgs(A.copy())\n",
    "Qm, Rm = mgs(A.copy())"
   ]
  },
  {
   "cell_type": "code",
   "execution_count": 400,
   "metadata": {},
   "outputs": [],
   "source": [
    "import matplotlib.pyplot as plt"
   ]
  },
  {
   "cell_type": "code",
   "execution_count": 401,
   "metadata": {},
   "outputs": [
    {
     "data": {
      "image/png": "[encoded data removed]",
      "text/plain": [
       "<Figure size 432x288 with 1 Axes>"
      ]
     },
     "metadata": {
      "needs_background": "light"
     },
     "output_type": "display_data"
    }
   ],
   "source": [
    "plt.figure()\n",
    "\n",
    "plt.scatter(range(15,80), Rc.diagonal()[15:], c='b', label='classic')\n",
    "plt.scatter(range(15,80), Rm.diagonal()[15:], c='y', label='modified')\n",
    "plt.legend(['classic','modified'])\n",
    "\n",
    "plt.show()"
   ]
  },
  {
   "cell_type": "code",
   "execution_count": 402,
   "metadata": {},
   "outputs": [
    {
     "name": "stdout",
     "output_type": "stream",
     "text": [
      "[[ 0.70710173  0.70711183]\n",
      " [ 0.70711183 -0.70710173]]\n",
      "[[9.89956565e-01 1.00000455e+00]\n",
      " [0.00000000e+00 7.14283864e-06]]\n",
      " \n",
      "[[-0.70710173  0.70711183]\n",
      " [-0.70711183 -0.70710173]]\n",
      "[[-9.89956565e-01 -1.00000455e+00]\n",
      " [ 1.16066501e-16  7.14283864e-06]]\n",
      " \n",
      "3.254726094493924e-11\n",
      "3.451616545114987e-16\n"
     ]
    }
   ],
   "source": [
    "A = np.array([[.70000,.70711],\n",
    "              [.70001,.70711]])\n",
    "Qm, Rm = mgs(A.copy())\n",
    "Q, R = qrhouse_total(A.copy())\n",
    "print(Qm)\n",
    "print(Rm)\n",
    "print(\" \")\n",
    "print(Q)\n",
    "print(R)\n",
    "print(\" \")\n",
    "print(np.linalg.norm(np.dot(Qm.T,Qm)-np.identity(2)))\n",
    "print(np.linalg.norm(np.dot(Q.T,Q)-np.identity(2)))"
   ]
  },
  {
   "cell_type": "markdown",
   "metadata": {},
   "source": [
    "householder가 더 stable하다. ( householder: backward stable. i.e. norm(deltaA) / norm(A) <= O(epsilon_machine) ) "
   ]
  },
  {
   "cell_type": "markdown",
   "metadata": {},
   "source": [
    "### Exercise 3.3"
   ]
  },
  {
   "cell_type": "code",
   "execution_count": 403,
   "metadata": {},
   "outputs": [],
   "source": [
    "from math import *"
   ]
  },
  {
   "cell_type": "code",
   "execution_count": 404,
   "metadata": {},
   "outputs": [],
   "source": [
    "A = np.array([[ 1. ,-1. , 4. ],\n",
    "              [ 1. , 4. ,-2. ], \n",
    "              [ 1. , 4. , 2. ],\n",
    "              [ 1. ,-1. , 0. ]])"
   ]
  },
  {
   "cell_type": "code",
   "execution_count": 405,
   "metadata": {},
   "outputs": [],
   "source": [
    "def trigonometry(x,y):\n",
    "    z = sqrt(x**2+y**2)\n",
    "    c = x/z #cos(-theta) = cos(theta)\n",
    "    s = -y/z #sin(-theta) = -sin(theta)\n",
    "    return (c,s)      \n",
    "\n",
    "def givens_rotation(A):\n",
    "    m = np.shape(A)[0]\n",
    "    n = np.shape(A)[1]\n",
    "    Q = np.identity(m) #m*m mtx\n",
    "    R = A.copy() #m*n mtx\n",
    "    \n",
    "    for j in range(n):\n",
    "        for i in range(m-1, j, -1):\n",
    "            if R[i,j] != 0:\n",
    "                (c,s) = trigonometry(R[j,j],R[i,j])\n",
    "\n",
    "                G = np.identity(m)\n",
    "                G[i,i] = c\n",
    "                G[j,j] = c\n",
    "                G[i,j] = s\n",
    "                G[j,i] = -s\n",
    "                \n",
    "                R = np.dot(G,R)\n",
    "                Q = np.dot(Q,G.T)     \n",
    "    return (Q,R)"
   ]
  },
  {
   "cell_type": "code",
   "execution_count": 406,
   "metadata": {},
   "outputs": [
    {
     "name": "stdout",
     "output_type": "stream",
     "text": [
      "[[ 0.5 -0.5  0.5 -0.5]\n",
      " [ 0.5  0.5 -0.5 -0.5]\n",
      " [ 0.5  0.5  0.5  0.5]\n",
      " [ 0.5 -0.5 -0.5  0.5]]\n",
      "[[ 2.00000000e+00  3.00000000e+00  2.00000000e+00]\n",
      " [-6.40987562e-17  5.00000000e+00 -2.00000000e+00]\n",
      " [ 6.40987562e-17 -6.39804887e-17  4.00000000e+00]\n",
      " [ 6.40987562e-17 -6.39804887e-17  1.70656864e-16]]\n"
     ]
    }
   ],
   "source": [
    "print(givens_rotation(A.copy())[0])\n",
    "print(givens_rotation(A.copy())[1])"
   ]
  },
  {
   "cell_type": "markdown",
   "metadata": {},
   "source": [
    "아래와 같이 givens_rotation()의 결과는 qrhouse_total()의 결과와 동일한다. (단지 부호 차이만 있을 뿐이다.)"
   ]
  },
  {
   "cell_type": "code",
   "execution_count": 407,
   "metadata": {},
   "outputs": [
    {
     "name": "stdout",
     "output_type": "stream",
     "text": [
      "[[-0.5  0.5 -0.5 -0.5]\n",
      " [-0.5 -0.5  0.5 -0.5]\n",
      " [-0.5 -0.5 -0.5  0.5]\n",
      " [-0.5  0.5  0.5  0.5]]\n",
      "[[-2.00000000e+00 -3.00000000e+00 -2.00000000e+00]\n",
      " [ 1.85037171e-16 -5.00000000e+00  2.00000000e+00]\n",
      " [-2.40548322e-16 -9.22718692e-16 -4.00000000e+00]\n",
      " [-1.85037171e-16  3.50337043e-16  1.59872116e-16]]\n"
     ]
    }
   ],
   "source": [
    "print(qrhouse_total(A.copy())[0])\n",
    "print(qrhouse_total(A.copy())[1])"
   ]
  },
  {
   "cell_type": "markdown",
   "metadata": {},
   "source": [
    "### Exercise 4.3."
   ]
  },
  {
   "cell_type": "code",
   "execution_count": 408,
   "metadata": {},
   "outputs": [],
   "source": [
    "def random_matrix_normal(m):\n",
    "    A = np.random.normal(0, 1/sqrt(m), (m, m))\n",
    "    return A"
   ]
  },
  {
   "cell_type": "markdown",
   "metadata": {},
   "source": [
    "#### 4.3.a)"
   ]
  },
  {
   "cell_type": "code",
   "execution_count": 409,
   "metadata": {
    "scrolled": true
   },
   "outputs": [],
   "source": [
    "A = random_matrix_normal(100)\n",
    "lamda = np.linalg.eig(A.copy())[0]\n",
    "#print(lamda)\n",
    "#print(np.shape(lamda))"
   ]
  },
  {
   "cell_type": "code",
   "execution_count": 410,
   "metadata": {},
   "outputs": [
    {
     "data": {
      "image/png": "[encoded data removed]",
      "text/plain": [
       "<Figure size 432x288 with 1 Axes>"
      ]
     },
     "metadata": {
      "needs_background": "light"
     },
     "output_type": "display_data"
    }
   ],
   "source": [
    "plt.figure()\n",
    "\n",
    "plt.scatter(lamda.real, lamda.imag, c='r')\n",
    "\n",
    "plt.xlabel(\"lambda.real\")\n",
    "plt.ylabel(\"lambda.imag\")\n",
    "plt.gca().set_aspect('equal', adjustable='box')\n",
    "plt.show()"
   ]
  },
  {
   "cell_type": "code",
   "execution_count": 411,
   "metadata": {},
   "outputs": [
    {
     "data": {
      "image/png": "[encoded data removed]",
      "text/plain": [
       "<Figure size 432x288 with 1 Axes>"
      ]
     },
     "metadata": {
      "needs_background": "light"
     },
     "output_type": "display_data"
    },
    {
     "data": {
      "image/png": "[encoded data removed]",
      "text/plain": [
       "<Figure size 432x288 with 1 Axes>"
      ]
     },
     "metadata": {
      "needs_background": "light"
     },
     "output_type": "display_data"
    },
    {
     "data": {
      "image/png": "[encoded data removed]",
      "text/plain": [
       "<Figure size 432x288 with 1 Axes>"
      ]
     },
     "metadata": {
      "needs_background": "light"
     },
     "output_type": "display_data"
    },
    {
     "data": {
      "image/png": "[encoded data removed]",
      "text/plain": [
       "<Figure size 432x288 with 1 Axes>"
      ]
     },
     "metadata": {
      "needs_background": "light"
     },
     "output_type": "display_data"
    },
    {
     "data": {
      "image/png": "[encoded data removed]",
      "text/plain": [
       "<Figure size 432x288 with 1 Axes>"
      ]
     },
     "metadata": {
      "needs_background": "light"
     },
     "output_type": "display_data"
    },
    {
     "data": {
      "image/png": "[encoded data removed]",
      "text/plain": [
       "<Figure size 432x288 with 1 Axes>"
      ]
     },
     "metadata": {
      "needs_background": "light"
     },
     "output_type": "display_data"
    }
   ],
   "source": [
    "iteration = 100\n",
    "for m, color in zip([8,16,32,64,128,256], ['r','orange','y','g','skyblue','b']):\n",
    "    plt.figure()\n",
    "    for i in range(iteration):\n",
    "        A = random_matrix_normal(m)\n",
    "        lamda = np.linalg.eig(A.copy())[0]\n",
    "    plt.scatter(lamda.real, lamda.imag, c=color)\n",
    "    plt.xlabel(\"lambda.real\")\n",
    "    plt.ylabel(\"lambda.imag\")\n",
    "    plt.gca().set_aspect('equal')\n",
    "    plt.legend([\"m = \"+str(m)])\n",
    "    plt.show()\n",
    "    "
   ]
  },
  {
   "cell_type": "markdown",
   "metadata": {},
   "source": [
    "As m -> inf, spectral radius -> 1. (spectral radius = sqrt(var * m) = sqrt((1/m) * m) = m)"
   ]
  },
  {
   "cell_type": "markdown",
   "metadata": {},
   "source": [
    "#### 4.3.b)"
   ]
  },
  {
   "cell_type": "code",
   "execution_count": 416,
   "metadata": {
    "scrolled": true
   },
   "outputs": [
    {
     "data": {
      "image/png": "[encoded data removed]",
      "text/plain": [
       "<Figure size 432x288 with 1 Axes>"
      ]
     },
     "metadata": {
      "needs_background": "light"
     },
     "output_type": "display_data"
    }
   ],
   "source": [
    "plt.figure()\n",
    "\n",
    "iteration = 10\n",
    "for i in range(3,10):\n",
    "    m = 2**i\n",
    "    norm = 0\n",
    "    spectralRadius = 0\n",
    "    for j in range(iteration):\n",
    "        A = random_matrix_normal(m)\n",
    "        lamda = np.linalg.eig(A.copy())[0]\n",
    "    \n",
    "        norm += (np.linalg.norm(A.copy(),2))/10.0\n",
    "        spectralRadius += (max(abs(lamda)))/10.0\n",
    "    \n",
    "    plt.scatter(m, norm, c='r')\n",
    "    plt.scatter(m, spectralRadius, c='b')\n",
    "\n",
    "plt.xlabel(\"m\")\n",
    "plt.legend(['norm(A)','spectralRadius(A)'])\n",
    "\n",
    "plt.show()\n",
    "    "
   ]
  },
  {
   "cell_type": "markdown",
   "metadata": {},
   "source": [
    "norm 값은 점점 2.0에 가까워진다.\n",
    "spectral radius 값은 점점 1.0에 가까워진다."
   ]
  },
  {
   "cell_type": "markdown",
   "metadata": {},
   "source": [
    "#### 4.3.c)"
   ]
  },
  {
   "cell_type": "code",
   "execution_count": 417,
   "metadata": {},
   "outputs": [
    {
     "data": {
      "image/png": "[encoded data removed]",
      "text/plain": [
       "<Figure size 432x288 with 1 Axes>"
      ]
     },
     "metadata": {
      "needs_background": "light"
     },
     "output_type": "display_data"
    },
    {
     "name": "stdout",
     "output_type": "stream",
     "text": [
      "m = 100 : (cnt2,cnt4,cnt8,cnt16) = (1.0000000000000007,0.9980000000000008,0.8420000000000006,0.5540000000000004)\n"
     ]
    }
   ],
   "source": [
    "plt.figure()\n",
    "\n",
    "iteration = 500\n",
    "sv_min_list = []\n",
    "cnt2, cnt4, cnt8, cnt16 = 0, 0, 0, 0\n",
    "for i in range(iteration):\n",
    "    A = random_matrix_normal(100)\n",
    "    sv_min = min(np.linalg.svd(A)[1])\n",
    "    if sv_min <= 1/20.0:\n",
    "        cnt2 += 1/iteration\n",
    "    if sv_min <= 1/40.0:\n",
    "        cnt4 += 1/iteration\n",
    "    if sv_min <= 1/80.0:\n",
    "        cnt8 += 1/iteration\n",
    "    if sv_min <= 1/160.0:\n",
    "        cnt16 += 1/iteration\n",
    "    sv_min_list.append(sv_min)\n",
    "\n",
    "plt.hist(sv_min_list, density = True, bins = 30)\n",
    "plt.xlabel(\"sv_min\")\n",
    "plt.ylabel(\"density\")\n",
    "plt.show()\n",
    "\n",
    "print(\"m = %d : (cnt2,cnt4,cnt8,cnt16) = (%s,%s,%s,%s)\"%(100, cnt2, cnt4, cnt8, cnt16))\n",
    "# cntN := P(sv_min <= 1/(N*10.0))"
   ]
  },
  {
   "cell_type": "code",
   "execution_count": 418,
   "metadata": {
    "scrolled": true
   },
   "outputs": [
    {
     "name": "stdout",
     "output_type": "stream",
     "text": [
      "cdf_exp(100,0.050000): 0.9991506742952808\n",
      "cdf_exp(100,0.025000): 0.9708568068887575\n",
      "cdf_exp(100,0.012500): 0.8292862246002319\n",
      "cdf_exp(100,0.006250): 0.5868247642951383\n"
     ]
    }
   ],
   "source": [
    "def cdf_exp(m,t): #= P(X<t) where X~exp(sqrt(2)*m) (m: the number of rows)\n",
    "    return 1 - exp(-sqrt(2)*m*t) # sqrt(2)*m: 숫자를 보고 끼워맞춘 값.\n",
    "\n",
    "def pdf_exp(m,t):\n",
    "    return sqrt(2)*m*exp(-sqrt(2)*m*t)\n",
    "               \n",
    "for i in (1/20,1/40,1/80,1/160):\n",
    "    print(\"cdf_exp(100,%f):\"%i, cdf_exp(100,i))"
   ]
  },
  {
   "cell_type": "code",
   "execution_count": 419,
   "metadata": {},
   "outputs": [
    {
     "data": {
      "image/png": "[encoded data removed]",
      "text/plain": [
       "<Figure size 432x288 with 1 Axes>"
      ]
     },
     "metadata": {
      "needs_background": "light"
     },
     "output_type": "display_data"
    }
   ],
   "source": [
    "plt.figure()\n",
    "\n",
    "plt.hist(sv_min_list, density = True, bins = 30)\n",
    "\n",
    "t = np.linspace(0, 0.030) \n",
    "pdf_exp_2 = np.vectorize(pdf_exp)\n",
    "y = pdf_exp_2(100,t)\n",
    "plt.plot(t,y)\n",
    "\n",
    "plt.xlabel(\"sv_min (m = %d)\" %100)\n",
    "plt.ylabel(\"density\")\n",
    "plt.show()"
   ]
  },
  {
   "cell_type": "markdown",
   "metadata": {},
   "source": [
    "분포의 tail 부분은 근사적으로 exponential distribution을 따른다. "
   ]
  },
  {
   "cell_type": "code",
   "execution_count": 420,
   "metadata": {
    "scrolled": false
   },
   "outputs": [
    {
     "data": {
      "text/plain": [
       "<Figure size 432x288 with 0 Axes>"
      ]
     },
     "metadata": {},
     "output_type": "display_data"
    },
    {
     "data": {
      "image/png": "[encoded data removed]",
      "text/plain": [
       "<Figure size 432x288 with 1 Axes>"
      ]
     },
     "metadata": {
      "needs_background": "light"
     },
     "output_type": "display_data"
    },
    {
     "name": "stdout",
     "output_type": "stream",
     "text": [
      "m = 100 : (cnt2,cnt4,cnt8,cnt16) = (1.0000000000000007,0.9960000000000008,0.8800000000000007,0.5500000000000004)\n"
     ]
    },
    {
     "data": {
      "image/png": "[encoded data removed]",
      "text/plain": [
       "<Figure size 432x288 with 1 Axes>"
      ]
     },
     "metadata": {
      "needs_background": "light"
     },
     "output_type": "display_data"
    },
    {
     "name": "stdout",
     "output_type": "stream",
     "text": [
      "m = 200 : (cnt2,cnt4,cnt8,cnt16) = (1.0000000000000007,1.0000000000000007,0.9980000000000008,0.8520000000000006)\n"
     ]
    },
    {
     "data": {
      "image/png": "[encoded data removed]",
      "text/plain": [
       "<Figure size 432x288 with 1 Axes>"
      ]
     },
     "metadata": {
      "needs_background": "light"
     },
     "output_type": "display_data"
    },
    {
     "name": "stdout",
     "output_type": "stream",
     "text": [
      "m = 400 : (cnt2,cnt4,cnt8,cnt16) = (1.0000000000000007,1.0000000000000007,1.0000000000000007,0.9960000000000008)\n"
     ]
    }
   ],
   "source": [
    "plt.figure()\n",
    "\n",
    "iteration = 500\n",
    "sv_min_list = []\n",
    "for m in (100, 200, 400):\n",
    "    plt.figure()\n",
    "    cnt2, cnt4, cnt8, cnt16 = 0, 0, 0, 0\n",
    "    for i in range(iteration):\n",
    "        A = random_matrix_normal(m)\n",
    "        sv_min = min(np.linalg.svd(A)[1])\n",
    "        if sv_min <= 1/20.0:\n",
    "            cnt2 += 1/iteration\n",
    "        if sv_min <= 1/40.0:\n",
    "            cnt4 += 1/iteration\n",
    "        if sv_min <= 1/80.0:\n",
    "            cnt8 += 1/iteration\n",
    "        if sv_min <= 1/160.0:\n",
    "            cnt16 += 1/iteration\n",
    "        sv_min_list.append(sv_min)\n",
    "    plt.hist(sv_min_list, density = True, bins = 30)  \n",
    "    \n",
    "    y = pdf_exp_2(m,t)\n",
    "    plt.plot(t,y)\n",
    "    \n",
    "    plt.xlabel(\"sv_min (m = %d)\" %m)\n",
    "    plt.ylabel(\"density\")\n",
    "    plt.show()\n",
    "    print(\"m = %d : (cnt2,cnt4,cnt8,cnt16) = (%s,%s,%s,%s)\"%(m, cnt2, cnt4, cnt8, cnt16))\n",
    "    # cntN := P(sv_min <= 1/(N*10.0))"
   ]
  },
  {
   "cell_type": "code",
   "execution_count": 421,
   "metadata": {},
   "outputs": [
    {
     "name": "stdout",
     "output_type": "stream",
     "text": [
      "cdf_exp(100,0.050000): 0.9991506742952808\n",
      "cdf_exp(100,0.025000): 0.9708568068887575\n",
      "cdf_exp(100,0.012500): 0.8292862246002319\n",
      "cdf_exp(100,0.006250): 0.5868247642951383\n",
      " \n",
      "cdf_exp(200,0.050000): 0.9999992786458473\n",
      "cdf_exp(200,0.025000): 0.9991506742952808\n",
      "cdf_exp(200,0.012500): 0.9708568068887575\n",
      "cdf_exp(200,0.006250): 0.8292862246002319\n",
      " \n",
      "cdf_exp(400,0.050000): 0.9999999999994796\n",
      "cdf_exp(400,0.025000): 0.9999992786458473\n",
      "cdf_exp(400,0.012500): 0.9991506742952808\n",
      "cdf_exp(400,0.006250): 0.9708568068887575\n"
     ]
    }
   ],
   "source": [
    "for i in (1/20,1/40,1/80,1/160):\n",
    "    print(\"cdf_exp(100,%f):\"%i, cdf_exp(100,i))\n",
    "print(\" \")\n",
    "for i in (1/20,1/40,1/80,1/160):\n",
    "    print(\"cdf_exp(200,%f):\"%i, cdf_exp(200,i))\n",
    "print(\" \")\n",
    "for i in (1/20,1/40,1/80,1/160):\n",
    "    print(\"cdf_exp(400,%f):\"%i, cdf_exp(400,i))"
   ]
  },
  {
   "cell_type": "markdown",
   "metadata": {},
   "source": [
    "m의 크기가 커질 수록, min(singular vlaue)의 값이 0에 가까운 값을 가질 확률이 커졌다."
   ]
  },
  {
   "cell_type": "markdown",
   "metadata": {},
   "source": [
    "참고: 번외로, (m * sv_min) ** 2값의 분포를 확인해보자. (Define it as sv_min_square.)"
   ]
  },
  {
   "cell_type": "code",
   "execution_count": 422,
   "metadata": {},
   "outputs": [
    {
     "data": {
      "image/png": "[encoded data removed]",
      "text/plain": [
       "<Figure size 432x288 with 1 Axes>"
      ]
     },
     "metadata": {
      "needs_background": "light"
     },
     "output_type": "display_data"
    },
    {
     "name": "stdout",
     "output_type": "stream",
     "text": [
      "m = 100 : (cnt2,cnt4,cnt8,cnt16) = (0.20200000000000015,0.1480000000000001,0.12600000000000008,0.08000000000000006)\n"
     ]
    }
   ],
   "source": [
    "plt.figure()\n",
    "\n",
    "iteration = 500\n",
    "sv_min_list = []\n",
    "cnt2, cnt4, cnt8, cnt16 = 0, 0, 0, 0\n",
    "for i in range(iteration):\n",
    "    A = random_matrix_normal(100)\n",
    "    sv_min_square = 100**2 * (min(np.linalg.svd(A)[1]))**2\n",
    "    if sv_min_square <= 1/20:\n",
    "        cnt2 += 1/iteration\n",
    "    if sv_min_square <= 1/40:\n",
    "        cnt4 += 1/iteration\n",
    "    if sv_min_square <= 1/80:\n",
    "        cnt8 += 1/iteration\n",
    "    if sv_min_square <= 1/160:\n",
    "        cnt16 += 1/iteration\n",
    "    sv_min_list.append(sv_min_square)\n",
    "\n",
    "plt.hist(sv_min_list, density = True, bins = 30)\n",
    "plt.xlabel(\"sv_min_square\")\n",
    "plt.ylabel(\"density\")\n",
    "plt.show()\n",
    "\n",
    "print(\"m = %d : (cnt2,cnt4,cnt8,cnt16) = (%s,%s,%s,%s)\"%(100, cnt2, cnt4, cnt8, cnt16))\n",
    "# cntN := P(sv_min <= 1/(N*10.0))"
   ]
  },
  {
   "cell_type": "markdown",
   "metadata": {},
   "source": [
    "위의 결과를 보면 보다 깔끔하게 exponential distribution에 가까워짐을 확인 할 수 있다. 이의 분포를 유추해보자."
   ]
  },
  {
   "cell_type": "code",
   "execution_count": 423,
   "metadata": {},
   "outputs": [
    {
     "name": "stdout",
     "output_type": "stream",
     "text": [
      "cdf_exp_for_square(100,0.050000): 0.22011343374313996\n",
      "cdf_exp_for_square(100,0.025000): 0.15685293596331662\n",
      "cdf_exp_for_square(100,0.012500): 0.11135140148779077\n",
      "cdf_exp_for_square(100,0.006250): 0.07889564366222768\n"
     ]
    }
   ],
   "source": [
    "def cdf_exp_for_square(m,t): #= P(X<t)\n",
    "    return 1 - exp(-t/2-sqrt(t)) \n",
    "\n",
    "def pdf_exp_for_square(m,t):\n",
    "    return ((1 / (2*sqrt(t))) + 0.5) * exp(-t/2-sqrt(t)) \n",
    "               \n",
    "for i in (1/20,1/40,1/80,1/160):\n",
    "    print(\"cdf_exp_for_square(100,%f):\"%i, cdf_exp_for_square(100,i))"
   ]
  },
  {
   "cell_type": "code",
   "execution_count": 424,
   "metadata": {},
   "outputs": [
    {
     "data": {
      "image/png": "[encoded data removed]",
      "text/plain": [
       "<Figure size 432x288 with 1 Axes>"
      ]
     },
     "metadata": {
      "needs_background": "light"
     },
     "output_type": "display_data"
    }
   ],
   "source": [
    "plt.figure()\n",
    "\n",
    "plt.hist(sv_min_list, density = True, bins = 30)\n",
    "\n",
    "t = np.linspace(0, 6, 600)[1:] \n",
    "#print(pdf_exp_for_square(100,t[0]))\n",
    "pdf_exp_for_square_2 = np.vectorize(pdf_exp_for_square)\n",
    "y = pdf_exp_for_square_2(100,t)\n",
    "plt.plot(t,y)\n",
    "\n",
    "plt.xlabel(\"sv_min_square (m = %d)\" %100)\n",
    "plt.ylabel(\"density\")\n",
    "plt.show()"
   ]
  },
  {
   "cell_type": "code",
   "execution_count": 425,
   "metadata": {},
   "outputs": [
    {
     "data": {
      "text/plain": [
       "<Figure size 432x288 with 0 Axes>"
      ]
     },
     "metadata": {},
     "output_type": "display_data"
    },
    {
     "data": {
      "image/png": "[encoded data removed]",
      "text/plain": [
       "<Figure size 432x288 with 1 Axes>"
      ]
     },
     "metadata": {
      "needs_background": "light"
     },
     "output_type": "display_data"
    },
    {
     "name": "stdout",
     "output_type": "stream",
     "text": [
      "m = 100 : (cnt2,cnt4,cnt8,cnt16) = (0.19000000000000014,0.1320000000000001,0.09400000000000007,0.05800000000000004)\n"
     ]
    },
    {
     "data": {
      "image/png": "[encoded data removed]",
      "text/plain": [
       "<Figure size 432x288 with 1 Axes>"
      ]
     },
     "metadata": {
      "needs_background": "light"
     },
     "output_type": "display_data"
    },
    {
     "name": "stdout",
     "output_type": "stream",
     "text": [
      "m = 200 : (cnt2,cnt4,cnt8,cnt16) = (0.18600000000000014,0.1400000000000001,0.09400000000000007,0.06600000000000004)\n"
     ]
    },
    {
     "data": {
      "image/png": "[encoded data removed]",
      "text/plain": [
       "<Figure size 432x288 with 1 Axes>"
      ]
     },
     "metadata": {
      "needs_background": "light"
     },
     "output_type": "display_data"
    },
    {
     "name": "stdout",
     "output_type": "stream",
     "text": [
      "m = 400 : (cnt2,cnt4,cnt8,cnt16) = (0.23400000000000018,0.1380000000000001,0.09000000000000007,0.06200000000000004)\n"
     ]
    }
   ],
   "source": [
    "plt.figure()\n",
    "\n",
    "iteration = 500\n",
    "sv_min_list = []\n",
    "for m in (100, 200, 400):\n",
    "    plt.figure()\n",
    "    cnt2, cnt4, cnt8, cnt16 = 0, 0, 0, 0\n",
    "    for i in range(iteration):\n",
    "        A = random_matrix_normal(m)\n",
    "        sv_min_square = m**2 * (min(np.linalg.svd(A)[1]))**2\n",
    "        if sv_min_square <= 1/20.0:\n",
    "            cnt2 += 1/iteration\n",
    "        if sv_min_square <= 1/40.0:\n",
    "            cnt4 += 1/iteration\n",
    "        if sv_min_square <= 1/80.0:\n",
    "            cnt8 += 1/iteration\n",
    "        if sv_min_square <= 1/160.0:\n",
    "            cnt16 += 1/iteration\n",
    "        sv_min_list.append(sv_min_square)\n",
    "    plt.hist(sv_min_list, density = True, bins = 30)  \n",
    "    \n",
    "    y = pdf_exp_for_square_2(m,t)\n",
    "    plt.plot(t,y)\n",
    "    \n",
    "    plt.xlabel(\"sv_min_square (m = %d)\" %m)\n",
    "    plt.ylabel(\"density\")\n",
    "    plt.show()\n",
    "    print(\"m = %d : (cnt2,cnt4,cnt8,cnt16) = (%s,%s,%s,%s)\"%(m, cnt2, cnt4, cnt8, cnt16))\n",
    "    # cntN := P(sv_min <= 1/(N*10.0))"
   ]
  },
  {
   "cell_type": "markdown",
   "metadata": {},
   "source": [
    "다른 m 값에 대해서도 들어 맞는 것을 확인할 수 있었다."
   ]
  },
  {
   "cell_type": "markdown",
   "metadata": {},
   "source": [
    "#### 4.3.d) - a)"
   ]
  },
  {
   "cell_type": "code",
   "execution_count": 426,
   "metadata": {},
   "outputs": [],
   "source": [
    "def random_U_normal(m):\n",
    "    A = np.random.normal(0, 1/sqrt(m), (m, m))\n",
    "    for i in range(m):\n",
    "        for j in range(i):\n",
    "            A[i,j] = 0\n",
    "    return A"
   ]
  },
  {
   "cell_type": "code",
   "execution_count": 427,
   "metadata": {},
   "outputs": [
    {
     "name": "stdout",
     "output_type": "stream",
     "text": [
      "[[-0.51940786  0.10896252 -0.46290791]\n",
      " [ 0.         -0.55107576  0.43137019]\n",
      " [ 0.          0.         -0.07970372]]\n"
     ]
    }
   ],
   "source": [
    "print(random_U_normal(3))"
   ]
  },
  {
   "cell_type": "code",
   "execution_count": 428,
   "metadata": {},
   "outputs": [],
   "source": [
    "A = random_U_normal(100)\n",
    "lamda = np.linalg.eig(A.copy())[0]"
   ]
  },
  {
   "cell_type": "code",
   "execution_count": 429,
   "metadata": {},
   "outputs": [
    {
     "data": {
      "image/png": "[encoded data removed]",
      "text/plain": [
       "<Figure size 432x288 with 1 Axes>"
      ]
     },
     "metadata": {
      "needs_background": "light"
     },
     "output_type": "display_data"
    }
   ],
   "source": [
    "plt.figure()\n",
    "\n",
    "plt.scatter(lamda.real, lamda.imag, c='r')\n",
    "\n",
    "plt.xlabel(\"lambda.real\")\n",
    "plt.ylabel(\"lambda.imag\")\n",
    "plt.gca().set_aspect('equal', adjustable='box')\n",
    "plt.show()"
   ]
  },
  {
   "cell_type": "markdown",
   "metadata": {},
   "source": [
    "random_U_normal의 eigenvalues는 diagonal의 entries이다. 모든 eigenvalue가 실수이므로 위와 같은 plot이 생성되었다."
   ]
  },
  {
   "cell_type": "code",
   "execution_count": 430,
   "metadata": {},
   "outputs": [
    {
     "name": "stdout",
     "output_type": "stream",
     "text": [
      "m = 8: spectral radius of A = 0.7336623519552399\n",
      "m = 16: spectral radius of A = 0.4069635305380551\n",
      "m = 32: spectral radius of A = 0.4160633062952862\n",
      "m = 64: spectral radius of A = 0.3314240144129823\n"
     ]
    }
   ],
   "source": [
    "for m in (8,16,32,64):\n",
    "    A = random_U_normal(m)\n",
    "    lamda = np.linalg.eig(A.copy())[0]\n",
    "    print(\"m = %d: spectral radius of A =\"%m, max(abs(lamda)))"
   ]
  },
  {
   "cell_type": "markdown",
   "metadata": {},
   "source": [
    "m이 커지면서, spectral radius값도 작아진다."
   ]
  },
  {
   "cell_type": "markdown",
   "metadata": {},
   "source": [
    "#### 4.3.d) - b)"
   ]
  },
  {
   "cell_type": "code",
   "execution_count": 431,
   "metadata": {},
   "outputs": [
    {
     "data": {
      "image/png": "[encoded data removed]",
      "text/plain": [
       "<Figure size 432x288 with 1 Axes>"
      ]
     },
     "metadata": {
      "needs_background": "light"
     },
     "output_type": "display_data"
    }
   ],
   "source": [
    "plt.figure()\n",
    "\n",
    "for i in range(3,9):\n",
    "    m = 2**i\n",
    "    A = random_U_normal(m)\n",
    "    norm = np.linalg.norm(A.copy(),2)\n",
    "    lamda = np.linalg.eig(A.copy())[0]\n",
    "    \n",
    "    plt.scatter(m, norm, c='r')\n",
    "    plt.scatter(m, max(abs(lamda)), c='b')\n",
    "    #plt.scatter(m, exp(1/2), c='black')\n",
    "\n",
    "    \n",
    "    #ATA = np.dot(A.T,A)\n",
    "    #lamda2 = np.linalg.eig(ATA)[0]\n",
    "    #norm2 = sqrt(max(abs(lamda2)))\n",
    "    #plt.scatter(m, norm2, c='b')\n",
    "    \n",
    "plt.xlabel(\"m\")\n",
    "plt.legend(['norm','spectral radius'])\n",
    "plt.axhline(y=exp(1/2), color='black', linestyle=':')\n",
    "plt.show()"
   ]
  },
  {
   "cell_type": "markdown",
   "metadata": {},
   "source": [
    "그림상 norm은 exp(1/2)에 수렴할 것으로 예상된다."
   ]
  },
  {
   "cell_type": "markdown",
   "metadata": {},
   "source": [
    "#### 4.3.d) - c)"
   ]
  },
  {
   "cell_type": "code",
   "execution_count": 432,
   "metadata": {},
   "outputs": [
    {
     "data": {
      "image/png": "[encoded data removed]",
      "text/plain": [
       "<Figure size 432x288 with 1 Axes>"
      ]
     },
     "metadata": {
      "needs_background": "light"
     },
     "output_type": "display_data"
    },
    {
     "name": "stdout",
     "output_type": "stream",
     "text": [
      "m = 100 : (cnt2,cnt4,cnt8,cnt16) = (0.6840000000000005,0.45800000000000035,0.3760000000000003,0.12600000000000008)\n"
     ]
    }
   ],
   "source": [
    "plt.figure()\n",
    "\n",
    "sv_min_list = []\n",
    "cnt2, cnt4, cnt8, cnt16 = 0, 0, 0, 0\n",
    "for i in range(500):\n",
    "    A = random_U_normal(100)\n",
    "    sv_min = min(np.linalg.svd(A)[1])\n",
    "    if sv_min <= 1/2.0 * 10**(-15):\n",
    "        cnt2 += 1/500.0\n",
    "    if sv_min <= 1/4.0 * 10**(-15):\n",
    "        cnt4 += 1/500.0\n",
    "    if sv_min <= 1/8.0 * 10**(-15):\n",
    "        cnt8 += 1/500.0\n",
    "    if sv_min <= 1/16.0 * 10**(-15):\n",
    "        cnt16 += 1/500.0\n",
    "    sv_min_list.append(sv_min)\n",
    "\n",
    "plt.hist(sv_min_list, density = True, bins = 35)\n",
    "plt.xlabel(\"sv_min (m = %d)\" %m)\n",
    "plt.ylabel(\"density\")\n",
    "plt.show()\n",
    "\n",
    "print(\"m = %d : (cnt2,cnt4,cnt8,cnt16) = (%s,%s,%s,%s)\"%(100, cnt2, cnt4, cnt8, cnt16))\n",
    "# cntN := P(sv_min <= 1/(N) * 10**(-15))"
   ]
  },
  {
   "cell_type": "code",
   "execution_count": 434,
   "metadata": {
    "scrolled": false
   },
   "outputs": [
    {
     "data": {
      "image/png": "[encoded data removed]",
      "text/plain": [
       "<Figure size 432x288 with 1 Axes>"
      ]
     },
     "metadata": {
      "needs_background": "light"
     },
     "output_type": "display_data"
    },
    {
     "name": "stdout",
     "output_type": "stream",
     "text": [
      "m = 100 : (cnt2,cnt4,cnt8,cnt16) = (0.6899999999999993,0.4633333333333344,0.37000000000000044,0.09999999999999994)\n"
     ]
    },
    {
     "data": {
      "image/png": "[encoded data removed]",
      "text/plain": [
       "<Figure size 432x288 with 1 Axes>"
      ]
     },
     "metadata": {
      "needs_background": "light"
     },
     "output_type": "display_data"
    },
    {
     "name": "stdout",
     "output_type": "stream",
     "text": [
      "m = 200 : (cnt2,cnt4,cnt8,cnt16) = (0.9999999999999961,0.9999999999999961,0.9999999999999961,0.1199999999999999)\n"
     ]
    },
    {
     "data": {
      "image/png": "[encoded data removed]",
      "text/plain": [
       "<Figure size 432x288 with 1 Axes>"
      ]
     },
     "metadata": {
      "needs_background": "light"
     },
     "output_type": "display_data"
    },
    {
     "name": "stdout",
     "output_type": "stream",
     "text": [
      "m = 400 : (cnt2,cnt4,cnt8,cnt16) = (0.9999999999999961,0.9999999999999961,0.9999999999999961,0.3)\n"
     ]
    }
   ],
   "source": [
    "sv_min_list = []\n",
    "iteration = 300\n",
    "for m in (100, 200, 400):\n",
    "    plt.figure()\n",
    "    cnt2, cnt4, cnt8, cnt16 = 0, 0, 0, 0\n",
    "    for i in range(iteration):\n",
    "        A = random_U_normal(m)\n",
    "        sv_min = min(np.linalg.svd(A)[1])\n",
    "        if sv_min <= 1/2.0 * 10**(-15):\n",
    "            cnt2 += 1/iteration\n",
    "        if sv_min <= 1/4.0 * 10**(-15):\n",
    "            cnt4 += 1/iteration\n",
    "        if sv_min <= 1/8.0 * 10**(-15):\n",
    "            cnt8 += 1/iteration\n",
    "        if sv_min <= 1/16.0 * 10**(-15):\n",
    "            cnt16 += 1/iteration\n",
    "        sv_min_list.append(sv_min)\n",
    "    plt.hist(sv_min_list, density = True, bins = 30)  \n",
    "    plt.xlabel(\"sv_min (m = %d)\" %m)\n",
    "    plt.ylabel(\"density\")\n",
    "    plt.show()\n",
    "    print(\"m = %d : (cnt2,cnt4,cnt8,cnt16) = (%s,%s,%s,%s)\"%(m, cnt2, cnt4, cnt8, cnt16))\n",
    "    # cntN := P(sv_min <= 1/(N) * 10**(-15))"
   ]
  },
  {
   "cell_type": "markdown",
   "metadata": {},
   "source": [
    "이들의 분포가 10 ** (-16) 정도에서 분포되어 있음을 관찰할 수 있었다. "
   ]
  },
  {
   "cell_type": "code",
   "execution_count": 435,
   "metadata": {
    "scrolled": true
   },
   "outputs": [
    {
     "name": "stdout",
     "output_type": "stream",
     "text": [
      "2.220446049250313e-16\n"
     ]
    }
   ],
   "source": [
    "print(np.finfo(float).eps)"
   ]
  },
  {
   "cell_type": "markdown",
   "metadata": {},
   "source": [
    "확실하지는 않지만, 그 이유는 위의 machine_epsilon값과 관련이 있지 않을까라는 생각이 든다."
   ]
  },
  {
   "cell_type": "markdown",
   "metadata": {},
   "source": [
    "### Exercise 4.6"
   ]
  },
  {
   "cell_type": "code",
   "execution_count": 436,
   "metadata": {},
   "outputs": [],
   "source": [
    "from math import *"
   ]
  },
  {
   "cell_type": "code",
   "execution_count": 437,
   "metadata": {},
   "outputs": [],
   "source": [
    "m = 50\n",
    "n = 12"
   ]
  },
  {
   "cell_type": "code",
   "execution_count": 438,
   "metadata": {},
   "outputs": [
    {
     "name": "stdout",
     "output_type": "stream",
     "text": [
      "[0.         0.02040816 0.04081633 0.06122449 0.08163265 0.10204082\n",
      " 0.12244898 0.14285714 0.16326531 0.18367347 0.20408163 0.2244898\n",
      " 0.24489796 0.26530612 0.28571429 0.30612245 0.32653061 0.34693878\n",
      " 0.36734694 0.3877551  0.40816327 0.42857143 0.44897959 0.46938776\n",
      " 0.48979592 0.51020408 0.53061224 0.55102041 0.57142857 0.59183673\n",
      " 0.6122449  0.63265306 0.65306122 0.67346939 0.69387755 0.71428571\n",
      " 0.73469388 0.75510204 0.7755102  0.79591837 0.81632653 0.83673469\n",
      " 0.85714286 0.87755102 0.89795918 0.91836735 0.93877551 0.95918367\n",
      " 0.97959184 1.        ]\n"
     ]
    }
   ],
   "source": [
    "t = np.linspace(0, 1, num=m)\n",
    "print(t)"
   ]
  },
  {
   "cell_type": "code",
   "execution_count": 439,
   "metadata": {},
   "outputs": [],
   "source": [
    "A = np.vander(t,n,increasing=True)"
   ]
  },
  {
   "cell_type": "code",
   "execution_count": 440,
   "metadata": {},
   "outputs": [
    {
     "name": "stdout",
     "output_type": "stream",
     "text": [
      "[ 1.          0.9966699   0.9867018   0.97016207  0.94716088  0.91785141\n",
      "  0.88242889  0.84112921  0.79422746  0.742036    0.68490244  0.6232073\n",
      "  0.55736148  0.48780353  0.41499671  0.33942593  0.26159452  0.18202083\n",
      "  0.10123485  0.01977463 -0.0618173  -0.14299751 -0.22322532 -0.30196642\n",
      " -0.37869636 -0.45290412 -0.52409544 -0.59179619 -0.65555547 -0.71494862\n",
      " -0.76958007 -0.81908598 -0.86313662 -0.9014386  -0.93373683 -0.9598162\n",
      " -0.97950301 -0.99266614 -0.99921793 -0.99911473 -0.99235724 -0.97899047\n",
      " -0.95910343 -0.93282858 -0.90034091 -0.8618568  -0.81763256 -0.76796273\n",
      " -0.71317813 -0.65364362]\n"
     ]
    }
   ],
   "source": [
    "b = np.zeros(m)\n",
    "for i in range(m):\n",
    "    b[i] = cos(4*t[i])\n",
    "print(b)"
   ]
  },
  {
   "cell_type": "markdown",
   "metadata": {},
   "source": [
    "#### 4.6.a) Normal equations"
   ]
  },
  {
   "cell_type": "code",
   "execution_count": 441,
   "metadata": {},
   "outputs": [],
   "source": [
    "ATA = np.dot(A.T,A)\n",
    "ATb = np.dot(A.T,b)"
   ]
  },
  {
   "cell_type": "code",
   "execution_count": 442,
   "metadata": {},
   "outputs": [
    {
     "name": "stdout",
     "output_type": "stream",
     "text": [
      "[ 9.99999973e-01  7.87436649e-06 -8.00029484e+00  4.32313845e-03\n",
      "  1.06337679e+01  1.47582860e-01 -6.10578772e+00  7.66441836e-01\n",
      "  6.97307038e-01  7.40518287e-01 -6.80965844e-01  1.43455873e-01]\n",
      "[ 0.99999997  0.99666995  0.98670182  0.97016206  0.94716085  0.91785139\n",
      "  0.88242888  0.84112922  0.79422748  0.74203603  0.68490246  0.62320731\n",
      "  0.55736148  0.48780351  0.41499669  0.33942591  0.2615945   0.18202082\n",
      "  0.10123485  0.01977464 -0.06181728 -0.14299748 -0.2232253  -0.3019664\n",
      " -0.37869635 -0.45290412 -0.52409545 -0.59179621 -0.65555549 -0.71494864\n",
      " -0.76958009 -0.81908599 -0.86313661 -0.90143859 -0.93373681 -0.95981618\n",
      " -0.97950299 -0.99266613 -0.99921793 -0.99911475 -0.99235727 -0.97899049\n",
      " -0.95910344 -0.93282857 -0.90034089 -0.86185677 -0.81763255 -0.76796275\n",
      " -0.71317817 -0.6536436 ]\n"
     ]
    }
   ],
   "source": [
    "xa = np.linalg.solve(ATA,ATb)\n",
    "print(xa)\n",
    "print(np.dot(A,xa))"
   ]
  },
  {
   "cell_type": "markdown",
   "metadata": {},
   "source": [
    "#### 4.6.b) mgs"
   ]
  },
  {
   "cell_type": "code",
   "execution_count": 443,
   "metadata": {},
   "outputs": [],
   "source": [
    "Q,R = mgs(A)"
   ]
  },
  {
   "cell_type": "code",
   "execution_count": 444,
   "metadata": {},
   "outputs": [],
   "source": [
    "def back_substitution(U, y):\n",
    "    n = U.shape[1]\n",
    "    x = np.zeros(n) \n",
    "    \n",
    "    if U[n-1][n-1] == 0:\n",
    "        raise ValueError\n",
    "    \n",
    "    for j in range(n-1,-1,-1):\n",
    "        x[j] += y[j]\n",
    "        for k in range(j+1,n):\n",
    "            x[j] -= U[j,k] * x[k] \n",
    "        x[j] /= U[j,j]\n",
    "    return x\n",
    "\n",
    "#R = np.array([[1.,2.,4.],\n",
    "#              [0.,1.,1.],\n",
    "#              [0.,0.,2.]])\n",
    "#b = np.array([1,2,4,1])\n",
    "#print(back_substitution(R.copy(),b.copy()))"
   ]
  },
  {
   "cell_type": "code",
   "execution_count": 445,
   "metadata": {},
   "outputs": [
    {
     "name": "stdout",
     "output_type": "stream",
     "text": [
      "[ 1.00000000e+00 -4.58240104e-07 -7.99998009e+00 -3.33437814e-04\n",
      "  1.06695290e+01 -1.42085086e-02 -5.64611093e+00 -7.68632224e-02\n",
      "  1.69520470e+00  5.00761554e-03 -3.73871301e-01  8.79830113e-02]\n",
      "[ 1.          0.9966699   0.9867018   0.97016207  0.94716088  0.91785142\n",
      "  0.88242889  0.84112921  0.79422746  0.742036    0.68490244  0.6232073\n",
      "  0.55736148  0.48780353  0.41499671  0.33942593  0.26159452  0.18202083\n",
      "  0.10123485  0.01977463 -0.0618173  -0.14299751 -0.22322532 -0.30196642\n",
      " -0.37869636 -0.45290412 -0.52409544 -0.59179619 -0.65555547 -0.71494862\n",
      " -0.76958007 -0.81908598 -0.86313662 -0.9014386  -0.93373683 -0.9598162\n",
      " -0.97950301 -0.99266614 -0.99921793 -0.99911473 -0.99235724 -0.97899047\n",
      " -0.95910343 -0.93282858 -0.90034091 -0.8618568  -0.81763256 -0.76796273\n",
      " -0.71317813 -0.65364362]\n"
     ]
    }
   ],
   "source": [
    "QTb = np.dot(Q.T,b)\n",
    "xb = back_substitution(R.copy(), QTb.copy())\n",
    "print(xb)\n",
    "print(np.dot(A,xb))"
   ]
  },
  {
   "cell_type": "markdown",
   "metadata": {},
   "source": [
    "#### 4.6.c) qrhouse_total"
   ]
  },
  {
   "cell_type": "code",
   "execution_count": 446,
   "metadata": {},
   "outputs": [],
   "source": [
    "Q,R = qrhouse_total(A)"
   ]
  },
  {
   "cell_type": "code",
   "execution_count": 447,
   "metadata": {
    "scrolled": true
   },
   "outputs": [
    {
     "name": "stdout",
     "output_type": "stream",
     "text": [
      "[ 1.00000000e+00 -4.22742981e-07 -7.99998124e+00 -3.18763216e-04\n",
      "  1.06694308e+01 -1.38202875e-02 -5.64707563e+00 -7.53160216e-02\n",
      "  1.69360696e+00  6.03211123e-03 -3.74241705e-01  8.80405763e-02]\n",
      "[ 1.          0.9966699   0.9867018   0.97016207  0.94716088  0.91785142\n",
      "  0.88242889  0.84112921  0.79422746  0.742036    0.68490244  0.6232073\n",
      "  0.55736148  0.48780353  0.41499671  0.33942593  0.26159452  0.18202083\n",
      "  0.10123485  0.01977463 -0.0618173  -0.14299751 -0.22322532 -0.30196642\n",
      " -0.37869636 -0.45290412 -0.52409544 -0.59179619 -0.65555547 -0.71494862\n",
      " -0.76958007 -0.81908598 -0.86313662 -0.9014386  -0.93373683 -0.9598162\n",
      " -0.97950301 -0.99266614 -0.99921793 -0.99911473 -0.99235724 -0.97899047\n",
      " -0.95910343 -0.93282858 -0.90034091 -0.8618568  -0.81763256 -0.76796273\n",
      " -0.71317813 -0.65364362]\n"
     ]
    }
   ],
   "source": [
    "QTb = np.dot(Q.T,b)\n",
    "xc = back_substitution(R.copy(), QTb.copy())\n",
    "print(xc)\n",
    "print(np.dot(A,xc))"
   ]
  },
  {
   "cell_type": "markdown",
   "metadata": {},
   "source": [
    "#### 4.6.d) built-in qr"
   ]
  },
  {
   "cell_type": "code",
   "execution_count": 448,
   "metadata": {},
   "outputs": [],
   "source": [
    "Q,R = np.linalg.qr(A)"
   ]
  },
  {
   "cell_type": "code",
   "execution_count": 449,
   "metadata": {},
   "outputs": [
    {
     "name": "stdout",
     "output_type": "stream",
     "text": [
      "[ 1.00000000e+00 -4.22743380e-07 -7.99998124e+00 -3.18763322e-04\n",
      "  1.06694308e+01 -1.38202901e-02 -5.64707562e+00 -7.53160326e-02\n",
      "  1.69360697e+00  6.03210277e-03 -3.74241701e-01  8.80405757e-02]\n",
      "[ 1.          0.9966699   0.9867018   0.97016207  0.94716088  0.91785142\n",
      "  0.88242889  0.84112921  0.79422746  0.742036    0.68490244  0.6232073\n",
      "  0.55736148  0.48780353  0.41499671  0.33942593  0.26159452  0.18202083\n",
      "  0.10123485  0.01977463 -0.0618173  -0.14299751 -0.22322532 -0.30196642\n",
      " -0.37869636 -0.45290412 -0.52409544 -0.59179619 -0.65555547 -0.71494862\n",
      " -0.76958007 -0.81908598 -0.86313662 -0.9014386  -0.93373683 -0.9598162\n",
      " -0.97950301 -0.99266614 -0.99921793 -0.99911473 -0.99235724 -0.97899047\n",
      " -0.95910343 -0.93282858 -0.90034091 -0.8618568  -0.81763256 -0.76796273\n",
      " -0.71317813 -0.65364362]\n"
     ]
    }
   ],
   "source": [
    "QTb = np.dot(Q.T,b)\n",
    "xd = back_substitution(R.copy(), QTb.copy())\n",
    "print(xd)\n",
    "print(np.dot(A,xd))"
   ]
  },
  {
   "cell_type": "markdown",
   "metadata": {},
   "source": [
    "#### 4.6.e) x = A\\b"
   ]
  },
  {
   "cell_type": "markdown",
   "metadata": {},
   "source": [
    "프로그램 실행자의 환경에 의해 혹은 다른 여러 가능성에 의해, 시행이 되지 않을 가능성이 있다. "
   ]
  },
  {
   "cell_type": "code",
   "execution_count": 450,
   "metadata": {},
   "outputs": [],
   "source": [
    "#import matlab.engine\n",
    "#eng = matlab.engine.start_matlab()"
   ]
  },
  {
   "cell_type": "code",
   "execution_count": 451,
   "metadata": {},
   "outputs": [],
   "source": [
    "#from numpy import array, arange\n",
    "#from matlab import double as double_m"
   ]
  },
  {
   "cell_type": "code",
   "execution_count": 452,
   "metadata": {},
   "outputs": [],
   "source": [
    "#eng.desktop(nargout=0)"
   ]
  },
  {
   "cell_type": "code",
   "execution_count": 453,
   "metadata": {},
   "outputs": [],
   "source": [
    "#eng.eval(\"x = A\\b;\",nargout=0)"
   ]
  },
  {
   "cell_type": "code",
   "execution_count": 454,
   "metadata": {},
   "outputs": [],
   "source": [
    "#x = array(eng.workspace['x'])\n",
    "#print(x)"
   ]
  },
  {
   "cell_type": "code",
   "execution_count": 455,
   "metadata": {},
   "outputs": [],
   "source": [
    "#eng.quit()"
   ]
  },
  {
   "cell_type": "markdown",
   "metadata": {},
   "source": [
    "위 코드는 error가 나올 가능성이 크기 때문에, 아래 코드에서는 matlab의 left mtx division과 유사한 python의 함수를 쓰도록 하겠다. "
   ]
  },
  {
   "cell_type": "code",
   "execution_count": 456,
   "metadata": {},
   "outputs": [
    {
     "name": "stdout",
     "output_type": "stream",
     "text": [
      "[ 1.00000000e+00 -4.22743385e-07 -7.99998124e+00 -3.18763318e-04\n",
      "  1.06694308e+01 -1.38202899e-02 -5.64707562e+00 -7.53160319e-02\n",
      "  1.69360697e+00  6.03210333e-03 -3.74241701e-01  8.80405757e-02]\n",
      "[ 1.          0.9966699   0.9867018   0.97016207  0.94716088  0.91785142\n",
      "  0.88242889  0.84112921  0.79422746  0.742036    0.68490244  0.6232073\n",
      "  0.55736148  0.48780353  0.41499671  0.33942593  0.26159452  0.18202083\n",
      "  0.10123485  0.01977463 -0.0618173  -0.14299751 -0.22322532 -0.30196642\n",
      " -0.37869636 -0.45290412 -0.52409544 -0.59179619 -0.65555547 -0.71494862\n",
      " -0.76958007 -0.81908598 -0.86313662 -0.9014386  -0.93373683 -0.9598162\n",
      " -0.97950301 -0.99266614 -0.99921793 -0.99911473 -0.99235724 -0.97899047\n",
      " -0.95910343 -0.93282858 -0.90034091 -0.8618568  -0.81763256 -0.76796273\n",
      " -0.71317813 -0.65364362]\n"
     ]
    }
   ],
   "source": [
    "xe = np.linalg.lstsq(A,b,rcond=None)[0]\n",
    "print(xe)\n",
    "print(np.dot(A,xe))"
   ]
  },
  {
   "cell_type": "markdown",
   "metadata": {},
   "source": [
    "#### 4.6.f) svd"
   ]
  },
  {
   "cell_type": "code",
   "execution_count": 457,
   "metadata": {},
   "outputs": [],
   "source": [
    "U,s,VT = np.linalg.svd(A)\n",
    "S_pseudo = np.zeros([n,m])\n",
    "S_pseudo[np.diag_indices(n)] = np.ones(n) / s\n",
    "#print(s)\n",
    "#print(S_pseudo)"
   ]
  },
  {
   "cell_type": "code",
   "execution_count": 458,
   "metadata": {},
   "outputs": [
    {
     "name": "stdout",
     "output_type": "stream",
     "text": [
      "[ 1.00000000e+00 -4.22743378e-07 -7.99998124e+00 -3.18763307e-04\n",
      "  1.06694308e+01 -1.38202899e-02 -5.64707562e+00 -7.53160322e-02\n",
      "  1.69360697e+00  6.03210216e-03 -3.74241701e-01  8.80405757e-02]\n",
      "[ 1.          0.9966699   0.9867018   0.97016207  0.94716088  0.91785142\n",
      "  0.88242889  0.84112921  0.79422746  0.742036    0.68490244  0.6232073\n",
      "  0.55736148  0.48780353  0.41499671  0.33942593  0.26159452  0.18202083\n",
      "  0.10123485  0.01977463 -0.0618173  -0.14299751 -0.22322532 -0.30196642\n",
      " -0.37869636 -0.45290412 -0.52409544 -0.59179619 -0.65555547 -0.71494862\n",
      " -0.76958007 -0.81908598 -0.86313662 -0.9014386  -0.93373683 -0.9598162\n",
      " -0.97950301 -0.99266614 -0.99921793 -0.99911473 -0.99235724 -0.97899047\n",
      " -0.95910343 -0.93282858 -0.90034091 -0.8618568  -0.81763256 -0.76796273\n",
      " -0.71317813 -0.65364362]\n"
     ]
    }
   ],
   "source": [
    "xf = np.dot(np.dot(np.dot(VT.T,S_pseudo),U.T),b)\n",
    "print(xf)\n",
    "print(np.dot(A,xf))"
   ]
  },
  {
   "cell_type": "markdown",
   "metadata": {},
   "source": [
    "#### 4.6.g)"
   ]
  },
  {
   "cell_type": "code",
   "execution_count": 459,
   "metadata": {},
   "outputs": [
    {
     "name": "stdout",
     "output_type": "stream",
     "text": [
      "xa:\n",
      "[ 9.99999973e-01  7.87436649e-06 -8.00029484e+00  4.32313845e-03\n",
      "  1.06337679e+01  1.47582860e-01 -6.10578772e+00  7.66441836e-01\n",
      "  6.97307038e-01  7.40518287e-01 -6.80965844e-01  1.43455873e-01]\n",
      "xb:\n",
      "[ 1.00000000e+00 -4.58240104e-07 -7.99998009e+00 -3.33437814e-04\n",
      "  1.06695290e+01 -1.42085086e-02 -5.64611093e+00 -7.68632224e-02\n",
      "  1.69520470e+00  5.00761554e-03 -3.73871301e-01  8.79830113e-02]\n",
      "xc:\n",
      "[ 1.00000000e+00 -4.22742981e-07 -7.99998124e+00 -3.18763216e-04\n",
      "  1.06694308e+01 -1.38202875e-02 -5.64707563e+00 -7.53160216e-02\n",
      "  1.69360696e+00  6.03211123e-03 -3.74241705e-01  8.80405763e-02]\n",
      "xd:\n",
      "[ 1.00000000e+00 -4.22743380e-07 -7.99998124e+00 -3.18763322e-04\n",
      "  1.06694308e+01 -1.38202901e-02 -5.64707562e+00 -7.53160326e-02\n",
      "  1.69360697e+00  6.03210277e-03 -3.74241701e-01  8.80405757e-02]\n",
      "xe:\n",
      "[ 1.00000000e+00 -4.22743385e-07 -7.99998124e+00 -3.18763318e-04\n",
      "  1.06694308e+01 -1.38202899e-02 -5.64707562e+00 -7.53160319e-02\n",
      "  1.69360697e+00  6.03210333e-03 -3.74241701e-01  8.80405757e-02]\n",
      "xf:\n",
      "[ 1.00000000e+00 -4.22743378e-07 -7.99998124e+00 -3.18763307e-04\n",
      "  1.06694308e+01 -1.38202899e-02 -5.64707562e+00 -7.53160322e-02\n",
      "  1.69360697e+00  6.03210216e-03 -3.74241701e-01  8.80405757e-02]\n"
     ]
    }
   ],
   "source": [
    "print(\"xa:\")\n",
    "print(xa)\n",
    "print(\"xb:\")\n",
    "print(xb)\n",
    "print(\"xc:\")\n",
    "print(xc)\n",
    "print(\"xd:\")\n",
    "print(xd)\n",
    "print(\"xe:\")\n",
    "print(xe)\n",
    "print(\"xf:\")\n",
    "print(xf)"
   ]
  },
  {
   "cell_type": "code",
   "execution_count": 460,
   "metadata": {},
   "outputs": [
    {
     "name": "stdout",
     "output_type": "stream",
     "text": [
      "1.3204737207184956e-07\n",
      "8.017086645596256e-09\n",
      "7.999154460224113e-09\n",
      "7.999155125063175e-09\n",
      "7.999154699930757e-09\n",
      "8.050272456960426e-09\n"
     ]
    }
   ],
   "source": [
    "print(np.linalg.norm(np.dot(A,xa)-b,2))\n",
    "print(np.linalg.norm(np.dot(A,xb)-b,2))\n",
    "print(np.linalg.norm(np.dot(A,xc)-b,2))\n",
    "print(np.linalg.norm(np.dot(A,xd)-b,2))\n",
    "print(np.linalg.norm(np.dot(A,xe)-b,2))\n",
    "print(np.linalg.norm(np.dot(A,xf)-b,2))"
   ]
  },
  {
   "cell_type": "markdown",
   "metadata": {},
   "source": [
    "(c)qrhouse를 이용해서 구한 soln이 가장 square error를 최소화하는 soln이었다. 다른 것에 대해서도 순서를 매겨보자면 (e)left matrix divisor - (d)built in qr - (b)mgs - (f)svd 이었고, 큰 차이로 마지막은 (a)normal equation이 차지하였다. "
   ]
  }
 ],
 "metadata": {
  "kernelspec": {
   "display_name": "Python 3",
   "language": "python",
   "name": "python3"
  },
  "language_info": {
   "codemirror_mode": {
    "name": "ipython",
    "version": 3
   },
   "file_extension": ".py",
   "mimetype": "text/x-python",
   "name": "python",
   "nbconvert_exporter": "python",
   "pygments_lexer": "ipython3",
   "version": "3.7.4"
  }
 },
 "nbformat": 4,
 "nbformat_minor": 2
}
