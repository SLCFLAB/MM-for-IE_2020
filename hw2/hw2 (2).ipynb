{
 "cells": [
  {
   "cell_type": "code",
   "execution_count": 20,
   "metadata": {},
   "outputs": [
    {
     "name": "stdout",
     "output_type": "stream",
     "text": [
      "-24.082399653118497\n",
      "-24.082399653775312\n"
     ]
    }
   ],
   "source": [
    "3.2 (a)\n",
    "import numpy as np\n",
    "import scipy as sp\n",
    "import matplotlib.pyplot as plt\n",
    "import math as math\n",
    "\n",
    "\n",
    "U, X = np.linalg.qr(np.random.randn(80,80))\n",
    "V, X = np.linalg.qr(np.random.randn(80,80))\n",
    "\n",
    "result = []\n",
    "for i in range(1,81):\n",
    "    result.append(2**(-i))\n",
    "\n",
    "S = np.diag(result)\n",
    "A = np.dot(U, S, V)\n",
    "\n",
    "def clgs(A):\n",
    "    m = A.shape[0]\n",
    "    n = A.shape[1]\n",
    "    Q = np.eye(m,n)\n",
    "    V = A.copy()\n",
    "    R = np.zeros((n,n))\n",
    "    for j in range(1,n+1):\n",
    "        for i in range(1,j):\n",
    "            R[i-1,j-1] = np.dot(np.transpose(Q[:,i-1]),A[:,j-1])\n",
    "            V[:,j-1] = V[:,j-1]-np.dot(R[i-1,j-1],Q[:,i-1])\n",
    "\n",
    "        R[j-1,j-1] = np.linalg.norm(V[:,j-1])\n",
    "        Q[:,j-1] = V[:,j-1]/R[j-1,j-1]\n",
    "    return Q, R\n",
    "\n",
    "def mgs(A):\n",
    "    m = A.shape[0]\n",
    "    n = A.shape[1]\n",
    "    Q = A.copy()\n",
    "    R = np.zeros((n,n))\n",
    "    for i in range(1,n):\n",
    "        R[i-1,i-1] = np.linalg.norm(Q[:,i-1])\n",
    "        Q[:,i-1] = Q[:,i-1]/R[i-1,i-1]\n",
    "        R[i-1,i:] = np.dot(np.transpose(Q[:,i-1]),Q[:,i:])\n",
    "        Q[:,i:] = Q[:,i:]-np.dot(Q[i:,i-1],R[i-1,i:])\n",
    "\n",
    "    R[n-1,n-1] = np.linalg.norm(Q[:,n-1])\n",
    "    Q[:,n-1] = Q[:,n-1]/R[n-1,n-1]\n",
    "    return Q,R\n",
    "\n",
    "Qc, Rc = clgs(A)\n",
    "Qm, Rm = mgs(A)\n",
    "\n"
   ]
  },
  {
   "cell_type": "code",
   "execution_count": 16,
   "metadata": {},
   "outputs": [
    {
     "name": "stdout",
     "output_type": "stream",
     "text": [
      "2.3551386880256624e-16\n",
      "1.414213562337019\n"
     ]
    }
   ],
   "source": [
    "3.2(b)\n",
    "A=np.array([[.70000, .70711], [.70001, .70711]])\n",
    "Qm, Rm = mgs(A)\n",
    "\n",
    "def qrhouseholder(A):\n",
    "    m, n = A.shape\n",
    "    Q = np.eye(m)\n",
    "    R = A.copy() \n",
    "\n",
    "    for j in range(n):\n",
    "\n",
    "        x = R[j:, j]\n",
    "        normx = np.linalg.norm(x)\n",
    "        rho = -np.sign(x[0])\n",
    "        u1 = x[0] - rho * normx\n",
    "        u = x / u1\n",
    "        u[0] = 1\n",
    "        beta = -rho * u1 / normx\n",
    "\n",
    "        R[j:, :] = R[j:, :] - beta * np.outer(u, u).dot(R[j:, :])\n",
    "        Q[:, j:] = Q[:, j:] - beta * Q[:, j:].dot(np.outer(u, u))\n",
    "        \n",
    "    return Q, R\n",
    "\n",
    "Q, R = qrhouseholder(A)\n",
    "\n",
    "a=np.linalg.norm((np.dot(np.transpose(Q),Q))-np.eye(2))\n",
    "b=np.linalg.norm((np.dot(np.transpose(Qm),Qm))-np.eye(2))\n",
    "\n",
    "print(a)\n",
    "print(b)//householder is more stable"
   ]
  },
  {
   "cell_type": "code",
   "execution_count": 24,
   "metadata": {},
   "outputs": [
    {
     "name": "stdout",
     "output_type": "stream",
     "text": [
      "[[-0.11698151  0.1156284   0.08886704 ... -0.00665939 -0.13394269\n",
      "  -0.08491115]\n",
      " [ 0.06325439 -0.08519754 -0.12115256 ...  0.18890599 -0.12262938\n",
      "   0.10830266]\n",
      " [-0.12135456 -0.05574644 -0.25693199 ... -0.02644169  0.11305239\n",
      "   0.08356987]\n",
      " ...\n",
      " [-0.00089703 -0.11575184 -0.05655247 ...  0.15968908  0.02730006\n",
      "  -0.05761688]\n",
      " [-0.08258977  0.12925612 -0.1851872  ... -0.04561434 -0.18066349\n",
      "  -0.02204637]\n",
      " [ 0.09003068  0.07230008 -0.07547884 ... -0.0501314   0.04664116\n",
      "   0.17393087]]\n",
      "[[-0.11698151 -0.1156284  -0.08886704 ...  0.00665939  0.13394269\n",
      "  -0.08491115]\n",
      " [ 0.06325439  0.08519754  0.12115256 ... -0.18890599  0.12262938\n",
      "   0.10830266]\n",
      " [-0.12135456  0.05574644  0.25693199 ...  0.02644169 -0.11305239\n",
      "   0.08356987]\n",
      " ...\n",
      " [-0.00089703  0.11575184  0.05655247 ... -0.15968908 -0.02730006\n",
      "  -0.05761688]\n",
      " [-0.08258977 -0.12925612  0.1851872  ...  0.04561434  0.18066349\n",
      "  -0.02204637]\n",
      " [ 0.09003068 -0.07230008  0.07547884 ...  0.0501314  -0.04664116\n",
      "   0.17393087]]\n"
     ]
    }
   ],
   "source": [
    "3.3\n",
    "\n",
    "def givensrotation(a,b):\n",
    "    if b == 0:\n",
    "        c = 1\n",
    "        s = 0\n",
    "    else:\n",
    "        if abs(b) > abs(a):\n",
    "            r = a / b\n",
    "            s = 1 / math.sqrt(1 + r**2)\n",
    "            c = s*r\n",
    "        else:\n",
    "            r = b / a;\n",
    "            c = 1 / math.sqrt(1 + r**2);\n",
    "            s = c*r\n",
    "    return c,s\n",
    "\n",
    "\n",
    "def qrgivens(A):\n",
    "    m,n = A.shape\n",
    "    Q = np.eye(m)\n",
    "    R = np.copy(A)\n",
    "    for j in range(1,n+1):\n",
    "        for i in range(m,j,-1):\n",
    "            G = np.eye(m);\n",
    "            c,s = givensrotation( R[i-2,j-1],R[i-1,j-1] );\n",
    "            G[i-2,i-2] = c\n",
    "            G[i-2,i-1] = -s\n",
    "            G[i-1,i-2] = s\n",
    "            G[i-1,i-1] = c\n",
    "            R = np.dot(np.transpose(G),R);\n",
    "            Q = np.dot(Q,G);\n",
    "    return Q,R\n",
    "\n",
    "\n",
    "Q1, R1 = np.linalg.qr(A)\n",
    "Q2 , R2 = qrgivens(A)\n",
    "\n",
    "print(Q1)\n",
    "print(Q2)//the results are same\n"
   ]
  },
  {
   "cell_type": "code",
   "execution_count": null,
   "metadata": {},
   "outputs": [],
   "source": []
  }
 ],
 "metadata": {
  "kernelspec": {
   "display_name": "Python 3",
   "language": "python",
   "name": "python3"
  },
  "language_info": {
   "codemirror_mode": {
    "name": "ipython",
    "version": 3
   },
   "file_extension": ".py",
   "mimetype": "text/x-python",
   "name": "python",
   "nbconvert_exporter": "python",
   "pygments_lexer": "ipython3",
   "version": "3.8.3"
  }
 },
 "nbformat": 4,
 "nbformat_minor": 4
}
