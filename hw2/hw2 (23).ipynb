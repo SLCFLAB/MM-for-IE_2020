{
  "cells": [
    {
      "cell_type": "code",
      "source": [
        "import numpy as np\n",
        "import matplotlib.pyplot as plt"
      ],
      "outputs": [],
      "execution_count": 1,
      "metadata": {
        "collapsed": true,
        "jupyter": {
          "source_hidden": false,
          "outputs_hidden": false
        },
        "nteract": {
          "transient": {
            "deleting": false
          }
        },
        "execution": {
          "iopub.status.busy": "2020-10-21T17:46:38.831Z",
          "iopub.execute_input": "2020-10-21T17:46:38.844Z",
          "iopub.status.idle": "2020-10-21T17:46:39.144Z",
          "shell.execute_reply": "2020-10-21T17:46:39.170Z"
        }
      }
    },
    {
      "cell_type": "markdown",
      "source": [
        "## Q1. 3.2."
      ],
      "metadata": {
        "nteract": {
          "transient": {
            "deleting": false
          }
        }
      }
    },
    {
      "cell_type": "code",
      "source": [
        "def clgs(A):\n",
        "  m, n = np.shape(A)\n",
        "  V = A.copy()\n",
        "  Q = np.eye(m, n)\n",
        "  R = np.zeros((n, n))\n",
        "  \n",
        "  for j in range(n):\n",
        "    for i in range(j):\n",
        "      R[i, j] = Q[:, i].conj().T @ A[:,j]\n",
        "      V[:, j] = V[:, j] - R[i, j] * Q[:, i]\n",
        "    R[j, j] = np.linalg.norm(V[:, j])\n",
        "    Q[:, j] = V[:, j] / R[j, j]\n",
        "    \n",
        "  return Q, R"
      ],
      "outputs": [],
      "execution_count": 123,
      "metadata": {
        "collapsed": true,
        "jupyter": {
          "source_hidden": false,
          "outputs_hidden": false
        },
        "nteract": {
          "transient": {
            "deleting": false
          }
        },
        "execution": {
          "iopub.status.busy": "2020-10-21T19:18:16.939Z",
          "iopub.execute_input": "2020-10-21T19:18:16.961Z",
          "iopub.status.idle": "2020-10-21T19:18:16.998Z",
          "shell.execute_reply": "2020-10-21T19:18:17.020Z"
        }
      }
    },
    {
      "cell_type": "code",
      "source": [
        "def mgs(A):\n",
        "  m, n = np.shape(A)\n",
        "  Q = A.copy()\n",
        "  R = np.zeros((n, n))\n",
        "  for i in range(n-1):\n",
        "    R[i, i] = np.linalg.norm(Q[:, i])\n",
        "    Q[:, i] = Q[:, i] / R[i, i]\n",
        "    R[i, i+1:] = Q[:, i].conj().T @ Q[:,i+1:]\n",
        "    Q[:, i+1:] = Q[:, i+1:] - np.outer(Q[:, i],  R[i, i+1:])\n",
        "  R[n-1, n-1] = np.linalg.norm(Q[:, n-1])\n",
        "  Q[:, n-1] = Q[:, n-1] / R[n-1, n-1]\n",
        "  \n",
        "  return Q, R"
      ],
      "outputs": [],
      "execution_count": 3,
      "metadata": {
        "collapsed": true,
        "jupyter": {
          "source_hidden": false,
          "outputs_hidden": false
        },
        "nteract": {
          "transient": {
            "deleting": false
          }
        },
        "execution": {
          "iopub.status.busy": "2020-10-21T17:46:39.267Z",
          "iopub.execute_input": "2020-10-21T17:46:39.282Z",
          "iopub.status.idle": "2020-10-21T17:46:39.303Z",
          "shell.execute_reply": "2020-10-21T17:46:39.358Z"
        }
      }
    },
    {
      "cell_type": "code",
      "source": [
        "U, X = np.linalg.qr(np.random.randn(80, 80))\n",
        "V, X = np.linalg.qr(np.random.randn(80, 80))\n",
        "\n",
        "S = np.diag(np.array([2**(-i) for i in range(1, 81)])).astype(np.float)\n",
        "\n",
        "A = U @ S @ V\n",
        "A = A.astype(np.float)\n",
        "\n",
        "Qc, Rc = clgs(A)\n",
        "Qm, Rm = mgs(A)\n",
        "\n",
        "j = np.arange(1, 81)\n",
        "s_jj = S.diagonal()\n",
        "rc_jj = Rc.diagonal()\n",
        "rm_jj = Rm.diagonal()\n",
        "\n",
        "plt.semilogy(j, s_jj, 'r--', label='S')\n",
        "plt.semilogy(j, rc_jj, 'go', label='clgs')\n",
        "plt.semilogy(j, rm_jj, 'bx', label='mgs')\n",
        "\n",
        "plt.legend()\n",
        "plt.show()"
      ],
      "outputs": [
        {
          "output_type": "display_data",
          "data": {
            "text/plain": "<Figure size 432x288 with 1 Axes>",
            "image/png": "[encoded data removed]"
          },
          "metadata": {
            "needs_background": "light"
          }
        }
      ],
      "execution_count": 4,
      "metadata": {
        "collapsed": true,
        "jupyter": {
          "source_hidden": false,
          "outputs_hidden": false
        },
        "nteract": {
          "transient": {
            "deleting": false
          }
        },
        "execution": {
          "iopub.status.busy": "2020-10-21T17:46:39.323Z",
          "iopub.execute_input": "2020-10-21T17:46:39.335Z",
          "iopub.status.idle": "2020-10-21T17:46:40.151Z",
          "shell.execute_reply": "2020-10-21T17:46:40.222Z"
        }
      }
    },
    {
      "cell_type": "code",
      "source": [
        "plt.plot(j, rc_jj-rm_jj)\n",
        "plt.show()"
      ],
      "outputs": [
        {
          "output_type": "display_data",
          "data": {
            "text/plain": "<Figure size 432x288 with 1 Axes>",
            "image/png": "[encoded data removed]"
          },
          "metadata": {
            "needs_background": "light"
          }
        }
      ],
      "execution_count": 5,
      "metadata": {
        "collapsed": true,
        "jupyter": {
          "source_hidden": false,
          "outputs_hidden": false
        },
        "nteract": {
          "transient": {
            "deleting": false
          }
        },
        "execution": {
          "iopub.status.busy": "2020-10-21T17:46:40.172Z",
          "iopub.execute_input": "2020-10-21T17:46:40.184Z",
          "iopub.status.idle": "2020-10-21T17:46:40.404Z",
          "shell.execute_reply": "2020-10-21T17:46:40.847Z"
        }
      }
    },
    {
      "cell_type": "markdown",
      "source": [
        "작은 오차가 누적되어 큰 차이가 형성된 것을 관찰할 수 있었다."
      ],
      "metadata": {
        "nteract": {
          "transient": {
            "deleting": false
          }
        }
      }
    },
    {
      "cell_type": "code",
      "source": [
        "def qrhouse(A):\n",
        "  m, n = np.shape(A)\n",
        "  R = A.copy()\n",
        "  V = np.zeros((m, n))\n",
        "  \n",
        "  for k in range(min(m-1, n)):\n",
        "    x = R[k:, k]\n",
        "    v = x + np.sign(x[0]) * np.linalg.norm(x) * np.eye(len(x), 1).reshape(-1)\n",
        "    \n",
        "    V[k:, k] = v\n",
        "    R[k:, k:] = R[k:, k:] - np.outer((2*v), (v.conj().T @ R[k:, k:]) / (v.conj().T @ v))\n",
        "    \n",
        "  R = np.triu(R[:n,:])\n",
        "  \n",
        "  return V, R"
      ],
      "outputs": [],
      "execution_count": 124,
      "metadata": {
        "collapsed": true,
        "jupyter": {
          "source_hidden": false,
          "outputs_hidden": false
        },
        "nteract": {
          "transient": {
            "deleting": false
          }
        },
        "execution": {
          "iopub.status.busy": "2020-10-21T19:18:48.139Z",
          "iopub.execute_input": "2020-10-21T19:18:48.160Z",
          "iopub.status.idle": "2020-10-21T19:18:48.192Z",
          "shell.execute_reply": "2020-10-21T19:18:48.211Z"
        }
      }
    },
    {
      "cell_type": "code",
      "source": [
        "def formQ(V):\n",
        "  m, n = np.shape(V)\n",
        "  Q = np.eye(m)\n",
        "  for j in range(min(m-1, n)-1, -1, -1):\n",
        "    v = V[:, j]\n",
        "    Q = Q - np.outer((2*v), (v.conj().T @ Q) / (v.conj().T @ v))\n",
        "    \n",
        "  return Q"
      ],
      "outputs": [],
      "execution_count": 69,
      "metadata": {
        "collapsed": true,
        "jupyter": {
          "source_hidden": false,
          "outputs_hidden": false
        },
        "nteract": {
          "transient": {
            "deleting": false
          }
        },
        "execution": {
          "iopub.status.busy": "2020-10-21T18:54:32.095Z",
          "iopub.execute_input": "2020-10-21T18:54:32.126Z",
          "iopub.status.idle": "2020-10-21T18:54:32.160Z",
          "shell.execute_reply": "2020-10-21T18:54:32.179Z"
        }
      }
    },
    {
      "cell_type": "code",
      "source": [
        "A = np.array([\n",
        "  [.70000, .70711],\n",
        "  [.70001, .70711],\n",
        "]).astype(np.float64)\n",
        "\n",
        "Qm, Rm = mgs(A)\n",
        "V, R = qrhouse(A)\n",
        "Q = formQ(V)\n",
        "\n",
        "print(np.linalg.norm(Q.conj().T @ Q - np.eye(2)))\n",
        "print(np.linalg.norm(Qm.conj().T @ Qm - np.eye(2)))"
      ],
      "outputs": [
        {
          "output_type": "stream",
          "name": "stdout",
          "text": [
            "(2,)\n",
            "5.787252299533512e-16\n",
            "3.254726094493924e-11\n"
          ]
        }
      ],
      "execution_count": 107,
      "metadata": {
        "collapsed": true,
        "jupyter": {
          "source_hidden": false,
          "outputs_hidden": false
        },
        "nteract": {
          "transient": {
            "deleting": false
          }
        },
        "execution": {
          "iopub.status.busy": "2020-10-21T19:09:29.588Z",
          "iopub.execute_input": "2020-10-21T19:09:29.610Z",
          "iopub.status.idle": "2020-10-21T19:09:29.652Z",
          "shell.execute_reply": "2020-10-21T19:09:29.669Z"
        }
      }
    },
    {
      "cell_type": "markdown",
      "source": [
        "householder의 오차가 더 작다."
      ],
      "metadata": {
        "nteract": {
          "transient": {
            "deleting": false
          }
        }
      }
    },
    {
      "cell_type": "markdown",
      "source": [
        "## Q2. 3.3."
      ],
      "metadata": {
        "nteract": {
          "transient": {
            "deleting": false
          }
        }
      }
    },
    {
      "cell_type": "code",
      "source": [
        "def givens(A):\n",
        "  m, n = np.shape(A)\n",
        "  Q = np.eye(m)\n",
        "  R = A.copy()\n",
        "  \n",
        "  for k in range(n):\n",
        "    for i in range(m-1, k, -1):\n",
        "      if abs(R[i-1, k]) <= 1e-8:\n",
        "        continue\n",
        "      G = np.eye(m)\n",
        "      r = (R[i, k]**2 + R[i-1, k]**2)**0.5\n",
        "      c = R[i-1, k]/r\n",
        "      s = -R[i,k]/r\n",
        "      G[i-1, i] = -s\n",
        "      G[i, i-1] = s\n",
        "      G[i, i]= c\n",
        "      G[i-1, i-1] = c\n",
        "      \n",
        "      R = G @ R\n",
        "      Q = Q @ G.T\n",
        "  \n",
        "  for i in range(0, m, 2):\n",
        "    Q[:, i] *= -1\n",
        "  for i in range(0, n, 2):\n",
        "    R[i, :] *= -1\n",
        "  \n",
        "  return Q, R\n",
        "  "
      ],
      "outputs": [],
      "execution_count": 9,
      "metadata": {
        "collapsed": true,
        "jupyter": {
          "source_hidden": false,
          "outputs_hidden": false
        },
        "nteract": {
          "transient": {
            "deleting": false
          }
        },
        "execution": {
          "iopub.status.busy": "2020-10-21T17:46:40.633Z",
          "iopub.execute_input": "2020-10-21T17:46:40.646Z",
          "iopub.status.idle": "2020-10-21T17:46:40.665Z",
          "shell.execute_reply": "2020-10-21T17:46:40.875Z"
        }
      }
    },
    {
      "cell_type": "code",
      "source": [
        "A = np.array([\n",
        "  [6,5,0],\n",
        "  [5,1,4],\n",
        "  [0,4,3]\n",
        "])\n",
        "\n",
        "Qg, Rg = givens(A)\n",
        "Q, R = np.linalg.qr(A)\n",
        "\n",
        "\n",
        "print(\"Qg=\\n\",Qg)\n",
        "print(\"Q=\\n\",Q)\n",
        "print(\"Rg=\\n\",Rg)\n",
        "print(\"R=\\n\",R)"
      ],
      "outputs": [
        {
          "output_type": "stream",
          "name": "stdout",
          "text": [
            "Qg=\n",
            " [[-0.76822128  0.33265418 -0.54697099]\n",
            " [-0.6401844  -0.39918502  0.65636519]\n",
            " [-0.          0.854396    0.51962244]]\n",
            "Q=\n",
            " [[-0.76822128  0.33265418 -0.54697099]\n",
            " [-0.6401844  -0.39918502  0.65636519]\n",
            " [-0.          0.854396    0.51962244]]\n",
            "Rg=\n",
            " [[-7.81024968e+00 -4.48129080e+00 -2.56073760e+00]\n",
            " [ 2.88448398e-16  4.68166987e+00  9.66447932e-01]\n",
            " [-4.74285054e-16 -0.00000000e+00  4.18432806e+00]]\n",
            "R=\n",
            " [[-7.81024968 -4.4812908  -2.5607376 ]\n",
            " [ 0.          4.68166987  0.96644793]\n",
            " [ 0.          0.          4.18432806]]\n"
          ]
        }
      ],
      "execution_count": 10,
      "metadata": {
        "collapsed": true,
        "jupyter": {
          "source_hidden": false,
          "outputs_hidden": false
        },
        "nteract": {
          "transient": {
            "deleting": false
          }
        },
        "execution": {
          "iopub.status.busy": "2020-10-21T17:46:40.686Z",
          "iopub.execute_input": "2020-10-21T17:46:40.697Z",
          "iopub.status.idle": "2020-10-21T17:46:40.724Z",
          "shell.execute_reply": "2020-10-21T17:46:40.882Z"
        }
      }
    },
    {
      "cell_type": "markdown",
      "source": [
        "## Q3. 4.3."
      ],
      "metadata": {
        "nteract": {
          "transient": {
            "deleting": false
          }
        }
      }
    },
    {
      "cell_type": "code",
      "source": [
        "def get_matrix(m):\n",
        "  return np.random.randn(m, m) / (m**0.5)\n",
        "\n",
        "def draw_graph(m, func=get_matrix):\n",
        "  eigenvalues = np.ndarray(m*100, dtype=complex)\n",
        "  \n",
        "  for i in range(100):\n",
        "    A = func(m)\n",
        "    for j in range(m):\n",
        "      eigenvalues[m*i+j] = np.linalg.eig(A)[0][j]\n",
        "      \n",
        "  plt.scatter(eigenvalues.real, eigenvalues.imag)\n",
        "  plt.show()"
      ],
      "outputs": [],
      "execution_count": 31,
      "metadata": {
        "collapsed": true,
        "jupyter": {
          "source_hidden": false,
          "outputs_hidden": false
        },
        "nteract": {
          "transient": {
            "deleting": false
          }
        },
        "execution": {
          "iopub.status.busy": "2020-10-21T18:08:28.489Z",
          "iopub.execute_input": "2020-10-21T18:08:28.509Z",
          "iopub.status.idle": "2020-10-21T18:08:28.545Z",
          "shell.execute_reply": "2020-10-21T18:08:28.567Z"
        }
      }
    },
    {
      "cell_type": "code",
      "source": [
        "draw_graph(8)"
      ],
      "outputs": [
        {
          "output_type": "display_data",
          "data": {
            "text/plain": "<Figure size 432x288 with 1 Axes>",
            "image/png": "[encoded data removed]"
          },
          "metadata": {
            "needs_background": "light"
          }
        }
      ],
      "execution_count": 32,
      "metadata": {
        "collapsed": true,
        "jupyter": {
          "source_hidden": false,
          "outputs_hidden": false
        },
        "nteract": {
          "transient": {
            "deleting": false
          }
        },
        "execution": {
          "iopub.status.busy": "2020-10-21T18:08:30.617Z",
          "iopub.execute_input": "2020-10-21T18:08:30.648Z",
          "iopub.status.idle": "2020-10-21T18:08:30.979Z",
          "shell.execute_reply": "2020-10-21T18:08:31.007Z"
        }
      }
    },
    {
      "cell_type": "code",
      "source": [
        "draw_graph(32)"
      ],
      "outputs": [
        {
          "output_type": "display_data",
          "data": {
            "text/plain": "<Figure size 432x288 with 1 Axes>",
            "image/png": "[encoded data removed]"
          },
          "metadata": {
            "needs_background": "light"
          }
        }
      ],
      "execution_count": 33,
      "metadata": {
        "collapsed": true,
        "jupyter": {
          "source_hidden": false,
          "outputs_hidden": false
        },
        "nteract": {
          "transient": {
            "deleting": false
          }
        },
        "execution": {
          "iopub.status.busy": "2020-10-21T18:08:33.567Z",
          "iopub.execute_input": "2020-10-21T18:08:33.583Z",
          "iopub.status.idle": "2020-10-21T18:08:36.093Z",
          "shell.execute_reply": "2020-10-21T18:08:36.124Z"
        }
      }
    },
    {
      "cell_type": "code",
      "source": [
        "draw_graph(64)"
      ],
      "outputs": [
        {
          "output_type": "display_data",
          "data": {
            "text/plain": "<Figure size 432x288 with 1 Axes>",
            "image/png": "[encoded data removed]"
          },
          "metadata": {
            "needs_background": "light"
          }
        }
      ],
      "execution_count": 17,
      "metadata": {
        "collapsed": true,
        "jupyter": {
          "source_hidden": false,
          "outputs_hidden": false
        },
        "nteract": {
          "transient": {
            "deleting": false
          }
        },
        "execution": {
          "iopub.status.busy": "2020-10-21T17:50:29.131Z",
          "iopub.execute_input": "2020-10-21T17:50:29.146Z",
          "iopub.status.idle": "2020-10-21T17:50:51.889Z",
          "shell.execute_reply": "2020-10-21T17:50:51.917Z"
        }
      }
    },
    {
      "cell_type": "markdown",
      "source": [
        "m이 커짐에 따라, p(A)가 타원의 장축의 길이에 점점 가까워지므로, m이 무한대로 할 때 등호가 성립할 것이다."
      ],
      "metadata": {
        "nteract": {
          "transient": {
            "deleting": false
          }
        }
      }
    },
    {
      "cell_type": "code",
      "source": [
        "def draw_graph2(m, func=get_matrix):\n",
        "  count = np.zeros(10)\n",
        "  singular = np.array([2**-i for i in range(1, 11)])\n",
        "  for i in range(100):\n",
        "    A = func(m)\n",
        "    U, S, V = np.linalg.svd(A)\n",
        "    for j in range(10):\n",
        "      if S[-1] <= singular[j]:\n",
        "        count[j]+=1\n",
        "      else:\n",
        "        break\n",
        "  plt.plot(singular, count/100, 'o')\n",
        "  plt.show()"
      ],
      "outputs": [],
      "execution_count": 34,
      "metadata": {
        "collapsed": true,
        "jupyter": {
          "source_hidden": false,
          "outputs_hidden": false
        },
        "nteract": {
          "transient": {
            "deleting": false
          }
        },
        "execution": {
          "iopub.status.busy": "2020-10-21T18:09:06.991Z",
          "iopub.execute_input": "2020-10-21T18:09:07.009Z",
          "iopub.status.idle": "2020-10-21T18:09:07.036Z",
          "shell.execute_reply": "2020-10-21T18:09:07.053Z"
        }
      }
    },
    {
      "cell_type": "code",
      "source": [
        "draw_graph2(4)"
      ],
      "outputs": [
        {
          "output_type": "display_data",
          "data": {
            "text/plain": "<Figure size 432x288 with 1 Axes>",
            "image/png": "[encoded data removed]"
          },
          "metadata": {
            "needs_background": "light"
          }
        }
      ],
      "execution_count": 25,
      "metadata": {
        "collapsed": true,
        "jupyter": {
          "source_hidden": false,
          "outputs_hidden": false
        },
        "nteract": {
          "transient": {
            "deleting": false
          }
        },
        "execution": {
          "iopub.status.busy": "2020-10-21T18:05:37.723Z",
          "iopub.execute_input": "2020-10-21T18:05:37.738Z",
          "iopub.status.idle": "2020-10-21T18:05:37.926Z",
          "shell.execute_reply": "2020-10-21T18:05:37.950Z"
        }
      }
    },
    {
      "cell_type": "code",
      "source": [
        "draw_graph2(16)"
      ],
      "outputs": [
        {
          "output_type": "display_data",
          "data": {
            "text/plain": "<Figure size 432x288 with 1 Axes>",
            "image/png": "[encoded data removed]"
          },
          "metadata": {
            "needs_background": "light"
          }
        }
      ],
      "execution_count": 26,
      "metadata": {
        "collapsed": true,
        "jupyter": {
          "source_hidden": false,
          "outputs_hidden": false
        },
        "nteract": {
          "transient": {
            "deleting": false
          }
        },
        "execution": {
          "iopub.status.busy": "2020-10-21T18:06:03.745Z",
          "iopub.execute_input": "2020-10-21T18:06:03.773Z",
          "iopub.status.idle": "2020-10-21T18:06:03.874Z",
          "shell.execute_reply": "2020-10-21T18:06:03.900Z"
        }
      }
    },
    {
      "cell_type": "code",
      "source": [
        "draw_graph2(32)"
      ],
      "outputs": [
        {
          "output_type": "display_data",
          "data": {
            "text/plain": "<Figure size 432x288 with 1 Axes>",
            "image/png": "[encoded data removed]"
          },
          "metadata": {
            "needs_background": "light"
          }
        }
      ],
      "execution_count": 27,
      "metadata": {
        "collapsed": true,
        "jupyter": {
          "source_hidden": false,
          "outputs_hidden": false
        },
        "nteract": {
          "transient": {
            "deleting": false
          }
        },
        "execution": {
          "iopub.status.busy": "2020-10-21T18:06:22.393Z",
          "iopub.execute_input": "2020-10-21T18:06:22.416Z",
          "iopub.status.idle": "2020-10-21T18:06:22.525Z",
          "shell.execute_reply": "2020-10-21T18:06:22.550Z"
        }
      }
    },
    {
      "cell_type": "code",
      "source": [
        "def get_matrix2(m):\n",
        "  return np.triu(np.random.randn(m, m) / (m**0.5))"
      ],
      "outputs": [],
      "execution_count": 35,
      "metadata": {
        "collapsed": true,
        "jupyter": {
          "source_hidden": false,
          "outputs_hidden": false
        },
        "nteract": {
          "transient": {
            "deleting": false
          }
        },
        "execution": {
          "iopub.status.busy": "2020-10-21T18:10:56.098Z",
          "iopub.execute_input": "2020-10-21T18:10:56.130Z",
          "iopub.status.idle": "2020-10-21T18:10:56.160Z",
          "shell.execute_reply": "2020-10-21T18:10:56.176Z"
        }
      }
    },
    {
      "cell_type": "code",
      "source": [
        "draw_graph(16, get_matrix2)"
      ],
      "outputs": [
        {
          "output_type": "display_data",
          "data": {
            "text/plain": "<Figure size 432x288 with 1 Axes>",
            "image/png": "[encoded data removed]"
          },
          "metadata": {
            "needs_background": "light"
          }
        }
      ],
      "execution_count": 36,
      "metadata": {
        "collapsed": true,
        "jupyter": {
          "source_hidden": false,
          "outputs_hidden": false
        },
        "nteract": {
          "transient": {
            "deleting": false
          }
        },
        "execution": {
          "iopub.status.busy": "2020-10-21T18:11:19.250Z",
          "iopub.execute_input": "2020-10-21T18:11:19.269Z",
          "iopub.status.idle": "2020-10-21T18:11:19.736Z",
          "shell.execute_reply": "2020-10-21T18:11:19.763Z"
        }
      }
    },
    {
      "cell_type": "code",
      "source": [
        "draw_graph2(16, get_matrix2)"
      ],
      "outputs": [
        {
          "output_type": "display_data",
          "data": {
            "text/plain": "<Figure size 432x288 with 1 Axes>",
            "image/png": "[encoded data removed]"
          },
          "metadata": {
            "needs_background": "light"
          }
        }
      ],
      "execution_count": 37,
      "metadata": {
        "collapsed": true,
        "jupyter": {
          "source_hidden": false,
          "outputs_hidden": false
        },
        "nteract": {
          "transient": {
            "deleting": false
          }
        },
        "execution": {
          "iopub.status.busy": "2020-10-21T18:11:47.545Z",
          "iopub.execute_input": "2020-10-21T18:11:47.562Z",
          "iopub.status.idle": "2020-10-21T18:11:47.802Z",
          "shell.execute_reply": "2020-10-21T18:11:47.819Z"
        }
      }
    },
    {
      "cell_type": "markdown",
      "source": [
        "## Q4. 4.6."
      ],
      "metadata": {
        "nteract": {
          "transient": {
            "deleting": false
          }
        }
      }
    },
    {
      "cell_type": "code",
      "source": [
        "m = 50\n",
        "n = 12\n",
        "\n",
        "t = np.linspace(0, 1, m)\n",
        "A = np.fliplr(np.vander(t, n))\n",
        "b = np.cos(4 * t).reshape(-1, 1)"
      ],
      "outputs": [],
      "execution_count": 128,
      "metadata": {
        "collapsed": true,
        "jupyter": {
          "source_hidden": false,
          "outputs_hidden": false
        },
        "nteract": {
          "transient": {
            "deleting": false
          }
        },
        "execution": {
          "iopub.status.busy": "2020-10-21T19:20:39.685Z",
          "iopub.execute_input": "2020-10-21T19:20:39.710Z",
          "iopub.status.idle": "2020-10-21T19:20:39.749Z",
          "shell.execute_reply": "2020-10-21T19:20:39.773Z"
        }
      }
    },
    {
      "cell_type": "code",
      "source": [
        "#1\n",
        "x1 = np.linalg.inv(A.T @ A) @ A.T @ b\n",
        "print(x1)"
      ],
      "outputs": [
        {
          "output_type": "stream",
          "name": "stdout",
          "text": [
            "[[ 1.01132797]\n",
            " [-0.12396076]\n",
            " [-7.42414594]\n",
            " [-0.86853974]\n",
            " [11.08544019]\n",
            " [-0.52987632]\n",
            " [-4.20744757]\n",
            " [-1.84072857]\n",
            " [ 2.94203474]\n",
            " [-0.6630005 ]\n",
            " [-0.10945571]\n",
            " [ 0.03939407]]\n"
          ]
        }
      ],
      "execution_count": 131,
      "metadata": {
        "collapsed": true,
        "jupyter": {
          "source_hidden": false,
          "outputs_hidden": false
        },
        "nteract": {
          "transient": {
            "deleting": false
          }
        },
        "execution": {
          "iopub.status.busy": "2020-10-21T19:23:13.701Z",
          "iopub.execute_input": "2020-10-21T19:23:13.725Z",
          "iopub.status.idle": "2020-10-21T19:23:13.788Z",
          "shell.execute_reply": "2020-10-21T19:23:13.812Z"
        }
      }
    },
    {
      "cell_type": "code",
      "source": [
        "#2\n",
        "Q, R = mgs(A)\n",
        "x2 = np.linalg.solve(R, Q.T @ b)\n",
        "print(x2)"
      ],
      "outputs": [
        {
          "output_type": "stream",
          "name": "stdout",
          "text": [
            "[[ 1.00000000e+00]\n",
            " [-4.58240104e-07]\n",
            " [-7.99998009e+00]\n",
            " [-3.33437814e-04]\n",
            " [ 1.06695290e+01]\n",
            " [-1.42085086e-02]\n",
            " [-5.64611093e+00]\n",
            " [-7.68632224e-02]\n",
            " [ 1.69520470e+00]\n",
            " [ 5.00761554e-03]\n",
            " [-3.73871301e-01]\n",
            " [ 8.79830113e-02]]\n"
          ]
        }
      ],
      "execution_count": 85,
      "metadata": {
        "collapsed": true,
        "jupyter": {
          "source_hidden": false,
          "outputs_hidden": false
        },
        "nteract": {
          "transient": {
            "deleting": false
          }
        },
        "execution": {
          "iopub.status.busy": "2020-10-21T19:02:52.496Z",
          "iopub.execute_input": "2020-10-21T19:02:52.516Z",
          "iopub.status.idle": "2020-10-21T19:02:52.563Z",
          "shell.execute_reply": "2020-10-21T19:02:52.582Z"
        }
      }
    },
    {
      "cell_type": "code",
      "source": [
        "#3\n",
        "Q, R = qrhouse(A)\n",
        "x3 = np.linalg.solve(R, Q.T @ b)\n",
        "\n",
        "print(x3)"
      ],
      "outputs": [
        {
          "output_type": "stream",
          "name": "stdout",
          "text": [
            "49 12\n",
            "[[  2.95430125]\n",
            " [ -3.49790094]\n",
            " [ -4.65514068]\n",
            " [  2.57685988]\n",
            " [  0.55833261]\n",
            " [  1.94197602]\n",
            " [ -9.05993868]\n",
            " [ 14.13901714]\n",
            " [-14.88420062]\n",
            " [ 11.4285444 ]\n",
            " [ -5.47258763]\n",
            " [  1.11591964]]\n"
          ]
        }
      ],
      "execution_count": 130,
      "metadata": {
        "collapsed": true,
        "jupyter": {
          "source_hidden": false,
          "outputs_hidden": false
        },
        "nteract": {
          "transient": {
            "deleting": false
          }
        },
        "execution": {
          "iopub.status.busy": "2020-10-21T19:21:02.633Z",
          "iopub.execute_input": "2020-10-21T19:21:02.657Z",
          "iopub.status.idle": "2020-10-21T19:21:02.707Z",
          "shell.execute_reply": "2020-10-21T19:21:02.732Z"
        }
      }
    },
    {
      "cell_type": "code",
      "source": [
        "#4\n",
        "Q, R = np.linalg.qr(A)\n",
        "x4 = np.linalg.solve(R, Q.T @ b)\n",
        "print(x4)"
      ],
      "outputs": [
        {
          "output_type": "stream",
          "name": "stdout",
          "text": [
            "[[ 1.00000000e+00]\n",
            " [-4.22743382e-07]\n",
            " [-7.99998124e+00]\n",
            " [-3.18763322e-04]\n",
            " [ 1.06694308e+01]\n",
            " [-1.38202901e-02]\n",
            " [-5.64707562e+00]\n",
            " [-7.53160326e-02]\n",
            " [ 1.69360697e+00]\n",
            " [ 6.03210277e-03]\n",
            " [-3.74241701e-01]\n",
            " [ 8.80405757e-02]]\n"
          ]
        }
      ],
      "execution_count": 87,
      "metadata": {
        "collapsed": true,
        "jupyter": {
          "source_hidden": false,
          "outputs_hidden": false
        },
        "nteract": {
          "transient": {
            "deleting": false
          }
        },
        "execution": {
          "iopub.status.busy": "2020-10-21T19:02:57.206Z",
          "iopub.execute_input": "2020-10-21T19:02:57.226Z",
          "iopub.status.idle": "2020-10-21T19:02:57.267Z",
          "shell.execute_reply": "2020-10-21T19:02:57.285Z"
        }
      }
    },
    {
      "cell_type": "code",
      "source": [
        "#5\n",
        "x5 = np.linalg.lstsq(A, b)[0]\n",
        "print(x5)"
      ],
      "outputs": [
        {
          "output_type": "stream",
          "name": "stdout",
          "text": [
            "[[ 1.00000000e+00]\n",
            " [-4.22743385e-07]\n",
            " [-7.99998124e+00]\n",
            " [-3.18763318e-04]\n",
            " [ 1.06694308e+01]\n",
            " [-1.38202899e-02]\n",
            " [-5.64707562e+00]\n",
            " [-7.53160319e-02]\n",
            " [ 1.69360697e+00]\n",
            " [ 6.03210333e-03]\n",
            " [-3.74241701e-01]\n",
            " [ 8.80405757e-02]]\n"
          ]
        },
        {
          "output_type": "stream",
          "name": "stderr",
          "text": [
            "C:\\Users\\rlask\\AppData\\Local\\Programs\\Python\\Python37\\lib\\site-packages\\ipykernel_launcher.py:2: FutureWarning: `rcond` parameter will change to the default of machine precision times ``max(M, N)`` where M and N are the input matrix dimensions.\n",
            "To use the future default and silence this warning we advise to pass `rcond=None`, to keep using the old, explicitly pass `rcond=-1`.\n",
            "  \n"
          ]
        }
      ],
      "execution_count": 89,
      "metadata": {
        "collapsed": true,
        "jupyter": {
          "source_hidden": false,
          "outputs_hidden": false
        },
        "nteract": {
          "transient": {
            "deleting": false
          }
        },
        "execution": {
          "iopub.status.busy": "2020-10-21T19:03:32.623Z",
          "iopub.execute_input": "2020-10-21T19:03:32.648Z",
          "iopub.status.idle": "2020-10-21T19:03:32.714Z",
          "shell.execute_reply": "2020-10-21T19:03:32.735Z"
        }
      }
    },
    {
      "cell_type": "code",
      "source": [
        "#6\n",
        "U, S, V = np.linalg.svd(A)\n",
        "\n",
        "B = np.zeros((n,m))\n",
        "for i in range(len(S)):\n",
        "  B[i,i] = 1/S[i]\n",
        "x6 = V.T @ B @ U.T @ b\n",
        "print(x6)"
      ],
      "outputs": [
        {
          "output_type": "stream",
          "name": "stdout",
          "text": [
            "[[ 1.00000000e+00]\n",
            " [-4.22743378e-07]\n",
            " [-7.99998124e+00]\n",
            " [-3.18763307e-04]\n",
            " [ 1.06694308e+01]\n",
            " [-1.38202899e-02]\n",
            " [-5.64707562e+00]\n",
            " [-7.53160322e-02]\n",
            " [ 1.69360697e+00]\n",
            " [ 6.03210216e-03]\n",
            " [-3.74241701e-01]\n",
            " [ 8.80405757e-02]]\n"
          ]
        }
      ],
      "execution_count": 92,
      "metadata": {
        "collapsed": true,
        "jupyter": {
          "source_hidden": false,
          "outputs_hidden": false
        },
        "nteract": {
          "transient": {
            "deleting": false
          }
        },
        "execution": {
          "iopub.status.busy": "2020-10-21T19:05:19.874Z",
          "iopub.execute_input": "2020-10-21T19:05:19.900Z",
          "iopub.status.idle": "2020-10-21T19:05:19.948Z",
          "shell.execute_reply": "2020-10-21T19:05:19.969Z"
        }
      }
    },
    {
      "cell_type": "markdown",
      "source": [
        "대략 값들이 비슷하지만 inv를 구한 경우 오차가 좀 있었다."
      ],
      "metadata": {
        "nteract": {
          "transient": {
            "deleting": false
          }
        }
      }
    }
  ],
  "metadata": {
    "kernel_info": {
      "name": "python3"
    },
    "language_info": {
      "name": "python",
      "version": "3.7.4",
      "mimetype": "text/x-python",
      "codemirror_mode": {
        "name": "ipython",
        "version": 3
      },
      "pygments_lexer": "ipython3",
      "nbconvert_exporter": "python",
      "file_extension": ".py"
    },
    "kernelspec": {
      "argv": [
        "C:\\Users\\rlask\\AppData\\Local\\Programs\\Python\\Python37\\python.exe",
        "-m",
        "ipykernel_launcher",
        "-f",
        "{connection_file}"
      ],
      "display_name": "Python 3",
      "language": "python",
      "name": "python3"
    },
    "nteract": {
      "version": "0.25.0"
    }
  },
  "nbformat": 4,
  "nbformat_minor": 0
}