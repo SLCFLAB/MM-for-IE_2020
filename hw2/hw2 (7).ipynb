{
 "cells": [
  {
   "cell_type": "code",
   "execution_count": 85,
   "metadata": {},
   "outputs": [],
   "source": [
    "import numpy as np\n",
    "import copy\n",
    "from matplotlib import pyplot as plt\n",
    "from math import hypot\n",
    "import pandas as pd\n",
    "\n",
    "\"\"\"후진대입법\"\"\"\n",
    "def backSubstitution(U, b):\n",
    "    (m, m) = U.shape\n",
    "    x = np.zeros((m, 1), np.float)\n",
    "    for j in range(m - 1, -1, -1):\n",
    "        x[j] = (b[j] - np.matmul(U[j, j + 1:], x[j + 1:])) / U[j, j]\n",
    "    return x\n",
    "\n",
    "\n",
    "\n",
    "\"\"\"AL3.1\"\"\"\n",
    "\n",
    "def clgs(A):\n",
    "    (m, n) = A.shape\n",
    "    V = copy.deepcopy(A)\n",
    "    V = np.mat(V, np.float)\n",
    "    Q = np.mat(np.eye(m,n))\n",
    "    R = np.mat(np.zeros((n, n)))\n",
    "\n",
    "    for j in range (0, n):\n",
    "        for i in range (0, j):\n",
    "            R[i, j] = (Q[:, i].T).dot(A[:, j])\n",
    "            V[:, j] = V[:, j]-R[i, j]*Q[:, i]\n",
    "\n",
    "        R[j, j] = np.linalg.norm(V[:, j])\n",
    "        Q[:, j] = V[:, j]/R[j, j]\n",
    "\n",
    "    return [Q, R]\n",
    "\n",
    "\"\"\"AL3.2\"\"\"\n",
    "\n",
    "def mgs(A):\n",
    "    (m, n) = A.shape\n",
    "    Q = copy.deepcopy(A)\n",
    "    Q = np.mat(Q, np.float)\n",
    "    R = np.mat(np.zeros((n, n)))\n",
    "\n",
    "    for i in range (0, n-1):\n",
    "        R[i, i] = np.linalg.norm(Q[:, i])\n",
    "        Q[:, i] = Q[:, i]/R[i, i]\n",
    "        R[i, i+1:n] = (Q[:, i].T).dot(Q[:, i+1:n])\n",
    "        Q[:, i+1:n] = Q[:, i+1:n] - (Q[:, i]).dot(R[i, i+1:n])\n",
    "\n",
    "    R[n-1, n-1] = np.linalg.norm(Q[:, n-1])\n",
    "    Q[:, n-1] = Q[:, n-1]/R[n-1, n-1]\n",
    "\n",
    "    return [Q, R]\n",
    "\n",
    "\"\"\"AL3.3\"\"\"\n",
    "\n",
    "def qrhouse(A):\n",
    "    (m, n) = A.shape\n",
    "    R = copy.deepcopy(A)\n",
    "    R = np.mat(R, np.float)\n",
    "    V = np.mat(np.zeros((m, n)))\n",
    "\n",
    "    for k in range (0, min(m-1, n)):\n",
    "        x = R[k:m, k]\n",
    "        v = x + np.linalg.norm(x) * np.mat(np.eye(len(x), 1)) * np.sign(x[0])\n",
    "        V[k:m, k] = v\n",
    "        R[k:m, k:n] = R[k:m, k:n]-(2*v).dot(((v.T).dot(R[k:m, k:n]))/((v.T).dot(v)))\n",
    "\n",
    "    R = np.triu(R[0:n, 0:n])\n",
    "\n",
    "    return [V, R]\n",
    "\n",
    "def formQ(V):\n",
    "    (m, n) = V.shape\n",
    "    Q = np.mat(np.eye(m, n))\n",
    "    for j in range (min(m-2, n-1), -1, -1):\n",
    "        v = V[:, j]\n",
    "        Q = Q-(2*v).dot(((v.T).dot(Q))/((v.T).dot(v)))\n",
    "\n",
    "    return Q\n",
    "\n"
   ]
  },
  {
   "cell_type": "code",
   "execution_count": 86,
   "metadata": {},
   "outputs": [
    {
     "name": "stdout",
     "output_type": "stream",
     "text": [
      "Qc is\n",
      "[[ 0.14814966 -0.16896581 -0.07702386 ... -0.03684206  0.10007237\n",
      "   0.08327493]\n",
      " [ 0.00860817 -0.15042727  0.13166739 ... -0.04472969  0.11205841\n",
      "   0.09931055]\n",
      " [-0.0958221  -0.05824115 -0.00371905 ... -0.13830418  0.07525801\n",
      "   0.09277953]\n",
      " ...\n",
      " [ 0.00200163  0.19003861 -0.07008651 ...  0.04955067 -0.05965807\n",
      "  -0.0602056 ]\n",
      " [ 0.1647481   0.08816341  0.15062816 ... -0.10311815  0.12490413\n",
      "   0.11820395]\n",
      " [-0.16138165  0.19573569 -0.12270035 ... -0.20558289  0.1795752\n",
      "   0.19132195]]\n",
      "Rc is\n",
      "[[ 2.20247227e-02 -3.92693703e-02 -2.89146551e-02 ... -5.33017521e-02\n",
      "   8.02737667e-03  1.45780232e-02]\n",
      " [ 0.00000000e+00  8.05025956e-02  4.09461209e-02 ...  7.00166602e-02\n",
      "  -3.16476604e-02  2.42542770e-02]\n",
      " [ 0.00000000e+00  0.00000000e+00  2.40919928e-02 ...  1.26777890e-02\n",
      "   4.61431437e-03 -2.09439966e-02]\n",
      " ...\n",
      " [ 0.00000000e+00  0.00000000e+00  0.00000000e+00 ...  1.70515726e-07\n",
      "   2.56832732e-09  8.19701593e-09]\n",
      " [ 0.00000000e+00  0.00000000e+00  0.00000000e+00 ...  0.00000000e+00\n",
      "   4.55087558e-07 -1.26159538e-08]\n",
      " [ 0.00000000e+00  0.00000000e+00  0.00000000e+00 ...  0.00000000e+00\n",
      "   0.00000000e+00  3.79822825e-07]]\n",
      "Qm is\n",
      "[[ 0.14814966 -0.16896581 -0.07702386 ... -0.05028483  0.09432486\n",
      "  -0.06169651]\n",
      " [ 0.00860817 -0.15042727  0.13166739 ...  0.04160292  0.07890712\n",
      "   0.0998101 ]\n",
      " [-0.0958221  -0.05824115 -0.00371905 ... -0.07808803 -0.0586561\n",
      "   0.21289379]\n",
      " ...\n",
      " [ 0.00200163  0.19003861 -0.07008651 ... -0.08118035 -0.15963735\n",
      "   0.02584594]\n",
      " [ 0.1647481   0.08816341  0.15062816 ...  0.00937706 -0.0786305\n",
      "  -0.01033439]\n",
      " [-0.16138165  0.19573569 -0.12270035 ...  0.01407498  0.15692491\n",
      "  -0.03021925]]\n",
      "Rm is\n",
      "[[ 2.20247227e-02 -3.92693703e-02 -2.89146551e-02 ... -5.33017521e-02\n",
      "   8.02737667e-03  1.45780232e-02]\n",
      " [ 0.00000000e+00  8.05025956e-02  4.09461209e-02 ...  7.00166602e-02\n",
      "  -3.16476604e-02  2.42542770e-02]\n",
      " [ 0.00000000e+00  0.00000000e+00  2.40919928e-02 ...  1.26777890e-02\n",
      "   4.61431437e-03 -2.09439966e-02]\n",
      " ...\n",
      " [ 0.00000000e+00  0.00000000e+00  0.00000000e+00 ...  1.35098345e-17\n",
      "  -4.25173723e-18 -1.81534756e-18]\n",
      " [ 0.00000000e+00  0.00000000e+00  0.00000000e+00 ...  0.00000000e+00\n",
      "   8.14423541e-18 -6.83602281e-18]\n",
      " [ 0.00000000e+00  0.00000000e+00  0.00000000e+00 ...  0.00000000e+00\n",
      "   0.00000000e+00  9.73204638e-18]]\n"
     ]
    },
    {
     "data": {
      "image/png": "[encoded data removed]",
      "text/plain": [
       "<Figure size 432x288 with 1 Axes>"
      ]
     },
     "metadata": {
      "needs_background": "light"
     },
     "output_type": "display_data"
    }
   ],
   "source": [
    "\"\"\"3.2 (a)\"\"\"\n",
    "[U, X] = qrhouse(np.random.randn(80, 80))\n",
    "U = formQ(U)\n",
    "[V, X] = qrhouse(np.random.randn(80, 80))\n",
    "V = formQ(V)\n",
    "\n",
    "J = np.arange(1, 81, 1)\n",
    "S = np.mat(np.diag(2.**(-J)))\n",
    "A_1 = U*S*V\n",
    "\n",
    "[Qc, Rc] = clgs(A_1)\n",
    "[Qm, Rm] = mgs(A_1)\n",
    "\n",
    "print('Qc is')\n",
    "print(Qc)\n",
    "print('Rc is')\n",
    "print(Rc)\n",
    "print('Qm is')\n",
    "print(Qm)\n",
    "print('Rm is')\n",
    "print(Rm)\n",
    "\n",
    "\n",
    "\"\"\"Draw scatter plot\"\"\"\n",
    "\n",
    "Rcjj = np.array(Rc[0, 0], np.float)\n",
    "axisX = np.arange(0, 80, 1)\n",
    "for j in range (1, 80):\n",
    "    Rcjj = np.append(Rcjj, Rc[j, j])\n",
    "\n",
    "fig, ax = plt.subplots()\n",
    "plt.semilogy(basey = 2)\n",
    "\n",
    "ax.scatter(axisX, Rcjj, marker = 'o', color = 'salmon', label='clgs')\n",
    "\n",
    "\n",
    "Rmjj = np.array(Rm[0, 0], np.float)\n",
    "axisX = np.arange(0, 80, 1)\n",
    "for j in range (1, 80):\n",
    "    Rmjj = np.append(Rmjj, Rm[j, j])\n",
    "\n",
    "ax.scatter(axisX, Rmjj, marker = 'x', color = 'steelblue', label='mgs')\n",
    "\n",
    "ax.legend(loc='best')\n",
    "plt.show()"
   ]
  },
  {
   "cell_type": "code",
   "execution_count": 87,
   "metadata": {},
   "outputs": [
    {
     "name": "stdout",
     "output_type": "stream",
     "text": [
      "householder\n",
      "1.9999999999999998\n",
      "mgs\n",
      "1.9999999999755893\n"
     ]
    },
    {
     "data": {
      "text/plain": [
       "'하우스홀더가 더 numerically stable하다.'"
      ]
     },
     "execution_count": 87,
     "metadata": {},
     "output_type": "execute_result"
    }
   ],
   "source": [
    "\"\"\"(b)\"\"\"\n",
    "A_2 = np.mat([[0.70000, 0.70711], [0.70001, 0.70711]])\n",
    "[Qm_2, Rm_2] = mgs(A_2)\n",
    "[V_2, R_2] = qrhouse(A_2)\n",
    "Q_2 = formQ(A_2)\n",
    "\n",
    "print(\"householder\")\n",
    "print(np.linalg.norm((Q_2.T).dot(Q_2 - np.eye(2))))\n",
    "\n",
    "print(\"mgs\")\n",
    "print(np.linalg.norm((Qm_2.T).dot(Qm_2 - np.eye(2))))\n",
    "\n",
    "\"\"\"하우스홀더가 더 numerically stable하다.\"\"\""
   ]
  },
  {
   "cell_type": "code",
   "execution_count": 88,
   "metadata": {},
   "outputs": [
    {
     "name": "stdout",
     "output_type": "stream",
     "text": [
      "Givens Rotation\n",
      "[[-0.53916387 -0.42922608  0.48003059]\n",
      " [-0.43133109 -0.4964781  -0.15712613]\n",
      " [-0.43133109  0.43911609 -0.42429232]\n",
      " [-0.53916387  0.25120605 -0.2919202 ]\n",
      " [ 0.21566555 -0.55977411 -0.69256092]]\n",
      "[[-9.27361850e+00 -7.33262858e+00 -1.29399328e+01]\n",
      " [-0.00000000e+00 -1.17572343e+01  3.30326064e-01]\n",
      " [-0.00000000e+00  2.13306175e-16 -1.00721906e+01]]\n",
      "matlab(python) qr\n",
      "[[-0.53916387 -0.42922608  0.48003059]\n",
      " [-0.43133109 -0.4964781  -0.15712613]\n",
      " [-0.43133109  0.43911609 -0.42429232]\n",
      " [-0.53916387  0.25120605 -0.2919202 ]\n",
      " [ 0.21566555 -0.55977411 -0.69256092]]\n",
      "[[ -9.2736185   -7.33262858 -12.93993278]\n",
      " [  0.         -11.75723429   0.33032606]\n",
      " [  0.           0.         -10.07219064]]\n"
     ]
    },
    {
     "data": {
      "text/plain": [
       "'둘이 거의 비슷하다.'"
      ]
     },
     "execution_count": 88,
     "metadata": {},
     "output_type": "execute_result"
    }
   ],
   "source": [
    "\"\"\"3.3 \"\"\"\n",
    "def qrGivens(A):\n",
    "    (m, n) = A.shape\n",
    "\n",
    "    Q = np.mat(np.eye(m))\n",
    "    R = copy.deepcopy(A)\n",
    "\n",
    "    (rows, cols) = np.tril_indices(m, -1, n)\n",
    "    for (row, col) in zip(rows, cols):\n",
    "        if R[row, col] != 0:\n",
    "            r = hypot(R[col, col], R[row, col])\n",
    "            c = R[col, col] / r\n",
    "            s = -R[row, col] / r\n",
    "\n",
    "            Givens = np.mat(np.eye(m))\n",
    "            Givens[[col, row], [col, row]] = c\n",
    "            Givens[row, col] = s\n",
    "            Givens[col, row] = -s\n",
    "\n",
    "            R = np.dot(Givens, R)\n",
    "            Q = np.dot(Q, Givens.T)\n",
    "    Q = -Q[0:m, 0:n]\n",
    "    R = -R[0:n, 0:n]\n",
    "    return [Q, R]\n",
    "\n",
    "\n",
    "\"\"\"test\"\"\"\n",
    "A = np.mat([[5, 9, 2],[4, 9, 7],[4, -2, 10], [5, 1, 10], [-2, 5, 4]])\n",
    "\"\"\"my Givens Rotation\"\"\"\n",
    "[Q, R] = qrGivens(A)\n",
    "print('Givens Rotation')\n",
    "print(Q)\n",
    "print(R)\n",
    "\n",
    "\"\"\"matlab(python) qr\"\"\"\n",
    "[Q2, R2] = np.linalg.qr(A)\n",
    "print('matlab(python) qr')\n",
    "print(Q2)\n",
    "print(R2)\n",
    "\n",
    "\"\"\"둘이 거의 비슷하다.\"\"\""
   ]
  },
  {
   "cell_type": "code",
   "execution_count": 89,
   "metadata": {},
   "outputs": [],
   "source": [
    "\"\"\"4-3을 위해 만든 함수들\"\"\"\n",
    "def makeMatrixM(m, type=0):\n",
    "    A = np.random.randn(m, m)/np.sqrt(m)\n",
    "    if type == 1:\n",
    "        A = np.triu(A)\n",
    "    return A\n",
    "\n",
    "def makePlotForM(numberOfMatrix, type=0):\n",
    "    setn = np.arange(3, numberOfMatrix+3)\n",
    "    setM = 2 ** setn\n",
    "    normBox = np.array([])\n",
    "\n",
    "    fig, ax = plt.subplots()\n",
    "    for i in setn:\n",
    "        A = makeMatrixM(setM[i-3], type)\n",
    "        nidx = np.full(2**i, 2**i)\n",
    "        [Ramda, S] = np.linalg.eig(A)\n",
    "        (m, n) = A.shape\n",
    "        ax.set_xscale('log', basex = 2)\n",
    "        ax.scatter(nidx, Ramda, marker = '^', label = '2^' + str(i))\n",
    "    plt.xlim(4, 2**(numberOfMatrix+4))\n",
    "    plt.legend(loc = 'best')\n",
    "    plt.show()\n",
    "\n",
    "def getRadiusWithNorm2(m, type=0):\n",
    "    A = makeMatrixM(m, type)\n",
    "    [Ramda, S] = np.linalg.eig(A)\n",
    "    Radius = np.max(Ramda)\n",
    "    Norm2 = np.linalg.norm(A, 2)\n",
    "    return [Radius, Norm2]\n",
    "\n",
    "def getConditionN(m, type=0):\n",
    "    A = makeMatrixM(m, type)\n",
    "    [U, s, Vt] = np.linalg.svd(A)\n",
    "    ConditionN = s[m-1]\n",
    "    return ConditionN\n",
    "\n",
    "def getProbability(m, type=0):\n",
    "    axisXvalue = np.arange(1, m+1)\n",
    "    YcondiN = np.array([])\n",
    "    labels = np.array([])\n",
    "    for i in axisXvalue:\n",
    "        condi = getConditionN(i, type)\n",
    "        YcondiN = np.append(YcondiN, condi)\n",
    "        labelValue = 0\n",
    "        for j in range(0, 100):\n",
    "            if condi < 2. ** (-j):\n",
    "                labelValue = j\n",
    "            else:\n",
    "                break\n",
    "        labels = np.append(labels, labelValue)\n",
    "\n",
    "    dataF = pd.DataFrame({'exponent' : axisXvalue, 'condition_number' : YcondiN, 'label' : labels})\n",
    "    fig, ax = plt.subplots()\n",
    "\n",
    "    k = 0\n",
    "    while 2.**(-k)>np.min(YcondiN):\n",
    "        k=k+1\n",
    "        if k == 100:\n",
    "            print(\"error! you may make mistake\")\n",
    "            break\n",
    "\n",
    "    for j in range(0, k+1):\n",
    "        X = dataF[dataF['label'] == j]['exponent']\n",
    "        Y = dataF[dataF['label'] == j]['condition_number']\n",
    "        ax.scatter(X, Y, marker='o', label='2^-' + str(j))\n",
    "    plt.legend(loc = 'best')\n",
    "    ax.set_yscale('log', basey=2)\n",
    "    plt.show()\n",
    "\n",
    "    prop = np.array([])\n",
    "    for l in range (0, k+1):\n",
    "        prop = np.append(prop, len(dataF[dataF['label'] == l])/m)\n",
    "    Probablity = pd.DataFrame({'prob' : prop})\n",
    "\n",
    "    return Probablity\n",
    "\n",
    "def getProbabilityOfsizeM(m, type = 0):\n",
    "    setCondi = np.array([])\n",
    "    setLabel = list()\n",
    "    setProbability = np.array([])\n",
    "    for i in range (0, 100):\n",
    "        setCondi = np.append(setCondi, getConditionN(m, type))\n",
    "\n",
    "    maxEx = 1000\n",
    "    for i in range (0, 100):\n",
    "        for j in range (0, maxEx):\n",
    "            if setCondi[i] < 2. ** (-j):\n",
    "                labelValue = j\n",
    "            else:\n",
    "                break\n",
    "\n",
    "        setLabel.append(labelValue)\n",
    "\n",
    "    maxEx = int(max(setLabel))\n",
    "\n",
    "    for i in range (0, maxEx+1):\n",
    "        totalNumI = 0\n",
    "        for j in range (i, maxEx):\n",
    "            totalNumI = totalNumI+setLabel.count(j)\n",
    "        #print(totalNumI)\n",
    "        setProbability = np.append(setProbability, totalNumI)\n",
    "    setProbability = setProbability/100\n",
    "    print(setProbability)\n",
    "    \n",
    "    xIdx = 0.5**np.array(range(0, maxEx+1))\n",
    "    fig, ax = plt.subplots()\n",
    "    plt.plot(setProbability)\n",
    "    plt.ylim(0, 1)\n",
    "    ax.set_xscale('log', basex=2)\n",
    "    plt.show()"
   ]
  },
  {
   "cell_type": "code",
   "execution_count": 90,
   "metadata": {},
   "outputs": [
    {
     "name": "stderr",
     "output_type": "stream",
     "text": [
      "C:\\Users\\gisung\\anaconda3\\lib\\site-packages\\numpy\\core\\_asarray.py:138: ComplexWarning: Casting complex values to real discards the imaginary part\n",
      "  return array(a, dtype, copy=False, order=order, subok=True)\n"
     ]
    },
    {
     "data": {
      "image/png": "[encoded data removed]",
      "text/plain": [
       "<Figure size 432x288 with 1 Axes>"
      ]
     },
     "metadata": {
      "needs_background": "light"
     },
     "output_type": "display_data"
    },
    {
     "data": {
      "text/plain": [
       "'2^100은 돌아가지 않아서 2^11까지만 하였습니다.'"
      ]
     },
     "execution_count": 90,
     "metadata": {},
     "output_type": "execute_result"
    }
   ],
   "source": [
    "\"\"\"4_3_a\"\"\"\n",
    "\n",
    "\n",
    "makePlotForM(9)\n",
    "\"\"\"문제 조건대로 만든랜덤 행렬A의 eigenvalues는 -1에서 1사이에 대부분 존재한다.\"\"\"\n",
    "\"\"\"spectral radius는 eigenvalues의 최댓값으로 점점 1에 수렴한다\"\"\"\n",
    "\"\"\"2^100은 돌아가지 않아서 2^11까지만 하였습니다.\"\"\""
   ]
  },
  {
   "cell_type": "code",
   "execution_count": 91,
   "metadata": {},
   "outputs": [
    {
     "data": {
      "image/png": "[encoded data removed]",
      "text/plain": [
       "<Figure size 432x288 with 1 Axes>"
      ]
     },
     "metadata": {
      "needs_background": "light"
     },
     "output_type": "display_data"
    },
    {
     "name": "stdout",
     "output_type": "stream",
     "text": [
      "마지막 1000번째 값 실제로 확인\n",
      "(1.016219422858035-0.14281635265819462j)\n"
     ]
    },
    {
     "data": {
      "text/plain": [
       "'따라서 m이 증가하더라도 등식에 가까워지지는 않는다.'"
      ]
     },
     "execution_count": 91,
     "metadata": {},
     "output_type": "execute_result"
    }
   ],
   "source": [
    "\"\"\"4_3_b\"\"\"\n",
    "setOfRadius = np.array([])\n",
    "setOfNorm2 = np.array([])\n",
    "nidx = np.array(range(5, 1001, 5))\n",
    "for i in range (5, 1001, 5):\n",
    "    setOfRadius = np.append(setOfRadius, getRadiusWithNorm2(i)[0])\n",
    "    setOfNorm2 = np.append(setOfNorm2, getRadiusWithNorm2(i)[1])\n",
    "\n",
    "\n",
    "fig, ax = plt.subplots()\n",
    "ax.scatter(nidx, setOfRadius, marker = '^', label = 'Spectral Radius')\n",
    "ax.scatter(nidx, setOfNorm2, marker = 'o', label = '2-Norm')\n",
    "plt.legend(loc = 'best')\n",
    "plt.show()\n",
    "\n",
    "print('마지막 1000번째 값 실제로 확인')\n",
    "print(getRadiusWithNorm2(1000)[1] - getRadiusWithNorm2(1000)[0])\n",
    "\"\"\"spectral radius는 1로 수렴하는 반면 2-norm은 2로 수렴한다.\"\"\"\n",
    "\"\"\"따라서 m이 증가하더라도 등식에 가까워지지는 않는다.\"\"\""
   ]
  },
  {
   "cell_type": "code",
   "execution_count": 93,
   "metadata": {
    "scrolled": true
   },
   "outputs": [
    {
     "name": "stdout",
     "output_type": "stream",
     "text": [
      "when m = 100\n",
      "[0.99 0.99 0.99 0.99 0.99 0.99 0.92 0.59 0.26 0.17 0.06 0.03 0.   0.  ]\n"
     ]
    },
    {
     "data": {
      "image/png": "[encoded data removed]",
      "text/plain": [
       "<Figure size 432x288 with 1 Axes>"
      ]
     },
     "metadata": {
      "needs_background": "light"
     },
     "output_type": "display_data"
    },
    {
     "name": "stdout",
     "output_type": "stream",
     "text": [
      "when m = 500\n",
      "[0.98 0.98 0.98 0.98 0.98 0.98 0.98 0.98 0.97 0.71 0.41 0.19 0.1  0.03\n",
      " 0.   0.  ]\n"
     ]
    },
    {
     "data": {
      "image/png": "[encoded data removed]",
      "text/plain": [
       "<Figure size 432x288 with 1 Axes>"
      ]
     },
     "metadata": {
      "needs_background": "light"
     },
     "output_type": "display_data"
    },
    {
     "name": "stdout",
     "output_type": "stream",
     "text": [
      "when m = 1000\n",
      "[0.98 0.98 0.98 0.98 0.98 0.98 0.98 0.98 0.98 0.95 0.75 0.39 0.19 0.07\n",
      " 0.03 0.  ]\n"
     ]
    },
    {
     "data": {
      "image/png": "[encoded data removed]",
      "text/plain": [
       "<Figure size 432x288 with 1 Axes>"
      ]
     },
     "metadata": {
      "needs_background": "light"
     },
     "output_type": "display_data"
    },
    {
     "name": "stdout",
     "output_type": "stream",
     "text": [
      "위의 m=100, 500, 1000 그래프를 통해 우리는 m이 커지더라도 해당 누적확률그래프의 tail이 유사한 모습을 그림을 알 수 있다.\n"
     ]
    }
   ],
   "source": [
    "\"\"\"4_3_c\"\"\"\n",
    "print('when m = 100')\n",
    "getProbabilityOfsizeM(100)\n",
    "print('when m = 500')\n",
    "getProbabilityOfsizeM(500)\n",
    "print('when m = 1000')\n",
    "getProbabilityOfsizeM(1000)\n",
    "\n",
    "print('위의 m=100, 500, 1000 그래프를 통해 우리는 m이 커지더라도 해당 누적확률그래프의 tail이 유사한 모습을 그림을 알 수 있다.')\n",
    "\n"
   ]
  },
  {
   "cell_type": "code",
   "execution_count": 97,
   "metadata": {},
   "outputs": [
    {
     "name": "stdout",
     "output_type": "stream",
     "text": [
      "a-2\n"
     ]
    },
    {
     "data": {
      "image/png": "[encoded data removed]",
      "text/plain": [
       "<Figure size 432x288 with 1 Axes>"
      ]
     },
     "metadata": {
      "needs_background": "light"
     },
     "output_type": "display_data"
    },
    {
     "name": "stdout",
     "output_type": "stream",
     "text": [
      "m이 커질수록 eigenvalue가 모두 0에 수렴하는 모습을 보인다\n",
      "b-2\n"
     ]
    },
    {
     "data": {
      "image/png": "[encoded data removed]",
      "text/plain": [
       "<Figure size 432x288 with 1 Axes>"
      ]
     },
     "metadata": {
      "needs_background": "light"
     },
     "output_type": "display_data"
    },
    {
     "name": "stdout",
     "output_type": "stream",
     "text": [
      "마지막 1000번째 값 실제로 확인\n",
      "1.5092753305050937\n",
      "spectral radius는 0으로 수렴하는 반면 2-norm은 1.6으로 수렴한다. 따라서 m이 증가하더라도 등식에 가까워지지는 않는다.\n",
      "c-2\n",
      "when m = 100\n",
      "[0.98 0.98 0.98 0.98 0.98 0.98 0.98 0.98 0.98 0.98 0.98 0.98 0.98 0.98\n",
      " 0.98 0.98 0.98 0.98 0.98 0.98 0.98 0.98 0.98 0.98 0.98 0.98 0.98 0.98\n",
      " 0.98 0.98 0.98 0.98 0.98 0.98 0.98 0.98 0.98 0.98 0.98 0.98 0.98 0.98\n",
      " 0.98 0.98 0.98 0.98 0.98 0.98 0.98 0.98 0.98 0.55 0.31 0.26 0.06 0.02\n",
      " 0.  ]\n"
     ]
    },
    {
     "data": {
      "image/png": "[encoded data removed]",
      "text/plain": [
       "<Figure size 432x288 with 1 Axes>"
      ]
     },
     "metadata": {
      "needs_background": "light"
     },
     "output_type": "display_data"
    },
    {
     "name": "stdout",
     "output_type": "stream",
     "text": [
      "when m = 500\n",
      "[0.99 0.99 0.99 0.99 0.99 0.99 0.99 0.99 0.99 0.99 0.99 0.99 0.99 0.99\n",
      " 0.99 0.99 0.99 0.99 0.99 0.99 0.99 0.99 0.99 0.99 0.99 0.99 0.99 0.99\n",
      " 0.99 0.99 0.99 0.99 0.99 0.99 0.99 0.99 0.99 0.99 0.99 0.99 0.99 0.99\n",
      " 0.99 0.99 0.99 0.99 0.99 0.99 0.99 0.99 0.99 0.99 0.99 0.99 0.31 0.13\n",
      " 0.04 0.03 0.02 0.   0.   0.  ]\n"
     ]
    },
    {
     "data": {
      "image/png": "[encoded data removed]",
      "text/plain": [
       "<Figure size 432x288 with 1 Axes>"
      ]
     },
     "metadata": {
      "needs_background": "light"
     },
     "output_type": "display_data"
    },
    {
     "name": "stdout",
     "output_type": "stream",
     "text": [
      "when m = 1000\n",
      "[0.99 0.99 0.99 0.99 0.99 0.99 0.99 0.99 0.99 0.99 0.99 0.99 0.99 0.99\n",
      " 0.99 0.99 0.99 0.99 0.99 0.99 0.99 0.99 0.99 0.99 0.99 0.99 0.99 0.99\n",
      " 0.99 0.99 0.99 0.99 0.99 0.99 0.99 0.99 0.99 0.99 0.99 0.99 0.99 0.99\n",
      " 0.99 0.99 0.99 0.99 0.99 0.99 0.99 0.99 0.99 0.99 0.99 0.99 0.54 0.35\n",
      " 0.1  0.07 0.04 0.   0.   0.   0.   0.   0.  ]\n"
     ]
    },
    {
     "data": {
      "image/png": "[encoded data removed]",
      "text/plain": [
       "<Figure size 432x288 with 1 Axes>"
      ]
     },
     "metadata": {
      "needs_background": "light"
     },
     "output_type": "display_data"
    },
    {
     "name": "stdout",
     "output_type": "stream",
     "text": [
      "위의 m=100, 500, 1000 그래프를 통해 우리는 m이 커지더라도 해당 누적확률그래프의 tail이 유사한 모습을 그림을 알 수 있다.\n"
     ]
    }
   ],
   "source": [
    "\"\"\"4_3_d\"\"\"\n",
    "\"\"\"모든 함수에 type 인자로 1을 넣으면 상삼각행렬로 과정을 수행한다.\"\"\"\n",
    "\n",
    "print('a-2')\n",
    "\"\"\"4_3_a-2\"\"\"\n",
    "makePlotForM(9, 1)\n",
    "print('m이 커질수록 eigenvalue가 모두 0에 수렴하는 모습을 보인다')\n",
    "\n",
    "\n",
    "print('b-2')\n",
    "\"\"\"4_3_b 상삼각 버전. 모든 함수에 type 인자로 1을 넣는다.\"\"\"\n",
    "setOfRadius = np.array([])\n",
    "setOfNorm2 = np.array([])\n",
    "nidx = np.array(range(5, 1001, 5))\n",
    "for i in range (5, 1001, 5):\n",
    "    setOfRadius = np.append(setOfRadius, getRadiusWithNorm2(i, 1)[0])\n",
    "    setOfNorm2 = np.append(setOfNorm2, getRadiusWithNorm2(i, 1)[1])\n",
    "\n",
    "\n",
    "fig, ax = plt.subplots()\n",
    "ax.scatter(nidx, setOfRadius, marker = '^', label = 'Spectral Radius')\n",
    "ax.scatter(nidx, setOfNorm2, marker = 'o', label = '2-Norm')\n",
    "plt.legend(loc = 'best')\n",
    "plt.show()\n",
    "\n",
    "print('마지막 1000번째 값 실제로 확인')\n",
    "print(getRadiusWithNorm2(1000, 1)[1] - getRadiusWithNorm2(1000, 1)[0])\n",
    "print('spectral radius는 0으로 수렴하는 반면 2-norm은 1.6으로 수렴한다. 따라서 m이 증가하더라도 등식에 가까워지지는 않는다.')\n",
    "\n",
    "\n",
    "print('c-2')\n",
    "\"\"\"4_3_c-2\"\"\"\n",
    "print('when m = 100')\n",
    "getProbabilityOfsizeM(100,1)\n",
    "print('when m = 500')\n",
    "getProbabilityOfsizeM(500,1)\n",
    "print('when m = 1000')\n",
    "getProbabilityOfsizeM(1000,1)\n",
    "\n",
    "print('위의 m=100, 500, 1000 그래프를 통해 우리는 m이 커지더라도 해당 누적확률그래프의 tail이 유사한 모습을 그림을 알 수 있다.')\n"
   ]
  },
  {
   "cell_type": "code",
   "execution_count": 98,
   "metadata": {},
   "outputs": [],
   "source": [
    "\"\"\"4_6 준비\"\"\"\n",
    "\n",
    "\n",
    "\"\"\"t만들기\"\"\"\n",
    "t = np.linspace(0, 1, 50)\n",
    "\n",
    "\"\"\"A만들기\"\"\"\n",
    "A = np.vander(t)\n",
    "A = np.fliplr(A)[:, 0:12]\n",
    "\"\"\"b만들기\"\"\"\n",
    "b = np.mat(np.cos(4*t))\n",
    "b = np.transpose(b)\n"
   ]
  },
  {
   "cell_type": "code",
   "execution_count": 99,
   "metadata": {},
   "outputs": [
    {
     "name": "stdout",
     "output_type": "stream",
     "text": [
      "[[ 0.99206055]\n",
      " [ 0.10413854]\n",
      " [-8.20566828]\n",
      " [ 0.25596783]\n",
      " [ 9.92738529]\n",
      " [ 1.37338835]\n",
      " [-6.89312611]\n",
      " [ 0.43127955]\n",
      " [ 1.75216836]\n",
      " [-0.15873205]\n",
      " [-0.28984775]\n",
      " [ 0.07115099]]\n"
     ]
    }
   ],
   "source": [
    "\"\"\"4_6_a\"\"\"\n",
    "\"\"\"Ax = b -> A'Ax = A'b -> x = (A'A)^-1*A'b using mgs\"\"\"\n",
    "normalA = np.matmul(A.T, A)\n",
    "x_a = np.matmul(np.matmul(np.linalg.inv(normalA), A.T), b)\n",
    "print(x_a)"
   ]
  },
  {
   "cell_type": "code",
   "execution_count": 100,
   "metadata": {},
   "outputs": [
    {
     "name": "stdout",
     "output_type": "stream",
     "text": [
      "[[ 1.00000000e+00]\n",
      " [-7.80741849e-07]\n",
      " [-7.99996781e+00]\n",
      " [-5.16377008e-04]\n",
      " [ 1.06709431e+01]\n",
      " [-2.06445282e-02]\n",
      " [-5.62772565e+00]\n",
      " [-1.10758970e-01]\n",
      " [ 1.73549472e+00]\n",
      " [-2.48104577e-02]\n",
      " [-3.61374792e-01]\n",
      " [ 8.57179143e-02]]\n"
     ]
    }
   ],
   "source": [
    "\"\"\"4_6_b\"\"\"\n",
    "\"\"\"Ax = b -> QRx = b -> Rx = Q'b -> \"\"\"\n",
    "[Q, R] = mgs(A)\n",
    "\n",
    "Qtb = np.matmul(Q.T, b)\n",
    "x_b = backSubstitution(R, Qtb)\n",
    "print(x_b)"
   ]
  },
  {
   "cell_type": "code",
   "execution_count": 101,
   "metadata": {},
   "outputs": [
    {
     "name": "stdout",
     "output_type": "stream",
     "text": [
      "[[ 1.00000000e+00]\n",
      " [-4.22743051e-07]\n",
      " [-7.99998124e+00]\n",
      " [-3.18763232e-04]\n",
      " [ 1.06694308e+01]\n",
      " [-1.38202878e-02]\n",
      " [-5.64707563e+00]\n",
      " [-7.53160223e-02]\n",
      " [ 1.69360696e+00]\n",
      " [ 6.03211103e-03]\n",
      " [-3.74241704e-01]\n",
      " [ 8.80405763e-02]]\n"
     ]
    }
   ],
   "source": [
    "\"\"\"4_6_c\"\"\"\n",
    "\"\"\"Ax = b -> A'Ax = A'b -> x = (A'A)^-1*A'b using qrhouse\"\"\"\n",
    "[V, R] = qrhouse(A)\n",
    "Q = formQ(V)\n",
    "\n",
    "Qtb = np.matmul(Q.T, b)\n",
    "x_c = backSubstitution(R, Qtb)\n",
    "print(x_c)"
   ]
  },
  {
   "cell_type": "code",
   "execution_count": 102,
   "metadata": {},
   "outputs": [
    {
     "name": "stdout",
     "output_type": "stream",
     "text": [
      "[[ 1.00000000e+00]\n",
      " [-4.22742764e-07]\n",
      " [-7.99998124e+00]\n",
      " [-3.18763193e-04]\n",
      " [ 1.06694308e+01]\n",
      " [-1.38202872e-02]\n",
      " [-5.64707563e+00]\n",
      " [-7.53160213e-02]\n",
      " [ 1.69360696e+00]\n",
      " [ 6.03211095e-03]\n",
      " [-3.74241704e-01]\n",
      " [ 8.80405762e-02]]\n"
     ]
    }
   ],
   "source": [
    "\"\"\"4_6_d\"\"\"\n",
    "\"\"\"Ax = b -> A'Ax = A'b -> x = (A'A)^-1*A'b using qr\"\"\"\n",
    "[Q, R] = np.linalg.qr(A)\n",
    "\n",
    "Qtb = np.matmul(Q.T, b)\n",
    "x_d = backSubstitution(R, Qtb)\n",
    "print(x_d)"
   ]
  },
  {
   "cell_type": "code",
   "execution_count": 103,
   "metadata": {},
   "outputs": [
    {
     "name": "stdout",
     "output_type": "stream",
     "text": [
      "[[ 1.00000000e+00]\n",
      " [-4.22742784e-07]\n",
      " [-7.99998124e+00]\n",
      " [-3.18763201e-04]\n",
      " [ 1.06694308e+01]\n",
      " [-1.38202874e-02]\n",
      " [-5.64707563e+00]\n",
      " [-7.53160220e-02]\n",
      " [ 1.69360696e+00]\n",
      " [ 6.03211053e-03]\n",
      " [-3.74241704e-01]\n",
      " [ 8.80405762e-02]]\n"
     ]
    }
   ],
   "source": [
    "\"\"\"4_6_f\"\"\"\n",
    "\"\"\"Ax = b -> UsV'x = b -> sx = U'bV -> x = U'bV/s\"\"\"\n",
    "[U, s, Vt] = np.linalg.svd(A)\n",
    "Utb = np.matmul(U.T, b)\n",
    "Vtx = backSubstitution(np.diag(s), Utb)\n",
    "x_f = Vt.T.dot(Vtx)\n",
    "print(x_f)"
   ]
  },
  {
   "cell_type": "code",
   "execution_count": 104,
   "metadata": {
    "scrolled": true
   },
   "outputs": [
    {
     "name": "stdout",
     "output_type": "stream",
     "text": [
      "<class 'numpy.float64'>\n",
      "<class 'numpy.float64'>\n",
      "<class 'numpy.float64'>\n",
      "<class 'numpy.float64'>\n",
      "<class 'numpy.float64'>\n",
      "파이썬에 long type이 없어서 float64를 사용했습니다.\n",
      "\u001b[31m[[ 0.99206055]\n",
      " [ 0.10413854]\n",
      " [-8.20566828]\n",
      " [ 0.25596783]\n",
      " [ 9.92738529]\n",
      " [ 1.37338835]\n",
      " [-6.89312611]\n",
      " [ 0.43127955]\n",
      " [ 1.75216836]\n",
      " [-0.15873205]\n",
      " [-0.28984775]\n",
      " [ 0.07115099]]\n"
     ]
    },
    {
     "data": {
      "text/plain": [
       "'normal equations은 다른것과 비교할때 불안정하다.'"
      ]
     },
     "execution_count": 104,
     "metadata": {},
     "output_type": "execute_result"
    }
   ],
   "source": [
    "\"\"\"4_6_g\"\"\"\n",
    "print(type(x_a[0, 0]))\n",
    "print(type(x_b[0, 0]))\n",
    "print(type(x_c[0, 0]))\n",
    "print(type(x_d[0, 0]))\n",
    "print(type(x_f[0, 0]))\n",
    "\n",
    "print(\"파이썬에 long type이 없어서 float64를 사용했습니다.\")\n",
    "\n",
    "print('\\033[31m'+str(x_a))\n",
    "\"\"\"normal equations은 다른것과 비교할때 불안정하다.\"\"\""
   ]
  },
  {
   "cell_type": "code",
   "execution_count": null,
   "metadata": {},
   "outputs": [],
   "source": []
  }
 ],
 "metadata": {
  "kernelspec": {
   "display_name": "Python 3",
   "language": "python",
   "name": "python3"
  },
  "language_info": {
   "codemirror_mode": {
    "name": "ipython",
    "version": 3
   },
   "file_extension": ".py",
   "mimetype": "text/x-python",
   "name": "python",
   "nbconvert_exporter": "python",
   "pygments_lexer": "ipython3",
   "version": "3.7.6"
  }
 },
 "nbformat": 4,
 "nbformat_minor": 4
}
