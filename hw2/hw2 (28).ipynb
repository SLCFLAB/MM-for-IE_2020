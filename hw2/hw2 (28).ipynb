{
 "cells": [
  {
   "cell_type": "code",
   "execution_count": 1,
   "metadata": {},
   "outputs": [],
   "source": [
    "import numpy as np\n",
    "import math\n",
    "import matplotlib.pyplot as plt\n",
    "import warnings"
   ]
  },
  {
   "cell_type": "code",
   "execution_count": 2,
   "metadata": {},
   "outputs": [],
   "source": [
    "np.set_printoptions(suppress=True, precision=11)\n",
    "warnings.filterwarnings(\"ignore\")"
   ]
  },
  {
   "cell_type": "code",
   "execution_count": 3,
   "metadata": {},
   "outputs": [
    {
     "name": "stdout",
     "output_type": "stream",
     "text": [
      "[[ 0.18257418584  0.98058067569]\n",
      " [ 0.91287092918 -0.19611613514]\n",
      " [ 0.36514837167  0.           ]]\n",
      "[[5.47722557505 2.73861278753]\n",
      " [0.            2.5495097568 ]]\n"
     ]
    }
   ],
   "source": [
    "# 1-(a)\n",
    "def clgs(A): \n",
    "    m, n = np.shape(A) \n",
    "    V = np.copy(A)\n",
    "    Q = np.eye(m, n) \n",
    "    R = np.zeros((n, n)) \n",
    "    for j in range(n): \n",
    "        for i in range(j): \n",
    "            R[i, j] = np.matmul(np.transpose(Q[:, [i]]), A[:, [j]]) \n",
    "            V[:, [j]] = V[:, [j]] - (R[i, j] * Q[:, [i]])\n",
    "        R[j, j] = np.linalg.norm(V[:, [j]])\n",
    "        Q[:, [j]] = V[:, [j]] / R[j, j]\n",
    "    return [Q, R]\n",
    "\n",
    "\n",
    "A = np.array([[1., 3.], [5., 2.], [2., 1.]]) \n",
    "\n",
    "[Q, R] = clgs(A)\n",
    "print(Q)\n",
    "print(R)"
   ]
  },
  {
   "cell_type": "code",
   "execution_count": 4,
   "metadata": {},
   "outputs": [
    {
     "name": "stdout",
     "output_type": "stream",
     "text": [
      "[[ 0.18257418584  0.98058067569]\n",
      " [ 0.91287092918 -0.19611613514]\n",
      " [ 0.36514837167  0.           ]]\n",
      "[[5.47722557505 2.73861278753]\n",
      " [0.            2.5495097568 ]]\n"
     ]
    }
   ],
   "source": [
    "# 1-(a)\n",
    "def mgs(A):\n",
    "    m, n = np.shape(A)\n",
    "    Q = np.copy(A)\n",
    "    R = np.zeros((n, n))\n",
    "    for i in range(n-1):\n",
    "        R[i, i] = np.linalg.norm(Q[:, [i]])\n",
    "        Q[:, [i]] = Q[:, [i]] / R[i, i]\n",
    "        R[[i], i+1:n] = np.matmul(np.transpose(Q[:, [i]]), Q[:, i+1:n])\n",
    "        Q[:, i+1:n] = Q[:, i+1:n] - np.matmul(Q[:, [i]], R[[i], i+1:n])\n",
    "        \n",
    "    R[n-1, n-1] = np.linalg.norm(Q[:, [n-1]])\n",
    "    Q[:, [n-1]] = Q[:, [n-1]] / R[n-1, n-1]\n",
    "    return [Q, R]\n",
    "    \n",
    "A = np.array([[1., 3.], [5., 2.], [2., 1.]]) \n",
    "[Q, R] = mgs(A)\n",
    "print(Q)\n",
    "print(R)"
   ]
  },
  {
   "cell_type": "code",
   "execution_count": 5,
   "metadata": {},
   "outputs": [
    {
     "data": {
      "image/png": "[encoded data removed]",
      "text/plain": [
       "<Figure size 432x288 with 1 Axes>"
      ]
     },
     "metadata": {
      "needs_background": "light"
     },
     "output_type": "display_data"
    }
   ],
   "source": [
    "# 1-(a)\n",
    "[U, X] = np.linalg.qr(np.random.randn(80, 80))\n",
    "[V, X] = np.linalg.qr(np.random.randn(80, 80))\n",
    "J = [2.**(-j) for j in range(1, 81)]\n",
    "S = np.diag(J)\n",
    "A = np.matmul(np.matmul(U, S), V)\n",
    "[Qc, Rc] = clgs(A)\n",
    "[Qm, Rm] = mgs(A)\n",
    "\n",
    "K = list(range(1,81))\n",
    "plt.xlabel('j')\n",
    "plt.ylabel(r'r_{jj}')\n",
    "plt.semilogy(K, np.diag(Rm), label='Modified Gram-Schmidt')\n",
    "plt.semilogy(K, np.diag(Rc), label='Classical Gram-Schmidt')\n",
    "plt.semilogy(K, np.diag(S), label='2^(-j)')\n",
    "plt.legend(loc='lower left')\n",
    "plt.show()"
   ]
  },
  {
   "cell_type": "code",
   "execution_count": 6,
   "metadata": {},
   "outputs": [
    {
     "name": "stdout",
     "output_type": "stream",
     "text": [
      "[[-0.18257418584  0.98058067569]\n",
      " [-0.91287092918 -0.19611613514]\n",
      " [-0.36514837167  0.           ]]\n"
     ]
    }
   ],
   "source": [
    "# 1-(b)\n",
    "def qrhouse(A):\n",
    "    m, n = np.shape(A)\n",
    "    R = np.copy(A)\n",
    "    V = np.zeros((m, n))\n",
    "    for k in range(min(m-1, n)):\n",
    "        x = R[k:m, [k]]\n",
    "        v = x + np.sign(x[0]) * np.linalg.norm(x) * np.eye(len(x), 1)\n",
    "        V[k:m, [k]] = v\n",
    "        R[k:m, k:n] = R[k:m, k:n] - np.matmul(2*v, np.matmul(np.transpose(v), R[k:m, k:n])) / np.matmul(np.transpose(v), v)\n",
    "    R = np.triu(R[:n, :n])\n",
    "    return [V, R]\n",
    "\n",
    "def formQ(V):\n",
    "    m, n = np.shape(V)\n",
    "    Q = np.eye(m, n)\n",
    "    for j in range(min(m-1, n)-1, -1, -1):\n",
    "        v = V[:, [j]]\n",
    "        Q = Q - np.matmul(2*v, np.matmul(np.transpose(v), Q)) / np.matmul(np.transpose(v), v)\n",
    "    return Q\n",
    "\n",
    "A = np.array([[1., 3.], [5., 2.], [2., 1.]]) \n",
    "[V, R] = qrhouse(A)\n",
    "Q = formQ(V)\n",
    "print(Q)"
   ]
  },
  {
   "cell_type": "code",
   "execution_count": 7,
   "metadata": {},
   "outputs": [
    {
     "name": "stdout",
     "output_type": "stream",
     "text": [
      "Householder: 3.451616545114987e-16\n",
      "Modified GS: 3.254726094493924e-11\n"
     ]
    }
   ],
   "source": [
    "# 1-(b)\n",
    "A = np.array([[.70000, .70711], [.70001, .70711]])\n",
    "[Qm, Rm] = mgs(A)\n",
    "[V, R] = qrhouse(A); Q = formQ(V)\n",
    "\n",
    "# Since Q and Qm is orthogonal matrix, Q'Q and Qm'Qm should be identity matrix.\n",
    "print('Householder:', np.linalg.norm(np.matmul(np.transpose(Q), Q) - np.eye(2)))\n",
    "print('Modified GS:', np.linalg.norm(np.matmul(np.transpose(Qm), Qm) - np.eye(2)))\n",
    "\n",
    "# Since the difference with Identity matrix is smaller in Householder QR factorization, it is more numerically stable.\n",
    "# There is no rank deficiency in Householder QR."
   ]
  },
  {
   "cell_type": "code",
   "execution_count": 8,
   "metadata": {
    "scrolled": false
   },
   "outputs": [
    {
     "name": "stdout",
     "output_type": "stream",
     "text": [
      "[[-0.7682212796   0.33265417936 -0.54697098874]\n",
      " [-0.64018439966 -0.39918501523  0.65636518649]\n",
      " [ 0.             0.85439599751  0.51962243931]]\n",
      "[[-7.81024967591 -4.48129079765 -2.56073759866]\n",
      " [ 0.             4.68166987163  0.96644793161]\n",
      " [-0.             0.             4.18432806389]]\n"
     ]
    }
   ],
   "source": [
    "# 2\n",
    "def givens(A):\n",
    "    m, n = np.shape(A)\n",
    "    R = np.copy(A)\n",
    "    Q = np.eye(m)\n",
    "    for j in range(n):\n",
    "        for i in range(m-1, j, -1):\n",
    "            x = R[[i-1, i], j]\n",
    "            theta = math.atan(x[1] / x[0])\n",
    "            G = np.eye(m)\n",
    "            G[i,i] = -math.cos(theta); G[i-1,i-1] = -math.cos(theta)\n",
    "            G[i-1,i] = -math.sin(theta); G[i,i-1] = math.sin(theta)\n",
    "            Q = np.matmul(Q, np.transpose(G))\n",
    "            R = np.matmul(G, R)\n",
    "    return [Q, R]\n",
    "\n",
    "A = np.array([[6.,5.,0.], [5.,1.,4.],[0.,4.,3.]])\n",
    "[Q, R] = givens(A)\n",
    "print(Q)\n",
    "print(R)"
   ]
  },
  {
   "cell_type": "code",
   "execution_count": 9,
   "metadata": {
    "scrolled": false
   },
   "outputs": [
    {
     "data": {
      "image/png": "[encoded data removed]",
      "text/plain": [
       "<Figure size 432x288 with 1 Axes>"
      ]
     },
     "metadata": {
      "needs_background": "light"
     },
     "output_type": "display_data"
    }
   ],
   "source": [
    "# 3 - (a)\n",
    "\n",
    "cand = [8, 16, 32, 64, 128, 256, 512]\n",
    "mat_no = 100\n",
    "for m in cand:\n",
    "    eig = np.zeros(m * mat_no)\n",
    "    for i in range(mat_no):\n",
    "        A = np.random.randn(m, m) / np.sqrt(m)\n",
    "        w, v = np.linalg.eig(A)\n",
    "        eig[m*i:m*(i+1)] = w\n",
    "    plt.semilogx([m for i in range(m * mat_no)], eig)\n",
    "\n",
    "# As m increases, the maximum absolute value of eigenvalue(spectral radius) decreases. \n",
    "# However, it seems like the decreasing size also decreases."
   ]
  },
  {
   "cell_type": "code",
   "execution_count": 10,
   "metadata": {
    "scrolled": true
   },
   "outputs": [
    {
     "data": {
      "image/png": "[encoded data removed]",
      "text/plain": [
       "<Figure size 432x288 with 1 Axes>"
      ]
     },
     "metadata": {
      "needs_background": "light"
     },
     "output_type": "display_data"
    }
   ],
   "source": [
    "# 3 - (b)\n",
    "\n",
    "cand = [8, 16, 32, 64, 128, 256, 512]\n",
    "mat_no = 100\n",
    "for m in cand:\n",
    "    norms = np.zeros(mat_no)\n",
    "    for i in range(mat_no):\n",
    "        A = np.random.randn(m, m) / np.sqrt(m)\n",
    "        norm = np.linalg.norm(A, ord=2)\n",
    "        norms[i] = norm\n",
    "    plt.semilogx([m for i in range(mat_no)], norms)\n",
    "    \n",
    "# You can find that matrix 2-norm is larger than spectral radius. \n",
    "# Also, as m increases, the inequality does NOT appear to approach an equality."
   ]
  },
  {
   "cell_type": "code",
   "execution_count": 11,
   "metadata": {},
   "outputs": [
    {
     "data": {
      "image/png": "[encoded data removed]",
      "text/plain": [
       "<Figure size 432x288 with 2 Axes>"
      ]
     },
     "metadata": {
      "needs_background": "light"
     },
     "output_type": "display_data"
    }
   ],
   "source": [
    "# 3 - (c)\n",
    "\n",
    "mat_no = 100\n",
    "m = 8\n",
    "norms = np.zeros(mat_no)\n",
    "for i in range(mat_no):\n",
    "    A = np.random.randn(m, m) / np.sqrt(m)\n",
    "    norm = np.linalg.norm(A, ord=-2)\n",
    "    norms[i] = norm\n",
    "\n",
    "bounds = [2, 4, 8, 16, 32, 64, 128, 256]\n",
    "props = [np.mean(norms <= 1/bound) for bound in bounds]\n",
    "plt.subplot(121)\n",
    "plt.plot(bounds, props, 'ro')\n",
    "\n",
    "# When m is doubled, the proportion of matrices that \"minimum singular value <= 1/m\" becomes slightly more than half.\n",
    "# The tail of the probability distribution looks like Gaussian distribution.\n",
    "\n",
    "\n",
    "\n",
    "cand = [8, 16, 32, 64, 128, 256, 512]\n",
    "for m in cand:\n",
    "    norms = np.zeros(mat_no)\n",
    "    for i in range(mat_no):\n",
    "        A = np.random.randn(m, m) / np.sqrt(m)\n",
    "        norm = np.linalg.norm(A, ord=-2)\n",
    "        norms[i] = norm\n",
    "    \n",
    "    plt.subplot(122)\n",
    "    plt.semilogx([m for i in range(mat_no)], norms)\n",
    "\n",
    "# As m increases, the smallest singular value goes smaller."
   ]
  },
  {
   "cell_type": "code",
   "execution_count": 12,
   "metadata": {
    "scrolled": true
   },
   "outputs": [
    {
     "data": {
      "image/png": "[encoded data removed]",
      "text/plain": [
       "<Figure size 432x288 with 4 Axes>"
      ]
     },
     "metadata": {
      "needs_background": "light"
     },
     "output_type": "display_data"
    }
   ],
   "source": [
    "# 3 - (d)\n",
    "\n",
    "# When you change full matrices to upper triangular matrices, \n",
    "# the scale of values (e.g. spectral radius, 2-norm, smallest singular value) all becomes smaller than before.\n",
    "# However, the increase/decrease property does not change as m changes. (Inequality also does not approach equality.)\n",
    "\n",
    "cand = [8, 16, 32, 64, 128, 256, 512]\n",
    "mat_no = 100\n",
    "for m in cand:\n",
    "    eig = np.zeros(m * mat_no)\n",
    "    for i in range(mat_no):\n",
    "        A = np.triu(np.random.randn(m, m)) / np.sqrt(m)\n",
    "        w, v = np.linalg.eig(A)\n",
    "        eig[m*i:m*(i+1)] = w\n",
    "    plt.subplot(221)\n",
    "    plt.semilogx([m for i in range(m * mat_no)], eig)\n",
    "\n",
    "\n",
    "for m in cand:\n",
    "    norms = np.zeros(mat_no)\n",
    "    for i in range(mat_no):\n",
    "        A = np.triu(np.random.randn(m, m)) / np.sqrt(m)\n",
    "        norm = np.linalg.norm(A, ord=2)\n",
    "        norms[i] = norm\n",
    "    plt.subplot(222)\n",
    "    plt.semilogx([m for i in range(mat_no)], norms)   \n",
    "    \n",
    "\n",
    "m = 8\n",
    "norms = np.zeros(mat_no)\n",
    "for i in range(mat_no):\n",
    "    A = np.triu(np.random.randn(m, m)) / np.sqrt(m)\n",
    "    norm = np.linalg.norm(A, ord=-2)\n",
    "    norms[i] = norm\n",
    "\n",
    "bounds = [2, 4, 8, 16, 32, 64, 128, 256]\n",
    "props = [np.mean(norms <= 1/bound) for bound in bounds]\n",
    "plt.subplot(223)\n",
    "plt.plot(bounds, props, 'ro')\n",
    "\n",
    "\n",
    "for m in cand:\n",
    "    norms = np.zeros(mat_no)\n",
    "    for i in range(mat_no):\n",
    "        A = np.triu(np.random.randn(m, m)) / np.sqrt(m)\n",
    "        norm = np.linalg.norm(A, ord=-2)\n",
    "        norms[i] = norm\n",
    "    \n",
    "    plt.subplot(224)\n",
    "    plt.semilogx([m for i in range(mat_no)], norms)"
   ]
  },
  {
   "cell_type": "code",
   "execution_count": 14,
   "metadata": {},
   "outputs": [
    {
     "name": "stdout",
     "output_type": "stream",
     "text": [
      "x_1\n",
      " \u001b[31m [ 1.0000000267  -0.00000799095 -7.9996970371  -0.004506381\n",
      " 10.70149198984 -0.15852142812 -5.23676443833 -0.8268261131\n",
      "  2.58165417207 -0.64773847278 -0.10155515833  0.03882719423] \u001b[0m\n",
      "\n",
      "x_2\n",
      " \u001b[31m [ 1.00000000072 -0.00000031765 -7.99998554886 -0.00025118158\n",
      " 10.66888851355 -0.01127938505 -5.65450548994 -0.06135294324\n",
      "  1.6767417645   0.01868453684 -0.37960643417  0.08902286577] \u001b[0m\n",
      "\n",
      "x_3\n",
      " [ 1.000000001   -0.00000042274 -7.99998123568 -0.00031876333\n",
      " 10.66943079657 -0.01382029077 -5.64707562003 -0.07531603693\n",
      "  1.69360697767  0.00603209872 -0.37424169939  0.08804057536]\n",
      "\n",
      "x_4\n",
      " [ 1.000000001   -0.00000042274 -7.99998123568 -0.00031876332\n",
      " 10.66943079645 -0.01382029007 -5.64707562225 -0.0753160326\n",
      "  1.69360697233  0.00603210277 -0.37424170112  0.08804057567]\n",
      "\n",
      "x_5\n",
      " Matlab Result\n",
      "ans =\n",
      "\n",
      "   1.000000000996607\n",
      "  -0.000000422743364\n",
      "  -7.999981235676154\n",
      "  -0.000318763346323\n",
      "  10.669430796641096\n",
      "  -0.013820290914619\n",
      "  -5.647075619959385\n",
      "  -0.075316036589419\n",
      "   1.693606976803618\n",
      "   0.006032099645104\n",
      "  -0.374241699881279\n",
      "   0.088040575462356\n",
      "\n",
      "x_6\n",
      " [ 1.000000001   -0.00000042274 -7.99998123568 -0.00031876332\n",
      " 10.66943079644 -0.01382029007 -5.64707562219 -0.07531603285\n",
      "  1.69360697279  0.0060321023  -0.37424170087  0.08804057562]\n"
     ]
    }
   ],
   "source": [
    "# 4 \n",
    "\n",
    "m = 50\n",
    "n = 12\n",
    "\n",
    "t = np.linspace(0, 1, m)\n",
    "A = np.fliplr(np.vander(t, n))\n",
    "b = np.cos(4*t)\n",
    "\n",
    "# (a)\n",
    "x_1 = np.linalg.solve(np.matmul(np.transpose(A), A), np.matmul(np.transpose(A), b))\n",
    "print('x_1\\n', '\\033[31m', x_1, '\\033[0m')\n",
    "\n",
    "# (b)\n",
    "[Q, R] = mgs(A)\n",
    "x_2 = np.linalg.solve(R, np.matmul(np.transpose(Q), b))\n",
    "print('\\nx_2\\n', '\\033[31m', x_2, '\\033[0m')\n",
    "\n",
    "# (c)\n",
    "[V, R] = qrhouse(A)\n",
    "Q = formQ(V)\n",
    "x_3 = np.linalg.solve(R, np.matmul(np.transpose(Q), b))\n",
    "print('\\nx_3\\n', x_3)\n",
    "\n",
    "# (d)\n",
    "Q, R = np.linalg.qr(A)\n",
    "x_4 = np.linalg.solve(R, np.matmul(np.transpose(Q), b))\n",
    "print('\\nx_4\\n', x_4)\n",
    "\n",
    "# (e)\n",
    "# A\\b is impossible in Python. I calculated A\\b in Matlab and wrote below.\n",
    "print('\\nx_5\\n', 'Matlab Result\\n'\n",
    "'''ans =\n",
    "\n",
    "   1.000000000996607\n",
    "  -0.000000422743364\n",
    "  -7.999981235676154\n",
    "  -0.000318763346323\n",
    "  10.669430796641096\n",
    "  -0.013820290914619\n",
    "  -5.647075619959385\n",
    "  -0.075316036589419\n",
    "   1.693606976803618\n",
    "   0.006032099645104\n",
    "  -0.374241699881279\n",
    "   0.088040575462356'''\n",
    ")\n",
    "\n",
    "\n",
    "# (f)\n",
    "u, s, vh = np.linalg.svd(A)\n",
    "x_6 = np.matmul(np.matmul(np.transpose(vh), np.concatenate((np.diag(1/s), np.zeros((n, m-n))), axis=1)), np.matmul(np.transpose(u), b))\n",
    "print('\\nx_6\\n', x_6)\n",
    "\n",
    "\n",
    "# x_1 and x_2 produces the digits that appear to be wrong due to round-off error.\n",
    "# Conversely, solutions using Householder QR and SVD shows stability.\n",
    "# Therefore, we can notice that the solution of normal equations(x_1) exhibits instability. "
   ]
  }
 ],
 "metadata": {
  "kernelspec": {
   "display_name": "Python 3",
   "language": "python",
   "name": "python3"
  },
  "language_info": {
   "codemirror_mode": {
    "name": "ipython",
    "version": 3
   },
   "file_extension": ".py",
   "mimetype": "text/x-python",
   "name": "python",
   "nbconvert_exporter": "python",
   "pygments_lexer": "ipython3",
   "version": "3.7.4"
  }
 },
 "nbformat": 4,
 "nbformat_minor": 2
}
