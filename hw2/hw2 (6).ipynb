{
 "cells": [
  {
   "cell_type": "markdown",
   "metadata": {},
   "source": [
    "## Question 1"
   ]
  },
  {
   "cell_type": "markdown",
   "metadata": {},
   "source": [
    "### (a)"
   ]
  },
  {
   "cell_type": "code",
   "execution_count": 1,
   "metadata": {},
   "outputs": [],
   "source": [
    "import numpy as np"
   ]
  },
  {
   "cell_type": "code",
   "execution_count": 2,
   "metadata": {},
   "outputs": [],
   "source": [
    "## classical gram schmidt algorithm 구현\n",
    "\n",
    "def clgs(matrix):\n",
    "    m = matrix.shape[0]\n",
    "    n = matrix.shape[1]\n",
    "    Q = np.zeros([m, n])\n",
    "    R = np.zeros([n, n])\n",
    "    for i in range(n):\n",
    "        if i == 0:\n",
    "            a_prime = matrix[:, i]\n",
    "        else:\n",
    "            R[:i-1, i] = np.dot(np.transpose(Q[:, :i-1]), matrix[:, i])\n",
    "            a_prime = matrix[:, i] - np.dot(Q[:, :i-1], R[:i-1, i])\n",
    "        R[i, i] = np.linalg.norm(a_prime)\n",
    "        Q[:, i] = a_prime / R[i, i]\n",
    "    return Q, R"
   ]
  },
  {
   "cell_type": "code",
   "execution_count": 3,
   "metadata": {},
   "outputs": [
    {
     "name": "stdout",
     "output_type": "stream",
     "text": [
      "[[ 2.3936383  -0.88694734 -1.56415371 -0.76358037]\n",
      " [-0.86143727  1.56348805  1.5719911   0.44922917]\n",
      " [-0.25730558 -0.42675025  1.95560825 -0.13205569]\n",
      " [ 0.15208535 -0.33427853 -0.65223035  0.55983063]]\n",
      "[[ 0.9344936  -0.47240722  0.25115598  0.35782679]\n",
      " [-0.3363113   0.83274735  0.40114286 -0.43121052]\n",
      " [-0.10045395 -0.22729636  0.84369647 -0.071583  ]\n",
      " [ 0.05937521 -0.17804393 -0.25334037  0.82516262]]\n",
      "[[ 2.56142823  0.         -2.2255449  -0.81813624]\n",
      " [ 0.          1.87750589  0.          0.66515661]\n",
      " [ 0.          0.          2.0529225   0.        ]\n",
      " [ 0.          0.          0.          0.88083819]]\n"
     ]
    }
   ],
   "source": [
    "## random 4 * 4 행렬 생성 후 분해\n",
    "\n",
    "A = np.random.randn(4, 4)\n",
    "Q, R = clgs(A)\n",
    "print(A)\n",
    "print(Q)\n",
    "print(R)"
   ]
  },
  {
   "cell_type": "code",
   "execution_count": 4,
   "metadata": {},
   "outputs": [
    {
     "data": {
      "text/plain": [
       "array([[ 2.3936383 , -0.88694734, -1.56415371, -0.76358037],\n",
       "       [-0.86143727,  1.56348805,  1.5719911 ,  0.44922917],\n",
       "       [-0.25730558, -0.42675025,  1.95560825, -0.13205569],\n",
       "       [ 0.15208535, -0.33427853, -0.65223035,  0.55983063]])"
      ]
     },
     "execution_count": 4,
     "metadata": {},
     "output_type": "execute_result"
    }
   ],
   "source": [
    "## A = QR 확인\n",
    "\n",
    "np.matmul(Q, R)"
   ]
  },
  {
   "cell_type": "code",
   "execution_count": 5,
   "metadata": {},
   "outputs": [
    {
     "data": {
      "text/plain": [
       "array([[ 1.00000000e+00, -7.09262452e-01,  5.55111512e-17,\n",
       "         5.35592824e-01],\n",
       "       [-7.09262452e-01,  1.00000000e+00,  6.87393322e-02,\n",
       "        -6.58774022e-01],\n",
       "       [ 5.55111512e-17,  6.87393322e-02,  1.00000000e+00,\n",
       "        -3.52548006e-01],\n",
       "       [ 5.35592824e-01, -6.58774022e-01, -3.52548006e-01,\n",
       "         1.00000000e+00]])"
      ]
     },
     "execution_count": 5,
     "metadata": {},
     "output_type": "execute_result"
    }
   ],
   "source": [
    "## Q^t * Q = I 확인(round off error 상당히 발생)\n",
    "\n",
    "np.matmul(np.transpose(Q), Q)"
   ]
  },
  {
   "cell_type": "code",
   "execution_count": 6,
   "metadata": {},
   "outputs": [],
   "source": [
    "## modified gram schmidt algoritgm 구현\n",
    "\n",
    "def mgs(matrix):\n",
    "    m = matrix.shape[0]\n",
    "    n = matrix.shape[1]\n",
    "    Q = matrix.copy()\n",
    "    R = np.zeros([n, n])\n",
    "    for i in range(n-1):\n",
    "        R[i, i] = np.linalg.norm(matrix[:, i])\n",
    "        Q[:, i] = Q[:, i] / R[i, i]\n",
    "        R[i, i+1:] = np.dot(np.transpose(Q[:, i]), Q[:, i+1:])\n",
    "        Q[:, i+1:] = Q[:, i+1:] - np.outer(Q[:, i], R[i, i+1:])\n",
    "    R[n-1, n-1] = np.linalg.norm(Q[:, n-1])\n",
    "    Q[:, n-1] = Q[:, n-1] / R[n-1, n-1]\n",
    "    return Q, R"
   ]
  },
  {
   "cell_type": "code",
   "execution_count": 7,
   "metadata": {},
   "outputs": [
    {
     "name": "stdout",
     "output_type": "stream",
     "text": [
      "[[ 0.57484988  1.01744617 -1.38343549 -0.01907287]\n",
      " [ 0.64541023 -0.02160519 -0.50538402  0.58176781]\n",
      " [ 1.66610126 -0.54791733 -1.43878924 -0.22855083]\n",
      " [-1.08257604 -0.49087574  0.28541308  1.88376683]]\n",
      "[[ 0.26530328  0.79177475 -0.25990949  0.38544904]\n",
      " [ 0.29786811 -0.03794663  0.00137213  0.60768013]\n",
      " [ 0.76893488 -0.48987942 -0.15018055  0.07979878]\n",
      " [-0.49962778 -0.35612117 -0.36832457  0.68977247]]\n",
      "[[ 2.16676511  0.08743872 -1.76650328 -0.94869296]\n",
      " [ 0.          1.25572126 -0.47300006 -0.59606445]\n",
      " [ 0.          0.          2.0786731  -0.65441588]\n",
      " [ 0.          0.          0.          1.38663822]]\n"
     ]
    }
   ],
   "source": [
    "## random 4 * 4 행렬 생성 후 분해\n",
    "\n",
    "A = np.random.randn(4, 4)\n",
    "Q, R = mgs(A)\n",
    "print(A)\n",
    "print(Q)\n",
    "print(R)"
   ]
  },
  {
   "cell_type": "code",
   "execution_count": 8,
   "metadata": {},
   "outputs": [
    {
     "data": {
      "text/plain": [
       "array([[ 0.57484988,  1.01744617, -1.38343549, -0.01907287],\n",
       "       [ 0.64541023, -0.02160519, -0.50538402,  0.58176781],\n",
       "       [ 1.66610126, -0.54791733, -1.43878924, -0.22855083],\n",
       "       [-1.08257604, -0.49087574,  0.28541308,  1.88376683]])"
      ]
     },
     "execution_count": 8,
     "metadata": {},
     "output_type": "execute_result"
    }
   ],
   "source": [
    "## A = QR 확인\n",
    "\n",
    "np.matmul(Q, R)"
   ]
  },
  {
   "cell_type": "code",
   "execution_count": 9,
   "metadata": {},
   "outputs": [
    {
     "data": {
      "text/plain": [
       "array([[ 1.00000000e+00,  0.00000000e+00,  3.05311332e-16,\n",
       "         2.22044605e-16],\n",
       "       [ 0.00000000e+00,  9.95151347e-01, -1.10330629e-03,\n",
       "        -2.60495541e-03],\n",
       "       [ 3.05311332e-16, -1.10330629e-03,  2.25772011e-01,\n",
       "        -3.65392415e-01],\n",
       "       [ 2.22044605e-16, -2.60495541e-03, -3.65392415e-01,\n",
       "         1.00000000e+00]])"
      ]
     },
     "execution_count": 9,
     "metadata": {},
     "output_type": "execute_result"
    }
   ],
   "source": [
    "## Q^t * Q = I 확인(대각 성분 오차 심하게 발생)\n",
    "\n",
    "np.matmul(Q.T, Q)"
   ]
  },
  {
   "cell_type": "code",
   "execution_count": 10,
   "metadata": {},
   "outputs": [],
   "source": [
    "## 연습문제 3-2(a)에 있는 code 구현\n",
    "\n",
    "U, X = np.linalg.qr(np.random.randn(80, 80))\n",
    "V, X = np.linalg.qr(np.random.randn(80, 80))\n",
    "S = np.diag(np.array([2 ** (-i-1) for i in range(80)]))\n",
    "A = np.matmul(U, np.matmul(S, V))\n",
    "Qc, Rc = clgs(A)\n",
    "Qm, Rm = mgs(A)"
   ]
  },
  {
   "cell_type": "code",
   "execution_count": 11,
   "metadata": {},
   "outputs": [
    {
     "data": {
      "image/png": "[encoded data removed]",
      "text/plain": [
       "<Figure size 432x288 with 1 Axes>"
      ]
     },
     "metadata": {
      "needs_background": "light"
     },
     "output_type": "display_data"
    }
   ],
   "source": [
    "## 두 방법 비교 plot, result : modified algorithm is more numerically stable.\n",
    "\n",
    "import matplotlib.pyplot as plt\n",
    "%matplotlib inline\n",
    "\n",
    "x = np.log2(np.diag(S))\n",
    "y1 = np.log2(np.abs(np.diag(Rc)))\n",
    "y2 = np.log2(np.abs(np.diag(Rm)))\n",
    "plt.scatter(x, y1, s = 3, c = 'g', label = 'classical')\n",
    "plt.scatter(x, y2, s = 3, c = 'r', label = 'modified')\n",
    "plt.xlabel('Sjj(log)')\n",
    "plt.ylabel('rjj(log)')\n",
    "plt.legend()\n",
    "plt.show()"
   ]
  },
  {
   "cell_type": "markdown",
   "metadata": {},
   "source": [
    "### (b)"
   ]
  },
  {
   "cell_type": "code",
   "execution_count": 12,
   "metadata": {},
   "outputs": [],
   "source": [
    "## qrhouse, formQ 구현\n",
    "\n",
    "def qrhouse(matrix):\n",
    "    m = matrix.shape[0]\n",
    "    n = matrix.shape[1]\n",
    "    R = matrix.copy()\n",
    "    V = np.zeros([m, n])\n",
    "    for i in range(min(m-1, n)):\n",
    "        x = R[i:, i]\n",
    "        v = x + np.sign(x[0]) * np.linalg.norm(x) * np.eye(len(x))[0]\n",
    "        V[i:, i] = v\n",
    "        R[i:, i:] = R[i:, i:] - np.outer(2*v, np.matmul(np.transpose(v), R[i:, i:])) / np.dot(np.transpose(v), v)\n",
    "    return V, np.triu(R[:n,:n])\n",
    "\n",
    "def formQ(V):\n",
    "    m = V.shape[0]\n",
    "    n = V.shape[1]\n",
    "    Q = np.eye(m)\n",
    "    for i in range(min(m-1, n)-1, -1, -1):\n",
    "        v = V[:,i]\n",
    "        Q = Q - np.outer(2*v, np.matmul(np.transpose(v), Q)) /  np.dot(np.transpose(v), v)\n",
    "    return Q"
   ]
  },
  {
   "cell_type": "code",
   "execution_count": 13,
   "metadata": {},
   "outputs": [
    {
     "name": "stdout",
     "output_type": "stream",
     "text": [
      "[[ 0.01920444  0.71651368 -0.23015456 -0.24266517]\n",
      " [ 0.93428578 -0.19619948 -1.19149163 -0.2220908 ]\n",
      " [ 0.57869778 -0.20282826 -0.19521136 -0.03341559]\n",
      " [ 0.80432695 -1.1955275   1.19494133 -0.99968743]]\n",
      "[[-0.01409999  0.67092537  0.7019462  -0.23860401]\n",
      " [-0.68595724  0.39789388 -0.50826006 -0.3358792 ]\n",
      " [-0.42488278  0.17167571  0.12643025  0.87978263]\n",
      " [-0.59054083 -0.60172009  0.48265789 -0.23714093]]\n",
      "[[-1.36201751  0.91666766  0.19783779  0.76032033]\n",
      " [ 0.          1.08721286 -1.38103701  0.34461658]\n",
      " [ 0.          0.          0.99609873 -0.54418978]\n",
      " [ 0.          0.          0.          0.34016491]]\n"
     ]
    }
   ],
   "source": [
    "## random 4 * 4 행렬 생성 후 분해\n",
    "\n",
    "A = np.random.randn(4, 4)\n",
    "V, R = qrhouse(A)\n",
    "Q = formQ(V)\n",
    "print(A)\n",
    "print(Q)\n",
    "print(R)"
   ]
  },
  {
   "cell_type": "code",
   "execution_count": 14,
   "metadata": {},
   "outputs": [
    {
     "data": {
      "text/plain": [
       "array([[ 0.01920444,  0.71651368, -0.23015456, -0.24266517],\n",
       "       [ 0.93428578, -0.19619948, -1.19149163, -0.2220908 ],\n",
       "       [ 0.57869778, -0.20282826, -0.19521136, -0.03341559],\n",
       "       [ 0.80432695, -1.1955275 ,  1.19494133, -0.99968743]])"
      ]
     },
     "execution_count": 14,
     "metadata": {},
     "output_type": "execute_result"
    }
   ],
   "source": [
    "## A = QR 확인\n",
    "\n",
    "np.matmul(Q, R)"
   ]
  },
  {
   "cell_type": "code",
   "execution_count": 15,
   "metadata": {},
   "outputs": [
    {
     "data": {
      "text/plain": [
       "array([[ 1.00000000e+00,  4.16333634e-17, -1.38777878e-17,\n",
       "         0.00000000e+00],\n",
       "       [ 4.16333634e-17,  1.00000000e+00,  3.88578059e-16,\n",
       "         5.20417043e-18],\n",
       "       [-1.38777878e-17,  3.88578059e-16,  1.00000000e+00,\n",
       "         1.38777878e-17],\n",
       "       [ 0.00000000e+00,  5.20417043e-18,  1.38777878e-17,\n",
       "         1.00000000e+00]])"
      ]
     },
     "execution_count": 15,
     "metadata": {},
     "output_type": "execute_result"
    }
   ],
   "source": [
    "## Q^t * Q = I 확인(round off error 눈에 띄게 감소)\n",
    "\n",
    "np.matmul(np.transpose(Q), Q)"
   ]
  },
  {
   "cell_type": "code",
   "execution_count": 16,
   "metadata": {},
   "outputs": [
    {
     "name": "stdout",
     "output_type": "stream",
     "text": [
      "Built-in function's value :  2.82842712474619\n",
      "QRhouse value :  2.8284271247461903\n",
      "Modified-gs value :  2.828427124734683\n"
     ]
    }
   ],
   "source": [
    "## 연습문제 3.2(b) 코드 작성, qrhouse가 훨씬 numerically stable한 것을 확인(built-in 함수와 비교)\n",
    "\n",
    "A = np.array([[0.70000, 0.70711], [0.70001, 0.70711]])\n",
    "Qm, Rm = mgs(A)\n",
    "V, R = qrhouse(A)\n",
    "Q = formQ(V)\n",
    "Qt, Rt = np.linalg.qr(A)\n",
    "print(\"Built-in function's value : \", np.linalg.norm(np.outer(np.transpose(Qt), Qt - np.eye(2))))\n",
    "print(\"QRhouse value : \", np.linalg.norm(np.outer(np.transpose(Q), Q - np.eye(2))))\n",
    "print(\"Modified-gs value : \", np.linalg.norm(np.outer(np.transpose(Qm), Qm - np.eye(2))))"
   ]
  },
  {
   "cell_type": "markdown",
   "metadata": {},
   "source": [
    "## Question 2"
   ]
  },
  {
   "cell_type": "code",
   "execution_count": 17,
   "metadata": {},
   "outputs": [],
   "source": [
    "## 기븐스 회전 행렬 G를 찾는 함수\n",
    "\n",
    "def find_G(matrix, i, k):\n",
    "    dim = matrix.shape[0]\n",
    "    G = np.eye(dim)\n",
    "    sin = np.sqrt((matrix[i][k] ** 2) / ((matrix[k][k] ** 2) + (matrix[i][k] ** 2))) ## 곱해서 원하는 성분을 0으로 만드는 sin, cos 찾기\n",
    "    cos = np.sqrt(1 - (sin ** 2))\n",
    "    G[i][i] = cos\n",
    "    G[i][k] = -sin\n",
    "    G[k][i] = sin\n",
    "    G[k][k] = cos\n",
    "    if(abs(sin * matrix[k][k] + cos * matrix[i][k]) < 10 ** -6): ## sin, -sin 부호 결정 부분\n",
    "        G[i][k] = G[i][k] * -1\n",
    "        G[k][i] = G[k][i] * -1\n",
    "    return G"
   ]
  },
  {
   "cell_type": "code",
   "execution_count": 18,
   "metadata": {},
   "outputs": [],
   "source": [
    "## 기븐스 회전을 이용한 QR분해 함수\n",
    "\n",
    "def givens_QR(matrix):\n",
    "    m = matrix.shape[0]\n",
    "    n = matrix.shape[1]\n",
    "    Q = np.eye(m)\n",
    "    R = matrix.copy()\n",
    "    for k in range(n-1):\n",
    "        for i in range(m-1, k, -1):\n",
    "            G = find_G(R, i, k)\n",
    "            Q = np.matmul(Q, np.transpose(G))\n",
    "            R = np.matmul(G, R)\n",
    "    return Q, R"
   ]
  },
  {
   "cell_type": "code",
   "execution_count": 19,
   "metadata": {},
   "outputs": [
    {
     "name": "stdout",
     "output_type": "stream",
     "text": [
      "[[-1.46915169 -0.91213443 -1.13550411 -1.29691586]\n",
      " [-1.36294047 -0.18045811  1.70943861 -1.31050291]\n",
      " [ 0.19540101  0.14816546  1.30639123 -1.39540862]\n",
      " [ 1.07982504  0.60582604  2.46374956 -0.40951594]]\n",
      "[[ 0.64301685 -0.52916732  0.53029914  0.15904119]\n",
      " [ 0.59653044  0.79708042  0.04782338  0.08079094]\n",
      " [-0.08552292  0.12232561  0.48430838 -0.86207173]\n",
      " [-0.47261675  0.26397198  0.69421981  0.4743533 ]]\n",
      "[[-2.28477944e+00 -9.93161645e-01 -9.86551835e-01 -1.30281012e+00]\n",
      " [ 1.93453424e-16  5.16877630e-01  2.77359765e+00 -6.37085663e-01]\n",
      " [ 1.31711328e-16 -1.53961571e-18  1.82267425e+00 -1.71052819e+00]\n",
      " [ 8.63294823e-17  2.53834351e-18  3.31945957e-16  6.96547281e-01]]\n"
     ]
    }
   ],
   "source": [
    "## random 4 * 4 행렬 생성 후 분해 (R에서 하삼각 성분들 round off error 존재)\n",
    "\n",
    "A = np.random.randn(4, 4)\n",
    "Q, R = givens_QR(A)\n",
    "print(A)\n",
    "print(Q)\n",
    "print(R)"
   ]
  },
  {
   "cell_type": "code",
   "execution_count": 20,
   "metadata": {},
   "outputs": [
    {
     "data": {
      "text/plain": [
       "array([[-1.46915169, -0.91213443, -1.13550411, -1.29691586],\n",
       "       [-1.36294047, -0.18045811,  1.70943861, -1.31050291],\n",
       "       [ 0.19540101,  0.14816546,  1.30639123, -1.39540862],\n",
       "       [ 1.07982504,  0.60582604,  2.46374956, -0.40951594]])"
      ]
     },
     "execution_count": 20,
     "metadata": {},
     "output_type": "execute_result"
    }
   ],
   "source": [
    "## A = QR 확인\n",
    "\n",
    "np.matmul(Q, R)"
   ]
  },
  {
   "cell_type": "code",
   "execution_count": 21,
   "metadata": {},
   "outputs": [
    {
     "data": {
      "text/plain": [
       "array([[ 1.00000000e+00,  0.00000000e+00,  0.00000000e+00,\n",
       "        -5.55111512e-17],\n",
       "       [ 0.00000000e+00,  1.00000000e+00,  0.00000000e+00,\n",
       "         0.00000000e+00],\n",
       "       [ 0.00000000e+00,  0.00000000e+00,  1.00000000e+00,\n",
       "         5.55111512e-17],\n",
       "       [-5.55111512e-17,  0.00000000e+00,  5.55111512e-17,\n",
       "         1.00000000e+00]])"
      ]
     },
     "execution_count": 21,
     "metadata": {},
     "output_type": "execute_result"
    }
   ],
   "source": [
    "## Q^t * Q = I 확인\n",
    "\n",
    "np.matmul(np.transpose(Q), Q)"
   ]
  },
  {
   "cell_type": "code",
   "execution_count": 22,
   "metadata": {},
   "outputs": [
    {
     "name": "stdout",
     "output_type": "stream",
     "text": [
      "[[-0.64301685  0.52916732 -0.53029914  0.15904119]\n",
      " [-0.59653044 -0.79708042 -0.04782338  0.08079094]\n",
      " [ 0.08552292 -0.12232561 -0.48430838 -0.86207173]\n",
      " [ 0.47261675 -0.26397198 -0.69421981  0.4743533 ]]\n",
      "[[ 2.28477944  0.99316164  0.98655184  1.30281012]\n",
      " [ 0.         -0.51687763 -2.77359765  0.63708566]\n",
      " [ 0.          0.         -1.82267425  1.71052819]\n",
      " [ 0.          0.          0.          0.69654728]]\n"
     ]
    }
   ],
   "source": [
    "## built-in code와 결과 비교 (부호 산정방식이 달라서 -1배의 차이는 존재할 수도 있음)\n",
    "\n",
    "Q, R = np.linalg.qr(A)\n",
    "print(Q)\n",
    "print(R)"
   ]
  },
  {
   "cell_type": "markdown",
   "metadata": {},
   "source": [
    "## Question 3"
   ]
  },
  {
   "cell_type": "markdown",
   "metadata": {},
   "source": [
    "### (a)"
   ]
  },
  {
   "cell_type": "code",
   "execution_count": 23,
   "metadata": {},
   "outputs": [],
   "source": [
    "## random matrix 생성, size 마다 행렬 100개 생성 후, 각 행렬의 eigenvalue의 real부분의 분포 비교\n",
    "\n",
    "evals = [[],[],[],[],[],[]]\n",
    "\n",
    "## matrix size 8, 16, 32, 64, 128, 256일 때 실험\n",
    "\n",
    "for n in range(3, 9):\n",
    "    for i in range(100):\n",
    "        evals[n-3] = evals[n-3] + (list(np.real(np.linalg.eigvals(np.random.randn(2**n,2**n)/np.sqrt(2**n)))))"
   ]
  },
  {
   "cell_type": "code",
   "execution_count": 24,
   "metadata": {},
   "outputs": [
    {
     "data": {
      "image/png": "[encoded data removed]",
      "text/plain": [
       "<Figure size 432x288 with 1 Axes>"
      ]
     },
     "metadata": {
      "needs_background": "light"
     },
     "output_type": "display_data"
    }
   ],
   "source": [
    "## box plot으로 matrix size 별로 분포 확인, 평균은 거의 0에 가까운 정도로 동일, 표준편차가 아주 약간씩 감소하는 것 같기는 함.\n",
    "## 그러나 size가 커져도 Q3, Q1은 큰 차이가 없었음.\n",
    "\n",
    "plt.boxplot(evals)\n",
    "plt.xticks([1, 2, 3, 4, 5, 6], [2 ** i for i in range(3, 9)])\n",
    "plt.xlabel('matrix size')\n",
    "plt.ylabel('eigenvalue')\n",
    "plt.show()"
   ]
  },
  {
   "cell_type": "code",
   "execution_count": 25,
   "metadata": {},
   "outputs": [],
   "source": [
    "## random matrix 생성, size 마다 행렬 100개 생성 후, 각 행렬의 spectral radius 비교\n",
    "\n",
    "spec_rad = [[],[],[],[],[],[]]\n",
    "\n",
    "## matrix size 8, 16, 32, 64, 128, 256일 때 실험\n",
    "\n",
    "for n in range(3, 9):\n",
    "    for i in range(100):\n",
    "        spec_rad[n-3].append(np.max(np.abs(np.linalg.eigvals(np.random.randn(2**n,2**n)/np.sqrt(2**n)))))"
   ]
  },
  {
   "cell_type": "code",
   "execution_count": 26,
   "metadata": {},
   "outputs": [
    {
     "data": {
      "image/png": "[encoded data removed]",
      "text/plain": [
       "<Figure size 432x288 with 1 Axes>"
      ]
     },
     "metadata": {
      "needs_background": "light"
     },
     "output_type": "display_data"
    }
   ],
   "source": [
    "## matrix size가 커져도 spectral radius의 평균은 1 근처에서 형성되는 것을 확인, 다만 size가 클 수록 1에 더 근접하게 spectral radius가\n",
    "## 나타나는 것을 볼 수 있었음.(랜덤 행렬에서의 편차가 점점 작아짐.)\n",
    "\n",
    "plt.boxplot(spec_rad)\n",
    "plt.xticks([1, 2, 3, 4, 5, 6], [2 ** i for i in range(3, 9)])\n",
    "plt.xlabel('matrix size')\n",
    "plt.ylabel('spectral radius')\n",
    "plt.show()"
   ]
  },
  {
   "cell_type": "markdown",
   "metadata": {},
   "source": [
    "### (b)"
   ]
  },
  {
   "cell_type": "code",
   "execution_count": 27,
   "metadata": {},
   "outputs": [],
   "source": [
    "## random matrix 생성, size 마다 행렬 100개 생성 후, 각 행렬의 2-norm 비교\n",
    "\n",
    "norm2 = [[],[],[],[],[],[]]\n",
    "\n",
    "## matrix size 8, 16, 32, 64, 128, 256일 때 실험\n",
    "\n",
    "for n in range(3, 9):\n",
    "    for i in range(100):\n",
    "        norm2[n-3].append(np.linalg.norm(np.random.randn(2**n,2**n)/np.sqrt(2**n), ord = 2))"
   ]
  },
  {
   "cell_type": "code",
   "execution_count": 28,
   "metadata": {},
   "outputs": [
    {
     "data": {
      "image/png": "[encoded data removed]",
      "text/plain": [
       "<Figure size 432x288 with 1 Axes>"
      ]
     },
     "metadata": {
      "needs_background": "light"
     },
     "output_type": "display_data"
    }
   ],
   "source": [
    "## 2-norm의 평균은 점점 증가하는 경향을 보임, 편차도 점점 줄어드는 듯 보임, matrix size가 클수록 약 2정도에 수렴하는 느낌으로도 관찰됨.\n",
    "\n",
    "plt.boxplot(norm2)\n",
    "plt.xticks([1, 2, 3, 4, 5, 6], [2 ** i for i in range(3, 9)])\n",
    "plt.xlabel('matrix size')\n",
    "plt.ylabel('2-norm')\n",
    "plt.show()"
   ]
  },
  {
   "cell_type": "code",
   "execution_count": 29,
   "metadata": {},
   "outputs": [],
   "source": [
    "## (a) 문제와 (b) 문제의 plot을 보았을 때, spectral radius와 2-norm이 같은 값으로 수렴하는 듯 해보이지는 않았음.\n",
    "## 자세한 확인을 위하여 2-norm - spectral radius의 차이를 matrix size 마다 비교\n",
    "\n",
    "diff = [[],[],[],[],[],[]]\n",
    "\n",
    "## matrix size 8, 16, 32, 64, 128, 256일 때 실험\n",
    "\n",
    "for n in range(3, 9):\n",
    "    for i in range(100):\n",
    "        M = np.random.randn(2**n,2**n)/np.sqrt(2**n)\n",
    "        diff[n-3].append(np.linalg.norm(M, ord = 2) - np.max(np.abs(np.linalg.eigvals(M))))"
   ]
  },
  {
   "cell_type": "code",
   "execution_count": 30,
   "metadata": {},
   "outputs": [
    {
     "data": {
      "image/png": "[encoded data removed]",
      "text/plain": [
       "<Figure size 432x288 with 1 Axes>"
      ]
     },
     "metadata": {
      "needs_background": "light"
     },
     "output_type": "display_data"
    }
   ],
   "source": [
    "## 위의 plot에서 예상했던 것 처럼 두 값의 차이가 0으로 수렴하는 것이 아니었음. 다만 matrix size가 커질 수록\n",
    "## 1 근처 값으로 점점 랜덤 행렬 간의 편차가 작게 다가가는 것까지는 확인할 수 있었음\n",
    "\n",
    "plt.boxplot(diff)\n",
    "plt.xticks([1, 2, 3, 4, 5, 6], [2 ** i for i in range(3, 9)])\n",
    "plt.xlabel('matrix size')\n",
    "plt.ylabel('2-norm - spectral radius')\n",
    "plt.show()"
   ]
  },
  {
   "cell_type": "markdown",
   "metadata": {},
   "source": [
    "### (c)"
   ]
  },
  {
   "cell_type": "code",
   "execution_count": 31,
   "metadata": {},
   "outputs": [],
   "source": [
    "## random matrix 생성, size 마다 행렬 100개 생성 후, 각 행렬의 2-norm 비교\n",
    "\n",
    "min_sing_val = [[],[],[],[],[],[],[],[]]\n",
    "\n",
    "## matrix size 2, 4, 8, 16, 32, 64, 128, 256일 때 실험\n",
    "\n",
    "for n in range(1, 9):\n",
    "    for i in range(100):\n",
    "        min_sing_val[n-1].append(np.min(np.linalg.svd(np.random.randn(2**n,2**n)/np.sqrt(2**n))[1]))"
   ]
  },
  {
   "cell_type": "code",
   "execution_count": 32,
   "metadata": {},
   "outputs": [
    {
     "name": "stdout",
     "output_type": "stream",
     "text": [
      "When matrix size is 2 * 2, the average value of smallest singular value among random 100 matrices is\n",
      "          0.31408, it is less than 0.50000.\n",
      "\n",
      "When matrix size is 4 * 4, the average value of smallest singular value among random 100 matrices is\n",
      "          0.18351, it is less than 0.25000.\n",
      "\n",
      "When matrix size is 8 * 8, the average value of smallest singular value among random 100 matrices is\n",
      "          0.08290, it is less than 0.12500.\n",
      "\n",
      "When matrix size is 16 * 16, the average value of smallest singular value among random 100 matrices is\n",
      "          0.04558, it is less than 0.06250.\n",
      "\n",
      "When matrix size is 32 * 32, the average value of smallest singular value among random 100 matrices is\n",
      "          0.02111, it is less than 0.03125.\n",
      "\n",
      "When matrix size is 64 * 64, the average value of smallest singular value among random 100 matrices is\n",
      "          0.01027, it is less than 0.01562.\n",
      "\n",
      "When matrix size is 128 * 128, the average value of smallest singular value among random 100 matrices is\n",
      "          0.00552, it is less than 0.00781.\n",
      "\n",
      "When matrix size is 256 * 256, the average value of smallest singular value among random 100 matrices is\n",
      "          0.00253, it is less than 0.00391.\n",
      "\n"
     ]
    }
   ],
   "source": [
    "## 2^-m 과 minimum singular value 비교, minimum singular value가 2^-m 보다는 보통 작게 나타나는 것으로 보임\n",
    "\n",
    "for n in range(1, 9):\n",
    "    print(\"When matrix size is %d * %d, the average value of smallest singular value among random 100 matrices is\\n\\\n",
    "          %.5f, it is less than %.5f.\\n\"%(2**n, 2**n, np.mean(min_sing_val[n-1]), 2**(-n)))"
   ]
  },
  {
   "cell_type": "code",
   "execution_count": 33,
   "metadata": {},
   "outputs": [
    {
     "name": "stdout",
     "output_type": "stream",
     "text": [
      "Matrix size : 2, std of minimum singular value : 0.24241.\n",
      "Matrix size : 4, std of minimum singular value : 0.13948.\n",
      "Matrix size : 8, std of minimum singular value : 0.06309.\n",
      "Matrix size : 16, std of minimum singular value : 0.03210.\n",
      "Matrix size : 32, std of minimum singular value : 0.01548.\n",
      "Matrix size : 64, std of minimum singular value : 0.00916.\n",
      "Matrix size : 128, std of minimum singular value : 0.00415.\n",
      "Matrix size : 256, std of minimum singular value : 0.00185.\n"
     ]
    }
   ],
   "source": [
    "## tail을 확인하기 위해서 표준편차를 들여다 봄, matrix size가 커질 수록 minimum singular value의 표준편차도 점점 작아지는 것 같았음\n",
    "\n",
    "for i in range(1, 9):\n",
    "    print(\"Matrix size : %d, std of minimum singular value : %.5f.\"%(2**i, np.std(min_sing_val[i-1])))"
   ]
  },
  {
   "cell_type": "markdown",
   "metadata": {},
   "source": [
    "### (d)"
   ]
  },
  {
   "cell_type": "code",
   "execution_count": 34,
   "metadata": {},
   "outputs": [],
   "source": [
    "## random matrix 생성, size 마다 행렬 100개 생성 후, 각 행렬의 eigenvalue의 real부분의 분포 비교, upper trianular matrix로 실험\n",
    "\n",
    "evals_u = [[],[],[],[],[],[]]\n",
    "\n",
    "## matrix size 8, 16, 32, 64, 128, 256일 때 실험\n",
    "\n",
    "for n in range(3, 9):\n",
    "    for i in range(100):\n",
    "        evals_u[n-3] = evals_u[n-3] + (list(np.real(np.linalg.eigvals(np.triu(np.random.randn(2**n,2**n)/np.sqrt(2**n))))))"
   ]
  },
  {
   "cell_type": "code",
   "execution_count": 35,
   "metadata": {},
   "outputs": [
    {
     "data": {
      "image/png": "[encoded data removed]",
      "text/plain": [
       "<Figure size 432x288 with 1 Axes>"
      ]
     },
     "metadata": {
      "needs_background": "light"
     },
     "output_type": "display_data"
    }
   ],
   "source": [
    "## (a) 문제와는 다르게 matrix size가 커질 수록 eigenvalue의 편차가 매우 작아졌음, 평균이 0 근처인 것은 동일\n",
    "\n",
    "plt.boxplot(evals_u)\n",
    "plt.xticks([1, 2, 3, 4, 5, 6], [2 ** i for i in range(3, 9)])\n",
    "plt.xlabel('matrix size')\n",
    "plt.ylabel('eigenvalue')\n",
    "plt.show()"
   ]
  },
  {
   "cell_type": "code",
   "execution_count": 36,
   "metadata": {},
   "outputs": [],
   "source": [
    "spec_rad_u = [[],[],[],[],[],[]]\n",
    "\n",
    "for n in range(3, 9):\n",
    "    for i in range(100):\n",
    "        spec_rad_u[n-3].append(np.max(np.abs(np.linalg.eigvals(np.triu(np.random.randn(2**n,2**n)/np.sqrt(2**n))))))"
   ]
  },
  {
   "cell_type": "code",
   "execution_count": 37,
   "metadata": {},
   "outputs": [
    {
     "data": {
      "image/png": "[encoded data removed]",
      "text/plain": [
       "<Figure size 432x288 with 1 Axes>"
      ]
     },
     "metadata": {
      "needs_background": "light"
     },
     "output_type": "display_data"
    }
   ],
   "source": [
    "## spectral norm이 위 full matrix일 때 보다 훨씬 작은 값으로 분포됨, 또한 matrix size가 커질수록 점점 작아지는 경향도 관찰\n",
    "\n",
    "plt.boxplot(spec_rad_u)\n",
    "plt.xticks([1, 2, 3, 4, 5, 6], [2 ** i for i in range(3, 9)])\n",
    "plt.xlabel('matrix size')\n",
    "plt.ylabel('spectral radius')\n",
    "plt.show()"
   ]
  },
  {
   "cell_type": "code",
   "execution_count": 38,
   "metadata": {},
   "outputs": [],
   "source": [
    "norm2_u = [[],[],[],[],[],[]]\n",
    "\n",
    "for n in range(3, 9):\n",
    "    for i in range(100):\n",
    "        norm2_u[n-3].append(np.linalg.norm(np.triu(np.random.randn(2**n,2**n)/np.sqrt(2**n)), ord = 2))"
   ]
  },
  {
   "cell_type": "code",
   "execution_count": 39,
   "metadata": {},
   "outputs": [
    {
     "data": {
      "image/png": "[encoded data removed]",
      "text/plain": [
       "<Figure size 432x288 with 1 Axes>"
      ]
     },
     "metadata": {
      "needs_background": "light"
     },
     "output_type": "display_data"
    }
   ],
   "source": [
    "## 이번에는 분포나 편차의 양상이 비슷해보이나 full matrix일 때 보다 작은 값을 가지는 것을 관찰할 수 있었음\n",
    "\n",
    "plt.boxplot(norm2_u)\n",
    "plt.xticks([1, 2, 3, 4, 5, 6], [2 ** i for i in range(3, 9)])\n",
    "plt.xlabel('matrix size')\n",
    "plt.ylabel('2-norm')\n",
    "plt.show()"
   ]
  },
  {
   "cell_type": "code",
   "execution_count": 40,
   "metadata": {},
   "outputs": [],
   "source": [
    "diff_u = [[],[],[],[],[],[]]\n",
    "\n",
    "for n in range(3, 9):\n",
    "    for i in range(100):\n",
    "        M = np.triu(np.random.randn(2**n,2**n)/np.sqrt(2**n))\n",
    "        diff_u[n-3].append(np.linalg.norm(M, ord = 2) - np.max(np.abs(np.linalg.eigvals(M))))"
   ]
  },
  {
   "cell_type": "code",
   "execution_count": 41,
   "metadata": {},
   "outputs": [
    {
     "data": {
      "image/png": "[encoded data removed]",
      "text/plain": [
       "<Figure size 432x288 with 1 Axes>"
      ]
     },
     "metadata": {
      "needs_background": "light"
     },
     "output_type": "display_data"
    }
   ],
   "source": [
    "## 이 경우도 2-norm과 spectral radius는 수렴하지 않음, 심지어 차이가 더 커지는 양상이 더 확연하게 나타남\n",
    "\n",
    "plt.boxplot(diff_u)\n",
    "plt.xticks([1, 2, 3, 4, 5, 6], [2 ** i for i in range(3, 9)])\n",
    "plt.xlabel('matrix size')\n",
    "plt.ylabel('2-norm - spectral radius')\n",
    "plt.show()"
   ]
  },
  {
   "cell_type": "code",
   "execution_count": 42,
   "metadata": {},
   "outputs": [],
   "source": [
    "min_sing_val_u = [[],[],[],[],[],[],[],[]]\n",
    "for n in range(1, 9):\n",
    "    for i in range(100):\n",
    "        min_sing_val_u[n-1].append(np.min(np.linalg.svd(np.triu(np.random.randn(2**n,2**n)/np.sqrt(2**n)))[1]))"
   ]
  },
  {
   "cell_type": "code",
   "execution_count": 43,
   "metadata": {},
   "outputs": [
    {
     "name": "stdout",
     "output_type": "stream",
     "text": [
      "When matrix size is 2 * 2, the average value of smallest singular value among random 100 matrices is\n",
      "          0.29572, it is less than 0.50000.\n",
      "\n",
      "When matrix size is 4 * 4, the average value of smallest singular value among random 100 matrices is\n",
      "          0.04846, it is less than 0.25000.\n",
      "\n",
      "When matrix size is 8 * 8, the average value of smallest singular value among random 100 matrices is\n",
      "          0.00462, it is less than 0.12500.\n",
      "\n",
      "When matrix size is 16 * 16, the average value of smallest singular value among random 100 matrices is\n",
      "          0.00007, it is less than 0.06250.\n",
      "\n",
      "When matrix size is 32 * 32, the average value of smallest singular value among random 100 matrices is\n",
      "          0.00000, it is less than 0.03125.\n",
      "\n",
      "When matrix size is 64 * 64, the average value of smallest singular value among random 100 matrices is\n",
      "          0.00000, it is less than 0.01562.\n",
      "\n",
      "When matrix size is 128 * 128, the average value of smallest singular value among random 100 matrices is\n",
      "          0.00000, it is less than 0.00781.\n",
      "\n",
      "When matrix size is 256 * 256, the average value of smallest singular value among random 100 matrices is\n",
      "          0.00000, it is less than 0.00391.\n",
      "\n"
     ]
    }
   ],
   "source": [
    "## full matrix와 동일하게 2^-m보다는 평균 minimum singular value가 작게 나타나는 경향 유지\n",
    "## 그러면서도 size가 커질수록 아주 빠르게 0으로 떨어지는 것 관찰\n",
    "\n",
    "for n in range(1, 9):\n",
    "    print(\"When matrix size is %d * %d, the average value of smallest singular value among random 100 matrices is\\n\\\n",
    "          %.5f, it is less than %.5f.\\n\"%(2**n, 2**n, np.mean(min_sing_val_u[n-1]), 2**(-n)))"
   ]
  },
  {
   "cell_type": "code",
   "execution_count": 44,
   "metadata": {},
   "outputs": [
    {
     "name": "stdout",
     "output_type": "stream",
     "text": [
      "Matrix size : 2, std of minimum singular value : 0.25356.\n",
      "Matrix size : 4, std of minimum singular value : 0.05408.\n",
      "Matrix size : 8, std of minimum singular value : 0.01018.\n",
      "Matrix size : 16, std of minimum singular value : 0.00018.\n",
      "Matrix size : 32, std of minimum singular value : 0.00000.\n",
      "Matrix size : 64, std of minimum singular value : 0.00000.\n",
      "Matrix size : 128, std of minimum singular value : 0.00000.\n",
      "Matrix size : 256, std of minimum singular value : 0.00000.\n"
     ]
    }
   ],
   "source": [
    "## 표준편차도 full matrix일 때 보다 훨씬 작게 나타남(size가 커지면 0이 많이 나오는 듯)\n",
    "\n",
    "for i in range(1, 9):\n",
    "    print(\"Matrix size : %d, std of minimum singular value : %.5f.\"%(2**i, np.std(min_sing_val_u[i-1])))"
   ]
  },
  {
   "cell_type": "markdown",
   "metadata": {},
   "source": [
    "## Question 4"
   ]
  },
  {
   "cell_type": "code",
   "execution_count": 45,
   "metadata": {},
   "outputs": [
    {
     "data": {
      "text/plain": [
       "array([[1.00000000e+00, 0.00000000e+00, 0.00000000e+00, 0.00000000e+00,\n",
       "        0.00000000e+00, 0.00000000e+00, 0.00000000e+00, 0.00000000e+00,\n",
       "        0.00000000e+00, 0.00000000e+00, 0.00000000e+00, 0.00000000e+00],\n",
       "       [1.00000000e+00, 2.04081633e-02, 4.16493128e-04, 8.49985975e-06,\n",
       "        1.73466526e-07, 3.54013317e-09, 7.22476158e-11, 1.47444114e-12,\n",
       "        3.00906355e-14, 6.14094602e-16, 1.25325429e-17, 2.55766182e-19],\n",
       "       [1.00000000e+00, 4.08163265e-02, 1.66597251e-03, 6.79988780e-05,\n",
       "        2.77546441e-06, 1.13284262e-07, 4.62384741e-09, 1.88728466e-10,\n",
       "        7.70320269e-12, 3.14416436e-13, 1.28333239e-14, 5.23809140e-16],\n",
       "       [1.00000000e+00, 6.12244898e-02, 3.74843815e-03, 2.29496213e-04,\n",
       "        1.40507886e-05, 8.60252361e-07, 5.26685119e-08, 3.22460277e-09,\n",
       "        1.97424659e-10, 1.20872240e-11, 7.40034125e-13, 4.53082118e-14],\n",
       "       [1.00000000e+00, 8.16326531e-02, 6.66389005e-03, 5.43991024e-04,\n",
       "        4.44074305e-05, 3.62509637e-06, 2.95926234e-07, 2.41572436e-08,\n",
       "        1.97201989e-09, 1.60981215e-10, 1.31413237e-11, 1.07276112e-12],\n",
       "       [1.00000000e+00, 1.02040816e-01, 1.04123282e-02, 1.06248247e-03,\n",
       "        1.08416578e-04, 1.10629162e-05, 1.12886900e-06, 1.15190714e-07,\n",
       "        1.17541545e-08, 1.19940352e-09, 1.22388114e-10, 1.24885831e-11],\n",
       "       [1.00000000e+00, 1.22448980e-01, 1.49937526e-02, 1.83596971e-03,\n",
       "        2.24812617e-04, 2.75280756e-05, 3.37078476e-06, 4.12749155e-07,\n",
       "        5.05407128e-08, 6.18865871e-09, 7.57794944e-10, 9.27912177e-11],\n",
       "       [1.00000000e+00, 1.42857143e-01, 2.04081633e-02, 2.91545190e-03,\n",
       "        4.16493128e-04, 5.94990183e-05, 8.49985975e-06, 1.21426568e-06,\n",
       "        1.73466526e-07, 2.47809322e-08, 3.54013317e-09, 5.05733311e-10],\n",
       "       [1.00000000e+00, 1.63265306e-01, 2.66555602e-02, 4.35192819e-03,\n",
       "        7.10518889e-04, 1.16003084e-04, 1.89392790e-05, 3.09212718e-06,\n",
       "        5.04837091e-07, 8.24223822e-08, 1.34567155e-08, 2.19701477e-09],\n",
       "       [1.00000000e+00, 1.83673469e-01, 3.37359434e-02, 6.19639776e-03,\n",
       "        1.13811387e-03, 2.09041324e-04, 3.83953452e-05, 7.05220626e-06,\n",
       "        1.29530319e-06, 2.37912831e-07, 4.36982751e-08, 8.02621379e-09],\n",
       "       [1.00000000e+00, 2.04081633e-01, 4.16493128e-02, 8.49985975e-03,\n",
       "        1.73466526e-03, 3.54013317e-04, 7.22476158e-05, 1.47444114e-05,\n",
       "        3.00906355e-06, 6.14094602e-07, 1.25325429e-07, 2.55766182e-08],\n",
       "       [1.00000000e+00, 2.24489796e-01, 5.03956685e-02, 1.13133133e-02,\n",
       "        2.53972340e-03, 5.70141988e-04, 1.27991059e-04, 2.87326866e-05,\n",
       "        6.45019495e-06, 1.44800295e-06, 3.25061886e-07, 7.29730765e-08],\n",
       "       [1.00000000e+00, 2.44897959e-01, 5.99750104e-02, 1.46877577e-02,\n",
       "        3.59700187e-03, 8.80898418e-04, 2.15730225e-04, 5.28318918e-05,\n",
       "        1.29384225e-05, 3.16859326e-06, 7.75982023e-07, 1.90036414e-07],\n",
       "       [1.00000000e+00, 2.65306122e-01, 7.03873386e-02, 1.86741919e-02,\n",
       "        4.95437744e-03, 1.31442667e-03, 3.48725442e-04, 9.25189949e-05,\n",
       "        2.45458558e-05, 6.51216582e-06, 1.72771746e-06, 4.58374021e-07],\n",
       "       [1.00000000e+00, 2.85714286e-01, 8.16326531e-02, 2.33236152e-02,\n",
       "        6.66389005e-03, 1.90396858e-03, 5.43991024e-04, 1.55426007e-04,\n",
       "        4.44074305e-05, 1.26878373e-05, 3.62509637e-06, 1.03574182e-06],\n",
       "       [1.00000000e+00, 3.06122449e-01, 9.37109538e-02, 2.86870267e-02,\n",
       "        8.78174286e-03, 2.68828863e-03, 8.22945499e-04, 2.51922091e-04,\n",
       "        7.71190076e-05, 2.36078595e-05, 7.22689576e-06, 2.21231503e-06],\n",
       "       [1.00000000e+00, 3.26530612e-01, 1.06622241e-01, 3.48154255e-02,\n",
       "        1.13683022e-02, 3.71209868e-03, 1.21211386e-03, 3.95792279e-04,\n",
       "        1.29238295e-04, 4.22002597e-05, 1.37796766e-05, 4.49948625e-06],\n",
       "       [1.00000000e+00, 3.46938776e-01, 1.20366514e-01, 4.17598110e-02,\n",
       "        1.44880977e-02, 5.02648287e-03, 1.74388181e-03, 6.05020220e-04,\n",
       "        2.09904974e-04, 7.28241748e-05, 2.52655300e-05, 8.76559205e-06],\n",
       "       [1.00000000e+00, 3.67346939e-01, 1.34943773e-01, 4.95711821e-02,\n",
       "        1.82098220e-02, 6.68932236e-03, 2.45730209e-03, 9.02682401e-04,\n",
       "        3.31597617e-04, 1.21811369e-04, 4.47470337e-05, 1.64376858e-05],\n",
       "       [1.00000000e+00, 3.87755102e-01, 1.50354019e-01, 5.83005380e-02,\n",
       "        2.26063311e-02, 8.76572021e-03, 3.39895274e-03, 1.31796126e-03,\n",
       "        5.11046205e-04, 1.98160773e-04, 7.68378509e-05, 2.97942687e-05],\n",
       "       [1.00000000e+00, 4.08163265e-01, 1.66597251e-01, 6.79988780e-02,\n",
       "        2.77546441e-02, 1.13284262e-02, 4.62384741e-03, 1.88728466e-03,\n",
       "        7.70320269e-04, 3.14416436e-04, 1.28333239e-04, 5.23809140e-05],\n",
       "       [1.00000000e+00, 4.28571429e-01, 1.83673469e-01, 7.87172012e-02,\n",
       "        3.37359434e-02, 1.44582614e-02, 6.19639776e-03, 2.65559904e-03,\n",
       "        1.13811387e-03, 4.87763089e-04, 2.09041324e-04, 8.95891388e-05],\n",
       "       [1.00000000e+00, 4.48979592e-01, 2.01582674e-01, 9.05065066e-02,\n",
       "        4.06355744e-02, 1.82445436e-02, 8.19142774e-03, 3.67778389e-03,\n",
       "        1.65124991e-03, 7.41377510e-04, 3.32863372e-04, 1.49448861e-04],\n",
       "       [1.00000000e+00, 4.69387755e-01, 2.20324865e-01, 1.03417794e-01,\n",
       "        4.85430460e-02, 2.27855114e-02, 1.06952400e-02, 5.02021471e-03,\n",
       "        2.35642731e-03, 1.10607813e-03, 5.19179529e-04, 2.43696513e-04],\n",
       "       [1.00000000e+00, 4.89795918e-01, 2.39900042e-01, 1.17502061e-01,\n",
       "        5.75520300e-02, 2.81887494e-02, 1.38067344e-02, 6.76248215e-03,\n",
       "        3.31223616e-03, 1.62231975e-03, 7.94605592e-04, 3.89194575e-04],\n",
       "       [1.00000000e+00, 5.10204082e-01, 2.60308205e-01, 1.32810309e-01,\n",
       "        6.77603615e-02, 3.45716130e-02, 1.76385781e-02, 8.99927453e-03,\n",
       "        4.59146660e-03, 2.34258500e-03, 1.19519643e-03, 6.09794096e-04],\n",
       "       [1.00000000e+00, 5.30612245e-01, 2.81549354e-01, 1.49393535e-01,\n",
       "        7.92700390e-02, 4.20616533e-02, 2.23184283e-02, 1.18424313e-02,\n",
       "        6.28373908e-03, 3.33422890e-03, 1.76918268e-03, 9.38749994e-04],\n",
       "       [1.00000000e+00, 5.51020408e-01, 3.03623490e-01, 1.67302740e-01,\n",
       "        9.21872238e-02, 5.07970417e-02, 2.79902066e-02, 1.54231751e-02,\n",
       "        8.49848423e-03, 4.68283825e-03, 2.58033944e-03, 1.42181969e-03],\n",
       "       [1.00000000e+00, 5.71428571e-01, 3.26530612e-01, 1.86588921e-01,\n",
       "        1.06622241e-01, 6.09269947e-02, 3.48154255e-02, 1.98945289e-02,\n",
       "        1.13683022e-02, 6.49617270e-03, 3.71209868e-03, 2.12119925e-03],\n",
       "       [1.00000000e+00, 5.91836735e-01, 3.50270721e-01, 2.07303079e-01,\n",
       "        1.22689578e-01, 7.26121990e-02, 4.29745668e-02, 2.54339273e-02,\n",
       "        1.50527325e-02, 8.90876003e-03, 5.27253145e-03, 3.12047780e-03],\n",
       "       [1.00000000e+00, 6.12244898e-01, 3.74843815e-01, 2.29496213e-01,\n",
       "        1.40507886e-01, 8.60252361e-02, 5.26685119e-02, 3.22460277e-02,\n",
       "        1.97424659e-02, 1.20872240e-02, 7.40034125e-03, 4.53082118e-03],\n",
       "       [1.00000000e+00, 6.32653061e-01, 4.00249896e-01, 2.53219322e-01,\n",
       "        1.60199979e-01, 1.01351007e-01, 6.41200250e-02, 4.05657301e-02,\n",
       "        2.56640333e-02, 1.62364292e-02, 1.02720267e-02, 6.49862911e-03],\n",
       "       [1.00000000e+00, 6.53061224e-01, 4.26488963e-01, 2.78523404e-01,\n",
       "        1.81892836e-01, 1.18787158e-01, 7.75752868e-02, 5.06614118e-02,\n",
       "        3.30850036e-02, 2.16065330e-02, 1.41103889e-02, 9.21494784e-03],\n",
       "       [1.00000000e+00, 6.73469388e-01, 4.53561016e-01, 3.05459460e-01,\n",
       "        2.05717595e-01, 1.38544503e-01, 9.33054817e-02, 6.28383856e-02,\n",
       "        4.23197291e-02, 2.85010420e-02, 1.91945793e-02, 1.29269616e-02],\n",
       "       [1.00000000e+00, 6.93877551e-01, 4.81466056e-01, 3.34078488e-01,\n",
       "        2.31809563e-01, 1.60847452e-01, 1.11608436e-01, 7.74425882e-02,\n",
       "        5.37356735e-02, 3.72859775e-02, 2.58719028e-02, 1.79519325e-02],\n",
       "       [1.00000000e+00, 7.14285714e-01, 5.10204082e-01, 3.64431487e-01,\n",
       "        2.60308205e-01, 1.85934432e-01, 1.32810309e-01, 9.48645062e-02,\n",
       "        6.77603615e-02, 4.84002582e-02, 3.45716130e-02, 2.46940093e-02],\n",
       "       [1.00000000e+00, 7.34693878e-01, 5.39775094e-01, 3.96569457e-01,\n",
       "        2.91357152e-01, 2.14058316e-01, 1.57267334e-01, 1.15543347e-01,\n",
       "        8.48889899e-02, 6.23674212e-02, 4.58209625e-02, 3.36643806e-02],\n",
       "       [1.00000000e+00, 7.55102041e-01, 5.70179092e-01, 4.30543396e-01,\n",
       "        3.25104197e-01, 2.45486843e-01, 1.85367616e-01, 1.39971465e-01,\n",
       "        1.05692739e-01, 7.98088029e-02, 6.02637899e-02, 4.55053107e-02],\n",
       "       [1.00000000e+00, 7.75510204e-01, 6.01416077e-01, 4.66404304e-01,\n",
       "        3.61701297e-01, 2.80503047e-01, 2.17532975e-01, 1.68699042e-01,\n",
       "        1.30827828e-01, 1.01458316e-01, 7.86819593e-02, 6.10186623e-02],\n",
       "       [1.00000000e+00, 7.95918367e-01, 6.33486047e-01, 5.04203181e-01,\n",
       "        4.01304572e-01, 3.19405680e-01, 2.54220847e-01, 2.02339042e-01,\n",
       "        1.61045360e-01, 1.28178960e-01, 1.02019988e-01, 8.11995826e-02],\n",
       "       [1.00000000e+00, 8.16326531e-01, 6.66389005e-01, 5.43991024e-01,\n",
       "        4.44074305e-01, 3.62509637e-01, 2.95926234e-01, 2.41572436e-01,\n",
       "        1.97201989e-01, 1.60981215e-01, 1.31413237e-01, 1.07276112e-01],\n",
       "       [1.00000000e+00, 8.36734694e-01, 7.00124948e-01, 5.85818834e-01,\n",
       "        4.90174943e-01, 4.10146381e-01, 3.43183706e-01, 2.87153713e-01,\n",
       "        2.40271474e-01, 2.01043479e-01, 1.68220054e-01, 1.40755555e-01],\n",
       "       [1.00000000e+00, 8.57142857e-01, 7.34693878e-01, 6.29737609e-01,\n",
       "        5.39775094e-01, 4.62664366e-01, 3.96569457e-01, 3.39916677e-01,\n",
       "        2.91357152e-01, 2.49734702e-01, 2.14058316e-01, 1.83478556e-01],\n",
       "       [1.00000000e+00, 8.77551020e-01, 7.70095793e-01, 6.75798349e-01,\n",
       "        5.93047531e-01, 5.20429466e-01, 4.56703409e-01, 4.00780543e-01,\n",
       "        3.51705374e-01, 3.08639410e-01, 2.70846829e-01, 2.37681911e-01],\n",
       "       [1.00000000e+00, 8.97959184e-01, 8.06330696e-01, 7.24052053e-01,\n",
       "        6.50169191e-01, 5.83825396e-01, 5.24251376e-01, 4.70756337e-01,\n",
       "        4.22719976e-01, 3.79585285e-01, 3.40852093e-01, 3.06071267e-01],\n",
       "       [1.00000000e+00, 9.18367347e-01, 8.43398584e-01, 7.74549720e-01,\n",
       "        7.11321171e-01, 6.53254137e-01, 5.99927269e-01, 5.50953614e-01,\n",
       "        5.05977809e-01, 4.64673498e-01, 4.26740967e-01, 3.91904970e-01],\n",
       "       [1.00000000e+00, 9.38775510e-01, 8.81299459e-01, 8.27342349e-01,\n",
       "        7.76688736e-01, 7.29136364e-01, 6.84495362e-01, 6.42587483e-01,\n",
       "        6.03245392e-01, 5.66312001e-01, 5.31639837e-01, 4.99090460e-01],\n",
       "       [1.00000000e+00, 9.59183673e-01, 9.20033319e-01, 8.82480939e-01,\n",
       "        8.46461309e-01, 8.11911868e-01, 7.78772608e-01, 7.46985971e-01,\n",
       "        7.16496747e-01, 6.87251982e-01, 6.59200881e-01, 6.32294723e-01],\n",
       "       [1.00000000e+00, 9.79591837e-01, 9.59600167e-01, 9.40016490e-01,\n",
       "        9.20832480e-01, 9.02039980e-01, 8.83631001e-01, 8.65597715e-01,\n",
       "        8.47932456e-01, 8.30627712e-01, 8.13676126e-01, 7.97070491e-01],\n",
       "       [1.00000000e+00, 1.00000000e+00, 1.00000000e+00, 1.00000000e+00,\n",
       "        1.00000000e+00, 1.00000000e+00, 1.00000000e+00, 1.00000000e+00,\n",
       "        1.00000000e+00, 1.00000000e+00, 1.00000000e+00, 1.00000000e+00]])"
      ]
     },
     "execution_count": 45,
     "metadata": {},
     "output_type": "execute_result"
    }
   ],
   "source": [
    "## t = 1로 설정\n",
    "\n",
    "m_vec = np.linspace(0, 1, 50)\n",
    "A = np.vander(m_vec, 12)\n",
    "A = np.fliplr(A)\n",
    "A"
   ]
  },
  {
   "cell_type": "code",
   "execution_count": 46,
   "metadata": {},
   "outputs": [
    {
     "data": {
      "text/plain": [
       "array([ 1.        , -0.65364362, -0.14550003,  0.84385396, -0.95765948,\n",
       "        0.40808206,  0.42417901, -0.96260587,  0.83422336, -0.12796369,\n",
       "       -0.66693806,  0.99984331, -0.64014434, -0.16299078,  0.85322011,\n",
       "       -0.95241298,  0.39185723,  0.44014302, -0.96725059,  0.82433133,\n",
       "       -0.11038724, -0.6800235 ,  0.99937328, -0.62644445, -0.18043045,\n",
       "        0.86231887, -0.94686801,  0.3755096 ,  0.4559691 , -0.97159219,\n",
       "        0.81418097, -0.0927762 , -0.69289582,  0.99859007, -0.61254824,\n",
       "       -0.19781357,  0.8711474 , -0.94102631,  0.35904429,  0.47165229,\n",
       "       -0.97562931,  0.80377546, -0.07513609, -0.70555101,  0.99749392,\n",
       "       -0.59846007, -0.21513471,  0.87970293, -0.93488971,  0.34246646])"
      ]
     },
     "execution_count": 46,
     "metadata": {},
     "output_type": "execute_result"
    }
   ],
   "source": [
    "b = np.array([np.cos(4*i) for i in range(50)])\n",
    "b"
   ]
  },
  {
   "cell_type": "markdown",
   "metadata": {},
   "source": [
    "### (a)"
   ]
  },
  {
   "cell_type": "code",
   "execution_count": 47,
   "metadata": {},
   "outputs": [],
   "source": [
    "import warnings \n",
    "warnings.filterwarnings('ignore')\n",
    "\n",
    "value = []"
   ]
  },
  {
   "cell_type": "code",
   "execution_count": 48,
   "metadata": {},
   "outputs": [
    {
     "data": {
      "text/plain": [
       "array([ 8.01268368e-01, -7.22934667e+01,  1.78069905e+03, -2.00177404e+04,\n",
       "        1.24867055e+05, -4.75986254e+05,  1.16522169e+06, -1.86852324e+06,\n",
       "        1.95085439e+06, -1.27626304e+06,  4.74611386e+05, -7.64733383e+04])"
      ]
     },
     "execution_count": 48,
     "metadata": {},
     "output_type": "execute_result"
    }
   ],
   "source": [
    "## built-in 함수를 이용하여 바로 최소 자승해 구해보기\n",
    "\n",
    "x = np.linalg.lstsq(A, b)[0]\n",
    "value.append(x)\n",
    "x"
   ]
  },
  {
   "cell_type": "markdown",
   "metadata": {},
   "source": [
    "### (b)"
   ]
  },
  {
   "cell_type": "code",
   "execution_count": 49,
   "metadata": {},
   "outputs": [
    {
     "data": {
      "text/plain": [
       "array([[ 1.41421356e-01, -1.21854359e-01, -6.47724460e-02,\n",
       "        -3.12439457e-02, -1.43191375e-02, -4.79940501e-03,\n",
       "         8.07567592e-04,  4.14980870e-03,  6.10964294e-03,\n",
       "         7.19746113e-03,  7.72395422e-03,  2.61934979e-02],\n",
       "       [ 1.41421356e-01, -1.16880712e-01, -6.62800847e-02,\n",
       "        -3.25303826e-02, -1.53082987e-02, -5.55501886e-03,\n",
       "         2.34635212e-04,  3.72043295e-03,  5.79355407e-03,\n",
       "         6.97111274e-03,  7.56892498e-03,  2.58672539e-02],\n",
       "       [ 1.41421356e-01, -1.11907065e-01, -6.75282602e-02,\n",
       "        -3.38753761e-02, -1.63648382e-02, -6.36738732e-03,\n",
       "        -3.85007957e-04,  3.25290364e-03,  5.44652111e-03,\n",
       "         6.71987507e-03,  7.39408726e-03,  2.54893755e-02],\n",
       "       [ 1.41421356e-01, -1.06933417e-01, -6.85169725e-02,\n",
       "        -3.52603166e-02, -1.74903428e-02, -7.24037450e-03,\n",
       "        -1.05495133e-03,  2.74410300e-03,  5.06586696e-03,\n",
       "         6.44146302e-03,  7.19750102e-03,  2.50544227e-02],\n",
       "       [ 1.41421356e-01, -1.01959770e-01, -6.92462215e-02,\n",
       "        -3.66665946e-02, -1.86846938e-02, -8.17777833e-03,\n",
       "        -1.77907543e-03,  2.19060147e-03,  4.64863057e-03,\n",
       "         6.13333911e-03,  6.97700348e-03,  2.45563054e-02],\n",
       "       [ 1.41421356e-01, -9.69861226e-02, -6.97160072e-02,\n",
       "        -3.80756003e-02, -1.99460667e-02, -9.18313998e-03,\n",
       "        -2.56151965e-03,  1.58863328e-03,  4.19153330e-03,\n",
       "         5.79268095e-03,  6.73017934e-03,  2.39881939e-02],\n",
       "       [ 1.41421356e-01, -9.20124753e-02, -6.99263297e-02,\n",
       "        -3.94687242e-02, -2.12709317e-02, -1.02595534e-02,\n",
       "        -3.40662498e-03,  9.34079845e-04,  3.69094343e-03,\n",
       "         5.41634446e-03,  6.45432657e-03,  2.33424160e-02],\n",
       "       [ 1.41421356e-01, -8.70388280e-02, -6.98771889e-02,\n",
       "        -4.08273568e-02, -2.26540532e-02, -1.14094746e-02,\n",
       "        -4.31885152e-03,  2.22464834e-04,  3.14284087e-03,\n",
       "         5.00082297e-03,  6.14641705e-03,  2.26103363e-02],\n",
       "       [ 1.41421356e-01, -8.20651807e-02, -6.95685849e-02,\n",
       "        -4.21328883e-02, -2.40884900e-02, -1.26345314e-02,\n",
       "        -5.30267098e-03, -5.51035279e-04,  2.54278433e-03,\n",
       "         4.54220264e-03,  5.80305182e-03,  2.17822180e-02],\n",
       "       [ 1.41421356e-01, -7.70915334e-02, -6.90005176e-02,\n",
       "        -4.33667092e-02, -2.55655955e-02, -1.39353327e-02,\n",
       "        -6.36243398e-03, -1.39156135e-03,  1.88588419e-03,\n",
       "         4.03611526e-03,  5.42041048e-03,  2.08470621e-02],\n",
       "       [ 1.41421356e-01, -7.21178860e-02, -6.81729871e-02,\n",
       "        -4.45102099e-02, -2.70750173e-02, -1.53112782e-02,\n",
       "        -7.50221230e-03, -2.30451859e-03,  1.16678471e-03,\n",
       "         3.47769021e-03,  4.99419481e-03,  1.97924227e-02],\n",
       "       [ 1.41421356e-01, -6.71442387e-02, -6.70859933e-02,\n",
       "        -4.55447807e-02, -2.86046974e-02, -1.67603674e-02,\n",
       "        -8.72561594e-03, -3.29549668e-03,  3.79660215e-04,\n",
       "         2.86150806e-03,  4.51956733e-03,  1.86041955e-02],\n",
       "       [ 1.41421356e-01, -6.21705914e-02, -6.57395363e-02,\n",
       "        -4.64518121e-02, -3.01408725e-02, -1.82790095e-02,\n",
       "        -1.00355852e-02, -4.37015905e-03, -4.81769837e-04,\n",
       "         2.18155924e-03,  3.99108579e-03,  1.72663795e-02],\n",
       "       [ 1.41421356e-01, -5.71969441e-02, -6.41336160e-02,\n",
       "        -4.72126945e-02, -3.16680734e-02, -1.98618330e-02,\n",
       "        -1.14341573e-02, -5.53409772e-03, -1.42420111e-03,\n",
       "         1.43121250e-03,  3.40263595e-03,  1.57608103e-02],\n",
       "       [ 1.41421356e-01, -5.22232968e-02, -6.22682324e-02,\n",
       "        -4.78088182e-02, -3.31691254e-02, -2.15014944e-02,\n",
       "        -1.29222085e-02, -6.79264962e-03, -2.45467350e-03,\n",
       "         6.03198555e-04,  2.74736583e-03,  1.40668708e-02],\n",
       "       [ 1.41421356e-01, -4.72496495e-02, -6.01433856e-02,\n",
       "        -4.82215736e-02, -3.46251482e-02, -2.31884887e-02,\n",
       "        -1.44991705e-02, -8.15067081e-03, -3.58046213e-03,\n",
       "        -3.10383737e-04,  2.01762597e-03,  1.21611820e-02],\n",
       "       [ 1.41421356e-01, -4.22760022e-02, -5.77590756e-02,\n",
       "        -4.84323512e-02, -3.60155560e-02, -2.49109580e-02,\n",
       "        -1.61627221e-02, -9.61226462e-03, -4.80892246e-03,\n",
       "        -1.31803043e-03,  1.20492243e-03,  1.00172874e-02],\n",
       "       [ 1.41421356e-01, -3.73023548e-02, -5.51153023e-02,\n",
       "        -4.84225413e-02, -3.73180573e-02, -2.66545015e-02,\n",
       "        -1.79084554e-02, -1.11804600e-02, -6.14728112e-03,\n",
       "        -2.42875465e-03,  2.99890507e-04,  7.60534731e-03],\n",
       "       [ 1.41421356e-01, -3.23287075e-02, -5.22120657e-02,\n",
       "        -4.81735344e-02, -3.85086551e-02, -2.84019849e-02,\n",
       "        -1.97295172e-02, -1.28568360e-02, -7.60236353e-03,\n",
       "        -3.65195615e-03, -7.07699739e-04,  4.89186667e-03],\n",
       "       [ 1.41421356e-01, -2.73550602e-02, -4.90493659e-02,\n",
       "        -4.76667208e-02, -3.95616467e-02, -3.01333496e-02,\n",
       "        -2.16162253e-02, -1.46410895e-02, -9.18024851e-03,\n",
       "        -4.99722473e-03, -1.82889275e-03,  1.83949273e-03],\n",
       "       [ 1.41421356e-01, -2.23814129e-02, -4.56272028e-02,\n",
       "        -4.68834909e-02, -4.04496238e-02, -3.18254225e-02,\n",
       "        -2.35556595e-02, -1.65305403e-02, -1.08858396e-02,\n",
       "        -6.47406214e-03, -3.07543490e-03, -1.59307178e-03],\n",
       "       [ 1.41421356e-01, -1.74077656e-02, -4.19455765e-02,\n",
       "        -4.58052351e-02, -4.11434728e-02, -3.34517252e-02,\n",
       "        -2.55312273e-02, -1.85195727e-02, -1.27223419e-02,\n",
       "        -8.09150469e-03, -4.45957976e-03, -5.45097794e-03],\n",
       "       [ 1.41421356e-01, -1.24341183e-02, -3.80044870e-02,\n",
       "        -4.44133437e-02, -4.16123741e-02, -3.49822837e-02,\n",
       "        -2.75222053e-02, -2.05990069e-02, -1.46906335e-02,\n",
       "        -9.85762711e-03, -5.99378695e-03, -9.78288306e-03],\n",
       "       [ 1.41421356e-01, -7.46047097e-03, -3.38039341e-02,\n",
       "        -4.26892073e-02, -4.18238027e-02, -3.63834378e-02,\n",
       "        -2.95032540e-02, -2.27553983e-02, -1.67885178e-02,\n",
       "        -1.17789053e-02, -7.69028584e-03, -1.46402457e-02],\n",
       "       [ 1.41421356e-01, -2.48682366e-03, -2.93439180e-02,\n",
       "        -4.06142162e-02, -4.17435281e-02, -3.76176505e-02,\n",
       "        -3.14439095e-02, -2.49702603e-02, -1.90098451e-02,\n",
       "        -1.38594138e-02, -9.56047013e-03, -2.00761381e-02],\n",
       "       [ 1.41421356e-01,  2.48682366e-03, -2.46244387e-02,\n",
       "        -3.81697608e-02, -4.13356140e-02, -3.86433175e-02,\n",
       "        -3.33080481e-02, -2.72192061e-02, -2.13434893e-02,\n",
       "        -1.60998305e-02, -1.16140841e-02, -2.61434210e-02],\n",
       "       [ 1.41421356e-01,  7.46047097e-03, -1.96454961e-02,\n",
       "        -3.53372314e-02, -4.05624187e-02, -3.94145768e-02,\n",
       "        -3.50533270e-02, -2.94710070e-02, -2.37721653e-02,\n",
       "        -1.84962191e-02, -1.38581550e-02, -3.28920938e-02],\n",
       "       [ 1.41421356e-01,  1.24341183e-02, -1.44070903e-02,\n",
       "        -3.20980185e-02, -3.93845948e-02, -3.98811180e-02,\n",
       "        -3.66305998e-02, -3.16865622e-02, -2.62710721e-02,\n",
       "        -2.10385564e-02, -1.62956187e-02, -4.03655927e-02],\n",
       "       [ 1.41421356e-01,  1.74077656e-02, -8.90922119e-03,\n",
       "        -2.84335125e-02, -3.77610894e-02, -3.99879918e-02,\n",
       "        -3.79833061e-02, -3.38177776e-02, -2.88063465e-02,\n",
       "        -2.37089696e-02, -1.89235810e-02, -4.85957669e-02],\n",
       "       [ 1.41421356e-01,  2.23814129e-02, -3.15188884e-03,\n",
       "        -2.43251037e-02, -3.56491438e-02, -3.96754198e-02,\n",
       "        -3.90468368e-02, -3.58063474e-02, -3.13333109e-02,\n",
       "        -2.64796435e-02, -2.17311436e-02, -5.75962111e-02],\n",
       "       [ 1.41421356e-01,  2.73550602e-02,  2.86490676e-03,\n",
       "        -1.97541826e-02, -3.30042939e-02, -3.88786032e-02,\n",
       "        -3.97478743e-02, -3.75824381e-02, -3.37944974e-02,\n",
       "        -2.93103574e-02, -2.46967227e-02, -6.73535790e-02],\n",
       "       [ 1.41421356e-01,  3.23287075e-02,  9.14116562e-03,\n",
       "        -1.47021395e-02, -2.97803700e-02, -3.75275333e-02,\n",
       "        -4.00037066e-02, -3.90632678e-02, -3.61174326e-02,\n",
       "        -3.21456055e-02, -2.77847711e-02, -7.78164349e-02],\n",
       "       [ 1.41421356e-01,  3.73023548e-02,  1.56768877e-02,\n",
       "        -9.15036492e-03, -2.59294968e-02, -3.55468001e-02,\n",
       "        -3.97215176e-02, -4.01515792e-02, -3.82121627e-02,\n",
       "        -3.49112520e-02, -3.09418103e-02, -8.88811335e-02],\n",
       "       [ 1.41421356e-01,  4.22760022e-02,  2.24720731e-02,\n",
       "        -3.08024912e-03, -2.14020933e-02, -3.28554021e-02,\n",
       "        -3.87976514e-02, -4.07340010e-02, -3.99685017e-02,\n",
       "        -3.75106696e-02, -3.40916657e-02, -1.00374136e-01],\n",
       "       [ 1.41421356e-01,  4.72496495e-02,  2.95267217e-02,\n",
       "         3.52681745e-03, -1.61468731e-02, -2.93665561e-02,\n",
       "        -3.71168517e-02, -4.06792958e-02, -4.12529821e-02,\n",
       "        -3.98203043e-02, -3.71297860e-02, -1.12030082e-01],\n",
       "       [ 1.41421356e-01,  5.22232968e-02,  3.68408336e-02,\n",
       "         1.06894444e-02, -1.01108439e-02, -2.49875060e-02,\n",
       "        -3.45514762e-02, -3.98364879e-02, -4.19054882e-02,\n",
       "        -4.16846081e-02, -3.99165179e-02, -1.23464848e-01],\n",
       "       [ 1.41421356e-01,  5.71969441e-02,  4.44144087e-02,\n",
       "         1.84262413e-02, -3.23930824e-03, -1.96193330e-02,\n",
       "        -3.09606858e-02, -3.80328699e-02, -4.17355515e-02,\n",
       "        -4.29102740e-02, -4.22691908e-02, -1.34142693e-01],\n",
       "       [ 1.41421356e-01,  6.21705914e-02,  5.22474471e-02,\n",
       "         2.67558178e-02,  4.52413732e-03, -1.31567643e-02,\n",
       "        -2.61896086e-02, -3.50718825e-02, -4.05182863e-02,\n",
       "        -4.32597070e-02, -4.39528553e-02, -1.43336517e-01],\n",
       "       [ 1.41421356e-01,  6.71442387e-02,  6.03399487e-02,\n",
       "         3.56967836e-02,  1.32376016e-02, -5.48798329e-03,\n",
       "        -2.00684790e-02, -3.07308648e-02, -3.79899433e-02,\n",
       "        -4.24436590e-02, -4.46695008e-02, -1.50080064e-01],\n",
       "       [ 1.41421356e-01,  7.21178860e-02,  6.86919136e-02,\n",
       "         4.52677481e-02,  2.29608991e-02,  3.50556136e-03,\n",
       "        -1.24117517e-02, -2.47586704e-02, -3.38430587e-02,\n",
       "        -4.01129492e-02, -4.40455661e-02, -1.53110840e-01],\n",
       "       [ 1.41421356e-01,  7.70915334e-02,  7.73033417e-02,\n",
       "         5.54873210e-02,  3.37555499e-02,  1.39493462e-02,\n",
       "        -3.01718991e-03, -1.68731460e-02, -2.77211746e-02,\n",
       "        -3.58491923e-02, -4.16175346e-02, -1.50802284e-01],\n",
       "       [ 1.41421356e-01,  8.20651807e-02,  8.61742331e-02,\n",
       "         6.63741120e-02,  4.56847796e-02,  2.59759634e-02,\n",
       "         8.33507036e-03, -6.75846856e-03, -1.92131079e-02,\n",
       "        -2.91544461e-02, -3.68153932e-02, -1.41083623e-01],\n",
       "       [ 1.41421356e-01,  8.70388280e-02,  9.53045878e-02,\n",
       "         7.79467305e-02,  5.88135195e-02,  3.97253114e-02,\n",
       "         2.18834822e-02,  5.93766282e-03, -7.84674154e-03,\n",
       "        -1.94396902e-02, -2.89437119e-02, -1.21345619e-01],\n",
       "       [ 1.41421356e-01,  9.20124753e-02,  1.04694406e-01,\n",
       "         9.02237863e-02,  7.32084064e-02,  5.53447854e-02,\n",
       "         3.78860744e-02,  2.16069840e-02,  6.91768714e-03,\n",
       "        -6.01203930e-03, -1.71600810e-02, -8.83302547e-02],\n",
       "       [ 1.41421356e-01,  9.69861226e-02,  1.14343687e-01,\n",
       "         1.03223889e-01,  8.89377827e-02,  7.29894679e-02,\n",
       "         5.66214628e-02,  4.06837760e-02,  2.56948260e-02,\n",
       "         1.19394072e-02, -4.50626181e-04, -3.80021571e-02],\n",
       "       [ 1.41421356e-01,  1.01959770e-01,  1.24252431e-01,\n",
       "         1.16965648e-01,  1.06071696e-01,  9.28223190e-02,\n",
       "         7.83898876e-02,  6.36481315e-02,  4.91820039e-02,\n",
       "         3.53591864e-02,  2.23977071e-02,  3.46006446e-02],\n",
       "       [ 1.41421356e-01,  1.06933417e-01,  1.34420639e-01,\n",
       "         1.31467673e-01,  1.24681901e-01,  1.15014367e-01,\n",
       "         1.03514275e-01,  9.10293825e-02,  7.81676089e-02,\n",
       "         6.53426728e-02,  5.28284244e-02,  1.35539287e-01],\n",
       "       [ 1.41421356e-01,  1.11907065e-01,  1.44848310e-01,\n",
       "         1.46748574e-01,  1.44841856e-01,  1.39744901e-01,\n",
       "         1.32341325e-01,  1.23409692e-01,  1.13540077e-01,\n",
       "         1.03154975e-01,  9.25506618e-02,  2.72172893e-01],\n",
       "       [ 1.41421356e-01,  1.16880712e-01,  1.55535444e-01,\n",
       "         1.62826960e-01,  1.66626727e-01,  1.67201655e-01,\n",
       "         1.65242621e-01,  1.61427813e-01,  1.56297524e-01,\n",
       "         1.50251649e-01,  1.43578652e-01,  4.53386849e-01],\n",
       "       [ 1.41421356e-01,  1.21854359e-01,  1.66482041e-01,\n",
       "         1.79721441e-01,  1.90113382e-01,  1.97581008e-01,\n",
       "         2.02615771e-01,  2.05783021e-01,  2.07558039e-01,\n",
       "         2.08301359e-01,  2.08275876e-01,  6.89854057e-01]])"
      ]
     },
     "execution_count": 49,
     "metadata": {},
     "output_type": "execute_result"
    }
   ],
   "source": [
    "## 1번 문제에서 만든 함수를 사용한 QR 분해(dimension이 커져서 round-off error가 막대해진 것으로 추정)\n",
    "\n",
    "Q, R = mgs(A)\n",
    "Q"
   ]
  },
  {
   "cell_type": "code",
   "execution_count": 50,
   "metadata": {},
   "outputs": [
    {
     "data": {
      "text/plain": [
       "array([[7.07106781, 3.53553391, 2.38107386, 1.80384383, 1.45760198,\n",
       "        1.22685422, 1.06210305, 0.93859972, 0.84259493, 0.7658391 ,\n",
       "        0.70308246, 0.6508252 ],\n",
       "       [0.        , 4.10325903, 1.05690005, 0.95759283, 0.8582856 ,\n",
       "        0.77319466, 0.70232002, 0.64329226, 0.593742  , 0.55173063,\n",
       "        0.51575034, 0.4846413 ],\n",
       "       [0.        , 0.        , 3.21042091, 0.81503687, 0.76592859,\n",
       "        0.71385687, 0.66524918, 0.62165004, 0.58305332, 0.548981  ,\n",
       "        0.5188549 , 0.49212416],\n",
       "       [0.        , 0.        , 0.        , 2.7404749 , 0.54370214,\n",
       "        0.52660797, 0.50529308, 0.48314593, 0.46163202, 0.44135713,\n",
       "        0.42252822, 0.40516525],\n",
       "       [0.        , 0.        , 0.        , 0.        , 2.44091088,\n",
       "        0.41157975, 0.4066537 , 0.39785427, 0.38724038, 0.37593038,\n",
       "        0.36453883, 0.35340136],\n",
       "       [0.        , 0.        , 0.        , 0.        , 0.        ,\n",
       "        2.22969589, 0.33249699, 0.33267103, 0.32967181, 0.32481523,\n",
       "        0.31890825, 0.31245361],\n",
       "       [0.        , 0.        , 0.        , 0.        , 0.        ,\n",
       "        0.        , 2.07114059, 0.2790565 , 0.28144064, 0.2813133 ,\n",
       "        0.27954317, 0.27670596],\n",
       "       [0.        , 0.        , 0.        , 0.        , 0.        ,\n",
       "        0.        , 0.        , 1.94690792, 0.24016264, 0.24347484,\n",
       "        0.24481253, 0.24476522],\n",
       "       [0.        , 0.        , 0.        , 0.        , 0.        ,\n",
       "        0.        , 0.        , 0.        , 1.8464897 , 0.21046715,\n",
       "        0.21410986, 0.21619299],\n",
       "       [0.        , 0.        , 0.        , 0.        , 0.        ,\n",
       "        0.        , 0.        , 0.        , 0.        , 1.76337799,\n",
       "        0.1870338 , 0.19072144],\n",
       "       [0.        , 0.        , 0.        , 0.        , 0.        ,\n",
       "        0.        , 0.        , 0.        , 0.        , 0.        ,\n",
       "        1.69330045, 0.16808725],\n",
       "       [0.        , 0.        , 0.        , 0.        , 0.        ,\n",
       "        0.        , 0.        , 0.        , 0.        , 0.        ,\n",
       "        0.        , 0.49168901]])"
      ]
     },
     "execution_count": 50,
     "metadata": {},
     "output_type": "execute_result"
    }
   ],
   "source": [
    "R"
   ]
  },
  {
   "cell_type": "code",
   "execution_count": 51,
   "metadata": {},
   "outputs": [
    {
     "data": {
      "text/plain": [
       "array([ 0.02108593, -0.0113263 , -0.00915658, -0.00745627, -0.00630659,\n",
       "       -0.00540608, -0.00459611, -0.0037926 , -0.00295047, -0.00204528,\n",
       "       -0.00106398,  0.03040141])"
      ]
     },
     "execution_count": 51,
     "metadata": {},
     "output_type": "execute_result"
    }
   ],
   "source": [
    "x = np.matmul(np.matmul(np.linalg.inv(R), np.transpose(Q)), b)\n",
    "value.append(x)\n",
    "x"
   ]
  },
  {
   "cell_type": "markdown",
   "metadata": {},
   "source": [
    "### (c)"
   ]
  },
  {
   "cell_type": "code",
   "execution_count": 52,
   "metadata": {},
   "outputs": [
    {
     "data": {
      "text/plain": [
       "array([[ 8.07106781e+00,  0.00000000e+00,  0.00000000e+00,\n",
       "         0.00000000e+00,  0.00000000e+00,  0.00000000e+00,\n",
       "         0.00000000e+00,  0.00000000e+00,  0.00000000e+00,\n",
       "         0.00000000e+00,  0.00000000e+00,  0.00000000e+00],\n",
       "       [ 1.00000000e+00, -2.50012498e+00,  0.00000000e+00,\n",
       "         0.00000000e+00,  0.00000000e+00,  0.00000000e+00,\n",
       "         0.00000000e+00,  0.00000000e+00,  0.00000000e+00,\n",
       "         0.00000000e+00,  0.00000000e+00,  0.00000000e+00],\n",
       "       [ 1.00000000e+00, -3.97234002e-01,  6.32565379e-01,\n",
       "         0.00000000e+00,  0.00000000e+00,  0.00000000e+00,\n",
       "         0.00000000e+00,  0.00000000e+00,  0.00000000e+00,\n",
       "         0.00000000e+00,  0.00000000e+00,  0.00000000e+00],\n",
       "       [ 1.00000000e+00, -3.76825839e-01,  6.70150774e-02,\n",
       "        -1.45750357e-01,  0.00000000e+00,  0.00000000e+00,\n",
       "         0.00000000e+00,  0.00000000e+00,  0.00000000e+00,\n",
       "         0.00000000e+00,  0.00000000e+00,  0.00000000e+00],\n",
       "       [ 1.00000000e+00, -3.56417675e-01,  5.05267662e-02,\n",
       "         3.27170585e-03, -4.13734420e-02,  0.00000000e+00,\n",
       "         0.00000000e+00,  0.00000000e+00,  0.00000000e+00,\n",
       "         0.00000000e+00,  0.00000000e+00,  0.00000000e+00],\n",
       "       [ 1.00000000e+00, -3.36009512e-01,  3.48714413e-02,\n",
       "         9.68491120e-03, -6.97565008e-03,  1.12948973e-02,\n",
       "         0.00000000e+00,  0.00000000e+00,  0.00000000e+00,\n",
       "         0.00000000e+00,  0.00000000e+00,  0.00000000e+00],\n",
       "       [ 1.00000000e+00, -3.15601349e-01,  2.00491026e-02,\n",
       "         1.51229057e-02, -8.24225586e-03,  2.02122176e-03,\n",
       "        -2.60886420e-03,  0.00000000e+00,  0.00000000e+00,\n",
       "         0.00000000e+00,  0.00000000e+00,  0.00000000e+00],\n",
       "       [ 1.00000000e+00, -2.95193186e-01,  6.05975017e-03,\n",
       "         1.96366885e-02, -8.96639091e-03,  1.84449350e-03,\n",
       "        -1.25120858e-04, -6.41884777e-04,  0.00000000e+00,\n",
       "         0.00000000e+00,  0.00000000e+00,  0.00000000e+00],\n",
       "       [ 1.00000000e+00, -2.74785022e-01, -7.09661601e-03,\n",
       "         2.32772588e-02, -9.22388998e-03,  1.55871661e-03,\n",
       "         2.69811746e-06, -7.44648049e-05,  1.70129524e-04,\n",
       "         0.00000000e+00,  0.00000000e+00,  0.00000000e+00],\n",
       "       [ 1.00000000e+00, -2.54376859e-01, -1.94199959e-02,\n",
       "         2.60956157e-02, -9.08642466e-03,  1.20752524e-03,\n",
       "         1.12033120e-04, -8.66501853e-05,  1.42011460e-05,\n",
       "         3.96250100e-05,  0.00000000e+00,  0.00000000e+00],\n",
       "       [ 1.00000000e+00, -2.33968696e-01, -3.09103896e-02,\n",
       "         2.81427584e-02, -8.62150333e-03,  8.27754764e-04,\n",
       "         1.93051508e-04, -8.28253963e-05,  5.24056088e-06,\n",
       "         4.83727461e-06, -1.13076757e-05,  0.00000000e+00],\n",
       "       [ 1.00000000e+00, -2.13560533e-01, -4.15677970e-02,\n",
       "         2.94696860e-02, -7.89247115e-03,  4.49866624e-04,\n",
       "         2.40393347e-04, -6.49730327e-05, -5.26896304e-06,\n",
       "         7.03774490e-06, -1.74336086e-06,  2.41544528e-06],\n",
       "       [ 1.00000000e+00, -1.93152369e-01, -5.13922182e-02,\n",
       "         3.01273977e-02, -6.95851012e-03,  9.83731155e-05,\n",
       "         2.52408096e-04, -3.62602343e-05, -1.56307968e-05,\n",
       "         8.11119743e-06, -1.29650303e-06, -1.39997849e-07],\n",
       "       [ 1.00000000e+00, -1.72744206e-01, -6.03836531e-02,\n",
       "         3.01668927e-02, -5.87463902e-03, -2.07737782e-04,\n",
       "         2.30443310e-04, -4.87304402e-07, -2.44421686e-05,\n",
       "         7.97187447e-06, -6.46445140e-07, -2.87444302e-07],\n",
       "       [ 1.00000000e+00, -1.52336043e-01, -6.85421017e-02,\n",
       "         2.96391702e-02, -4.69171345e-03, -4.54577595e-04,\n",
       "         1.78185365e-04,  3.83632588e-05, -3.07046310e-05,\n",
       "         6.75092300e-06,  4.83608736e-08, -3.45511609e-07],\n",
       "       [ 1.00000000e+00, -1.31927879e-01, -7.58675641e-02,\n",
       "         2.85952291e-02, -3.45642579e-03, -6.32932534e-04,\n",
       "         1.01052196e-04,  7.64847500e-05, -3.38673789e-05,\n",
       "         4.73989460e-06,  6.38873957e-07, -3.03249754e-07],\n",
       "       [ 1.00000000e+00, -1.11519716e-01, -8.23600402e-02,\n",
       "         2.70860689e-02, -2.21130524e-03, -7.37838682e-04,\n",
       "         5.63806017e-06,  1.10518695e-04, -3.38177250e-05,\n",
       "         2.32471692e-06,  1.01122661e-06, -1.74216380e-07],\n",
       "       [ 1.00000000e+00, -9.11115529e-02, -8.80195301e-02,\n",
       "         2.51626885e-02, -9.94717811e-04, -7.68157179e-04,\n",
       "        -1.00789688e-04,  1.37749168e-04, -3.08318211e-05,\n",
       "        -8.05412794e-08,  1.10216063e-06,  9.35770383e-09],\n",
       "       [ 1.00000000e+00, -7.07033897e-02, -9.28460337e-02,\n",
       "         2.28760872e-02,  1.59133702e-04, -7.26149403e-04,\n",
       "        -2.10741800e-04,  1.56226428e-04, -2.54975024e-05,\n",
       "        -2.09311848e-06,  9.04036316e-07,  2.05216673e-07],\n",
       "       [ 1.00000000e+00, -5.02952264e-02, -9.68395511e-02,\n",
       "         2.02772640e-02,  1.22020969e-03, -6.17052154e-04,\n",
       "        -3.16906320e-04,  1.64827288e-04, -1.86199197e-05,\n",
       "        -3.40933530e-06,  4.60563581e-07,  3.70567457e-07],\n",
       "       [ 1.00000000e+00, -2.98870631e-02, -1.00000082e-01,\n",
       "         1.74172183e-02,  2.16263374e-03, -4.48652842e-04,\n",
       "        -4.12495752e-04,  1.63259671e-04, -1.11194098e-05,\n",
       "        -3.83769243e-06, -1.44748001e-07,  4.70672568e-07],\n",
       "       [ 1.00000000e+00, -9.47889988e-03, -1.02327627e-01,\n",
       "         1.43469491e-02,  2.96469264e-03, -2.30864667e-04,\n",
       "        -4.91542208e-04,  1.52018763e-04, -3.92983979e-06,\n",
       "        -3.31594857e-06, -8.04929972e-07,  4.85221509e-07],\n",
       "       [ 1.00000000e+00,  1.09292634e-02, -1.03822186e-01,\n",
       "         1.11174555e-02,  3.60883638e-03,  2.46981948e-05,\n",
       "        -5.49140539e-04,  1.32302206e-04,  2.09554728e-06,\n",
       "        -1.91227296e-06, -1.40801174e-06,  4.11655914e-07],\n",
       "       [ 1.00000000e+00,  3.13374267e-02, -1.04483758e-01,\n",
       "         7.77973685e-03,  4.08167812e-03,  3.05145409e-04,\n",
       "        -5.81639450e-04,  1.05891765e-04,  6.26497826e-06,\n",
       "         1.88218063e-07, -1.85499773e-06,  2.65153178e-07],\n",
       "       [ 1.00000000e+00,  5.17455899e-02, -1.04312344e-01,\n",
       "         4.38479217e-03,  4.37399426e-03,  5.96735298e-04,\n",
       "        -5.86780593e-04,  7.50088830e-05,  8.11108701e-06,\n",
       "         2.70923916e-06, -2.07506704e-06,  7.54765405e-08],\n",
       "       [ 1.00000000e+00,  7.21537532e-02, -1.03307944e-01,\n",
       "         9.83620645e-04,  4.48072435e-03,  8.85299654e-04,\n",
       "        -5.63785643e-04,  4.21515791e-05,  7.43255967e-06,\n",
       "         5.31835824e-06, -2.03616755e-06, -1.18668759e-07],\n",
       "       [ 1.00000000e+00,  9.25619164e-02, -1.01470558e-01,\n",
       "        -2.37277856e-03,  4.40097118e-03,  1.15666856e-03,\n",
       "        -5.13391354e-04,  9.92009962e-06,  4.31231667e-06,\n",
       "         7.66764614e-06, -1.74977435e-06, -2.76807826e-07],\n",
       "       [ 1.00000000e+00,  1.12970080e-01, -9.88001848e-02,\n",
       "        -5.63340628e-03,  4.13800069e-03,  1.39709520e-03,\n",
       "        -4.37832602e-04, -1.91612327e-05, -8.88726227e-07,\n",
       "         9.43601351e-06, -1.26926125e-06, -3.64235836e-07],\n",
       "       [ 1.00000000e+00,  1.33378243e-01, -9.52968259e-02,\n",
       "        -8.74726336e-03,  3.69924207e-03,  1.59368069e-03,\n",
       "        -3.40773405e-04, -4.28185475e-05, -7.56206257e-06,\n",
       "         1.03691943e-05, -6.82049714e-07, -3.58712629e-07],\n",
       "       [ 1.00000000e+00,  1.53786406e-01, -9.09604807e-02,\n",
       "        -1.16633506e-02,  3.09628766e-03,  1.73479887e-03,\n",
       "        -2.27185925e-04, -5.91918988e-05, -1.49046967e-05,\n",
       "         1.03134573e-05, -9.64060864e-08, -2.55196387e-07],\n",
       "       [ 1.00000000e+00,  1.74194570e-01, -8.57911492e-02,\n",
       "        -1.43306690e-02,  2.34489302e-03,  1.81052112e-03,\n",
       "        -1.03177454e-04, -6.69802508e-05, -2.19922603e-05,\n",
       "         9.23947200e-06,  3.75590536e-07, -6.77390206e-08],\n",
       "       [ 1.00000000e+00,  1.94602733e-01, -7.97888315e-02,\n",
       "        -1.66982192e-02,  1.46497690e-03,  1.81304123e-03,\n",
       "         2.42346211e-05, -6.55605462e-05, -2.78682485e-05,\n",
       "         7.25332388e-06,  6.36835827e-07,  1.71970284e-07],\n",
       "       [ 1.00000000e+00,  2.15010896e-01, -7.29535276e-02,\n",
       "        -1.87150021e-02,  4.80621261e-04,  1.73710014e-03,\n",
       "         1.47399869e-04, -5.50734244e-05, -3.16442677e-05,\n",
       "         4.59246436e-06,  6.23263220e-07,  4.19464841e-07],\n",
       "       [ 1.00000000e+00,  2.35419059e-01, -6.52852374e-02,\n",
       "        -2.03300187e-02, -5.79928764e-04,  1.58041079e-03,\n",
       "         2.58363885e-04, -3.64681602e-05, -3.26049723e-05,\n",
       "         1.60539381e-06,  3.18487675e-07,  6.25291290e-07],\n",
       "       [ 1.00000000e+00,  2.55827223e-01, -5.67839609e-02,\n",
       "        -2.14922696e-02, -1.68426483e-03,  1.34408296e-03,\n",
       "         3.49249379e-04, -1.14993912e-05, -3.03101574e-05,\n",
       "        -1.28488620e-06, -2.37642758e-07,  7.44721200e-07],\n",
       "       [ 1.00000000e+00,  2.76235386e-01, -4.74496982e-02,\n",
       "        -2.21507558e-02, -2.79581540e-03,  1.03304803e-03,\n",
       "         4.12689280e-04,  1.73317984e-05, -2.46852560e-05,\n",
       "        -3.63215714e-06, -9.48956747e-07,  7.47878268e-07],\n",
       "       [ 1.00000000e+00,  2.96643549e-01, -3.72824492e-02,\n",
       "        -2.22544780e-02, -3.87384573e-03,  6.56483868e-04,\n",
       "         4.42311867e-04,  4.68998664e-05, -1.60902833e-05,\n",
       "        -5.02982709e-06, -1.67306869e-06,  6.28391587e-07],\n",
       "       [ 1.00000000e+00,  3.17051712e-01, -2.62822140e-02,\n",
       "        -2.17524373e-02, -4.87345791e-03,  2.28239569e-04,\n",
       "         4.33277907e-04,  7.36473077e-05, -5.35604971e-06,\n",
       "        -5.18025191e-06, -2.24242045e-06,  4.08489656e-07],\n",
       "       [ 1.00000000e+00,  3.37459876e-01, -1.44489925e-02,\n",
       "        -2.05936342e-02, -5.74559078e-03, -2.32739671e-04,\n",
       "         3.82869816e-04,  9.38550846e-05,  6.22474333e-06,\n",
       "        -3.96332409e-06, -2.49556640e-06,  1.38530445e-07],\n",
       "       [ 1.00000000e+00,  3.57868039e-01, -1.78278472e-03,\n",
       "        -1.87270698e-02, -6.43702004e-03, -7.01987766e-04,\n",
       "         2.91132845e-04,  1.03998425e-04,  1.69651262e-05,\n",
       "        -1.49476902e-06, -2.31612585e-06, -1.10581814e-07],\n",
       "       [ 1.00000000e+00,  3.78276202e-01,  1.17164093e-02,\n",
       "        -1.61017449e-02, -6.89035816e-03, -1.14909292e-03,\n",
       "         1.61568272e-04,  1.01195417e-04,  2.49250180e-05,\n",
       "         1.83798548e-06, -1.67443023e-06, -2.62704012e-07],\n",
       "       [ 1.00000000e+00,  3.98684365e-01,  2.60485895e-02,\n",
       "        -1.26666603e-02, -7.04405442e-03, -1.53727280e-03,\n",
       "         1.87862020e-06,  8.37558386e-05,  2.81419438e-05,\n",
       "         5.37729651e-06, -6.63941708e-07, -2.58556301e-07],\n",
       "       [ 1.00000000e+00,  4.19092529e-01,  4.12137561e-02,\n",
       "        -8.37081679e-03, -6.83239491e-03, -1.82294973e-03,\n",
       "        -1.75235106e-04,  5.18376425e-05,  2.49685551e-05,\n",
       "         8.25209999e-06,  4.79031805e-07, -8.14187310e-08],\n",
       "       [ 1.00000000e+00,  4.39500692e-01,  5.72119088e-02,\n",
       "        -3.16321528e-03, -6.18550252e-03, -1.95532589e-03,\n",
       "        -3.51224170e-04,  8.21853523e-06,  1.45354058e-05,\n",
       "         9.51120270e-06,  1.38799797e-06,  2.19918438e-07],\n",
       "       [ 1.00000000e+00,  4.59908855e-01,  7.40430479e-02,\n",
       "         3.00714340e-03, -5.02933693e-03, -1.87595846e-03,\n",
       "        -5.00790830e-04, -4.08099196e-05, -2.64134760e-06,\n",
       "         8.35772888e-06,  1.63187873e-06,  5.21451128e-07],\n",
       "       [ 1.00000000e+00,  4.80317018e-01,  9.17071731e-02,\n",
       "         1.01912584e-02, -3.28569464e-03, -1.51833485e-03,\n",
       "        -5.90935049e-04, -8.44182445e-05, -2.38864409e-05,\n",
       "         4.51306571e-06,  8.59733439e-07,  6.43342847e-07],\n",
       "       [ 1.00000000e+00,  5.00725182e-01,  1.10204285e-01,\n",
       "         1.84401289e-02, -8.72208962e-04, -8.07447854e-04,\n",
       "        -5.79949190e-04, -1.06077606e-04, -4.34040986e-05,\n",
       "        -1.25743749e-06, -9.42798767e-07,  4.20915563e-07],\n",
       "       [ 1.00000000e+00,  5.21133345e-01,  1.29534382e-01,\n",
       "         2.78047541e-02,  2.29765002e-03,  3.40629171e-04,\n",
       "        -4.16360688e-04, -8.22535529e-05, -5.11054246e-05,\n",
       "        -6.42062820e-06, -3.04550676e-06, -1.42011465e-07],\n",
       "       [ 1.00000000e+00,  5.41541508e-01,  1.49697467e-01,\n",
       "         3.83361330e-02,  6.31457539e-03,  2.01916709e-03,\n",
       "        -3.78227040e-05,  1.90524868e-05, -3.12000658e-05,\n",
       "        -5.71282314e-06, -3.36612587e-06, -5.96764036e-07],\n",
       "       [ 1.00000000e+00,  5.61949672e-01,  1.70693537e-01,\n",
       "         5.00852650e-02,  1.12734234e-02,  4.33120584e-03,\n",
       "         6.30047235e-04,  2.39921397e-04,  3.94735839e-05,\n",
       "         1.01071293e-05,  2.39360039e-06,  4.02084920e-07]])"
      ]
     },
     "execution_count": 52,
     "metadata": {},
     "output_type": "execute_result"
    }
   ],
   "source": [
    "## 1번 문제에서 만든 함수를 사용한 QR 분해(dimension이 커져서 round-off error가 막대해진 것으로 추정)\n",
    "\n",
    "Q, R = qrhouse(A)\n",
    "Q"
   ]
  },
  {
   "cell_type": "code",
   "execution_count": 53,
   "metadata": {},
   "outputs": [
    {
     "data": {
      "text/plain": [
       "array([[-7.07106781e+00, -3.53553391e+00, -2.38107386e+00,\n",
       "        -1.80384383e+00, -1.45760198e+00, -1.22685422e+00,\n",
       "        -1.06210305e+00, -9.38599722e-01, -8.42594935e-01,\n",
       "        -7.65839095e-01, -7.03082461e-01, -6.50825202e-01],\n",
       "       [ 0.00000000e+00,  2.08248282e+00,  2.08248282e+00,\n",
       "         1.88681096e+00,  1.69113911e+00,  1.52347859e+00,\n",
       "         1.38382940e+00,  1.26752296e+00,  1.16989067e+00,\n",
       "         1.08711277e+00,  1.01621835e+00,  9.54922064e-01],\n",
       "       [ 0.00000000e+00,  0.00000000e+00, -5.48229004e-01,\n",
       "        -8.22343506e-01, -9.44453060e-01, -9.90560140e-01,\n",
       "        -9.98303940e-01, -9.86504057e-01, -9.64899292e-01,\n",
       "        -9.38688051e-01, -9.10704898e-01, -8.82508833e-01],\n",
       "       [ 0.00000000e+00,  0.00000000e+00,  0.00000000e+00,\n",
       "         1.41582647e-01,  2.83165295e-01,  3.94792097e-01,\n",
       "         4.76463053e-01,  5.34211144e-01,  5.74069349e-01,\n",
       "         6.00842776e-01,  6.18108659e-01,  6.28470960e-01],\n",
       "       [ 0.00000000e+00,  0.00000000e+00,  0.00000000e+00,\n",
       "         0.00000000e+00,  3.62868664e-02,  9.07171659e-02,\n",
       "         1.48903103e-01,  2.03650781e-01,  2.52125676e-01,\n",
       "         2.93672955e-01,  3.28617652e-01,  3.57664760e-01],\n",
       "       [ 0.00000000e+00,  0.00000000e+00,  0.00000000e+00,\n",
       "         0.00000000e+00,  0.00000000e+00, -9.25685367e-03,\n",
       "        -2.77705610e-02, -5.24686521e-02, -8.02786569e-02,\n",
       "        -1.08930615e-01, -1.36957076e-01, -1.63498838e-01],\n",
       "       [ 0.00000000e+00,  0.00000000e+00,  0.00000000e+00,\n",
       "         0.00000000e+00,  0.00000000e+00,  0.00000000e+00,\n",
       "         2.35256107e-03,  8.23396375e-03,  1.76023695e-02,\n",
       "         2.98068802e-02,  4.40275076e-02,  5.94951580e-02],\n",
       "       [ 0.00000000e+00,  0.00000000e+00,  0.00000000e+00,\n",
       "         0.00000000e+00,  0.00000000e+00,  0.00000000e+00,\n",
       "         0.00000000e+00,  5.95754348e-04,  2.38301739e-03,\n",
       "         5.68699683e-03,  1.05623537e-02,  1.68803099e-02],\n",
       "       [ 0.00000000e+00,  0.00000000e+00,  0.00000000e+00,\n",
       "         0.00000000e+00,  0.00000000e+00,  0.00000000e+00,\n",
       "         0.00000000e+00,  0.00000000e+00, -1.50314087e-04,\n",
       "        -6.76413392e-04, -1.78258062e-03, -3.60373732e-03],\n",
       "       [ 0.00000000e+00,  0.00000000e+00,  0.00000000e+00,\n",
       "         0.00000000e+00,  0.00000000e+00,  0.00000000e+00,\n",
       "         0.00000000e+00,  0.00000000e+00,  0.00000000e+00,\n",
       "        -3.77774631e-05, -1.88887316e-04, -5.44814089e-04],\n",
       "       [ 0.00000000e+00,  0.00000000e+00,  0.00000000e+00,\n",
       "         0.00000000e+00,  0.00000000e+00,  0.00000000e+00,\n",
       "         0.00000000e+00,  0.00000000e+00,  0.00000000e+00,\n",
       "         0.00000000e+00,  9.45422399e-06,  5.19982320e-05],\n",
       "       [ 0.00000000e+00,  0.00000000e+00,  0.00000000e+00,\n",
       "         0.00000000e+00,  0.00000000e+00,  0.00000000e+00,\n",
       "         0.00000000e+00,  0.00000000e+00,  0.00000000e+00,\n",
       "         0.00000000e+00,  0.00000000e+00, -2.35513688e-06]])"
      ]
     },
     "execution_count": 53,
     "metadata": {},
     "output_type": "execute_result"
    }
   ],
   "source": [
    "R"
   ]
  },
  {
   "cell_type": "code",
   "execution_count": 54,
   "metadata": {},
   "outputs": [
    {
     "data": {
      "text/plain": [
       "array([ 8.04960266e-01, -7.33941815e+01,  1.82215073e+03, -2.06297245e+04,\n",
       "        1.29559530e+05, -4.97189726e+05,  1.22540324e+06, -1.97883626e+06,\n",
       "        2.08129541e+06, -1.37234590e+06,  5.14706542e+05, -8.37125440e+04])"
      ]
     },
     "execution_count": 54,
     "metadata": {},
     "output_type": "execute_result"
    }
   ],
   "source": [
    "x = np.matmul(np.matmul(np.linalg.inv(np.matmul(np.transpose(R), R)), np.transpose(A)), b)\n",
    "value.append(x)\n",
    "x"
   ]
  },
  {
   "cell_type": "markdown",
   "metadata": {},
   "source": [
    "### (d)"
   ]
  },
  {
   "cell_type": "code",
   "execution_count": 55,
   "metadata": {},
   "outputs": [
    {
     "data": {
      "text/plain": [
       "array([[-1.41421356e-01, -2.40098019e-01, -2.97804941e-01,\n",
       "        -3.31823325e-01,  3.47265134e-01,  3.47265134e-01,\n",
       "         3.34633056e-01, -3.12204812e-01, -2.82832344e-01,\n",
       "         2.49256984e-01,  2.13960967e-01,  1.79042532e-01],\n",
       "       [-1.41421356e-01, -2.30298100e-01, -2.61339030e-01,\n",
       "        -2.50560470e-01,  2.05524263e-01,  1.34653827e-01,\n",
       "         4.78047223e-02,  4.46006875e-02,  1.32758039e-01,\n",
       "        -2.08561966e-01, -2.66359572e-01, -3.03276126e-01],\n",
       "       [-1.41421356e-01, -2.20498181e-01, -2.26392532e-01,\n",
       "        -1.77762496e-01,  9.03598052e-02, -1.59458480e-02,\n",
       "        -1.19511806e-01,  2.00703094e-01,  2.45313768e-01,\n",
       "        -2.46713545e-01, -2.06319504e-01, -1.32454932e-01],\n",
       "       [-1.41421356e-01, -2.10698262e-01, -1.92965446e-01,\n",
       "        -1.13069194e-01, -8.67031924e-04, -1.15089064e-01,\n",
       "        -1.97830181e-01,  2.27273716e-01,  1.96680851e-01,\n",
       "        -1.15212357e-01, -4.48268196e-03,  1.07849219e-01],\n",
       "       [-1.41421356e-01, -2.00898343e-01, -1.61057774e-01,\n",
       "        -5.61203583e-02, -7.06803113e-02, -1.72298420e-01,\n",
       "        -2.12689003e-01,  1.78464638e-01,  8.24511627e-02,\n",
       "         4.19114449e-02,  1.52865617e-01,  2.14625244e-01],\n",
       "       [-1.41421356e-01, -1.91098423e-01, -1.30669515e-01,\n",
       "        -6.55577998e-03, -1.21489365e-01, -1.96109837e-01,\n",
       "        -1.85138270e-01,  9.41317933e-02, -3.73477096e-02,\n",
       "         1.53639221e-01,  2.06807257e-01,  1.76030828e-01],\n",
       "       [-1.41421356e-01, -1.81298504e-01, -1.01800669e-01,\n",
       "         3.59847483e-02, -1.55588797e-01, -1.94118450e-01,\n",
       "        -1.32203716e-01,  2.28985953e-03, -1.29263282e-01,\n",
       "         1.96484750e-01,  1.66610556e-01,  5.51224455e-02],\n",
       "       [-1.41421356e-01, -1.71498585e-01, -7.44512352e-02,\n",
       "         7.18614344e-02, -1.75158478e-01, -1.73024497e-01,\n",
       "        -6.73290377e-02, -7.86885545e-02, -1.78960142e-01,\n",
       "         1.75313960e-01,  7.04673985e-02, -7.50967429e-02],\n",
       "       [-1.41421356e-01, -1.61698666e-01, -4.86212148e-02,\n",
       "         1.01434486e-01, -1.82263550e-01, -1.38679216e-01,\n",
       "        -7.96008327e-04, -1.38116958e-01, -1.85131644e-01,\n",
       "         1.09389364e-01, -3.87305304e-02, -1.62249141e-01],\n",
       "       [-1.41421356e-01, -1.51898747e-01, -2.43106074e-02,\n",
       "         1.25064110e-01, -1.78854427e-01, -9.61307304e-02,\n",
       "         5.98775153e-02, -1.71269787e-01, -1.54627975e-01,\n",
       "         2.26801312e-02, -1.26617104e-01, -1.83567079e-01],\n",
       "       [-1.41421356e-01, -1.42098828e-01, -1.51941296e-03,\n",
       "         1.43110516e-01, -1.66766789e-01, -4.96699479e-02,\n",
       "         1.09561702e-01, -1.77875502e-01, -9.86553054e-02,\n",
       "        -6.24121657e-02, -1.72872765e-01, -1.42655741e-01],\n",
       "       [-1.41421356e-01, -1.32298909e-01,  1.97523685e-02,\n",
       "         1.55933909e-01, -1.47721588e-01, -2.87644806e-03,\n",
       "         1.45160963e-01, -1.60815497e-01, -2.99088020e-02,\n",
       "        -1.28658841e-01, -1.71675236e-01, -6.06158966e-02],\n",
       "       [-1.41421356e-01, -1.22498989e-01,  3.95047371e-02,\n",
       "         1.63894499e-01, -1.23325047e-01,  4.13356240e-02,\n",
       "         1.65282285e-01, -1.25016352e-01,  3.94896272e-02,\n",
       "        -1.65589824e-01, -1.29135728e-01,  3.41130319e-02],\n",
       "       [-1.41421356e-01, -1.12699070e-01,  5.77376926e-02,\n",
       "         1.67352493e-01, -9.50686573e-02,  8.06716659e-02,\n",
       "         1.69925666e-01, -7.65229509e-02,  9.93699402e-02,\n",
       "        -1.69617774e-01, -5.92751334e-02,  1.14556839e-01],\n",
       "       [-1.41421356e-01, -1.02899151e-01,  7.44512352e-02,\n",
       "         1.66668099e-01, -6.43291795e-02,  1.13410726e-01,\n",
       "         1.60196676e-01, -2.17399926e-02,  1.42321914e-01,\n",
       "        -1.43173021e-01,  2.03344114e-02,  1.61326618e-01],\n",
       "       [-1.41421356e-01, -9.30992319e-02,  8.96453649e-02,\n",
       "         1.62201523e-01, -3.23686455e-02,  1.38359610e-01,\n",
       "         1.38041111e-01,  3.31705799e-02,  1.64037375e-01,\n",
       "        -9.32421111e-02,  9.24990311e-02,  1.65663484e-01],\n",
       "       [-1.41421356e-01, -8.32993128e-02,  1.03320082e-01,\n",
       "         1.54312975e-01, -3.34356356e-04,  1.54806993e-01,\n",
       "         1.06001776e-01,  8.27487015e-02,  1.63283563e-01,\n",
       "        -2.96290273e-02,  1.43439347e-01,  1.29651122e-01],\n",
       "       [-1.41421356e-01, -7.34993936e-02,  1.15475385e-01,\n",
       "         1.43362661e-01,  3.07411167e-02,  1.62477521e-01,\n",
       "         6.69973675e-02,  1.22564336e-01,  1.41596414e-01,\n",
       "         3.68097072e-02,  1.64710655e-01,  6.42238972e-02],\n",
       "       [-1.41421356e-01, -6.36994745e-02,  1.26111276e-01,\n",
       "         1.29710790e-01,  5.99399328e-02,  1.61485925e-01,\n",
       "         2.41234746e-02,  1.49427127e-01,  1.02774483e-01,\n",
       "         9.57667495e-02,  1.53972863e-01, -1.42174698e-02],\n",
       "       [-1.41421356e-01, -5.38995553e-02,  1.35227754e-01,\n",
       "         1.13717568e-01,  8.64589811e-02,  1.52291125e-01,\n",
       "        -1.95243154e-02,  1.61490029e-01,  5.22461381e-02,\n",
       "         1.38789243e-01,  1.14716525e-01, -8.77412754e-02],\n",
       "       [-1.41421356e-01, -4.40996362e-02,  1.42824819e-01,\n",
       "         9.57432043e-02,  1.09609881e-01,  1.35650340e-01,\n",
       "        -6.10051937e-02,  1.58259374e-01, -3.62539024e-03,\n",
       "         1.60204605e-01,  5.51485230e-02, -1.40614064e-01],\n",
       "       [-1.41421356e-01, -3.42997170e-02,  1.48902470e-01,\n",
       "         7.61479059e-02,  1.28818981e-01,  1.12573196e-01,\n",
       "        -9.76657995e-02,  1.40523877e-01, -5.82426134e-02,\n",
       "         1.57627926e-01, -1.35003086e-02, -1.62227556e-01],\n",
       "       [-1.41421356e-01, -2.44997979e-02,  1.53460709e-01,\n",
       "         5.52918806e-02,  1.43627362e-01,  8.42758308e-02,\n",
       "        -1.27250776e-01,  1.10215022e-01, -1.05431608e-01,\n",
       "         1.32050474e-01, -7.89582705e-02, -1.48832393e-01],\n",
       "       [-1.41421356e-01, -1.46998787e-02,  1.56499535e-01,\n",
       "         3.35353360e-02,  1.53690833e-01,  5.21350065e-02,\n",
       "        -1.47991215e-01,  7.02113247e-02, -1.40016705e-01,\n",
       "         8.75412089e-02, -1.29903029e-01, -1.03909210e-01],\n",
       "       [-1.41421356e-01, -4.89995958e-03,  1.58018948e-01,\n",
       "         1.12384800e-02,  1.58779933e-01,  1.76422148e-02,\n",
       "        -1.58670993e-01,  2.40989365e-02, -1.58279753e-01,\n",
       "         3.06197950e-02, -1.57703288e-01, -3.72212093e-02],\n",
       "       [-1.41421356e-01,  4.89995958e-03,  1.58018948e-01,\n",
       "        -1.12384800e-02,  1.58779933e-01, -1.76422148e-02,\n",
       "        -1.58670993e-01, -2.40989365e-02, -1.58279753e-01,\n",
       "        -3.06197950e-02, -1.57703288e-01,  3.72212094e-02],\n",
       "       [-1.41421356e-01,  1.46998787e-02,  1.56499535e-01,\n",
       "        -3.35353360e-02,  1.53690833e-01, -5.21350065e-02,\n",
       "        -1.47991215e-01, -7.02113247e-02, -1.40016705e-01,\n",
       "        -8.75412089e-02, -1.29903028e-01,  1.03909210e-01],\n",
       "       [-1.41421356e-01,  2.44997979e-02,  1.53460709e-01,\n",
       "        -5.52918806e-02,  1.43627362e-01, -8.42758308e-02,\n",
       "        -1.27250776e-01, -1.10215022e-01, -1.05431608e-01,\n",
       "        -1.32050474e-01, -7.89582704e-02,  1.48832393e-01],\n",
       "       [-1.41421356e-01,  3.42997170e-02,  1.48902470e-01,\n",
       "        -7.61479059e-02,  1.28818981e-01, -1.12573196e-01,\n",
       "        -9.76657995e-02, -1.40523877e-01, -5.82426134e-02,\n",
       "        -1.57627926e-01, -1.35003085e-02,  1.62227556e-01],\n",
       "       [-1.41421356e-01,  4.40996362e-02,  1.42824819e-01,\n",
       "        -9.57432043e-02,  1.09609881e-01, -1.35650340e-01,\n",
       "        -6.10051937e-02, -1.58259374e-01, -3.62539023e-03,\n",
       "        -1.60204605e-01,  5.51485231e-02,  1.40614064e-01],\n",
       "       [-1.41421356e-01,  5.38995553e-02,  1.35227754e-01,\n",
       "        -1.13717568e-01,  8.64589811e-02, -1.52291125e-01,\n",
       "        -1.95243154e-02, -1.61490029e-01,  5.22461381e-02,\n",
       "        -1.38789243e-01,  1.14716525e-01,  8.77412752e-02],\n",
       "       [-1.41421356e-01,  6.36994745e-02,  1.26111276e-01,\n",
       "        -1.29710790e-01,  5.99399328e-02, -1.61485925e-01,\n",
       "         2.41234746e-02, -1.49427127e-01,  1.02774483e-01,\n",
       "        -9.57667495e-02,  1.53972863e-01,  1.42174699e-02],\n",
       "       [-1.41421356e-01,  7.34993936e-02,  1.15475385e-01,\n",
       "        -1.43362661e-01,  3.07411167e-02, -1.62477521e-01,\n",
       "         6.69973675e-02, -1.22564336e-01,  1.41596414e-01,\n",
       "        -3.68097072e-02,  1.64710655e-01, -6.42238977e-02],\n",
       "       [-1.41421356e-01,  8.32993128e-02,  1.03320082e-01,\n",
       "        -1.54312975e-01, -3.34356356e-04, -1.54806993e-01,\n",
       "         1.06001776e-01, -8.27487015e-02,  1.63283563e-01,\n",
       "         2.96290273e-02,  1.43439347e-01, -1.29651122e-01],\n",
       "       [-1.41421356e-01,  9.30992319e-02,  8.96453649e-02,\n",
       "        -1.62201523e-01, -3.23686455e-02, -1.38359610e-01,\n",
       "         1.38041111e-01, -3.31705799e-02,  1.64037375e-01,\n",
       "         9.32421111e-02,  9.24990310e-02, -1.65663484e-01],\n",
       "       [-1.41421356e-01,  1.02899151e-01,  7.44512352e-02,\n",
       "        -1.66668099e-01, -6.43291795e-02, -1.13410726e-01,\n",
       "         1.60196676e-01,  2.17399926e-02,  1.42321914e-01,\n",
       "         1.43173021e-01,  2.03344113e-02, -1.61326617e-01],\n",
       "       [-1.41421356e-01,  1.12699070e-01,  5.77376926e-02,\n",
       "        -1.67352493e-01, -9.50686573e-02, -8.06716659e-02,\n",
       "         1.69925666e-01,  7.65229509e-02,  9.93699402e-02,\n",
       "         1.69617774e-01, -5.92751335e-02, -1.14556839e-01],\n",
       "       [-1.41421356e-01,  1.22498989e-01,  3.95047371e-02,\n",
       "        -1.63894499e-01, -1.23325047e-01, -4.13356240e-02,\n",
       "         1.65282285e-01,  1.25016352e-01,  3.94896272e-02,\n",
       "         1.65589824e-01, -1.29135728e-01, -3.41130316e-02],\n",
       "       [-1.41421356e-01,  1.32298909e-01,  1.97523685e-02,\n",
       "        -1.55933909e-01, -1.47721588e-01,  2.87644806e-03,\n",
       "         1.45160963e-01,  1.60815497e-01, -2.99088020e-02,\n",
       "         1.28658841e-01, -1.71675236e-01,  6.06158969e-02],\n",
       "       [-1.41421356e-01,  1.42098828e-01, -1.51941296e-03,\n",
       "        -1.43110516e-01, -1.66766789e-01,  4.96699479e-02,\n",
       "         1.09561702e-01,  1.77875502e-01, -9.86553054e-02,\n",
       "         6.24121657e-02, -1.72872765e-01,  1.42655741e-01],\n",
       "       [-1.41421356e-01,  1.51898747e-01, -2.43106074e-02,\n",
       "        -1.25064110e-01, -1.78854427e-01,  9.61307304e-02,\n",
       "         5.98775153e-02,  1.71269787e-01, -1.54627975e-01,\n",
       "        -2.26801312e-02, -1.26617104e-01,  1.83567079e-01],\n",
       "       [-1.41421356e-01,  1.61698666e-01, -4.86212148e-02,\n",
       "        -1.01434486e-01, -1.82263550e-01,  1.38679216e-01,\n",
       "        -7.96008327e-04,  1.38116958e-01, -1.85131644e-01,\n",
       "        -1.09389364e-01, -3.87305304e-02,  1.62249141e-01],\n",
       "       [-1.41421356e-01,  1.71498585e-01, -7.44512352e-02,\n",
       "        -7.18614344e-02, -1.75158478e-01,  1.73024497e-01,\n",
       "        -6.73290377e-02,  7.86885545e-02, -1.78960142e-01,\n",
       "        -1.75313960e-01,  7.04673986e-02,  7.50967428e-02],\n",
       "       [-1.41421356e-01,  1.81298504e-01, -1.01800669e-01,\n",
       "        -3.59847483e-02, -1.55588797e-01,  1.94118450e-01,\n",
       "        -1.32203716e-01, -2.28985953e-03, -1.29263282e-01,\n",
       "        -1.96484750e-01,  1.66610556e-01, -5.51224459e-02],\n",
       "       [-1.41421356e-01,  1.91098423e-01, -1.30669515e-01,\n",
       "         6.55577998e-03, -1.21489365e-01,  1.96109837e-01,\n",
       "        -1.85138270e-01, -9.41317933e-02, -3.73477096e-02,\n",
       "        -1.53639221e-01,  2.06807257e-01, -1.76030829e-01],\n",
       "       [-1.41421356e-01,  2.00898343e-01, -1.61057774e-01,\n",
       "         5.61203583e-02, -7.06803113e-02,  1.72298420e-01,\n",
       "        -2.12689003e-01, -1.78464638e-01,  8.24511627e-02,\n",
       "        -4.19114449e-02,  1.52865617e-01, -2.14625244e-01],\n",
       "       [-1.41421356e-01,  2.10698262e-01, -1.92965446e-01,\n",
       "         1.13069194e-01, -8.67031924e-04,  1.15089064e-01,\n",
       "        -1.97830181e-01, -2.27273716e-01,  1.96680851e-01,\n",
       "         1.15212357e-01, -4.48268206e-03, -1.07849219e-01],\n",
       "       [-1.41421356e-01,  2.20498181e-01, -2.26392532e-01,\n",
       "         1.77762496e-01,  9.03598052e-02,  1.59458480e-02,\n",
       "        -1.19511806e-01, -2.00703094e-01,  2.45313768e-01,\n",
       "         2.46713545e-01, -2.06319504e-01,  1.32454934e-01],\n",
       "       [-1.41421356e-01,  2.30298100e-01, -2.61339030e-01,\n",
       "         2.50560470e-01,  2.05524263e-01, -1.34653827e-01,\n",
       "         4.78047223e-02, -4.46006875e-02,  1.32758039e-01,\n",
       "         2.08561966e-01, -2.66359571e-01,  3.03276124e-01],\n",
       "       [-1.41421356e-01,  2.40098019e-01, -2.97804941e-01,\n",
       "         3.31823325e-01,  3.47265134e-01, -3.47265134e-01,\n",
       "         3.34633056e-01,  3.12204812e-01, -2.82832344e-01,\n",
       "        -2.49256984e-01,  2.13960967e-01, -1.79042531e-01]])"
      ]
     },
     "execution_count": 55,
     "metadata": {},
     "output_type": "execute_result"
    }
   ],
   "source": [
    "## built-in 함수를 사용한 QR 분해\n",
    "\n",
    "Q, R = np.linalg.qr(A)\n",
    "Q"
   ]
  },
  {
   "cell_type": "code",
   "execution_count": 56,
   "metadata": {},
   "outputs": [
    {
     "data": {
      "text/plain": [
       "array([[-7.07106781e+00, -3.53553391e+00, -2.38107386e+00,\n",
       "        -1.80384383e+00, -1.45760198e+00, -1.22685422e+00,\n",
       "        -1.06210305e+00, -9.38599722e-01, -8.42594935e-01,\n",
       "        -7.65839095e-01, -7.03082461e-01, -6.50825202e-01],\n",
       "       [ 0.00000000e+00,  2.08248282e+00,  2.08248282e+00,\n",
       "         1.88681096e+00,  1.69113911e+00,  1.52347859e+00,\n",
       "         1.38382940e+00,  1.26752296e+00,  1.16989067e+00,\n",
       "         1.08711277e+00,  1.01621835e+00,  9.54922064e-01],\n",
       "       [ 0.00000000e+00,  0.00000000e+00, -5.48229004e-01,\n",
       "        -8.22343506e-01, -9.44453060e-01, -9.90560140e-01,\n",
       "        -9.98303940e-01, -9.86504057e-01, -9.64899292e-01,\n",
       "        -9.38688051e-01, -9.10704898e-01, -8.82508833e-01],\n",
       "       [ 0.00000000e+00,  0.00000000e+00,  0.00000000e+00,\n",
       "         1.41582647e-01,  2.83165295e-01,  3.94792097e-01,\n",
       "         4.76463053e-01,  5.34211144e-01,  5.74069349e-01,\n",
       "         6.00842776e-01,  6.18108659e-01,  6.28470960e-01],\n",
       "       [ 0.00000000e+00,  0.00000000e+00,  0.00000000e+00,\n",
       "         0.00000000e+00,  3.62868664e-02,  9.07171659e-02,\n",
       "         1.48903103e-01,  2.03650781e-01,  2.52125676e-01,\n",
       "         2.93672955e-01,  3.28617652e-01,  3.57664760e-01],\n",
       "       [ 0.00000000e+00,  0.00000000e+00,  0.00000000e+00,\n",
       "         0.00000000e+00,  0.00000000e+00, -9.25685367e-03,\n",
       "        -2.77705610e-02, -5.24686521e-02, -8.02786569e-02,\n",
       "        -1.08930615e-01, -1.36957076e-01, -1.63498838e-01],\n",
       "       [ 0.00000000e+00,  0.00000000e+00,  0.00000000e+00,\n",
       "         0.00000000e+00,  0.00000000e+00,  0.00000000e+00,\n",
       "         2.35256107e-03,  8.23396375e-03,  1.76023695e-02,\n",
       "         2.98068802e-02,  4.40275076e-02,  5.94951580e-02],\n",
       "       [ 0.00000000e+00,  0.00000000e+00,  0.00000000e+00,\n",
       "         0.00000000e+00,  0.00000000e+00,  0.00000000e+00,\n",
       "         0.00000000e+00,  5.95754348e-04,  2.38301739e-03,\n",
       "         5.68699683e-03,  1.05623537e-02,  1.68803099e-02],\n",
       "       [ 0.00000000e+00,  0.00000000e+00,  0.00000000e+00,\n",
       "         0.00000000e+00,  0.00000000e+00,  0.00000000e+00,\n",
       "         0.00000000e+00,  0.00000000e+00, -1.50314087e-04,\n",
       "        -6.76413392e-04, -1.78258062e-03, -3.60373732e-03],\n",
       "       [ 0.00000000e+00,  0.00000000e+00,  0.00000000e+00,\n",
       "         0.00000000e+00,  0.00000000e+00,  0.00000000e+00,\n",
       "         0.00000000e+00,  0.00000000e+00,  0.00000000e+00,\n",
       "        -3.77774631e-05, -1.88887316e-04, -5.44814089e-04],\n",
       "       [ 0.00000000e+00,  0.00000000e+00,  0.00000000e+00,\n",
       "         0.00000000e+00,  0.00000000e+00,  0.00000000e+00,\n",
       "         0.00000000e+00,  0.00000000e+00,  0.00000000e+00,\n",
       "         0.00000000e+00,  9.45422399e-06,  5.19982320e-05],\n",
       "       [ 0.00000000e+00,  0.00000000e+00,  0.00000000e+00,\n",
       "         0.00000000e+00,  0.00000000e+00,  0.00000000e+00,\n",
       "         0.00000000e+00,  0.00000000e+00,  0.00000000e+00,\n",
       "         0.00000000e+00,  0.00000000e+00, -2.35513688e-06]])"
      ]
     },
     "execution_count": 56,
     "metadata": {},
     "output_type": "execute_result"
    }
   ],
   "source": [
    "R"
   ]
  },
  {
   "cell_type": "code",
   "execution_count": 57,
   "metadata": {},
   "outputs": [
    {
     "data": {
      "text/plain": [
       "array([ 8.01268368e-01, -7.22934667e+01,  1.78069905e+03, -2.00177404e+04,\n",
       "        1.24867055e+05, -4.75986253e+05,  1.16522169e+06, -1.86852324e+06,\n",
       "        1.95085438e+06, -1.27626304e+06,  4.74611386e+05, -7.64733382e+04])"
      ]
     },
     "execution_count": 57,
     "metadata": {},
     "output_type": "execute_result"
    }
   ],
   "source": [
    "x = np.matmul(np.matmul(np.linalg.inv(R), np.transpose(Q)), b)\n",
    "value.append(x)\n",
    "x"
   ]
  },
  {
   "cell_type": "markdown",
   "metadata": {},
   "source": [
    "### (e)"
   ]
  },
  {
   "cell_type": "code",
   "execution_count": 58,
   "metadata": {},
   "outputs": [
    {
     "data": {
      "text/plain": [
       "array([ 8.01268368e-01, -7.22934667e+01,  1.78069905e+03, -2.00177404e+04,\n",
       "        1.24867055e+05, -4.75986253e+05,  1.16522169e+06, -1.86852324e+06,\n",
       "        1.95085438e+06, -1.27626304e+06,  4.74611386e+05, -7.64733382e+04])"
      ]
     },
     "execution_count": 58,
     "metadata": {},
     "output_type": "execute_result"
    }
   ],
   "source": [
    "## built-in 함수의 QR 분해를 이용한 Ax = b의 최소자승해 구하기\n",
    "\n",
    "x = np.matmul(np.matmul(np.linalg.inv(R), np.transpose(Q)), b)\n",
    "value.append(x)\n",
    "x"
   ]
  },
  {
   "cell_type": "markdown",
   "metadata": {},
   "source": [
    "### (f)"
   ]
  },
  {
   "cell_type": "code",
   "execution_count": 59,
   "metadata": {},
   "outputs": [
    {
     "data": {
      "text/plain": [
       "array([[-0.06906035,  0.145404  ,  0.21102198, ..., -0.04288052,\n",
       "        -0.05605548, -0.03218764],\n",
       "       [-0.06995612,  0.14535632,  0.20363426, ...,  0.18262272,\n",
       "         0.21291989,  0.19039692],\n",
       "       [-0.07088077,  0.14527422,  0.19602438, ..., -0.28257695,\n",
       "        -0.31532948, -0.39082077],\n",
       "       ...,\n",
       "       [-0.26530771, -0.25641294,  0.13337448, ...,  0.60734373,\n",
       "        -0.37160911,  0.07688827],\n",
       "       [-0.28472215, -0.31371249,  0.23699852, ..., -0.3620489 ,\n",
       "         0.51446895, -0.15531711],\n",
       "       [-0.30656825, -0.37947325,  0.36408651, ...,  0.07053183,\n",
       "        -0.15922792,  0.05255026]])"
      ]
     },
     "execution_count": 59,
     "metadata": {},
     "output_type": "execute_result"
    }
   ],
   "source": [
    "## built-in 함수를 이용한 SVD\n",
    "\n",
    "u, s, vt = np.linalg.svd(A)\n",
    "u"
   ]
  },
  {
   "cell_type": "code",
   "execution_count": 60,
   "metadata": {},
   "outputs": [
    {
     "data": {
      "text/plain": [
       "array([9.62053562e+00, 4.52612011e+00, 1.56672346e+00, 4.56426886e-01,\n",
       "       1.15501304e-01, 2.55790765e-02, 4.95112191e-03, 8.30834463e-04,\n",
       "       1.18913555e-04, 1.40943278e-05, 1.30654698e-06, 8.21021340e-08])"
      ]
     },
     "execution_count": 60,
     "metadata": {},
     "output_type": "execute_result"
    }
   ],
   "source": [
    "s"
   ]
  },
  {
   "cell_type": "code",
   "execution_count": 61,
   "metadata": {},
   "outputs": [
    {
     "data": {
      "text/plain": [
       "array([[-6.64397532e-01, -4.15698052e-01, -3.16843514e-01,\n",
       "        -2.60596128e-01, -2.23482699e-01, -1.96850334e-01,\n",
       "        -1.76670624e-01, -1.60783268e-01, -1.47913551e-01,\n",
       "        -1.37255365e-01, -1.28271395e-01, -1.20588350e-01],\n",
       "       [ 6.58115965e-01, -6.96152221e-03, -1.72183155e-01,\n",
       "        -2.30379519e-01, -2.51789748e-01, -2.57874412e-01,\n",
       "        -2.56921346e-01, -2.52605766e-01, -2.46707772e-01,\n",
       "        -2.40140079e-01, -2.33386687e-01, -2.26707485e-01],\n",
       "       [ 3.30613093e-01, -5.58805111e-01, -4.04617804e-01,\n",
       "        -2.12847069e-01, -6.19908326e-02,  4.93778519e-02,\n",
       "         1.30900005e-01,  1.90817697e-01,  2.35137963e-01,\n",
       "         2.68099596e-01,  2.92692305e-01,  3.11045185e-01],\n",
       "       [ 1.21585090e-01, -5.94214603e-01,  9.92597965e-02,\n",
       "         3.47900430e-01,  3.60490095e-01,  2.74636563e-01,\n",
       "         1.54739011e-01,  2.94193790e-02, -8.91581170e-02,\n",
       "        -1.96393534e-01, -2.91152947e-01, -3.73846513e-01],\n",
       "       [-3.59327501e-02,  3.64780529e-01, -5.34279525e-01,\n",
       "        -2.78223409e-01,  7.36944629e-02,  2.78818633e-01,\n",
       "         3.31141407e-01,  2.72268508e-01,  1.42894013e-01,\n",
       "        -2.65660170e-02, -2.15413728e-01, -4.10241544e-01],\n",
       "       [-8.77058691e-03,  1.60012879e-01, -5.35477077e-01,\n",
       "         2.64983213e-01,  4.09952571e-01,  1.68191372e-01,\n",
       "        -1.22766632e-01, -3.01157789e-01, -3.20612667e-01,\n",
       "        -1.88787029e-01,  6.68638819e-02,  4.15146048e-01],\n",
       "       [-1.77958828e-03,  5.39220947e-02, -3.21814877e-01,\n",
       "         5.51872255e-01,  1.49311992e-02, -3.70035604e-01,\n",
       "        -2.98747520e-01,  5.33183993e-03,  2.77612691e-01,\n",
       "         3.45300226e-01,  1.28879389e-01, -3.86810925e-01],\n",
       "       [ 2.98518271e-04, -1.43677270e-02,  1.36619596e-01,\n",
       "        -4.48755269e-01,  4.62744957e-01,  2.01597547e-01,\n",
       "        -2.88446948e-01, -3.48740492e-01, -2.28806986e-02,\n",
       "         3.28714476e-01,  3.21737360e-01, -3.28724159e-01],\n",
       "       [ 4.07244230e-05, -3.04616206e-03,  4.32020539e-02,\n",
       "        -2.28637391e-01,  5.13611464e-01, -3.59895428e-01,\n",
       "        -2.88449534e-01,  2.59842471e-01,  3.57454659e-01,\n",
       "        -9.43770418e-02, -4.49989679e-01,  2.50269807e-01],\n",
       "       [-4.37944709e-06,  5.07276385e-04, -1.02673144e-02,\n",
       "         8.02838729e-02, -2.98698899e-01,  5.35729144e-01,\n",
       "        -3.19019663e-01, -2.92227914e-01,  3.42919014e-01,\n",
       "         2.61062874e-01, -4.65750908e-01,  1.65469618e-01],\n",
       "       [-3.49653740e-07,  6.35904892e-05, -1.77766627e-03,\n",
       "         1.94574668e-02, -1.07210782e-01,  3.26403062e-01,\n",
       "        -5.45293533e-01,  3.97367989e-01,  1.50844349e-01,\n",
       "        -5.13460469e-01,  3.63201990e-01, -8.95958685e-02],\n",
       "       [ 1.79015018e-08, -5.28103041e-06,  1.98436564e-04,\n",
       "        -2.92494562e-03,  2.23985252e-02, -1.01103112e-01,\n",
       "         2.86705813e-01, -5.25139104e-01,  6.20558627e-01,\n",
       "        -4.56849694e-01,  1.90549981e-01, -3.43892774e-02]])"
      ]
     },
     "execution_count": 61,
     "metadata": {},
     "output_type": "execute_result"
    }
   ],
   "source": [
    "vt"
   ]
  },
  {
   "cell_type": "code",
   "execution_count": 62,
   "metadata": {},
   "outputs": [
    {
     "data": {
      "text/plain": [
       "array([ 8.01268368e-01, -7.22934667e+01,  1.78069905e+03, -2.00177404e+04,\n",
       "        1.24867055e+05, -4.75986254e+05,  1.16522169e+06, -1.86852324e+06,\n",
       "        1.95085439e+06, -1.27626304e+06,  4.74611386e+05, -7.64733383e+04])"
      ]
     },
     "execution_count": 62,
     "metadata": {},
     "output_type": "execute_result"
    }
   ],
   "source": [
    "ub = np.matmul(np.transpose(u), b)\n",
    "x = np.linalg.lstsq(np.matmul(np.diag(np.append(s, np.zeros(38)))[:,:12], vt), ub)[0]\n",
    "value.append(x)\n",
    "x"
   ]
  },
  {
   "cell_type": "markdown",
   "metadata": {},
   "source": [
    "### (g)"
   ]
  },
  {
   "cell_type": "code",
   "execution_count": 63,
   "metadata": {},
   "outputs": [
    {
     "data": {
      "text/plain": [
       "[array([ 8.01268368e-01, -7.22934667e+01,  1.78069905e+03, -2.00177404e+04,\n",
       "         1.24867055e+05, -4.75986254e+05,  1.16522169e+06, -1.86852324e+06,\n",
       "         1.95085439e+06, -1.27626304e+06,  4.74611386e+05, -7.64733383e+04]),\n",
       " array([ 0.02108593, -0.0113263 , -0.00915658, -0.00745627, -0.00630659,\n",
       "        -0.00540608, -0.00459611, -0.0037926 , -0.00295047, -0.00204528,\n",
       "        -0.00106398,  0.03040141]),\n",
       " array([ 8.04960266e-01, -7.33941815e+01,  1.82215073e+03, -2.06297245e+04,\n",
       "         1.29559530e+05, -4.97189726e+05,  1.22540324e+06, -1.97883626e+06,\n",
       "         2.08129541e+06, -1.37234590e+06,  5.14706542e+05, -8.37125440e+04]),\n",
       " array([ 8.01268368e-01, -7.22934667e+01,  1.78069905e+03, -2.00177404e+04,\n",
       "         1.24867055e+05, -4.75986253e+05,  1.16522169e+06, -1.86852324e+06,\n",
       "         1.95085438e+06, -1.27626304e+06,  4.74611386e+05, -7.64733382e+04]),\n",
       " array([ 8.01268368e-01, -7.22934667e+01,  1.78069905e+03, -2.00177404e+04,\n",
       "         1.24867055e+05, -4.75986253e+05,  1.16522169e+06, -1.86852324e+06,\n",
       "         1.95085438e+06, -1.27626304e+06,  4.74611386e+05, -7.64733382e+04]),\n",
       " array([ 8.01268368e-01, -7.22934667e+01,  1.78069905e+03, -2.00177404e+04,\n",
       "         1.24867055e+05, -4.75986254e+05,  1.16522169e+06, -1.86852324e+06,\n",
       "         1.95085439e+06, -1.27626304e+06,  4.74611386e+05, -7.64733383e+04])]"
      ]
     },
     "execution_count": 63,
     "metadata": {},
     "output_type": "execute_result"
    }
   ],
   "source": [
    "## 1 : built-in 함수를 이용해서 바로 구한 해\n",
    "## 2 : mgs 이용 구한 해\n",
    "## 3 : qrhouse 이용 구한 해\n",
    "## 4 : python built-in qr 이용 구한 해\n",
    "## 5 : 4번과 같은 해\n",
    "## 6 : SVD 이용 구한 해\n",
    "## 결과 : SVD, built-in function을 이용하여 구한 해는 거의 일치, qrhouse는 round-off error가 일부 관찰, 그러나 꽤 준수한 성능,\n",
    "## mgs는 오차가 매우 심하게 나타났음\n",
    "\n",
    "value"
   ]
  }
 ],
 "metadata": {
  "kernelspec": {
   "display_name": "Python 3",
   "language": "python",
   "name": "python3"
  },
  "language_info": {
   "codemirror_mode": {
    "name": "ipython",
    "version": 3
   },
   "file_extension": ".py",
   "mimetype": "text/x-python",
   "name": "python",
   "nbconvert_exporter": "python",
   "pygments_lexer": "ipython3",
   "version": "3.7.7"
  }
 },
 "nbformat": 4,
 "nbformat_minor": 4
}
