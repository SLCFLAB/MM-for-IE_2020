{
 "cells": [
  {
   "cell_type": "code",
   "execution_count": 1,
   "metadata": {},
   "outputs": [],
   "source": [
    "import numpy as np\n",
    "import matplotlib.pyplot as plt\n",
    "import math"
   ]
  },
  {
   "cell_type": "markdown",
   "metadata": {},
   "source": [
    "### 연습문제 3.2"
   ]
  },
  {
   "cell_type": "code",
   "execution_count": 2,
   "metadata": {},
   "outputs": [],
   "source": [
    "def clgs(A):\n",
    "    m,n = np.shape(A)\n",
    "    V=A\n",
    "    Q=np.eye(m,n)\n",
    "    R=np.zeros((n,n))\n",
    "    for j in range(n):\n",
    "        for i in range(j-1):\n",
    "            R[i,j]=np.matmul(np.transpose(Q[:,i]),A[:,j])\n",
    "            V[:,j]-=(R[i,j]*Q[:,i])\n",
    "        R[j,j]=np.linalg.norm(V[:,j])\n",
    "        Q[:,j]=V[:,j]/R[j,j]\n",
    "    return (Q,R)\n",
    "\n",
    "def mgs(A):\n",
    "    m,n=np.shape(A)\n",
    "    Q=A\n",
    "    R=np.zeros((n,n))\n",
    "    for i in range(n-1):\n",
    "        R[i,i]=np.linalg.norm(Q[:,i])\n",
    "        Q[:,i]/=R[i,i]\n",
    "        R[i,i+1:n]=np.matmul(np.transpose(Q[:,i]), Q[:,i+1:n])\n",
    "        Q[:,i+1:n]-=np.matmul(Q[:,i][:,np.newaxis],R[i,i+1:n][np.newaxis,:])\n",
    "    R[n-1,n-1]=np.linalg.norm(Q[:,n-1])\n",
    "    Q[:,n-1]/=R[n-1,n-1]\n",
    "    return (Q, R)\n",
    "        \n",
    "\n",
    "def qrhouse(A):\n",
    "    m,n = np.shape(A)\n",
    "    R=np.copy(A)\n",
    "    V=np.zeros((m,n))\n",
    "    for k in range(min(m-1,n)):\n",
    "        x=R[k:m,k]\n",
    "        v=x+np.sign(x[0])*np.linalg.norm(x)*np.eye(len(x),1)[:,0]\n",
    "        V[k:m,k]=v\n",
    "        R[k:m,k:n]-=(np.matmul( (2*v)[:,np.newaxis],np.matmul(v[:,np.newaxis].T,R[k:m,k:n])) / np.dot(v.T,v) )\n",
    "    R=np.triu(R[:n,:n])\n",
    "    return (V, R)\n",
    "\n",
    "def formQ(V):\n",
    "    m,n=np.shape(V)\n",
    "    Q=np.eye(m)\n",
    "    for j in range(min(m-1,n)-1,-1,-1):\n",
    "        v=V[:,j]\n",
    "        Q-=(2*v)*(np.transpose(v)*Q)/(np.transpose(v)*v)\n",
    "    return Q"
   ]
  },
  {
   "cell_type": "code",
   "execution_count": 3,
   "metadata": {},
   "outputs": [],
   "source": [
    "U,X = np.linalg.qr(np.random.randn(80,80))\n",
    "V,X = np.linalg.qr(np.random.randn(80,80))\n",
    "v=np.array([2^(-J)for J in range(1,81)])\n",
    "S=np.diag(v)\n",
    "A=np.matmul(np.matmul(U,S),V)\n",
    "Qc, Rc = clgs(A)\n",
    "Qm, Rm = mgs(A)"
   ]
  },
  {
   "cell_type": "code",
   "execution_count": 4,
   "metadata": {},
   "outputs": [
    {
     "name": "stdout",
     "output_type": "stream",
     "text": [
      "0.0\n",
      "1.0000142856352594\n"
     ]
    }
   ],
   "source": [
    "A=np.array([[.70000, .70711], [.70001, .70711]])\n",
    "Qm,Rm=mgs(A);\n",
    "V,R = qrhouse(A)\n",
    "Q=formQ(V)\n",
    "print(np.linalg.norm(Q.T*Q-np.eye(2)))\n",
    "print(np.linalg.norm(Qm.T*Qm-np.eye(2)))"
   ]
  },
  {
   "cell_type": "markdown",
   "metadata": {},
   "source": [
    "### 연습문제 3.3"
   ]
  },
  {
   "cell_type": "code",
   "execution_count": 5,
   "metadata": {},
   "outputs": [],
   "source": [
    "def givens(A):\n",
    "    m,n = np.shape(A)\n",
    "    Q = np.eye(m)\n",
    "    R = np.copy(A)\n",
    "    rowcol=[(j-1,i)  for i in range(n) for j in range(m,i+1,-1)]\n",
    "    for (i, j) in rowcol:\n",
    "        if R[i, j]:\n",
    "            a,b=R[j, j], R[i, j]\n",
    "            r=math.hypot(a,b); c=a/r; s=-b/r\n",
    "            G=np.eye(m)\n",
    "            G[i,i]=c; G[j,j]=c; G[i,j]=s; G[j,i]=-s\n",
    "            R=np.matmul(G,R)\n",
    "            Q=np.matmul(Q,G.T)\n",
    "    return (Q, np.triu(R))"
   ]
  },
  {
   "cell_type": "code",
   "execution_count": 6,
   "metadata": {
    "scrolled": true
   },
   "outputs": [
    {
     "name": "stdout",
     "output_type": "stream",
     "text": [
      "[[ 0.12309149 -0.98552185 -0.11659831]\n",
      " [ 0.49236596  0.16265895 -0.85505428]\n",
      " [ 0.86164044  0.04784087  0.50525935]]\n",
      "[[ 8.1240384   9.10877033 11.07823419]\n",
      " [ 0.          3.16706537 -1.55004408]\n",
      " [ 0.          0.         -0.93278649]]\n"
     ]
    }
   ],
   "source": [
    "A=np.array([[1,-2,3],[4,5,6],[7,8,9]])\n",
    "Q,R=givens(A)\n",
    "print(Q)\n",
    "print(R)"
   ]
  },
  {
   "cell_type": "markdown",
   "metadata": {},
   "source": [
    "### 연습문제 4.3"
   ]
  },
  {
   "cell_type": "code",
   "execution_count": 7,
   "metadata": {},
   "outputs": [
    {
     "data": {
      "image/png": "[encoded data removed]",
      "text/plain": [
       "<Figure size 432x288 with 1 Axes>"
      ]
     },
     "metadata": {
      "needs_background": "light"
     },
     "output_type": "display_data"
    }
   ],
   "source": [
    "eigenvalues=[]\n",
    "sr=[]; norm=[]; condition_number=[]\n",
    "for m in [8,16,32,64,128]:\n",
    "    X=[]; Y=[]\n",
    "    for _ in range(100):\n",
    "        A=np.random.randn(m,m)/math.sqrt(m)\n",
    "        w,v=np.linalg.eig(A)\n",
    "        norm.append(np.linalg.norm(A))\n",
    "        spectral_radius=0\n",
    "        for i in w:\n",
    "            k=math.hypot(i.real,i.imag)\n",
    "            if spectral_radius<k: spectral_radius=k\n",
    "        sr.append(spectral_radius)\n",
    "        X.extend(w.real)\n",
    "        Y.extend(w.imag)\n",
    "    plt.scatter(X,Y)"
   ]
  },
  {
   "cell_type": "markdown",
   "metadata": {},
   "source": [
    "#### (b)"
   ]
  },
  {
   "cell_type": "code",
   "execution_count": 8,
   "metadata": {
    "scrolled": true
   },
   "outputs": [
    {
     "data": {
      "text/plain": [
       "[<matplotlib.lines.Line2D at 0x217673bc978>]"
      ]
     },
     "execution_count": 8,
     "metadata": {},
     "output_type": "execute_result"
    },
    {
     "data": {
      "image/png": "[encoded data removed]",
      "text/plain": [
       "<Figure size 432x288 with 1 Axes>"
      ]
     },
     "metadata": {
      "needs_background": "light"
     },
     "output_type": "display_data"
    }
   ],
   "source": [
    "plt.scatter(sr,norm)\n",
    "x=np.arange(0,5)\n",
    "plt.plot(x, x)"
   ]
  },
  {
   "cell_type": "markdown",
   "metadata": {},
   "source": [
    "spectral radius<=norm을 확인할 수 있음"
   ]
  },
  {
   "cell_type": "markdown",
   "metadata": {},
   "source": [
    "#### (C)"
   ]
  },
  {
   "cell_type": "code",
   "execution_count": 9,
   "metadata": {
    "scrolled": true
   },
   "outputs": [
    {
     "data": {
      "image/png": "[encoded data removed]",
      "text/plain": [
       "<Figure size 432x288 with 1 Axes>"
      ]
     },
     "metadata": {
      "needs_background": "light"
     },
     "output_type": "display_data"
    }
   ],
   "source": [
    "m_l=[8,32,128]\n",
    "for m in m_l:\n",
    "    condition_number=[]\n",
    "    for _ in range(100):\n",
    "        A=np.random.randn(m,m)/math.sqrt(m)    \n",
    "        u,s,vh=np.linalg.svd(A)\n",
    "        condition_number.append(min(s))\n",
    "    x=np.arange(0,100)\n",
    "    plt.scatter(x, condition_number)\n",
    "for i in range(1,5):\n",
    "    t=math.pow(2,-i)\n",
    "    plt.plot(x,x-x+t)"
   ]
  },
  {
   "cell_type": "markdown",
   "metadata": {},
   "source": [
    "m이 커질수록 condition number 분포가 0에 가까워진다"
   ]
  },
  {
   "cell_type": "markdown",
   "metadata": {},
   "source": [
    "#### (d)"
   ]
  },
  {
   "cell_type": "code",
   "execution_count": 10,
   "metadata": {},
   "outputs": [
    {
     "data": {
      "image/png": "[encoded data removed]",
      "text/plain": [
       "<Figure size 432x288 with 1 Axes>"
      ]
     },
     "metadata": {
      "needs_background": "light"
     },
     "output_type": "display_data"
    }
   ],
   "source": [
    "eigenvalues=[]\n",
    "sr=[]; norm=[]; condition_number=[]\n",
    "for m in [8,16,32,64,128]:\n",
    "    X=[]; Y=[]\n",
    "    for _ in range(100):\n",
    "        A=np.random.randn(m,m)/math.sqrt(m)\n",
    "        A=np.triu(A)\n",
    "        w,v=np.linalg.eig(A)\n",
    "        norm.append(np.linalg.norm(A))\n",
    "        spectral_radius=0\n",
    "        for i in w:\n",
    "            k=math.hypot(i.real,i.imag)\n",
    "            if spectral_radius<k: spectral_radius=k\n",
    "        sr.append(spectral_radius)\n",
    "        X.extend(w.real)\n",
    "        Y.extend(w.imag)\n",
    "    plt.scatter(X,Y)"
   ]
  },
  {
   "cell_type": "code",
   "execution_count": 11,
   "metadata": {},
   "outputs": [
    {
     "data": {
      "text/plain": [
       "[<matplotlib.lines.Line2D at 0x217679312e8>]"
      ]
     },
     "execution_count": 11,
     "metadata": {},
     "output_type": "execute_result"
    },
    {
     "data": {
      "image/png": "[encoded data removed]",
      "text/plain": [
       "<Figure size 432x288 with 1 Axes>"
      ]
     },
     "metadata": {
      "needs_background": "light"
     },
     "output_type": "display_data"
    }
   ],
   "source": [
    "plt.scatter(sr,norm)\n",
    "x=np.arange(0,5)\n",
    "plt.plot(x, x)"
   ]
  },
  {
   "cell_type": "code",
   "execution_count": 12,
   "metadata": {
    "scrolled": true
   },
   "outputs": [
    {
     "data": {
      "image/png": "[encoded data removed]",
      "text/plain": [
       "<Figure size 432x288 with 1 Axes>"
      ]
     },
     "metadata": {
      "needs_background": "light"
     },
     "output_type": "display_data"
    }
   ],
   "source": [
    "m_l=[8,32,128]\n",
    "for m in m_l:\n",
    "    condition_number=[]\n",
    "    for _ in range(100):\n",
    "        A=np.random.randn(m,m)/math.sqrt(m)    \n",
    "        u,s,vh=np.linalg.svd(A)\n",
    "        condition_number.append(min(s))\n",
    "    x=np.arange(0,100)\n",
    "    plt.scatter(x, condition_number)\n",
    "for i in range(1,5):\n",
    "    t=math.pow(2,-i)\n",
    "    plt.plot(x,x-x+t)"
   ]
  },
  {
   "cell_type": "markdown",
   "metadata": {},
   "source": [
    "A를 상삼각행렬로 테스트 -> (b),(c)에 대한 답은 같고, (a)의 경향은 허수부가 사라진다는 점 말고는 특별한 관찰점 없음"
   ]
  },
  {
   "cell_type": "markdown",
   "metadata": {},
   "source": [
    "### 연습문제 4.6"
   ]
  },
  {
   "cell_type": "code",
   "execution_count": 13,
   "metadata": {},
   "outputs": [],
   "source": [
    "t=np.linspace(0,1,50)\n",
    "A=np.vander(t, 12, increasing=True)\n",
    "b=np.cos(4*t)"
   ]
  },
  {
   "cell_type": "markdown",
   "metadata": {},
   "source": [
    "#### (a)"
   ]
  },
  {
   "cell_type": "code",
   "execution_count": 19,
   "metadata": {},
   "outputs": [
    {
     "name": "stdout",
     "output_type": "stream",
     "text": [
      "[-1.28587418e+00 -4.85638993e+00  1.34190071e+00  1.08473479e+00\n",
      " -1.33018931e-01 -6.11450648e-02  4.84711271e-03  1.55860855e-03\n",
      " -9.11877145e-05 -2.24958867e-05  1.03978941e-06  2.07347607e-07]\n"
     ]
    }
   ],
   "source": [
    "x=np.linalg.solve(np.matmul(A.T,A),np.matmul(A.T,b))\n",
    "print(x)"
   ]
  },
  {
   "cell_type": "markdown",
   "metadata": {},
   "source": [
    "#### (b)"
   ]
  },
  {
   "cell_type": "code",
   "execution_count": 20,
   "metadata": {},
   "outputs": [
    {
     "name": "stdout",
     "output_type": "stream",
     "text": [
      "[-1.28587418e+00 -4.85638993e+00  1.34190071e+00  1.08473479e+00\n",
      " -1.33018931e-01 -6.11450648e-02  4.84711271e-03  1.55860855e-03\n",
      " -9.11877145e-05 -2.24958867e-05  1.03978941e-06  2.07347607e-07]\n"
     ]
    }
   ],
   "source": [
    "Q,R=mgs(A)\n",
    "np.matmul(np.transpose(Q),b)\n",
    "x=np.matmul(np.linalg.inv(R),np.matmul(np.transpose(Q),b))\n",
    "print(x)"
   ]
  },
  {
   "cell_type": "markdown",
   "metadata": {},
   "source": [
    "#### (c)"
   ]
  },
  {
   "cell_type": "code",
   "execution_count": null,
   "metadata": {},
   "outputs": [],
   "source": [
    "V,R=qrhouse(A)\n",
    "Q=formQ(V)\n",
    "x=np.matmul(np.linalg.inv(R),np.matmul(np.transpose(Q),b))\n",
    "print(x)"
   ]
  },
  {
   "cell_type": "markdown",
   "metadata": {},
   "source": [
    "#### (d)"
   ]
  },
  {
   "cell_type": "code",
   "execution_count": 17,
   "metadata": {},
   "outputs": [
    {
     "name": "stdout",
     "output_type": "stream",
     "text": [
      "[-1.28587418e+00 -4.85638993e+00  1.34190071e+00  1.08473479e+00\n",
      " -1.33018931e-01 -6.11450648e-02  4.84711271e-03  1.55860855e-03\n",
      " -9.11877145e-05 -2.24958867e-05  1.03978941e-06  2.07347606e-07]\n"
     ]
    }
   ],
   "source": [
    "Q,R=np.linalg.qr(A)\n",
    "x=np.matmul(np.linalg.inv(R),np.matmul(np.transpose(Q),b))\n",
    "print(x)"
   ]
  },
  {
   "cell_type": "markdown",
   "metadata": {},
   "source": [
    "#### (f)"
   ]
  },
  {
   "cell_type": "code",
   "execution_count": 18,
   "metadata": {},
   "outputs": [
    {
     "name": "stdout",
     "output_type": "stream",
     "text": [
      "[-1.28587418e+00 -4.85638993e+00  1.34190071e+00  1.08473479e+00\n",
      " -1.33018931e-01 -6.11450648e-02  4.84711271e-03  1.55860855e-03\n",
      " -9.11877145e-05 -2.24958867e-05  1.03978941e-06  2.07347605e-07]\n"
     ]
    }
   ],
   "source": [
    "u,s,vh=np.linalg.svd(A)\n",
    "\n",
    "c = np.dot(u.T,b)\n",
    "w = np.dot(np.diag(1/s),c[0:12])\n",
    "x = np.dot(vh.conj().T,w)\n",
    "print(x)"
   ]
  },
  {
   "cell_type": "markdown",
   "metadata": {},
   "source": [
    "#### (g)"
   ]
  },
  {
   "cell_type": "markdown",
   "metadata": {},
   "source": [
    "a~f에서 거의 동일하게 결과가 나왔음."
   ]
  },
  {
   "cell_type": "code",
   "execution_count": null,
   "metadata": {},
   "outputs": [],
   "source": []
  }
 ],
 "metadata": {
  "kernelspec": {
   "display_name": "mmds",
   "language": "python",
   "name": "mmds"
  },
  "language_info": {
   "codemirror_mode": {
    "name": "ipython",
    "version": 3
   },
   "file_extension": ".py",
   "mimetype": "text/x-python",
   "name": "python",
   "nbconvert_exporter": "python",
   "pygments_lexer": "ipython3",
   "version": "3.6.12"
  }
 },
 "nbformat": 4,
 "nbformat_minor": 4
}
