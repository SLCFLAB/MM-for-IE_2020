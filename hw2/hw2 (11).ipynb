{
 "cells": [
  {
   "cell_type": "code",
   "execution_count": 294,
   "metadata": {},
   "outputs": [],
   "source": [
    "import numpy as np"
   ]
  },
  {
   "cell_type": "markdown",
   "metadata": {},
   "source": [
    "## 3.2"
   ]
  },
  {
   "cell_type": "code",
   "execution_count": 300,
   "metadata": {},
   "outputs": [],
   "source": [
    "def clgs(A) : \n",
    "    m,n = np.shape(A)\n",
    "    V = A\n",
    "    Q = np.eye(m,n)\n",
    "    R = np.zeros((n,n))\n",
    "    for j in range(n):\n",
    "        for i in range(j-1):\n",
    "            R[i,j]=np.dot(np.transpose(Q[:,i]), A[:,j])\n",
    "            V[:,j]=V[:,j]-R[i,j]*Q[:,i]\n",
    "        R[j,j] = np.linalg.norm(V[:,j])\n",
    "        Q[:, j] = V[:,j]/R[j,j]\n",
    "    return Q,R"
   ]
  },
  {
   "cell_type": "code",
   "execution_count": 391,
   "metadata": {},
   "outputs": [],
   "source": [
    "def mgs(A) : \n",
    "    m,n = np.shape(A)\n",
    "    Q = A\n",
    "    R = np.zeros((n,n))\n",
    "    for i in range(n-1) : \n",
    "        R[i,i] = np.linalg.norm(Q[:,i])\n",
    "        Q[:,i] = Q[:,i]/R[i,i]\n",
    "        R[i,i+1:n]=np.dot(Q[:,i], Q[:, i+1:n])\n",
    "        Q[:,i+1:n]=Q[:,i+1:n]-np.outer(Q[:,i], R[i,i+1:n])\n",
    "    R[n-1,n-1] = np.linalg.norm(Q[:,n-1]) \n",
    "    Q[:,n-1] = Q[:,n-1]/R[n-1,n-1]\n",
    "    return Q,R"
   ]
  },
  {
   "cell_type": "code",
   "execution_count": 392,
   "metadata": {},
   "outputs": [],
   "source": [
    "def formQ(V) : \n",
    "    m,n = np.shape(V)\n",
    "    Q = np.eye(m)\n",
    "    for j in range(min(m-2, n-1), -1, -1) : \n",
    "        v = V[:,j]\n",
    "        Q = Q-np.outer((2*v),np.dot(v, Q)/np.dot(v,v))\n",
    "    return Q\n",
    "\n",
    "def qrhouse(A) : \n",
    "    m,n = np.shape(A)\n",
    "    R = A\n",
    "    V = np.zeros((m,n))\n",
    "    for k in range(min(m-1, n)) : \n",
    "        x = R[k:m,k]\n",
    "        v = x+np.transpose(np.sign(x[0])*np.linalg.norm(x)*np.eye(len(x), 1))\n",
    "        V[k:m,k]=v\n",
    "        print(np.dot(v, R[k:m,k:n])/np.inner(v,v))\n",
    "        R[k:m,k:n] = R[k:m, k:n]- np.outer((2*v),(np.dot(v, R[k:m,k:n])/np.inner(v,v)))\n",
    "    R = np.triu(R[0:n-1, 0:n-1])\n",
    "    V_result = formQ(V)\n",
    "    return V_result,R"
   ]
  },
  {
   "cell_type": "code",
   "execution_count": 393,
   "metadata": {},
   "outputs": [],
   "source": [
    "A = np.array([[0.16953998, 0.98318927, 0.32462592, 0.35857377, 0.84126032],\n",
    "       [0.91561337, 0.22017678, 0.19810523, 0.60520673, 0.87681935],\n",
    "       [0.5450577 , 0.50916193, 0.49252225, 0.86752089, 0.67076086],\n",
    "       [0.2262415 , 0.6247903 , 0.80954266, 0.50085265, 0.81108121],\n",
    "       [0.20001283, 0.94617092, 0.72162432, 0.54724739, 0.18981353]])\n",
    "#qrhouse(A)"
   ]
  },
  {
   "cell_type": "code",
   "execution_count": 394,
   "metadata": {},
   "outputs": [],
   "source": [
    "def semilogy(X, Y) : \n",
    "    log_Y = np.log(Y)\n",
    "    plt.plot(X, log_Y,'or')\n",
    "    plt.show()\n",
    "    "
   ]
  },
  {
   "cell_type": "code",
   "execution_count": 397,
   "metadata": {},
   "outputs": [],
   "source": [
    "U, X = np.linalg.qr(np.random.randn(80,80))\n",
    "V, X = np.linalg.qr(np.random.randn(80,80))\n",
    "J = [x for x in range(1,81)]\n",
    "S = np.diag([2**(-x) for x in range(1,81)])\n",
    "A = np.dot(U,np.dot(S,V))\n",
    "Qc, Rc = clgs(A)\n",
    "Qm, Rm = mgs(A)"
   ]
  },
  {
   "cell_type": "code",
   "execution_count": 408,
   "metadata": {},
   "outputs": [
    {
     "data": {
      "text/plain": [
       "[<matplotlib.lines.Line2D at 0x7fae31b796d0>]"
      ]
     },
     "execution_count": 408,
     "metadata": {},
     "output_type": "execute_result"
    },
    {
     "data": {
      "image/png": "[encoded data removed]",
      "text/plain": [
       "<Figure size 432x288 with 1 Axes>"
      ]
     },
     "metadata": {
      "needs_background": "light"
     },
     "output_type": "display_data"
    }
   ],
   "source": [
    "plt.semilogy(Rc.diagonal())"
   ]
  },
  {
   "cell_type": "code",
   "execution_count": 409,
   "metadata": {
    "scrolled": true
   },
   "outputs": [
    {
     "data": {
      "text/plain": [
       "[<matplotlib.lines.Line2D at 0x7fae983dbe80>]"
      ]
     },
     "execution_count": 409,
     "metadata": {},
     "output_type": "execute_result"
    },
    {
     "data": {
      "image/png": "[encoded data removed]",
      "text/plain": [
       "<Figure size 432x288 with 1 Axes>"
      ]
     },
     "metadata": {
      "needs_background": "light"
     },
     "output_type": "display_data"
    }
   ],
   "source": [
    "plt.semilogy(Rm.diagonal())"
   ]
  },
  {
   "cell_type": "markdown",
   "metadata": {},
   "source": [
    "수정 그람 슈미츠가 좀 더 stable하다."
   ]
  },
  {
   "cell_type": "code",
   "execution_count": 410,
   "metadata": {},
   "outputs": [
    {
     "name": "stdout",
     "output_type": "stream",
     "text": [
      "[[0.5        0.20710887]]\n"
     ]
    }
   ],
   "source": [
    "A = np.array([[.70000, .70711], [.70001, .70711]])\n",
    "Qm, Rm = mgs(A)\n",
    "V, R = qrhouse(A)\n",
    "Q = formQ(A)"
   ]
  },
  {
   "cell_type": "code",
   "execution_count": 412,
   "metadata": {},
   "outputs": [
    {
     "data": {
      "text/plain": [
       "2.0"
      ]
     },
     "execution_count": 412,
     "metadata": {},
     "output_type": "execute_result"
    }
   ],
   "source": [
    "np.linalg.norm(np.dot(Q, Q-np.eye(2)))"
   ]
  },
  {
   "cell_type": "code",
   "execution_count": 413,
   "metadata": {},
   "outputs": [
    {
     "data": {
      "text/plain": [
       "2.82842712474619"
      ]
     },
     "execution_count": 413,
     "metadata": {},
     "output_type": "execute_result"
    }
   ],
   "source": [
    "np.linalg.norm(np.dot(Qm, Qm-np.eye(2)))"
   ]
  },
  {
   "cell_type": "markdown",
   "metadata": {},
   "source": [
    "## 3.3"
   ]
  },
  {
   "cell_type": "code",
   "execution_count": 342,
   "metadata": {},
   "outputs": [],
   "source": [
    "def givensrotation(a,b) : \n",
    "    theta = np.arctan(np.array(b/a))\n",
    "    c = np.cos(theta)\n",
    "    s = np.sin(theta)\n",
    "    return c,s"
   ]
  },
  {
   "cell_type": "code",
   "execution_count": 345,
   "metadata": {},
   "outputs": [],
   "source": [
    "def givens(A) : \n",
    "    m,n = np.shape(A)\n",
    "    Q = np.eye(m)\n",
    "    R = A\n",
    "    \n",
    "    for j in range(n) : \n",
    "        for i in range(m-1, j, -1) :\n",
    "            G = np.eye(m)\n",
    "            c,s = givensrotation(R[i-1, j], R[i,j])\n",
    "            G[i-1,i-1] = c\n",
    "            G[i-1, i] = s\n",
    "            G[i, i-1] = -s\n",
    "            G[i,i]=c\n",
    "            R = np.dot(G,R)\n",
    "            Q = np.dot(Q,G)\n",
    "    return Q, R"
   ]
  },
  {
   "cell_type": "code",
   "execution_count": 346,
   "metadata": {},
   "outputs": [],
   "source": [
    "A = np.array([[0.16953998, 0.98318927, 0.32462592, 0.35857377, 0.84126032],\n",
    "       [0.91561337, 0.22017678, 0.19810523, 0.60520673, 0.87681935],\n",
    "       [0.5450577 , 0.50916193, 0.49252225, 0.86752089, 0.67076086],\n",
    "       [0.2262415 , 0.6247903 , 0.80954266, 0.50085265, 0.81108121],\n",
    "       [0.20001283, 0.94617092, 0.72162432, 0.54724739, 0.18981353]])\n",
    "Q,R=givens(A)"
   ]
  },
  {
   "cell_type": "code",
   "execution_count": 347,
   "metadata": {},
   "outputs": [
    {
     "data": {
      "text/plain": [
       "array([[ 1.12043290e+00,  8.71457039e-01,  7.42895160e-01,\n",
       "         1.16967920e+00,  1.36779589e+00],\n",
       "       [-7.72469357e-18, -1.34184566e+00, -8.60556199e-01,\n",
       "        -5.50658886e-01, -6.37983680e-01],\n",
       "       [-4.08221015e-17, -5.69103121e-17,  5.20438876e-01,\n",
       "         2.32720854e-01,  1.07432306e-02],\n",
       "       [ 4.85872766e-17,  9.34785418e-18,  9.70803237e-19,\n",
       "         2.68779252e-01, -1.09297518e-01],\n",
       "       [ 5.37198532e-17,  2.48725035e-17, -4.21152026e-17,\n",
       "         1.56449810e-17,  5.74789527e-01]])"
      ]
     },
     "execution_count": 347,
     "metadata": {},
     "output_type": "execute_result"
    }
   ],
   "source": [
    "R"
   ]
  },
  {
   "cell_type": "code",
   "execution_count": 195,
   "metadata": {},
   "outputs": [
    {
     "data": {
      "text/plain": [
       "(array([[-0.1513165 ,  0.63444215,  0.64130393, -0.06895769, -0.39819667],\n",
       "        [-0.81719607, -0.36664015,  0.17960097, -0.39794727,  0.08454017],\n",
       "        [-0.48647063,  0.06351228, -0.14693308,  0.85325902, -0.09834747],\n",
       "        [-0.20192329,  0.33448171, -0.71419438, -0.31894602, -0.4853337 ],\n",
       "        [-0.17851388,  0.58919126, -0.15751134, -0.08429283,  0.76750983]]),\n",
       " array([[-1.1204329 , -0.87145704, -0.74289516, -1.1696792 , -1.36779589],\n",
       "        [ 0.        ,  1.34184566,  0.8605562 ,  0.55065889,  0.63798368],\n",
       "        [ 0.        ,  0.        , -0.52043888, -0.23272085, -0.01074323],\n",
       "        [ 0.        ,  0.        ,  0.        ,  0.26877925, -0.10929752],\n",
       "        [ 0.        ,  0.        ,  0.        ,  0.        , -0.57478953]]))"
      ]
     },
     "execution_count": 195,
     "metadata": {},
     "output_type": "execute_result"
    }
   ],
   "source": [
    "np.linalg.qr(A)"
   ]
  },
  {
   "cell_type": "code",
   "execution_count": 200,
   "metadata": {},
   "outputs": [],
   "source": [
    "def GivensQR(A):\n",
    "  m,n = np.shape(A)\n",
    "  R= A\n",
    "  Q = np.eye(m)\n",
    "  \n",
    "  def givens(a,b):\n",
    "    theta = math.atan(R[a,b]/R[0,b])\n",
    "    G = np.eye(m)\n",
    "    G[a,a] = math.cos(theta)\n",
    "    G[b,b] = math.cos(theta)\n",
    "    G[a,b] = -math.sin(theta)\n",
    "    G[b,a] = math.sin(theta)\n",
    "    return G\n",
    "\n",
    "  for j in range(0,n):\n",
    "    for i in range(m-1,j,-1):\n",
    "      G = givens(i,j)\n",
    "      R = np.dot(G,R)\n",
    "      Q = np.dot(G,Q)\n",
    "      \n",
    "\n",
    "  return Q.T, R"
   ]
  },
  {
   "cell_type": "code",
   "execution_count": 202,
   "metadata": {},
   "outputs": [
    {
     "data": {
      "text/plain": [
       "(array([[ 0.1513165 ,  0.36932534, -0.19089154, -0.53002098, -0.72342262],\n",
       "        [ 0.81719607,  0.34981255,  0.30470552,  0.34149444,  0.01891697],\n",
       "        [ 0.48647063, -0.81170055, -0.01709696, -0.31303288, -0.0787823 ],\n",
       "        [ 0.20192329,  0.00946607, -0.9218204 ,  0.32679581,  0.05088238],\n",
       "        [ 0.17851388,  0.2868494 , -0.14376996, -0.63061416,  0.68374424]]),\n",
       " array([[ 1.12043290e+00,  8.71457039e-01,  7.42895160e-01,\n",
       "          1.16967920e+00,  1.36779589e+00],\n",
       "        [-5.68537476e-17,  3.04173158e-01,  4.07237862e-03,\n",
       "         -1.98309208e-01,  1.35089855e-01],\n",
       "        [ 6.38426148e-17, -8.41273961e-01, -8.60026063e-01,\n",
       "         -4.39244769e-01, -6.79846449e-01],\n",
       "        [ 6.49321639e-17, -9.97796149e-01, -4.49093737e-01,\n",
       "         -4.36364854e-01, -2.11068047e-01],\n",
       "        [ 8.24356235e-18, -6.84794920e-02,  2.64701713e-01,\n",
       "          8.33648371e-02, -4.73790415e-01]]))"
      ]
     },
     "execution_count": 202,
     "metadata": {},
     "output_type": "execute_result"
    }
   ],
   "source": [
    "A = np.array([[0.16953998, 0.98318927, 0.32462592, 0.35857377, 0.84126032],\n",
    "       [0.91561337, 0.22017678, 0.19810523, 0.60520673, 0.87681935],\n",
    "       [0.5450577 , 0.50916193, 0.49252225, 0.86752089, 0.67076086],\n",
    "       [0.2262415 , 0.6247903 , 0.80954266, 0.50085265, 0.81108121],\n",
    "       [0.20001283, 0.94617092, 0.72162432, 0.54724739, 0.18981353]])\n",
    "GivensQR(A)"
   ]
  },
  {
   "cell_type": "markdown",
   "metadata": {},
   "source": [
    "## 4.3"
   ]
  },
  {
   "cell_type": "code",
   "execution_count": 383,
   "metadata": {},
   "outputs": [
    {
     "data": {
      "text/plain": [
       "<matplotlib.collections.PathCollection at 0x7fae312b43a0>"
      ]
     },
     "execution_count": 383,
     "metadata": {},
     "output_type": "execute_result"
    },
    {
     "data": {
      "image/png": "[encoded data removed]",
      "text/plain": [
       "<Figure size 432x288 with 1 Axes>"
      ]
     },
     "metadata": {
      "needs_background": "light"
     },
     "output_type": "display_data"
    }
   ],
   "source": [
    "A = np.random.randn(100,100)/(100**0.5)\n",
    "eigvals = np.linalg.eigvals(A)\n",
    "plt.scatter(np.real(eigvals),np.imag(eigvals))"
   ]
  },
  {
   "cell_type": "markdown",
   "metadata": {},
   "source": [
    "=> 반지름이 1인 원 내부에 점이 찍힌다."
   ]
  },
  {
   "cell_type": "code",
   "execution_count": 382,
   "metadata": {},
   "outputs": [
    {
     "data": {
      "image/png": "[encoded data removed]",
      "text/plain": [
       "<Figure size 432x288 with 1 Axes>"
      ]
     },
     "metadata": {
      "needs_background": "light"
     },
     "output_type": "display_data"
    }
   ],
   "source": [
    "for m in [8,16,32,64,128,256]:\n",
    "    A = np.random.randn(m,m)/(m**0.5)\n",
    "    eigvals = np.linalg.eigvals(A)\n",
    "    plt.scatter(np.real(eigvals),np.imag(eigvals))"
   ]
  },
  {
   "cell_type": "markdown",
   "metadata": {},
   "source": [
    "m이 커질수록 원의 형태를 보인다."
   ]
  },
  {
   "cell_type": "code",
   "execution_count": 387,
   "metadata": {},
   "outputs": [],
   "source": [
    "def spectral_test(n) : \n",
    "    spectral=[]\n",
    "    for m in range(1,n) :\n",
    "        A = np.random.randn(m,m)/(m**0.5)\n",
    "        eigvals = np.linalg.eigvals(A)\n",
    "        spectral.append(np.max(np.abs(eigvals)))\n",
    "    x = [k for k in range(1,n)]\n",
    "    plt.plot(x, spectral)\n",
    "    \n",
    "    "
   ]
  },
  {
   "cell_type": "code",
   "execution_count": 390,
   "metadata": {
    "scrolled": true
   },
   "outputs": [
    {
     "data": {
      "image/png": "[encoded data removed]",
      "text/plain": [
       "<Figure size 432x288 with 1 Axes>"
      ]
     },
     "metadata": {
      "needs_background": "light"
     },
     "output_type": "display_data"
    }
   ],
   "source": [
    "spectral_test(500)"
   ]
  },
  {
   "cell_type": "markdown",
   "metadata": {},
   "source": [
    "m이 커질수록 1에 수렴하는 형태를 보인다. "
   ]
  },
  {
   "cell_type": "markdown",
   "metadata": {},
   "source": [
    "### b"
   ]
  },
  {
   "cell_type": "code",
   "execution_count": 385,
   "metadata": {},
   "outputs": [],
   "source": [
    "def norm_spectral_test(n) : \n",
    "    y_list = []\n",
    "    for m in range(1,n):\n",
    "        A = np.random.randn(m,m)/(m**0.5)\n",
    "        norm2 = np.linalg.norm(A,ord=2)\n",
    "        spectral = np.max(np.linalg.eigvals(A))\n",
    "        y_list.append(norm2-spectral)\n",
    "    x = [k for k in range(1,n)]\n",
    "    plt.plot(x, y_list)\n"
   ]
  },
  {
   "cell_type": "code",
   "execution_count": 386,
   "metadata": {
    "scrolled": false
   },
   "outputs": [
    {
     "name": "stderr",
     "output_type": "stream",
     "text": [
      "/Library/Frameworks/Python.framework/Versions/3.8/lib/python3.8/site-packages/numpy/core/_asarray.py:85: ComplexWarning: Casting complex values to real discards the imaginary part\n",
      "  return array(a, dtype, copy=False, order=order)\n"
     ]
    },
    {
     "data": {
      "image/png": "[encoded data removed]",
      "text/plain": [
       "<Figure size 432x288 with 1 Axes>"
      ]
     },
     "metadata": {
      "needs_background": "light"
     },
     "output_type": "display_data"
    }
   ],
   "source": [
    "norm_spectral_test(500)"
   ]
  },
  {
   "cell_type": "markdown",
   "metadata": {},
   "source": [
    "## 4.6"
   ]
  },
  {
   "cell_type": "code",
   "execution_count": null,
   "metadata": {},
   "outputs": [],
   "source": []
  }
 ],
 "metadata": {
  "kernelspec": {
   "display_name": "Python 3",
   "language": "python",
   "name": "python3"
  },
  "language_info": {
   "codemirror_mode": {
    "name": "ipython",
    "version": 3
   },
   "file_extension": ".py",
   "mimetype": "text/x-python",
   "name": "python",
   "nbconvert_exporter": "python",
   "pygments_lexer": "ipython3",
   "version": "3.8.1"
  }
 },
 "nbformat": 4,
 "nbformat_minor": 4
}
