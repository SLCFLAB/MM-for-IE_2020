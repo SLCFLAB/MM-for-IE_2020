{
 "cells": [
  {
   "cell_type": "code",
   "execution_count": 1,
   "metadata": {
    "collapsed": true
   },
   "outputs": [],
   "source": [
    "import numpy as np"
   ]
  },
  {
   "cell_type": "markdown",
   "metadata": {},
   "source": [
    "## 연습문제 3.2"
   ]
  },
  {
   "cell_type": "markdown",
   "metadata": {},
   "source": [
    "#### (a)"
   ]
  },
  {
   "cell_type": "code",
   "execution_count": 123,
   "metadata": {
    "collapsed": true
   },
   "outputs": [],
   "source": [
    "U, X = np.linalg.qr(np.random.rand(80,80))\n",
    "V, X = np.linalg.qr(np.random.rand(80,80))\n",
    "\n",
    "S = np.matrix(np.eye(80))\n",
    "for i in range(0,80):\n",
    "    S[i,i] = 2**(-(i+1))\n",
    "    \n",
    "A = np.dot(np.dot(U,S), V)"
   ]
  },
  {
   "cell_type": "code",
   "execution_count": 124,
   "metadata": {
    "collapsed": true
   },
   "outputs": [],
   "source": [
    "def clgs(A):\n",
    "    m, n = np.shape(A)[0], np.shape(A)[1]\n",
    "    V = A.copy()\n",
    "    Q = np.matrix(np.eye(m,n))\n",
    "    R = np.matrix(np.zeros((n,n)))\n",
    "    for j in range(0,n):\n",
    "        for i in range(0,j-1):\n",
    "            R[i,j] = np.dot(Q[:,i].transpose(), A[:,j])\n",
    "            V[:,j] = V[:,j] - (R[i,j] * Q[:,i])\n",
    "        R[j,j] = np.linalg.norm(V[:,j])\n",
    "        Q[:,j] = V[:,j] / R[j,j]\n",
    "    \n",
    "    return Q,R"
   ]
  },
  {
   "cell_type": "code",
   "execution_count": 125,
   "metadata": {},
   "outputs": [],
   "source": [
    "def grams(A):\n",
    "    m, n = np.shape(A)[0], np.shape(A)[1]\n",
    "    Q = A.copy()\n",
    "    R = np.matrix(np.zeros((n,n)))\n",
    "    for i in range(0,n-1):\n",
    "        R[i,i] = np.linalg.norm(Q[:,i])\n",
    "        Q[:,i] = Q[:,i] / R[i,i]\n",
    "        R[i,i+1:n] = np.dot(Q[:,i].transpose(), Q[:,i+1:n])\n",
    "        Q[:,i+1:n] = Q[:,i+1:n] - np.dot(Q[:,i], np.matrix(R[i,i+1:n]))\n",
    "    R[n-1,n-1]=np.linalg.norm(Q[:,n-1])\n",
    "    Q[:,n-1]=Q[:,n-1]/R[n-1,n-1]\n",
    "    \n",
    "    return Q, R"
   ]
  },
  {
   "cell_type": "code",
   "execution_count": 126,
   "metadata": {},
   "outputs": [],
   "source": [
    "Qc, Rc = clgs(A)\n",
    "Qm, Rm = grams(A)"
   ]
  },
  {
   "cell_type": "code",
   "execution_count": 127,
   "metadata": {
    "collapsed": true
   },
   "outputs": [],
   "source": [
    "import matplotlib.pyplot as plt"
   ]
  },
  {
   "cell_type": "code",
   "execution_count": 128,
   "metadata": {
    "collapsed": true
   },
   "outputs": [],
   "source": [
    "x=list()\n",
    "y=list()\n",
    "x2= list()\n",
    "y2= list()\n",
    "\n",
    "for j in range(0,80):\n",
    "    x.append(Rc[j,j])\n",
    "    y.append(j+1)\n",
    "    \n",
    "    x2.append(Rm[j,j])\n",
    "    y2.append(j+1)"
   ]
  },
  {
   "cell_type": "code",
   "execution_count": 129,
   "metadata": {},
   "outputs": [
    {
     "data": {
      "image/png": "[encoded data removed]",
      "text/plain": [
       "<Figure size 432x288 with 1 Axes>"
      ]
     },
     "metadata": {},
     "output_type": "display_data"
    }
   ],
   "source": [
    "plt.plot(y,x)\n",
    "plt.plot(y2,x2)\n",
    "plt.xlabel('j')\n",
    "plt.ylabel('r(jj)')\n",
    "plt.legend(['classical', 'modified'])\n",
    "plt.show()"
   ]
  },
  {
   "cell_type": "markdown",
   "metadata": {},
   "source": [
    "- 위 그래프를 통해 modified gram-schmidt가 더 안정적임을 알 수 있다"
   ]
  },
  {
   "cell_type": "markdown",
   "metadata": {},
   "source": [
    "#### (b)"
   ]
  },
  {
   "cell_type": "code",
   "execution_count": 130,
   "metadata": {},
   "outputs": [],
   "source": [
    "def qrhouse(A):\n",
    "    m, n = np.shape(A)[0], np.shape(A)[1]\n",
    "    R = A.copy()\n",
    "    V = np.matrix(np.zeros((m,n)))\n",
    "    for k in range(0, min(m-1,n)):\n",
    "        x = R[k:m,k]\n",
    "        v = x + int(np.sign(x[0]))*np.linalg.norm(x)*np.matrix(np.eye(len(x),1))\n",
    "        V[k:m,k] = np.matrix(v)\n",
    "        R[k:m,k:n] = R[k:m,k:n]- np.dot(2*v, np.dot(v.transpose(),R[k:m,k:n])) / np.dot(v.transpose(),v)\n",
    "        \n",
    "    R = np.triu(R[0:n,0:n])\n",
    "    \n",
    "    def formQ(V):\n",
    "        m, n = np.shape(V)[0], np.shape(V)[1]\n",
    "        Q = np.matrix(np.eye(m))\n",
    "        for j in range(min(m-1,n)-1,-1,-1):\n",
    "            v = V[:,j]\n",
    "            Q = Q - np.dot(2*v, np.dot(v.transpose(),Q)) / np.dot(v.transpose(),v)\n",
    "        \n",
    "        return Q\n",
    "    Q = formQ(V\n",
    "             )\n",
    "    return Q, R"
   ]
  },
  {
   "cell_type": "code",
   "execution_count": 131,
   "metadata": {
    "collapsed": true
   },
   "outputs": [],
   "source": [
    "U, X = np.linalg.qr(np.random.rand(80,80))\n",
    "V, X = np.linalg.qr(np.random.rand(80,80))\n",
    "\n",
    "S = np.matrix(np.eye(80))\n",
    "for i in range(0,80):\n",
    "    S[i,i] = 2**(-(i+1))\n",
    "    \n",
    "A = np.dot(np.dot(U,S), V)"
   ]
  },
  {
   "cell_type": "code",
   "execution_count": 132,
   "metadata": {},
   "outputs": [],
   "source": [
    "Q,R = qrhouse(A)"
   ]
  },
  {
   "cell_type": "code",
   "execution_count": 133,
   "metadata": {},
   "outputs": [
    {
     "data": {
      "text/plain": [
       "matrix([[-0.189694  ,  0.04923078, -0.11530613, ..., -0.08516735,\n",
       "          0.08934024,  0.1473828 ],\n",
       "        [-0.28771054, -0.07410057, -0.10054246, ..., -0.05431428,\n",
       "          0.0283093 ,  0.08489185],\n",
       "        [ 0.05235034,  0.16694462, -0.12783571, ...,  0.08219922,\n",
       "         -0.13746565, -0.0246259 ],\n",
       "        ...,\n",
       "        [ 0.07972931,  0.14490915,  0.09814582, ..., -0.00130725,\n",
       "         -0.07251585, -0.08643571],\n",
       "        [-0.01321822,  0.07018145,  0.15870489, ..., -0.10940902,\n",
       "          0.07292112,  0.09519552],\n",
       "        [-0.05124691,  0.08351781,  0.19236119, ...,  0.09762513,\n",
       "         -0.00273743, -0.04631485]])"
      ]
     },
     "execution_count": 133,
     "metadata": {},
     "output_type": "execute_result"
    }
   ],
   "source": [
    "Q"
   ]
  },
  {
   "cell_type": "code",
   "execution_count": 136,
   "metadata": {},
   "outputs": [
    {
     "data": {
      "text/plain": [
       "array([[-5.16981077e-02,  1.05006174e-02,  2.90949295e-02, ...,\n",
       "         2.22512129e-02,  4.85941202e-02, -4.76642975e-02],\n",
       "       [ 0.00000000e+00, -6.45781337e-02, -8.77523963e-02, ...,\n",
       "         5.64491777e-03, -9.55308143e-02,  1.00985240e-02],\n",
       "       [ 0.00000000e+00,  0.00000000e+00,  1.79195432e-02, ...,\n",
       "        -3.59984039e-03, -8.64898140e-04,  1.36610812e-02],\n",
       "       ...,\n",
       "       [ 0.00000000e+00,  0.00000000e+00,  0.00000000e+00, ...,\n",
       "         4.12955527e-18,  2.32699535e-18, -1.54545286e-18],\n",
       "       [ 0.00000000e+00,  0.00000000e+00,  0.00000000e+00, ...,\n",
       "         0.00000000e+00, -2.52047511e-18,  6.47062697e-18],\n",
       "       [ 0.00000000e+00,  0.00000000e+00,  0.00000000e+00, ...,\n",
       "         0.00000000e+00,  0.00000000e+00,  2.76396359e-19]])"
      ]
     },
     "execution_count": 136,
     "metadata": {},
     "output_type": "execute_result"
    }
   ],
   "source": [
    "R"
   ]
  },
  {
   "cell_type": "code",
   "execution_count": 138,
   "metadata": {},
   "outputs": [],
   "source": [
    "A = np.matrix(([0.70000, 0.70711],[0.70001,0.70711]))"
   ]
  },
  {
   "cell_type": "code",
   "execution_count": 141,
   "metadata": {},
   "outputs": [],
   "source": [
    "Qm, Rm = grams(A)\n",
    "Q, R = qrhouse(A)"
   ]
  },
  {
   "cell_type": "code",
   "execution_count": 143,
   "metadata": {},
   "outputs": [
    {
     "name": "stdout",
     "output_type": "stream",
     "text": [
      "3.451616545114987e-16\n"
     ]
    }
   ],
   "source": [
    "print(np.linalg.norm(np.dot(Q.transpose(), Q)-np.matrix(np.eye(2))))"
   ]
  },
  {
   "cell_type": "code",
   "execution_count": 144,
   "metadata": {},
   "outputs": [
    {
     "name": "stdout",
     "output_type": "stream",
     "text": [
      "3.254726094493924e-11\n"
     ]
    }
   ],
   "source": [
    "print(np.linalg.norm(np.dot(Qm.transpose(), Qm)-np.matrix(np.eye(2))))"
   ]
  },
  {
   "cell_type": "markdown",
   "metadata": {},
   "source": [
    "- 위 결과를 통해 하우스홀더 QR분해가 수정 그람-슈미츠 QR 분해보다 numerically stable함을 알 수 있다."
   ]
  },
  {
   "cell_type": "markdown",
   "metadata": {},
   "source": [
    "## 연습문제 3.3"
   ]
  },
  {
   "cell_type": "code",
   "execution_count": 593,
   "metadata": {},
   "outputs": [],
   "source": [
    "def givens_matrix(A,i,j):\n",
    "    m, n = np.shape(A)[0], np.shape(A)[1]\n",
    "    G = np.matrix(np.eye(n))\n",
    "    \n",
    "    r = np.sqrt(A[i,j]**2 + A[j,j]**2)\n",
    "    cos_theta = A[i,i] / r\n",
    "    sin_theta = -(A[i,j] / r)\n",
    "     \n",
    "    G[i,i] = cos_theta\n",
    "    G[j,j] = cos_theta\n",
    "    G[j,i] = +sin_theta\n",
    "    G[i,j] = -sin_theta\n",
    "    \n",
    "    return G"
   ]
  },
  {
   "cell_type": "code",
   "execution_count": 594,
   "metadata": {
    "collapsed": true
   },
   "outputs": [],
   "source": [
    "def qrgivens(A):\n",
    "    m, n = np.shape(A)[0], np.shape(A)[1]\n",
    "    Q = np.matrix(np.eye(n))\n",
    "    R = A.copy()\n",
    "    for i in range(0,n):\n",
    "        for j in range(m-1,i,-1):\n",
    "            G = givens_matrix(A,j,i)\n",
    "            print(j,i)\n",
    "            print(G)\n",
    "            R = np.dot(G,R)\n",
    "            Q = np.dot(G,Q)\n",
    "            print(R)\n",
    "            \n",
    "    return Q, R"
   ]
  },
  {
   "cell_type": "code",
   "execution_count": 595,
   "metadata": {},
   "outputs": [],
   "source": [
    "A = np.matrix(([3.0, 2.0, 1.0],[4.0,7.0,2.0],[3.0,5.0,6.0]))"
   ]
  },
  {
   "cell_type": "code",
   "execution_count": 596,
   "metadata": {},
   "outputs": [
    {
     "data": {
      "text/plain": [
       "matrix([[3., 2., 1.],\n",
       "        [4., 7., 2.],\n",
       "        [3., 5., 6.]])"
      ]
     },
     "execution_count": 596,
     "metadata": {},
     "output_type": "execute_result"
    }
   ],
   "source": [
    "A"
   ]
  },
  {
   "cell_type": "code",
   "execution_count": 597,
   "metadata": {},
   "outputs": [
    {
     "name": "stdout",
     "output_type": "stream",
     "text": [
      "2 0\n",
      "[[ 1.41421356  0.         -0.70710678]\n",
      " [ 0.          1.          0.        ]\n",
      " [ 0.70710678  0.          1.41421356]]\n",
      "[[ 2.12132034 -0.70710678 -2.82842712]\n",
      " [ 4.          7.          2.        ]\n",
      " [ 6.36396103  8.48528137  9.19238816]]\n",
      "1 0\n",
      "[[ 1.4 -0.8  0. ]\n",
      " [ 0.8  1.4  0. ]\n",
      " [ 0.   0.   1. ]]\n",
      "[[-0.23015152 -6.58994949 -5.55979797]\n",
      " [ 7.29705627  9.23431458  0.5372583 ]\n",
      " [ 6.36396103  8.48528137  9.19238816]]\n",
      "2 1\n",
      "[[ 1.          0.          0.        ]\n",
      " [ 0.          0.69748583 -0.58123819]\n",
      " [ 0.          0.58123819  0.69748583]]\n",
      "[[-0.23015152 -6.58994949 -5.55979797]\n",
      " [ 1.39061616  1.50883397 -4.96823703]\n",
      " [ 8.68010047 11.28569987  6.72383555]]\n"
     ]
    }
   ],
   "source": [
    "Q,R = qrgivens(A)"
   ]
  },
  {
   "cell_type": "code",
   "execution_count": 598,
   "metadata": {},
   "outputs": [
    {
     "data": {
      "text/plain": [
       "matrix([[ 1.97989899, -0.8       , -0.98994949],\n",
       "        [ 0.37811767,  0.97648017, -1.21655251],\n",
       "        [ 1.15079291,  0.81373347,  0.65759595]])"
      ]
     },
     "execution_count": 598,
     "metadata": {},
     "output_type": "execute_result"
    }
   ],
   "source": [
    "Q"
   ]
  },
  {
   "cell_type": "code",
   "execution_count": 599,
   "metadata": {},
   "outputs": [
    {
     "data": {
      "text/plain": [
       "matrix([[-0.23015152, -6.58994949, -5.55979797],\n",
       "        [ 1.39061616,  1.50883397, -4.96823703],\n",
       "        [ 8.68010047, 11.28569987,  6.72383555]])"
      ]
     },
     "execution_count": 599,
     "metadata": {},
     "output_type": "execute_result"
    }
   ],
   "source": [
    "R"
   ]
  },
  {
   "cell_type": "markdown",
   "metadata": {},
   "source": [
    "## 연습문제 4.3"
   ]
  },
  {
   "cell_type": "code",
   "execution_count": null,
   "metadata": {
    "collapsed": true
   },
   "outputs": [],
   "source": []
  }
 ],
 "metadata": {
  "kernelspec": {
   "display_name": "Python 3",
   "language": "python",
   "name": "python3"
  },
  "language_info": {
   "codemirror_mode": {
    "name": "ipython",
    "version": 3
   },
   "file_extension": ".py",
   "mimetype": "text/x-python",
   "name": "python",
   "nbconvert_exporter": "python",
   "pygments_lexer": "ipython3",
   "version": "3.6.8"
  }
 },
 "nbformat": 4,
 "nbformat_minor": 2
}
